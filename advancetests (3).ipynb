{
  "cells": [
    {
      "cell_type": "code",
      "execution_count": null,
      "metadata": {
        "colab": {
          "base_uri": "https://localhost:8080/"
        },
        "id": "c9owSy6KqOG_",
        "outputId": "d6148631-ffa8-4f1a-a95c-9b71c1acce89"
      },
      "outputs": [
        {
          "name": "stdout",
          "output_type": "stream",
          "text": [
            "1\n",
            "2\n",
            "2\n",
            "3\n",
            "3\n",
            "4\n",
            "4\n",
            "5\n",
            "5\n",
            "5\n",
            "3\n",
            "3\n",
            "3\n",
            "1\n",
            "13\n",
            "15\n"
          ]
        }
      ],
      "source": [
        "a=\"122334455533311\"\n",
        "for i in range(len(a)-1):\n",
        "  print(a[i])\n",
        "print(i)\n",
        "print(len(a))"
      ]
    },
    {
      "cell_type": "code",
      "execution_count": null,
      "metadata": {
        "colab": {
          "base_uri": "https://localhost:8080/"
        },
        "id": "z106kdO2CzAB",
        "outputId": "ca826302-f00c-48c2-ba2a-a5b5df3fc2c4"
      },
      "outputs": [
        {
          "name": "stdout",
          "output_type": "stream",
          "text": [
            "1223334445511667771\n",
            "(1, 1) (2, 2) (3, 3) (3, 4) (2, 5) (2, 1) (2, 6) (3, 7) (1, 1)\n"
          ]
        }
      ],
      "source": [
        "s = input()\n",
        "occurrences = {}\n",
        "alloccurrences = []\n",
        "occurrences[s[0]] = 0\n",
        "for i in s:\n",
        "    if (i in occurrences):\n",
        "        occurrences[i] =  occurrences[i] + 1\n",
        "    else :\n",
        "        (k, v), = occurrences.items()\n",
        "        alloccurrences.append(str((v,int(k))))\n",
        "        occurrences.clear()\n",
        "        occurrences[i] = 1\n",
        "(k, v), = occurrences.items()\n",
        "alloccurrences.append(str((v,int(k))))\n",
        "print(' '.join(alloccurrences))"
      ]
    },
    {
      "cell_type": "code",
      "execution_count": null,
      "metadata": {
        "colab": {
          "base_uri": "https://localhost:8080/",
          "height": 262
        },
        "id": "2trsKqovD-F8",
        "outputId": "66470147-07c4-4436-a215-763047503585"
      },
      "outputs": [
        {
          "name": "stdout",
          "output_type": "stream",
          "text": [
            "dict_items([('a', 5)])\n"
          ]
        },
        {
          "ename": "ValueError",
          "evalue": "ignored",
          "output_type": "error",
          "traceback": [
            "\u001b[0;31m---------------------------------------------------------------------------\u001b[0m",
            "\u001b[0;31mValueError\u001b[0m                                Traceback (most recent call last)",
            "\u001b[0;32m<ipython-input-5-e6200d12d806>\u001b[0m in \u001b[0;36m<cell line: 3>\u001b[0;34m()\u001b[0m\n\u001b[1;32m      1\u001b[0m \u001b[0mc1\u001b[0m\u001b[0;34m=\u001b[0m\u001b[0;34m{\u001b[0m\u001b[0;34m'a'\u001b[0m\u001b[0;34m:\u001b[0m\u001b[0;36m5\u001b[0m\u001b[0;34m}\u001b[0m\u001b[0;34m\u001b[0m\u001b[0;34m\u001b[0m\u001b[0m\n\u001b[1;32m      2\u001b[0m \u001b[0mprint\u001b[0m\u001b[0;34m(\u001b[0m\u001b[0mc1\u001b[0m\u001b[0;34m.\u001b[0m\u001b[0mitems\u001b[0m\u001b[0;34m(\u001b[0m\u001b[0;34m)\u001b[0m\u001b[0;34m)\u001b[0m\u001b[0;34m\u001b[0m\u001b[0;34m\u001b[0m\u001b[0m\n\u001b[0;32m----> 3\u001b[0;31m \u001b[0;34m(\u001b[0m\u001b[0mk\u001b[0m\u001b[0;34m,\u001b[0m\u001b[0mv\u001b[0m\u001b[0;34m)\u001b[0m\u001b[0;34m=\u001b[0m\u001b[0mc1\u001b[0m\u001b[0;34m.\u001b[0m\u001b[0mitems\u001b[0m\u001b[0;34m(\u001b[0m\u001b[0;34m)\u001b[0m\u001b[0;34m\u001b[0m\u001b[0;34m\u001b[0m\u001b[0m\n\u001b[0m\u001b[1;32m      4\u001b[0m \u001b[0mprint\u001b[0m\u001b[0;34m(\u001b[0m\u001b[0mk\u001b[0m\u001b[0;34m)\u001b[0m\u001b[0;34m\u001b[0m\u001b[0;34m\u001b[0m\u001b[0m\n\u001b[1;32m      5\u001b[0m \u001b[0mprint\u001b[0m\u001b[0;34m(\u001b[0m\u001b[0mv\u001b[0m\u001b[0;34m)\u001b[0m\u001b[0;34m\u001b[0m\u001b[0;34m\u001b[0m\u001b[0m\n",
            "\u001b[0;31mValueError\u001b[0m: not enough values to unpack (expected 2, got 1)"
          ]
        }
      ],
      "source": [
        "c1={'a':5}\n",
        "print(c1.items())\n",
        "(k,v),=c1.items()\n",
        "print(k)\n",
        "print(v)"
      ]
    },
    {
      "cell_type": "code",
      "execution_count": null,
      "metadata": {
        "colab": {
          "base_uri": "https://localhost:8080/"
        },
        "id": "Yd2IYHUoIL2l",
        "outputId": "4a13664f-70c9-4554-8fd5-740f1a7ea2aa"
      },
      "outputs": [
        {
          "name": "stdout",
          "output_type": "stream",
          "text": [
            "{}\n"
          ]
        }
      ],
      "source": [
        "c1.clear()\n",
        "print(c1)"
      ]
    },
    {
      "cell_type": "code",
      "execution_count": null,
      "metadata": {
        "colab": {
          "base_uri": "https://localhost:8080/"
        },
        "id": "vRagzBpoSwrs",
        "outputId": "671aa820-beb2-4267-be2e-ca36ae17661f"
      },
      "outputs": [
        {
          "name": "stdout",
          "output_type": "stream",
          "text": [
            "1223334445511667771\n",
            "[\"(1, '1')\", \"(2, '2')\", \"(3, '3')\", \"(3, '4')\", \"(2, '5')\", \"(2, '1')\", \"(2, '6')\", \"(3, '7')\", \"(1, '1')\"]\n"
          ]
        }
      ],
      "source": [
        "def kumfo(n):\n",
        "  d1={}\n",
        "  d2=[]\n",
        "  d1[n[0]]=0\n",
        "  for i in n:\n",
        "    if (i in d1):\n",
        "      d1[i]=d1[i]+1\n",
        "    else:\n",
        "      (k,n),=d1.items()\n",
        "      d2.append(str((n,k)))\n",
        "      d1.clear()\n",
        "      d1[i]=1\n",
        "  (k,n),=d1.items()\n",
        "  d2.append(str((n,k)))\n",
        "  print(d2)\n",
        "n=input()\n",
        "kumfo(n)\n",
        "\n"
      ]
    },
    {
      "cell_type": "code",
      "execution_count": null,
      "metadata": {
        "colab": {
          "base_uri": "https://localhost:8080/"
        },
        "id": "5gsYRVLZWG-M",
        "outputId": "95d33c5f-65ac-46c4-9c30-5d5a852934ce"
      },
      "outputs": [
        {
          "name": "stdout",
          "output_type": "stream",
          "text": [
            "1223334445511667771\n",
            "[\"(1, '1')\", \"(2, '2')\", \"(3, '3')\", \"(3, '4')\", \"(2, '5')\", \"(2, '1')\", \"(2, '6')\", \"(3, '7')\", \"(1, '1')\"]\n"
          ]
        }
      ],
      "source": [
        "def kunfo1(n):\n",
        "  d1={}\n",
        "  d2=[]\n",
        "  d1[n[0]]=0\n",
        "  for i in n:\n",
        "    if (i in d1):\n",
        "      d1[i]=d1[i]+1\n",
        "    else:\n",
        "      (k,n),=d1.items()\n",
        "      d2.append(str((n,k)))\n",
        "      d1.clear()\n",
        "      d1[i]=1\n",
        "  (k,n),=d1.items()\n",
        "  d2.append(str((n,k)))\n",
        "  print(d2)\n",
        "n1=input()\n",
        "kunfo1(n1)\n",
        "\n"
      ]
    },
    {
      "cell_type": "code",
      "execution_count": null,
      "metadata": {
        "colab": {
          "base_uri": "https://localhost:8080/"
        },
        "id": "wvwxyjA8ZImc",
        "outputId": "b0901604-366c-44ff-fdfd-74f43c75c558"
      },
      "outputs": [
        {
          "name": "stdout",
          "output_type": "stream",
          "text": [
            "1223334445511667771\n",
            "[(1, '1'), (2, '2'), (3, '3'), (3, '4'), (2, '5'), (2, '1'), (2, '6'), (3, '7'), (1, '1')]\n"
          ]
        }
      ],
      "source": [
        "def mann(n):\n",
        "  a=1\n",
        "  k1=[]\n",
        "  for i in range(len(n)-1):\n",
        "    if n[i]==n[i+1]:\n",
        "      a+=1\n",
        "    else:\n",
        "      k2=(a,n[i])\n",
        "      k1.append(k2)\n",
        "      a=1\n",
        "  k2=(a,n[i+1])\n",
        "  k1.append(k2)\n",
        "  print(k1)\n",
        "n=input()\n",
        "mann(n)\n"
      ]
    },
    {
      "cell_type": "code",
      "execution_count": null,
      "metadata": {
        "colab": {
          "base_uri": "https://localhost:8080/"
        },
        "id": "bTqg_ti3ULhC",
        "outputId": "d95969c6-1029-4873-b66f-99687f6a8574"
      },
      "outputs": [
        {
          "name": "stdout",
          "output_type": "stream",
          "text": [
            "1223334445511667771\n",
            "[\"(1, '1')\", \"(2, '2')\", \"(3, '3')\", \"(3, '4')\", \"(2, '5')\", \"(2, '1')\", \"(2, '6')\", \"(3, '7')\", \"(1, '1')\"]\n"
          ]
        }
      ],
      "source": [
        "def mannu1(nm):\n",
        "  a1={}\n",
        "  a2=[]\n",
        "  a1[nm[0]]=0\n",
        "  for i in nm:\n",
        "    if (i in a1):\n",
        "      a1[i]=a1[i]+1\n",
        "    else:\n",
        "      (k,n),=a1.items()\n",
        "      a2.append(str((n,k)))\n",
        "      a1.clear()\n",
        "      a1[i]=1\n",
        "  (k,n),=a1.items()\n",
        "  a2.append(str((n,k)))\n",
        "  print(a2)\n",
        "n1=input()\n",
        "mannu1(n1)\n"
      ]
    },
    {
      "cell_type": "code",
      "execution_count": null,
      "metadata": {
        "colab": {
          "base_uri": "https://localhost:8080/"
        },
        "id": "3HaHy7sWddJw",
        "outputId": "80c61a58-0909-41cd-fd64-85797f49ed6e"
      },
      "outputs": [
        {
          "name": "stdout",
          "output_type": "stream",
          "text": [
            "1223334445511667771\n",
            "[(1, '1'), (2, '2'), (3, '3'), (3, '4'), (2, '5'), (2, '1'), (2, '6'), (3, '7'), (1, '1')]\n"
          ]
        }
      ],
      "source": [
        "def mannu2(nm):\n",
        "  a2=[]\n",
        "  a=1\n",
        "  for i in range(len(nm)-1):\n",
        "    if nm[i]==nm[i+1]:\n",
        "      a+=1\n",
        "    else:\n",
        "      c1=(a,nm[i])\n",
        "      a2.append(c1)\n",
        "      a=1\n",
        "  c1=(a,nm[i+1])\n",
        "  a2.append(c1)\n",
        "  print(a2)\n",
        "n1=input()\n",
        "mannu2(n1)\n",
        "#if len(nm)=15 then for loop will run till i is 13 and if nm[13]==nm[14] then if loop is executed and a is incremented but it is not stored in the list\n",
        "#hence when we come out of the loop then it is stored in a tuple c1 and then appended to a2 list\n",
        "#if nm[13]!=nm[14] then c1 is extracterd for nm[13]th element and then a is made 1 for nm[14]th element. and then after coming out of the loop it is extracted\n",
        "#outside the loop even if nm[13]==nm[14], then we extract the last element because when nm[13]!=nm[14] and we make c1=(a,nm[i])/(a,nm[13]) which is wrong\n",
        "#so we will always extract (a,nm[14])"
      ]
    },
    {
      "cell_type": "code",
      "execution_count": null,
      "metadata": {
        "colab": {
          "base_uri": "https://localhost:8080/"
        },
        "id": "fUoeoUCFzA14",
        "outputId": "70bbf531-0ea6-402c-b9db-1e7870a42622"
      },
      "outputs": [
        {
          "name": "stdout",
          "output_type": "stream",
          "text": [
            "['4', 'bcdef', 'abcdefg', 'bcde', 'bcdef']\n",
            "['bcdef', 'abcdefg', 'bcde', 'bcdef']\n"
          ]
        }
      ],
      "source": [
        "a1=\"\"\"4\n",
        "bcdef\n",
        "abcdefg\n",
        "bcde\n",
        "bcdef\"\"\"\n",
        "a2=a1.split(\"\\n\")\n",
        "print(a2)\n",
        "print(a2[1:])"
      ]
    },
    {
      "cell_type": "code",
      "execution_count": null,
      "metadata": {
        "colab": {
          "base_uri": "https://localhost:8080/"
        },
        "id": "iYKFTbmv7sgW",
        "outputId": "a5b648bd-bdff-415d-e161-aee66f7be564"
      },
      "outputs": [
        {
          "name": "stdout",
          "output_type": "stream",
          "text": [
            "3\n",
            "2 1 1 "
          ]
        }
      ],
      "source": [
        "a1=\"\"\"4\n",
        "bcdef\n",
        "abcdefg\n",
        "bcde\n",
        "bcdef\"\"\"\n",
        "a2=a1.split(\"\\n\")[1:]\n",
        "c1={}\n",
        "k1=len(set(a2))\n",
        "print(k1)\n",
        "for i in a2:\n",
        "  if i in c1:\n",
        "    c1[i]+=1\n",
        "  else:\n",
        "    c1[i]=1\n",
        "for k in c1:\n",
        "  print(c1[k],end=\" \")"
      ]
    },
    {
      "cell_type": "code",
      "execution_count": null,
      "metadata": {
        "colab": {
          "base_uri": "https://localhost:8080/",
          "height": 210
        },
        "id": "iwPVzaSTOPLZ",
        "outputId": "d5fb65f5-c57c-4fcf-c14d-5bb998de0b8e"
      },
      "outputs": [
        {
          "name": "stdout",
          "output_type": "stream",
          "text": [
            "5 apple banana apple orange banana\n"
          ]
        },
        {
          "ename": "ValueError",
          "evalue": "ignored",
          "output_type": "error",
          "traceback": [
            "\u001b[0;31m---------------------------------------------------------------------------\u001b[0m",
            "\u001b[0;31mValueError\u001b[0m                                Traceback (most recent call last)",
            "\u001b[0;32m<ipython-input-12-13d77e1baf86>\u001b[0m in \u001b[0;36m<cell line: 1>\u001b[0;34m()\u001b[0m\n\u001b[0;32m----> 1\u001b[0;31m \u001b[0mc1\u001b[0m\u001b[0;34m=\u001b[0m\u001b[0mint\u001b[0m\u001b[0;34m(\u001b[0m\u001b[0minput\u001b[0m\u001b[0;34m(\u001b[0m\u001b[0;34m)\u001b[0m\u001b[0;34m)\u001b[0m\u001b[0;34m\u001b[0m\u001b[0;34m\u001b[0m\u001b[0m\n\u001b[0m\u001b[1;32m      2\u001b[0m \u001b[0mprint\u001b[0m\u001b[0;34m(\u001b[0m\u001b[0mc1\u001b[0m\u001b[0;34m)\u001b[0m\u001b[0;34m\u001b[0m\u001b[0;34m\u001b[0m\u001b[0m\n",
            "\u001b[0;31mValueError\u001b[0m: invalid literal for int() with base 10: '5 apple banana apple orange banana'"
          ]
        }
      ],
      "source": [
        "c1=int(input())\n",
        "print(c1)"
      ]
    },
    {
      "cell_type": "code",
      "execution_count": null,
      "metadata": {
        "colab": {
          "base_uri": "https://localhost:8080/",
          "height": 245
        },
        "id": "dXQLABllOfea",
        "outputId": "7bdf5ce4-d6a2-4f8a-95bc-702a618ca4de"
      },
      "outputs": [
        {
          "ename": "TypeError",
          "evalue": "ignored",
          "output_type": "error",
          "traceback": [
            "\u001b[0;31m---------------------------------------------------------------------------\u001b[0m",
            "\u001b[0;31mTypeError\u001b[0m                                 Traceback (most recent call last)",
            "\u001b[0;32m<ipython-input-14-4727292c9fc5>\u001b[0m in \u001b[0;36m<cell line: 3>\u001b[0;34m()\u001b[0m\n\u001b[1;32m      1\u001b[0m \u001b[0;32mfrom\u001b[0m \u001b[0mcollections\u001b[0m \u001b[0;32mimport\u001b[0m \u001b[0mCounter\u001b[0m\u001b[0;34m\u001b[0m\u001b[0;34m\u001b[0m\u001b[0m\n\u001b[1;32m      2\u001b[0m \u001b[0ml\u001b[0m \u001b[0;34m=\u001b[0m \u001b[0;34m[\u001b[0m\u001b[0;34m]\u001b[0m\u001b[0;34m\u001b[0m\u001b[0;34m\u001b[0m\u001b[0m\n\u001b[0;32m----> 3\u001b[0;31m \u001b[0;32mfor\u001b[0m \u001b[0mi\u001b[0m \u001b[0;32min\u001b[0m \u001b[0mrange\u001b[0m\u001b[0;34m(\u001b[0m\u001b[0mint\u001b[0m\u001b[0;34m(\u001b[0m\u001b[0mc1\u001b[0m\u001b[0;34m)\u001b[0m\u001b[0;34m)\u001b[0m\u001b[0;34m:\u001b[0m\u001b[0;34m\u001b[0m\u001b[0;34m\u001b[0m\u001b[0m\n\u001b[0m\u001b[1;32m      4\u001b[0m     \u001b[0ml\u001b[0m\u001b[0;34m.\u001b[0m\u001b[0mappend\u001b[0m\u001b[0;34m(\u001b[0m\u001b[0mc1\u001b[0m\u001b[0;34m)\u001b[0m\u001b[0;34m\u001b[0m\u001b[0;34m\u001b[0m\u001b[0m\n\u001b[1;32m      5\u001b[0m \u001b[0mx\u001b[0m \u001b[0;34m=\u001b[0m \u001b[0mCounter\u001b[0m\u001b[0;34m(\u001b[0m\u001b[0ml\u001b[0m\u001b[0;34m)\u001b[0m\u001b[0;34m\u001b[0m\u001b[0;34m\u001b[0m\u001b[0m\n",
            "\u001b[0;31mTypeError\u001b[0m: int() argument must be a string, a bytes-like object or a real number, not 'dict'"
          ]
        }
      ],
      "source": [
        "from collections import Counter\n",
        "l = []\n",
        "for i in range(int(c1)):\n",
        "    l.append(c1)\n",
        "x = Counter(l)\n",
        "print(len(x))\n",
        "print(*x.values())\n",
        "\n",
        "c3=\"\"\"4\n",
        "bcdef\n",
        "abcdefg\n",
        "bcde\n",
        "bcdef\"\"\""
      ]
    },
    {
      "cell_type": "code",
      "execution_count": null,
      "metadata": {
        "colab": {
          "base_uri": "https://localhost:8080/"
        },
        "id": "2ixPylJndtCM",
        "outputId": "ae3772c2-8fed-44eb-b3b9-07b078787440"
      },
      "outputs": [
        {
          "name": "stdout",
          "output_type": "stream",
          "text": [
            "4\n",
            "bcdef\n",
            "abcdefg\n",
            "bcde\n",
            "bcdefg\n",
            "Counter({'bcdef': 1, 'abcdefg': 1, 'bcde': 1, 'bcdefg': 1})\n",
            "4\n",
            "dict_values([1, 1, 1, 1])\n",
            "1 1 1 1\n"
          ]
        }
      ],
      "source": [
        "from collections import Counter\n",
        "l = []\n",
        "for i in range(int(input())):\n",
        "    l.append(input())\n",
        "x = Counter(l)\n",
        "print(x)\n",
        "print(len(x))\n",
        "print(x.values())\n",
        "print(*x.values())"
      ]
    },
    {
      "cell_type": "code",
      "execution_count": null,
      "metadata": {
        "id": "w9pHFIG6lo49"
      },
      "outputs": [],
      "source": [
        "#A hashable object is an object that has a hash value that never changes during its lifetime. Immutable objects are hashable whereas mutable objects are not hashable.\n",
        "#Example of hashable objects include integer,float,strings,tuples(if they contain hashable items)"
      ]
    },
    {
      "cell_type": "code",
      "execution_count": null,
      "metadata": {
        "colab": {
          "base_uri": "https://localhost:8080/",
          "height": 227
        },
        "id": "IDNwbBQ3pAg5",
        "outputId": "b13f02f7-8e05-4cef-8cca-a1625975caea"
      },
      "outputs": [
        {
          "name": "stdout",
          "output_type": "stream",
          "text": [
            "(1, 2, {1, 2, 3})\n"
          ]
        },
        {
          "ename": "TypeError",
          "evalue": "ignored",
          "output_type": "error",
          "traceback": [
            "\u001b[0;31m---------------------------------------------------------------------------\u001b[0m",
            "\u001b[0;31mTypeError\u001b[0m                                 Traceback (most recent call last)",
            "\u001b[0;32m<ipython-input-19-891dcdfd4430>\u001b[0m in \u001b[0;36m<cell line: 3>\u001b[0;34m()\u001b[0m\n\u001b[1;32m      1\u001b[0m \u001b[0mc\u001b[0m\u001b[0;34m=\u001b[0m\u001b[0;34m(\u001b[0m\u001b[0;36m1\u001b[0m\u001b[0;34m,\u001b[0m\u001b[0;36m2\u001b[0m\u001b[0;34m,\u001b[0m\u001b[0;34m{\u001b[0m\u001b[0;36m1\u001b[0m\u001b[0;34m,\u001b[0m\u001b[0;36m2\u001b[0m\u001b[0;34m,\u001b[0m\u001b[0;36m3\u001b[0m\u001b[0;34m}\u001b[0m\u001b[0;34m)\u001b[0m\u001b[0;34m\u001b[0m\u001b[0;34m\u001b[0m\u001b[0m\n\u001b[1;32m      2\u001b[0m \u001b[0mprint\u001b[0m\u001b[0;34m(\u001b[0m\u001b[0mc\u001b[0m\u001b[0;34m)\u001b[0m\u001b[0;34m\u001b[0m\u001b[0;34m\u001b[0m\u001b[0m\n\u001b[0;32m----> 3\u001b[0;31m \u001b[0mhash\u001b[0m\u001b[0;34m(\u001b[0m\u001b[0mc\u001b[0m\u001b[0;34m)\u001b[0m\u001b[0;34m\u001b[0m\u001b[0;34m\u001b[0m\u001b[0m\n\u001b[0m",
            "\u001b[0;31mTypeError\u001b[0m: unhashable type: 'set'"
          ]
        }
      ],
      "source": [
        "c=(1,2,{1,2,3})\n",
        "print(c)\n",
        "hash(c)"
      ]
    },
    {
      "cell_type": "code",
      "execution_count": null,
      "metadata": {
        "colab": {
          "base_uri": "https://localhost:8080/"
        },
        "id": "i3oCTBezpJ5Y",
        "outputId": "9111a868-c53f-4449-ca73-929e71b6aed1"
      },
      "outputs": [
        {
          "data": {
            "text/plain": [
              "529344067295497451"
            ]
          },
          "execution_count": 23,
          "metadata": {},
          "output_type": "execute_result"
        }
      ],
      "source": [
        "c1=(1,2,3)\n",
        "hash(c1)\n",
        "#as you can see a tuple is hashable only if all its values are hashable.\n",
        "#The first advantage of tuple over list is firstly content of tuple never changes whereas a list is mutable\n",
        "#Secondly tuple is more memory efficient as unlike list it doesnot use dynamic memory allocation."
      ]
    },
    {
      "cell_type": "code",
      "execution_count": null,
      "metadata": {
        "id": "l4T0996jp7N5"
      },
      "outputs": [],
      "source": [
        "#Also sets cannot contain duplicates, elements of sets must be hashable, also keys of dictionaries must be hashable\n",
        "#Counter is a class in python's collection module that is used for counting hashables. It returns dictionary where keys are items from the iterables and values are their counts.\n",
        "#Counter is a class in python's collection module that is used for counting hashables. It returns dictionary which has items of the iterables as keys and its count as values."
      ]
    },
    {
      "cell_type": "code",
      "execution_count": null,
      "metadata": {
        "colab": {
          "base_uri": "https://localhost:8080/"
        },
        "id": "IEUsFj-s5KGs",
        "outputId": "e4ed910b-e842-4825-c33a-2eaa4bb204ec"
      },
      "outputs": [
        {
          "name": "stdout",
          "output_type": "stream",
          "text": [
            "4\n",
            "bcdef\n",
            "abcde\n",
            "bcde\n",
            "bcdef\n",
            "3\n",
            "2 1 1\n",
            "('bcdef', 2) ('abcde', 1) ('bcde', 1)\n"
          ]
        }
      ],
      "source": [
        "from collections import Counter\n",
        "l1=[]\n",
        "for i in range(int(input())):\n",
        "  l1.append(input())\n",
        "c1=Counter(l1)\n",
        "print(len(c1))\n",
        "print(*c1.values())\n",
        "print(*c1.items())\n"
      ]
    },
    {
      "cell_type": "code",
      "execution_count": null,
      "metadata": {
        "id": "i69Zt4t8MLsB"
      },
      "outputs": [],
      "source": []
    },
    {
      "cell_type": "code",
      "execution_count": null,
      "metadata": {
        "colab": {
          "base_uri": "https://localhost:8080/"
        },
        "id": "2CKbuAyt-Gte",
        "outputId": "ad7a6cd6-49bc-4570-bb46-53227d5d4ac2"
      },
      "outputs": [
        {
          "name": "stdout",
          "output_type": "stream",
          "text": [
            "1\n",
            "2\n",
            "[3, 4, 5, 6, 7]\n"
          ]
        }
      ],
      "source": [
        "a,b,*c=[1,2,3,4,5,6,7]\n",
        "print(a)\n",
        "print(b)\n",
        "print(c)"
      ]
    },
    {
      "cell_type": "code",
      "execution_count": null,
      "metadata": {
        "colab": {
          "base_uri": "https://localhost:8080/"
        },
        "id": "fi69MJEu-RgI",
        "outputId": "c7d09c7b-2fcb-48af-cd07-157c54cea0ac"
      },
      "outputs": [
        {
          "name": "stdout",
          "output_type": "stream",
          "text": [
            "dict_values([1, 2, 3, 4, 5, 6, 7, 8])\n"
          ]
        }
      ],
      "source": [
        "c12={'a':1,'b':2,'c':3,'d':4,'e':5,'f':6,'g':7,'h':8}\n",
        "print(c12.values())"
      ]
    },
    {
      "cell_type": "code",
      "execution_count": null,
      "metadata": {
        "colab": {
          "base_uri": "https://localhost:8080/",
          "height": 140
        },
        "id": "vetMt4yb-y51",
        "outputId": "3a1c582c-1d1d-4ed0-9f3d-3c6ded467326"
      },
      "outputs": [
        {
          "ename": "SyntaxError",
          "evalue": "ignored",
          "output_type": "error",
          "traceback": [
            "\u001b[0;36m  File \u001b[0;32m\"<ipython-input-35-e0b85e242a65>\"\u001b[0;36m, line \u001b[0;32m1\u001b[0m\n\u001b[0;31m    a=*c12.values()\u001b[0m\n\u001b[0m      ^\u001b[0m\n\u001b[0;31mSyntaxError\u001b[0m\u001b[0;31m:\u001b[0m can't use starred expression here\n"
          ]
        }
      ],
      "source": [
        "\n",
        "a=*c12.values()\n",
        "print(a)"
      ]
    },
    {
      "cell_type": "code",
      "execution_count": null,
      "metadata": {
        "colab": {
          "base_uri": "https://localhost:8080/"
        },
        "id": "d52T-vWoGCGX",
        "outputId": "9a5551df-d70f-403d-832d-66764fbe3113"
      },
      "outputs": [
        {
          "name": "stdout",
          "output_type": "stream",
          "text": [
            "1 2 3 4 5 6 7 8\n"
          ]
        }
      ],
      "source": [
        "print(*c12.values())"
      ]
    },
    {
      "cell_type": "code",
      "execution_count": null,
      "metadata": {
        "colab": {
          "base_uri": "https://localhost:8080/"
        },
        "id": "5AJjA-YPGGqi",
        "outputId": "329c7e08-5b92-4805-bfac-ba5cc9dfa07f"
      },
      "outputs": [
        {
          "name": "stdout",
          "output_type": "stream",
          "text": [
            "4\n",
            "bcdef\n",
            "abcd\n",
            "abcde\n",
            "bcdef\n",
            "3\n",
            "2 1 1\n"
          ]
        }
      ],
      "source": [
        "from collections import Counter\n",
        "a1=[]\n",
        "for i in range(int(input())):\n",
        "  a1.append(input())\n",
        "l1=Counter(a1)\n",
        "print(len(l1))\n",
        "print(*l1.values())"
      ]
    },
    {
      "cell_type": "code",
      "execution_count": null,
      "metadata": {
        "colab": {
          "base_uri": "https://localhost:8080/"
        },
        "id": "xgdPKa8jKAwe",
        "outputId": "1b8c5ca4-079c-41d4-caf9-00371d4e6c4c"
      },
      "outputs": [
        {
          "name": "stdout",
          "output_type": "stream",
          "text": [
            "['ab', 'ac', 'ad', 'ae', 'af', 'bc', 'bd', 'be', 'bf', 'cd', 'ce', 'cf', 'de', 'df', 'ef']\n"
          ]
        }
      ],
      "source": [
        "from itertools import combinations\n",
        "c2=['a','b','c','d','e','f']\n",
        "c1=[\"\".join(word) for word in list(combinations(c2,2))]\n",
        "print(c1)"
      ]
    },
    {
      "cell_type": "code",
      "execution_count": null,
      "metadata": {
        "colab": {
          "base_uri": "https://localhost:8080/"
        },
        "id": "XgrHbF3ES2t6",
        "outputId": "c825e3e6-d6c0-49ca-f912-d22552f337cc"
      },
      "outputs": [
        {
          "name": "stdout",
          "output_type": "stream",
          "text": [
            "[('a', 'b'), ('a', 'c'), ('a', 'd'), ('a', 'e'), ('a', 'f'), ('b', 'c'), ('b', 'd'), ('b', 'e'), ('b', 'f'), ('c', 'd'), ('c', 'e'), ('c', 'f'), ('d', 'e'), ('d', 'f'), ('e', 'f')]\n"
          ]
        }
      ],
      "source": [
        "from itertools import combinations\n",
        "c2=['a','b','c','d','e','f']\n",
        "c1=list(combinations(c2,2))\n",
        "print(c1)"
      ]
    },
    {
      "cell_type": "code",
      "execution_count": null,
      "metadata": {
        "colab": {
          "base_uri": "https://localhost:8080/"
        },
        "id": "dTx7xHaxnKP3",
        "outputId": "0eefd845-2a6d-4c69-cf06-71fca85bf70f"
      },
      "outputs": [
        {
          "name": "stdout",
          "output_type": "stream",
          "text": [
            "0.6\n"
          ]
        }
      ],
      "source": [
        "from itertools import combinations\n",
        "c2=['a','a','b','c','d','e']\n",
        "c3=list(combinations(c2,2))\n",
        "a1=0\n",
        "for i in c3:\n",
        "  if 'a' in i:\n",
        "    a1+=1\n",
        "print(f\"{a1/len(c3)}\")\n"
      ]
    },
    {
      "cell_type": "code",
      "execution_count": null,
      "metadata": {
        "colab": {
          "base_uri": "https://localhost:8080/"
        },
        "id": "TnKE_AZAp2tc",
        "outputId": "7fa7a662-b983-4823-bb87-d52ebe1f22be"
      },
      "outputs": [
        {
          "name": "stdout",
          "output_type": "stream",
          "text": [
            "0.8333333333333334\n"
          ]
        }
      ],
      "source": [
        "from itertools import combinations\n",
        "c2=['a','a','c','d']\n",
        "c3=list(combinations(c2,2))\n",
        "a1=0\n",
        "for i in c3:\n",
        "  if 'a' in i:\n",
        "    a1+=1\n",
        "print(f\"{a1/len(c3)}\")\n"
      ]
    },
    {
      "cell_type": "code",
      "execution_count": null,
      "metadata": {
        "colab": {
          "base_uri": "https://localhost:8080/"
        },
        "id": "DmP8ORzgtO-K",
        "outputId": "685ec217-dc2d-48c6-9a86-b134bacfadcd"
      },
      "outputs": [
        {
          "name": "stdout",
          "output_type": "stream",
          "text": [
            "4\n",
            "a a b c\n",
            "2\n",
            "0.8333333333333334\n"
          ]
        }
      ],
      "source": [
        "from itertools import combinations\n",
        "a1=int(input())\n",
        "b1=input().split(\" \")\n",
        "c1=int(input())\n",
        "d1=list(combinations(b1,c1))\n",
        "a2=0\n",
        "for z in d1:\n",
        "  if 'a' in z:\n",
        "    a2+=1\n",
        "print(f\"{a2/len(d1)}\")\n"
      ]
    },
    {
      "cell_type": "code",
      "execution_count": null,
      "metadata": {
        "colab": {
          "base_uri": "https://localhost:8080/"
        },
        "id": "FrTmrKKxQBvc",
        "outputId": "ef220e76-2372-4b84-a01b-e297c1fe1286"
      },
      "outputs": [
        {
          "name": "stdout",
          "output_type": "stream",
          "text": [
            "4\n",
            "a a b c\n",
            "2\n",
            "0.8333333333333334\n"
          ]
        }
      ],
      "source": [
        "#Q8\n",
        "from itertools import combinations\n",
        "a1=int(input())\n",
        "a2=input().split(\" \")\n",
        "a3=int(input())\n",
        "l1=list(combinations(a2,a3))\n",
        "an=0\n",
        "for i in l1:\n",
        "  an+=1 if 'a' in i else 0\n",
        "print(f\"{an/len(l1)}\")\n"
      ]
    },
    {
      "cell_type": "code",
      "execution_count": null,
      "metadata": {
        "colab": {
          "base_uri": "https://localhost:8080/"
        },
        "id": "NZpLbdGsZlxQ",
        "outputId": "28e89383-f305-4a18-c80f-4151744fbd7e"
      },
      "outputs": [
        {
          "name": "stdout",
          "output_type": "stream",
          "text": [
            "5\n",
            "1 2 3 6 5 4 4 2 5 3 6 1 6 5 3 2 4 1 2 5 1 4 3 6 8 4 3 1 5 6 2\n",
            "Counter({1: 5, 2: 5, 3: 5, 6: 5, 5: 5, 4: 5, 8: 1})\n",
            "<class 'collections.Counter'>\n",
            "<generator object <genexpr> at 0x7eb8da9c5a80>\n"
          ]
        }
      ],
      "source": [
        "from collections import Counter\n",
        "\n",
        "\n",
        "N = int(input())\n",
        "count = Counter(map(int, input().split()))\n",
        "print(count)\n",
        "print(type(count))\n",
        "print(next(k for k, v in count.items() if v != N))"
      ]
    },
    {
      "cell_type": "code",
      "execution_count": null,
      "metadata": {
        "colab": {
          "base_uri": "https://localhost:8080/"
        },
        "id": "mL5BmnXjHXhJ",
        "outputId": "2d9d0f02-1a4b-463a-fb20-10362087deeb"
      },
      "outputs": [
        {
          "name": "stdout",
          "output_type": "stream",
          "text": [
            "<generator object gn at 0x7eb8da9c5c40>\n",
            "2\n"
          ]
        }
      ],
      "source": [
        "def gn(n):\n",
        "  yield n\n",
        "\n",
        "c1=gn(2)\n",
        "print(c1)\n",
        "\n",
        "print(next(c1))"
      ]
    },
    {
      "cell_type": "code",
      "execution_count": null,
      "metadata": {
        "id": "oBCJvAkZMNun"
      },
      "outputs": [],
      "source": [
        "#A generator function is used for creating iterators. The difference between generator function and other functions is that a generator function doesnot get terminated until the StopIteration\n",
        "#exception is raised but function gets terminated the moment return statement is executed."
      ]
    },
    {
      "cell_type": "code",
      "execution_count": null,
      "metadata": {
        "id": "MtutnPaGNv8Y"
      },
      "outputs": [],
      "source": [
        "#An iterable only has the __iter__() method whereas an iterator has both the __iter__() and __next__() magic method.\n",
        "#Generator generates value in the memory one at a time instead of storing the entire data in the memory at once."
      ]
    },
    {
      "cell_type": "code",
      "execution_count": null,
      "metadata": {
        "colab": {
          "base_uri": "https://localhost:8080/"
        },
        "id": "kx_skvg8RFWt",
        "outputId": "df0d9bba-adca-422c-9998-a3c5bab3cdbc"
      },
      "outputs": [
        {
          "name": "stdout",
          "output_type": "stream",
          "text": [
            "a\n"
          ]
        }
      ],
      "source": [
        "#Q9\n",
        "from collections import Counter\n",
        "a1=\"aaaabbbcccdddeee\"\n",
        "k={}\n",
        "for i in a1:\n",
        "  if i in k:\n",
        "    k[i]+=1\n",
        "  else:\n",
        "    k[i]=1\n",
        "c1=[a for a in k if k[a]==max(k.values())]\n",
        "print(\"\".join(c1))"
      ]
    },
    {
      "cell_type": "code",
      "execution_count": null,
      "metadata": {
        "colab": {
          "base_uri": "https://localhost:8080/"
        },
        "id": "CfNRmi1ESfd-",
        "outputId": "270e1ae0-3002-4d00-e6a7-350093c014dd"
      },
      "outputs": [
        {
          "name": "stdout",
          "output_type": "stream",
          "text": [
            "a\n"
          ]
        }
      ],
      "source": [
        "from collections import Counter\n",
        "a1=\"aaaabbcccdeee\"\n",
        "c1=Counter(a1)\n",
        "c2={a:b for a,b in c1.items()}\n",
        "c3=\"\".join([a for a in c2 if c2[a]==max(c2.values())])\n",
        "print(c3)"
      ]
    },
    {
      "cell_type": "code",
      "execution_count": null,
      "metadata": {
        "colab": {
          "base_uri": "https://localhost:8080/"
        },
        "id": "THT8lXz7F6sw",
        "outputId": "523a419f-f6b2-474e-9c6f-cce007bd3037"
      },
      "outputs": [
        {
          "name": "stdout",
          "output_type": "stream",
          "text": [
            "5\n",
            "1 2 3 6 5 4 4 2 5 3 6 1 6 5 3 2 4 1 2 5 1 4 3 6 8 4 3 1 5 6 2\n",
            "8\n"
          ]
        }
      ],
      "source": [
        "from collections import Counter\n",
        "a1=int(input())\n",
        "a3=Counter(input().split(\" \"))\n",
        "c3={a:b for a,b in a3.items()}\n",
        "c4=\"\".join(a for a in c3 if c3[a]!=a1)\n",
        "print(c4)"
      ]
    },
    {
      "cell_type": "code",
      "execution_count": null,
      "metadata": {
        "colab": {
          "base_uri": "https://localhost:8080/"
        },
        "id": "rS2efuQ7MpZu",
        "outputId": "e3926583-4af9-4a10-90d1-e6675a1a4735"
      },
      "outputs": [
        {
          "name": "stdout",
          "output_type": "stream",
          "text": [
            "5\n",
            "1 2 3 6 5 4 4 2 5 3 6 1 6 5 3 2 4 1 2 5 1 4 3 6 8 4 3 1 5 6 2\n",
            "8\n"
          ]
        }
      ],
      "source": [
        "from collections import Counter\n",
        "a1=int(input())\n",
        "a2=Counter(input().split(\" \"))\n",
        "c2={a:b for a,b in a2.items()}\n",
        "c3=\"\".join([a11 for a11 in c2 if c2[a11]!=a1])\n",
        "print(c3)"
      ]
    },
    {
      "cell_type": "code",
      "execution_count": null,
      "metadata": {
        "colab": {
          "base_uri": "https://localhost:8080/"
        },
        "id": "HmC2sXDZQR0O",
        "outputId": "9fb4b059-570e-4e29-d82d-e6a3c9f47dca"
      },
      "outputs": [
        {
          "name": "stdout",
          "output_type": "stream",
          "text": [
            "5\n",
            "1 2 3 6 5 4 4 2 5 3 6 1 6 5 3 2 4 1 2 5 1 4 3 6 8 4 3 1 5 6 2\n",
            "8\n"
          ]
        }
      ],
      "source": [
        "from collections import Counter\n",
        "a1=int(input())\n",
        "a2=Counter(input().split(\" \"))\n",
        "print(next(a3 for a3,b3 in a2.items() if b3!=a1))\n",
        "#next is used in generator objects"
      ]
    },
    {
      "cell_type": "code",
      "execution_count": null,
      "metadata": {
        "colab": {
          "base_uri": "https://localhost:8080/"
        },
        "id": "86rMB48yVHfa",
        "outputId": "ff46d63d-440c-491e-9f69-58ebab6ddb07"
      },
      "outputs": [
        {
          "name": "stdout",
          "output_type": "stream",
          "text": [
            "2.00\n"
          ]
        }
      ],
      "source": [
        "a1=2\n",
        "print(f\"{a1:.2f}\")"
      ]
    },
    {
      "cell_type": "code",
      "execution_count": null,
      "metadata": {
        "colab": {
          "base_uri": "https://localhost:8080/"
        },
        "id": "18RPcniz7cnJ",
        "outputId": "6bee67af-0509-4487-eaab-f60754f80ac5"
      },
      "outputs": [
        {
          "name": "stdout",
          "output_type": "stream",
          "text": [
            "2 1\n",
            "5 6\n",
            "7.00+i7.00\n",
            "-3.00-i5.00\n",
            "0.26-i0.11\n",
            "6.00+i17.00\n",
            "2.23606797749979\n",
            "7.810249675906654\n"
          ]
        }
      ],
      "source": [
        "import math\n",
        "class complex:\n",
        "  def __init__(self,real,imaginary):\n",
        "    self.real,self.imaginary=real,imaginary\n",
        "  def __add__(self,no):\n",
        "    a=self.real+no.real\n",
        "    b=self.imaginary+no.imaginary\n",
        "    return complex(a,b)\n",
        "  def __sub__(self,no):\n",
        "    a=self.real-no.real\n",
        "    b=self.imaginary-no.imaginary\n",
        "    return complex(a,b)\n",
        "  def __mul__(self,no):\n",
        "    a=self.real*no.imaginary-self.imaginary*no.imaginary\n",
        "    b=self.real*no.imaginary+self.imaginary*no.real\n",
        "    return complex(a,b)\n",
        "  def __truediv__(self,no):\n",
        "    a=(self.real*no.real+self.imaginary*no.imaginary)/(math.pow(no.real,2)+math.pow(no.imaginary,2))\n",
        "    b=(self.imaginary*no.real-self.real*no.imaginary)/(math.pow(no.real,2)+math.pow(no.imaginary,2))\n",
        "    return complex(a,b)\n",
        "  def mod(self):\n",
        "    return math.sqrt(math.pow(self.real,2)+math.pow(self.imaginary,2))\n",
        "  def __str__(self):\n",
        "    if self.imaginary==0:\n",
        "      return f\"{self.real:.2f}+i0.00\"\n",
        "    elif self.real==0:\n",
        "      if self.imaginary>0:\n",
        "        return f\"0.00+i{self.imaginary:.2f}\"\n",
        "      elif self.imaginary<0:\n",
        "        return f\"0.00-i{abs(self.imaginary):.2f}\"\n",
        "    else:\n",
        "      if self.imaginary>0:\n",
        "        return f\"{self.real:.2f}+i{self.imaginary:.2f}\"\n",
        "      elif self.imaginary<0:\n",
        "        return f\"{self.real:.2f}-i{abs(self.imaginary):.2f}\"\n",
        "\n",
        "if __name__=='__main__':\n",
        "  c1=map(float,input().split(\" \"))\n",
        "  c2=map(float,input().split(\" \"))\n",
        "  c3=complex(*c1)\n",
        "  c4=complex(*c2)\n",
        "  print(*map(str,[c3+c4,c3-c4,c3/c4,c3*c4,c3.mod(),c4.mod()]),sep=\"\\n\")\n",
        "\n",
        "\n"
      ]
    },
    {
      "cell_type": "code",
      "execution_count": null,
      "metadata": {
        "colab": {
          "base_uri": "https://localhost:8080/"
        },
        "id": "O0VFOHu0AmY3",
        "outputId": "979fadd1-6d09-4597-d329-569bcbda3b49"
      },
      "outputs": [
        {
          "data": {
            "text/plain": [
              "9.0"
            ]
          },
          "execution_count": 2,
          "metadata": {},
          "output_type": "execute_result"
        }
      ],
      "source": [
        "import math\n",
        "math.pow(3,2)"
      ]
    },
    {
      "cell_type": "code",
      "execution_count": null,
      "metadata": {
        "colab": {
          "base_uri": "https://localhost:8080/"
        },
        "id": "FjyFg48vDyOD",
        "outputId": "387230c7-dd05-4573-962a-a442d24eaf68"
      },
      "outputs": [
        {
          "data": {
            "text/plain": [
              "3.0"
            ]
          },
          "execution_count": 4,
          "metadata": {},
          "output_type": "execute_result"
        }
      ],
      "source": [
        "import math\n",
        "math.sqrt(9)"
      ]
    },
    {
      "cell_type": "code",
      "execution_count": null,
      "metadata": {
        "colab": {
          "base_uri": "https://localhost:8080/"
        },
        "id": "FKbNI34ZMv1x",
        "outputId": "ac6942d3-3207-44ec-e602-7b82d61dcdef"
      },
      "outputs": [
        {
          "data": {
            "text/plain": [
              "3"
            ]
          },
          "execution_count": 8,
          "metadata": {},
          "output_type": "execute_result"
        }
      ],
      "source": [
        "import math\n",
        "abs(-3)"
      ]
    },
    {
      "cell_type": "code",
      "execution_count": null,
      "metadata": {
        "colab": {
          "base_uri": "https://localhost:8080/"
        },
        "id": "iAtszcEHYIaM",
        "outputId": "993341f9-4577-475c-99ca-ae5330fded5e"
      },
      "outputs": [
        {
          "name": "stdout",
          "output_type": "stream",
          "text": [
            "1 2 3\n"
          ]
        }
      ],
      "source": [
        "a12=[1,2,3]\n",
        "print(*a12)"
      ]
    },
    {
      "cell_type": "code",
      "execution_count": null,
      "metadata": {
        "colab": {
          "base_uri": "https://localhost:8080/"
        },
        "id": "wro5dO-vZEvs",
        "outputId": "f37be3e0-3bae-4dbb-86cd-cf98d7db2a94"
      },
      "outputs": [
        {
          "data": {
            "text/plain": [
              "2"
            ]
          },
          "execution_count": 12,
          "metadata": {},
          "output_type": "execute_result"
        }
      ],
      "source": [
        "def kanu(a,b):\n",
        "  return a*b\n",
        "kanu(*[1,2])\n",
        "#hence we should just remeber one thing that func(*[1,2]) would unpack the list as func(1,2) as seperate arguments within the function"
      ]
    },
    {
      "cell_type": "code",
      "execution_count": null,
      "metadata": {
        "colab": {
          "base_uri": "https://localhost:8080/"
        },
        "id": "kLhAPdr1epcg",
        "outputId": "dc6e3894-ff3c-4fb1-cc0e-32a01fde2224"
      },
      "outputs": [
        {
          "name": "stdout",
          "output_type": "stream",
          "text": [
            "1 4 9 16\n"
          ]
        }
      ],
      "source": [
        "def func1(a):\n",
        "  return a**2\n",
        "\n",
        "print(*map(func1,[1,2,3,4]))\n"
      ]
    },
    {
      "cell_type": "code",
      "execution_count": null,
      "metadata": {
        "colab": {
          "base_uri": "https://localhost:8080/"
        },
        "id": "IE-62Q3hfjy3",
        "outputId": "711dc48e-f7df-4ba8-b763-4976e5db2743"
      },
      "outputs": [
        {
          "name": "stdout",
          "output_type": "stream",
          "text": [
            "1\n",
            "8\n",
            "27\n",
            "64\n"
          ]
        }
      ],
      "source": [
        "def func1(a):\n",
        "  return a**3\n",
        "print(*map(func1,[1,2,3,4]),sep=\"\\n\")"
      ]
    },
    {
      "cell_type": "code",
      "execution_count": null,
      "metadata": {
        "colab": {
          "base_uri": "https://localhost:8080/"
        },
        "id": "vewrHpvCgIfT",
        "outputId": "be92d3c1-54df-4792-d35c-e327276bb84e"
      },
      "outputs": [
        {
          "data": {
            "text/plain": [
              "20736"
            ]
          },
          "execution_count": 17,
          "metadata": {},
          "output_type": "execute_result"
        }
      ],
      "source": [
        "def func3(a):\n",
        "  return a**4\n",
        "kanu(*map(func3,[3,4]))\n",
        "#as you can see, even a map object gets passed as function arguments when you unpack that within a function with *"
      ]
    },
    {
      "cell_type": "code",
      "execution_count": null,
      "metadata": {
        "colab": {
          "base_uri": "https://localhost:8080/"
        },
        "id": "nuDFb4YtNdtY",
        "outputId": "d65429d9-c51d-4153-8e48-6d87e2919b31"
      },
      "outputs": [
        {
          "name": "stdout",
          "output_type": "stream",
          "text": [
            "2 1\n",
            "5 6\n",
            "7.00+i7.00\n",
            "-3.00-i5.00\n",
            "4.00+i17.00\n",
            "0.26-i0.11\n",
            "2.24+i0.00\n",
            "7.81+i0.00\n"
          ]
        }
      ],
      "source": [
        "import math\n",
        "class complex1:\n",
        "  def __init__(self,real,imaginary):\n",
        "    self.real,self.imaginary=real,imaginary\n",
        "  def __add__(self,no):\n",
        "    a=self.real+no.real\n",
        "    b=self.imaginary+no.imaginary\n",
        "    return complex1(a,b)\n",
        "  def __sub__(self,no):\n",
        "    a=self.real-no.real\n",
        "    b=self.imaginary-no.imaginary\n",
        "    return complex1(a,b)\n",
        "  def __mul__(self,no):\n",
        "    a=(self.real*no.real-self.imaginary*no.imaginary)\n",
        "    b=(self.real*no.imaginary+self.imaginary*no.real)\n",
        "    return complex1(a,b)\n",
        "  def __truediv__(self,no):\n",
        "    a=(self.real*no.real+self.imaginary*no.imaginary)\n",
        "    a/=(math.pow(no.real,2)+math.pow(no.imaginary,2))\n",
        "    b=(self.imaginary*no.real-self.real*no.imaginary)\n",
        "    b/=(math.pow(no.real,2)+math.pow(no.imaginary,2))\n",
        "    return complex1(a,b)\n",
        "  def mod(self):\n",
        "    a=math.sqrt(math.pow(self.real,2)+math.pow(self.imaginary,2))\n",
        "    b=0\n",
        "    return complex1(a,b)\n",
        "  def __str__(self):\n",
        "    if self.imaginary==0:\n",
        "      return f\"{self.real:.2f}+i0.00\"\n",
        "    elif self.imaginary>0:\n",
        "      return f\"{self.real:.2f}+i{self.imaginary:.2f}\"\n",
        "    elif self.imaginary<0:\n",
        "      return f\"{self.real:.2f}-i{abs(self.imaginary):.2f}\"\n",
        "if __name__=='__main__':\n",
        "  c1=map(float,input().split(\" \"))\n",
        "  c2=map(float,input().split(\" \"))\n",
        "  c3=complex1(*c1)\n",
        "  c4=complex1(*c2)\n",
        "  print(*map(str,[c3+c4,c3-c4,c3*c4,c3/c4,c3.mod(),c4.mod()]),sep=\"\\n\")\n",
        "\n",
        "\n",
        "\n"
      ]
    },
    {
      "cell_type": "code",
      "execution_count": null,
      "metadata": {
        "colab": {
          "base_uri": "https://localhost:8080/"
        },
        "id": "8QkGK-nDlyjG",
        "outputId": "399a624b-22b0-481c-872c-f52853580969"
      },
      "outputs": [
        {
          "name": "stdout",
          "output_type": "stream",
          "text": [
            "0 4 5\n",
            "1 7 6\n",
            "0 5 9\n",
            "1 7 2\n",
            "8.19\n"
          ]
        }
      ],
      "source": [
        "import math\n",
        "class point:\n",
        "  def __init__(self,x,y,z):\n",
        "    self.x=x\n",
        "    self.y=y\n",
        "    self.z=z\n",
        "  def __sub__(self,no):\n",
        "    return point(self.x-no.x,self.y-no.y,self.z-no.z)\n",
        "  def cross(self,no):\n",
        "    a=self.y*no.z-self.z*no.y\n",
        "    b=self.z*no.x-self.x*no.z\n",
        "    c=self.x*no.y-self.y*no.x\n",
        "    return point(a,b,c)\n",
        "  def dot(self,no):\n",
        "    return self.x*no.x+self.y*no.y+self.z*no.z\n",
        "  def absolute(self):\n",
        "    return math.sqrt(math.pow(self.x,2)+math.pow(self.y,2)+math.pow(self.z,2))\n",
        "\n",
        "if __name__=='__main__':\n",
        "  point2=list()\n",
        "  for i in range(4):\n",
        "    a1=list(map(float,input().split()))\n",
        "    point2.append(a1)\n",
        "  a,b,c,d=point(*point2[0]),point(*point2[1]),point(*point2[2]),point(*point2[3])\n",
        "  x1=(b-a).cross(c-b)\n",
        "  y1=(c-b).cross(d-c)\n",
        "  a2=math.acos(x1.dot(y1)/(x1.absolute()*y1.absolute()))\n",
        "  print(f\"{math.degrees(a2):.2f}\")\n",
        "\n",
        "\n",
        "\n"
      ]
    },
    {
      "cell_type": "code",
      "execution_count": null,
      "metadata": {
        "colab": {
          "base_uri": "https://localhost:8080/"
        },
        "id": "YOQYMES1e-Jh",
        "outputId": "d2ee0fde-2713-458a-8f2b-4ef010c4a3fe"
      },
      "outputs": [
        {
          "name": "stdout",
          "output_type": "stream",
          "text": [
            "0 4 5\n",
            "1 7 6\n",
            "0 5 9\n",
            "1 7 2\n",
            "8.19\n"
          ]
        }
      ],
      "source": [
        "import math\n",
        "class point4:\n",
        "  def __init__(self,x,y,z):\n",
        "    self.x=x\n",
        "    self.y=y\n",
        "    self.z=z\n",
        "  def __sub__(self,no):\n",
        "    return point4(self.x-no.x,self.y-no.y,self.z-no.z)\n",
        "  def dot(self,no):\n",
        "    return self.x*no.x+self.y*no.y+self.z*no.z\n",
        "  def cross(self,no):\n",
        "    a=self.y*no.z-self.z*no.y\n",
        "    b=self.z*no.x-self.x*no.z\n",
        "    c=self.x*no.y-self.y*no.x\n",
        "    return point4(a,b,c)\n",
        "  def absolute(self):\n",
        "    return math.sqrt(math.pow(self.x,2)+math.pow(self.y,2)+math.pow(self.z,2))\n",
        "if __name__=='__main__':\n",
        "  p1=list()\n",
        "  for i in range(4):\n",
        "    k1=list(map(float,input().split()))\n",
        "    p1.append(k1)\n",
        "  a,b,c,d=point4(*p1[0]),point4(*p1[1]),point4(*p1[2]),point4(*p1[3])\n",
        "  x1=(b-a).cross(c-b)\n",
        "  y1=(c-b).cross(d-c)\n",
        "  angle=math.acos(x1.dot(y1)/(x1.absolute()*y1.absolute()))\n",
        "  print(f\"{math.degrees(angle):.2f}\")"
      ]
    },
    {
      "cell_type": "code",
      "execution_count": null,
      "metadata": {
        "colab": {
          "base_uri": "https://localhost:8080/",
          "height": 210
        },
        "id": "JoBd42h2z1r3",
        "outputId": "5f34d0d6-0634-499e-fed2-cad37b7767ed"
      },
      "outputs": [
        {
          "ename": "TypeError",
          "evalue": "ignored",
          "output_type": "error",
          "traceback": [
            "\u001b[0;31m---------------------------------------------------------------------------\u001b[0m",
            "\u001b[0;31mTypeError\u001b[0m                                 Traceback (most recent call last)",
            "\u001b[0;32m<ipython-input-1-e11a6cc39645>\u001b[0m in \u001b[0;36m<cell line: 3>\u001b[0;34m()\u001b[0m\n\u001b[1;32m      1\u001b[0m \u001b[0;32mfrom\u001b[0m \u001b[0mitertools\u001b[0m \u001b[0;32mimport\u001b[0m \u001b[0mproduct\u001b[0m\u001b[0;34m\u001b[0m\u001b[0;34m\u001b[0m\u001b[0m\n\u001b[1;32m      2\u001b[0m \u001b[0ml\u001b[0m\u001b[0;34m=\u001b[0m\u001b[0;34m[\u001b[0m\u001b[0;36m1\u001b[0m\u001b[0;34m,\u001b[0m\u001b[0;36m2\u001b[0m\u001b[0;34m,\u001b[0m\u001b[0;36m3\u001b[0m\u001b[0;34m]\u001b[0m\u001b[0;34m\u001b[0m\u001b[0;34m\u001b[0m\u001b[0m\n\u001b[0;32m----> 3\u001b[0;31m \u001b[0mprint\u001b[0m\u001b[0;34m(\u001b[0m\u001b[0mlist\u001b[0m\u001b[0;34m(\u001b[0m\u001b[0mproduct\u001b[0m\u001b[0;34m(\u001b[0m\u001b[0;34m*\u001b[0m\u001b[0ml\u001b[0m\u001b[0;34m)\u001b[0m\u001b[0;34m)\u001b[0m\u001b[0;34m)\u001b[0m\u001b[0;34m\u001b[0m\u001b[0;34m\u001b[0m\u001b[0m\n\u001b[0m",
            "\u001b[0;31mTypeError\u001b[0m: 'int' object is not iterable"
          ]
        }
      ],
      "source": [
        "from itertools import product\n",
        "l=[1,2,3]\n",
        "print(list(product(*l)))"
      ]
    },
    {
      "cell_type": "code",
      "execution_count": null,
      "metadata": {
        "colab": {
          "base_uri": "https://localhost:8080/"
        },
        "id": "xxaSU3Wi2XlB",
        "outputId": "e533ee9b-3aa1-4945-ece1-c9dbd9cebe0f"
      },
      "outputs": [
        {
          "name": "stdout",
          "output_type": "stream",
          "text": [
            "3 1000\n",
            "3 1000\n",
            "2 5 4\n",
            "3 7 8 9\n",
            "5 5 7 8 9 10\n",
            "[[25, 16], [49, 64, 81], [25, 49, 64, 81, 100]]\n",
            "[99, 123, 138, 155, 174, 114, 138, 153, 170, 189, 131, 155, 170, 187, 206, 90, 114, 129, 146, 165, 105, 129, 144, 161, 180, 122, 146, 161, 178, 197]\n",
            "206\n"
          ]
        }
      ],
      "source": [
        "from itertools import product\n",
        "\n",
        "x, n = map(int, input().split())\n",
        "print(x,n)\n",
        "l = [list(map(lambda y: (int(y)**2)%n, input().split()))[1:] for i in range(x)]\n",
        "print(l)\n",
        "bestes = [sum(el)%n for el in product(*l)]\n",
        "print(bestes)\n",
        "print(max(bestes))"
      ]
    },
    {
      "cell_type": "code",
      "execution_count": null,
      "metadata": {
        "colab": {
          "base_uri": "https://localhost:8080/"
        },
        "id": "7jLN9aQZIUIO",
        "outputId": "c599aedd-c050-434e-a386-d78b02825ef2"
      },
      "outputs": [
        {
          "name": "stdout",
          "output_type": "stream",
          "text": [
            "     *      \n",
            "    * *     \n",
            "   * * *    \n",
            "  * * * *   \n",
            " * * * * *  \n",
            "  * * * *   \n",
            "   * * *    \n",
            "    * *     \n",
            "     *      \n"
          ]
        }
      ],
      "source": [
        "#diamond problem\n",
        "def diam(n):\n",
        "  for i in range(n):\n",
        "    s=\" \".join('*' for i in range(i+1))\n",
        "    print(s.center(3*n-3,' '))\n",
        "  for i in range(n-1,0,-1):\n",
        "    s=\" \".join('*' for k in range(i))\n",
        "    print(s.center(3*n-3,' '))\n",
        "\n",
        "diam(5)"
      ]
    },
    {
      "cell_type": "code",
      "execution_count": null,
      "metadata": {
        "colab": {
          "base_uri": "https://localhost:8080/"
        },
        "id": "0XnioqaeNcvh",
        "outputId": "4d81e88a-5b03-4514-b45b-d4c3863040d1"
      },
      "outputs": [
        {
          "name": "stdout",
          "output_type": "stream",
          "text": [
            "        *        \n",
            "       * *       \n",
            "      * * *      \n",
            "     * * * *     \n",
            "    * * * * *    \n",
            "     * * * *     \n",
            "      * * *      \n",
            "       * *       \n",
            "        *        \n"
          ]
        }
      ],
      "source": [
        "def diam(n):\n",
        "  for i in range(n):\n",
        "    s=\" \".join('*' for k in range(i+1))\n",
        "    print(s.center(4*n-3,' '))\n",
        "  for i in range(n-1,0,-1):\n",
        "    s=\" \".join('*' for j in range(i))\n",
        "    print(s.center(4*n-3,' '))\n",
        "\n",
        "diam(5)"
      ]
    },
    {
      "cell_type": "code",
      "execution_count": null,
      "metadata": {
        "colab": {
          "base_uri": "https://localhost:8080/"
        },
        "id": "T2VSJhBKRnbd",
        "outputId": "04a5e47a-3c31-4979-e504-59ae193eff54"
      },
      "outputs": [
        {
          "name": "stdout",
          "output_type": "stream",
          "text": [
            "*\n",
            "**\n",
            "***\n",
            "****\n",
            "*****\n",
            "****\n",
            "***\n",
            "**\n",
            "*\n"
          ]
        }
      ],
      "source": [
        "def diam1(n):\n",
        "  for i in range(n):\n",
        "    s=\"\".join('*' for k in range(i+1))\n",
        "    print(s)\n",
        "  for i in range(n-1,0,-1):\n",
        "    s=\"\".join('*' for k in range(i))\n",
        "    print(s)\n",
        "\n",
        "diam1(5)"
      ]
    },
    {
      "cell_type": "code",
      "execution_count": null,
      "metadata": {
        "colab": {
          "base_uri": "https://localhost:8080/"
        },
        "id": "8wgPtmNBa4zV",
        "outputId": "6dcce05a-4d7c-4c0b-89a8-0ad2d98f6f18"
      },
      "outputs": [
        {
          "data": {
            "text/plain": [
              "16"
            ]
          },
          "execution_count": 18,
          "metadata": {},
          "output_type": "execute_result"
        }
      ],
      "source": [
        "#Q15\n",
        "def pythpow(N,p):\n",
        "  if p==0:\n",
        "    return 1\n",
        "  else:\n",
        "    return N*pythpow(N,p-1)\n",
        "\n",
        "pythpow(2,4)"
      ]
    },
    {
      "cell_type": "code",
      "execution_count": null,
      "metadata": {
        "colab": {
          "base_uri": "https://localhost:8080/"
        },
        "id": "9_DbubOTkQXE",
        "outputId": "dd773293-b5c0-493f-f932-363b109f52da"
      },
      "outputs": [
        {
          "name": "stdout",
          "output_type": "stream",
          "text": [
            "4\n"
          ]
        }
      ],
      "source": [
        "#Q16\n",
        "def kamb(namu:list):\n",
        "  print(namu)\n",
        "\n",
        "kamb(4)\n",
        "#as you can so Type hinting(:list) is not necessary"
      ]
    },
    {
      "cell_type": "code",
      "execution_count": null,
      "metadata": {
        "colab": {
          "base_uri": "https://localhost:8080/"
        },
        "id": "vFfa1ggmsgZM",
        "outputId": "715e7d7c-273d-4868-abf4-0bd5c4fa4054"
      },
      "outputs": [
        {
          "data": {
            "text/plain": [
              "(5, 100)"
            ]
          },
          "execution_count": 3,
          "metadata": {},
          "output_type": "execute_result"
        }
      ],
      "source": [
        "def kamb1(n:list):\n",
        "  big=n[0]\n",
        "  a2=0\n",
        "  for index,item in enumerate(n):\n",
        "    if item>big:\n",
        "      big=item\n",
        "      a2=index\n",
        "  return a2,big\n",
        "\n",
        "kamb1([1,2,3,4,5,100,6,7,8])\n"
      ]
    },
    {
      "cell_type": "code",
      "execution_count": null,
      "metadata": {
        "colab": {
          "base_uri": "https://localhost:8080/"
        },
        "id": "YhS5gIQJTAFr",
        "outputId": "4406041b-c1b8-4770-c1bf-c14c4e518aa7"
      },
      "outputs": [
        {
          "name": "stdout",
          "output_type": "stream",
          "text": [
            "(0, 1)\n",
            "(1, 2)\n",
            "(2, 3)\n",
            "(3, 4)\n",
            "(4, 5)\n"
          ]
        }
      ],
      "source": [
        "a=[1,2,3,4,5]\n",
        "for i in enumerate(a):\n",
        "  print(i)"
      ]
    },
    {
      "cell_type": "code",
      "execution_count": null,
      "metadata": {
        "colab": {
          "base_uri": "https://localhost:8080/"
        },
        "id": "1Ox1MyCwVTHL",
        "outputId": "bd86e761-2bd9-4d20-f78d-d4e41fb6b8dc"
      },
      "outputs": [
        {
          "name": "stdout",
          "output_type": "stream",
          "text": [
            "125\n",
            "521\n"
          ]
        }
      ],
      "source": [
        "#Reverse a integer\n",
        "def reverser(num):\n",
        "  s1=\"\"\n",
        "  n=num\n",
        "  while n>0:\n",
        "    dig=n%10\n",
        "    s1+=str(dig)\n",
        "    n=n//10\n",
        "  k2=s1\n",
        "  return k2\n",
        "if __name__=='__main__':\n",
        "  nb=int(input())\n",
        "  l=reverser(nb)\n",
        "  print(l)\n"
      ]
    },
    {
      "cell_type": "code",
      "execution_count": null,
      "metadata": {
        "colab": {
          "base_uri": "https://localhost:8080/"
        },
        "id": "bLwurMiFYWvb",
        "outputId": "00959060-9113-49fd-e017-dd58f4abbfc6"
      },
      "outputs": [
        {
          "data": {
            "text/plain": [
              "5"
            ]
          },
          "execution_count": 4,
          "metadata": {},
          "output_type": "execute_result"
        }
      ],
      "source": [
        "a1=51\n",
        "a1//10"
      ]
    },
    {
      "cell_type": "code",
      "execution_count": null,
      "metadata": {
        "colab": {
          "base_uri": "https://localhost:8080/"
        },
        "id": "5h4C9EqvYfc4",
        "outputId": "ff29e5ae-f294-483c-df6e-299a652927ea"
      },
      "outputs": [
        {
          "data": {
            "text/plain": [
              "1"
            ]
          },
          "execution_count": 5,
          "metadata": {},
          "output_type": "execute_result"
        }
      ],
      "source": [
        "a1%10"
      ]
    },
    {
      "cell_type": "code",
      "execution_count": null,
      "metadata": {
        "colab": {
          "base_uri": "https://localhost:8080/"
        },
        "id": "spDJbVXqZ5eR",
        "outputId": "d0474c34-f151-4f8d-8b15-2f06cc3c45c4"
      },
      "outputs": [
        {
          "name": "stdout",
          "output_type": "stream",
          "text": [
            "125\n",
            "521\n"
          ]
        }
      ],
      "source": [
        "def reverser2(num):\n",
        "  it=0\n",
        "  n1=num\n",
        "  while n1>0:\n",
        "    d1=n1%10\n",
        "    it=it*10+d1\n",
        "    n1=n1//10\n",
        "  return it\n",
        "if __name__=='__main__':\n",
        "  a1=int(input())\n",
        "  k=reverser2(a1)\n",
        "  print(k)"
      ]
    },
    {
      "cell_type": "code",
      "execution_count": null,
      "metadata": {
        "colab": {
          "base_uri": "https://localhost:8080/",
          "height": 36
        },
        "id": "gGwbl5yadhOm",
        "outputId": "04c3c847-3166-416c-dc1b-9daf41baa640"
      },
      "outputs": [
        {
          "data": {
            "application/vnd.google.colaboratory.intrinsic+json": {
              "type": "string"
            },
            "text/plain": [
              "'msd'"
            ]
          },
          "execution_count": 13,
          "metadata": {},
          "output_type": "execute_result"
        }
      ],
      "source": [
        "def kabhinakabhi(nbb)->float:\n",
        "  return \"msd\"\n",
        "\n",
        "kabhinakabhi(\"mss\")"
      ]
    },
    {
      "cell_type": "code",
      "execution_count": null,
      "metadata": {
        "colab": {
          "base_uri": "https://localhost:8080/",
          "height": 36
        },
        "id": "95glXTm2inTO",
        "outputId": "6c9e867d-5b08-431d-e26e-f65c2712e81c"
      },
      "outputs": [
        {
          "data": {
            "application/vnd.google.colaboratory.intrinsic+json": {
              "type": "string"
            },
            "text/plain": [
              "'ullu'"
            ]
          },
          "execution_count": 14,
          "metadata": {},
          "output_type": "execute_result"
        }
      ],
      "source": [
        "def kabhinakabhi(nbb:float) -> float:\n",
        "  return \"ullu\"\n",
        "kabhinakabhi(\"mss\")\n",
        "#-> float actually returns the expected return type\n"
      ]
    },
    {
      "cell_type": "code",
      "execution_count": null,
      "metadata": {
        "colab": {
          "base_uri": "https://localhost:8080/"
        },
        "id": "ak9Ff_zclJIf",
        "outputId": "6bff93e8-f8d0-4977-9836-75d41b8577cc"
      },
      "outputs": [
        {
          "name": "stdout",
          "output_type": "stream",
          "text": [
            "17\n",
            "62.6\n"
          ]
        }
      ],
      "source": [
        "def cel_t_far(n:float)->float:\n",
        "  return (9*n)/5+32\n",
        "\n",
        "if __name__=='__main__':\n",
        "  a1=float(input())\n",
        "  z=cel_t_far(a1)\n",
        "  print(z)"
      ]
    },
    {
      "cell_type": "code",
      "execution_count": null,
      "metadata": {
        "colab": {
          "base_uri": "https://localhost:8080/",
          "height": 511
        },
        "id": "-c-FmcNAmOsM",
        "outputId": "118e687a-69e3-45c2-87f8-6c98bda2e3e2"
      },
      "outputs": [
        {
          "name": "stdout",
          "output_type": "stream",
          "text": [
            "3\n",
            "1 0\n",
            "2 5\n",
            "Invalid literal for int() with base 10: '$'\n",
            "3 1\n",
            "4 2\n",
            "Invalid literal for int() with base 10: '$'\n"
          ]
        },
        {
          "ename": "KeyboardInterrupt",
          "evalue": "ignored",
          "output_type": "error",
          "traceback": [
            "\u001b[0;31m---------------------------------------------------------------------------\u001b[0m",
            "\u001b[0;31mKeyboardInterrupt\u001b[0m                         Traceback (most recent call last)",
            "\u001b[0;32m<ipython-input-1-1ec9cb0844ae>\u001b[0m in \u001b[0;36m<cell line: 1>\u001b[0;34m()\u001b[0m\n\u001b[1;32m      1\u001b[0m \u001b[0;32mfor\u001b[0m \u001b[0mj\u001b[0m \u001b[0;32min\u001b[0m \u001b[0mrange\u001b[0m\u001b[0;34m(\u001b[0m\u001b[0mint\u001b[0m\u001b[0;34m(\u001b[0m\u001b[0minput\u001b[0m\u001b[0;34m(\u001b[0m\u001b[0;34m)\u001b[0m\u001b[0;34m)\u001b[0m\u001b[0;34m)\u001b[0m\u001b[0;34m:\u001b[0m\u001b[0;34m\u001b[0m\u001b[0;34m\u001b[0m\u001b[0m\n\u001b[0;32m----> 2\u001b[0;31m   \u001b[0ma\u001b[0m\u001b[0;34m,\u001b[0m\u001b[0mb\u001b[0m\u001b[0;34m=\u001b[0m\u001b[0minput\u001b[0m\u001b[0;34m(\u001b[0m\u001b[0;34m)\u001b[0m\u001b[0;34m.\u001b[0m\u001b[0msplit\u001b[0m\u001b[0;34m(\u001b[0m\u001b[0;34m)\u001b[0m\u001b[0;34m\u001b[0m\u001b[0;34m\u001b[0m\u001b[0m\n\u001b[0m\u001b[1;32m      3\u001b[0m   \u001b[0;32mtry\u001b[0m\u001b[0;34m:\u001b[0m\u001b[0;34m\u001b[0m\u001b[0;34m\u001b[0m\u001b[0m\n\u001b[1;32m      4\u001b[0m     \u001b[0mprint\u001b[0m\u001b[0;34m(\u001b[0m\u001b[0;34mf\"{int(input())/int(input())}\"\u001b[0m\u001b[0;34m)\u001b[0m\u001b[0;34m\u001b[0m\u001b[0;34m\u001b[0m\u001b[0m\n\u001b[1;32m      5\u001b[0m   \u001b[0;32mexcept\u001b[0m \u001b[0mZeroDivisionError\u001b[0m\u001b[0;34m:\u001b[0m\u001b[0;34m\u001b[0m\u001b[0;34m\u001b[0m\u001b[0m\n",
            "\u001b[0;32m/usr/local/lib/python3.10/dist-packages/ipykernel/kernelbase.py\u001b[0m in \u001b[0;36mraw_input\u001b[0;34m(self, prompt)\u001b[0m\n\u001b[1;32m    849\u001b[0m                 \u001b[0;34m\"raw_input was called, but this frontend does not support input requests.\"\u001b[0m\u001b[0;34m\u001b[0m\u001b[0;34m\u001b[0m\u001b[0m\n\u001b[1;32m    850\u001b[0m             )\n\u001b[0;32m--> 851\u001b[0;31m         return self._input_request(str(prompt),\n\u001b[0m\u001b[1;32m    852\u001b[0m             \u001b[0mself\u001b[0m\u001b[0;34m.\u001b[0m\u001b[0m_parent_ident\u001b[0m\u001b[0;34m,\u001b[0m\u001b[0;34m\u001b[0m\u001b[0;34m\u001b[0m\u001b[0m\n\u001b[1;32m    853\u001b[0m             \u001b[0mself\u001b[0m\u001b[0;34m.\u001b[0m\u001b[0m_parent_header\u001b[0m\u001b[0;34m,\u001b[0m\u001b[0;34m\u001b[0m\u001b[0;34m\u001b[0m\u001b[0m\n",
            "\u001b[0;32m/usr/local/lib/python3.10/dist-packages/ipykernel/kernelbase.py\u001b[0m in \u001b[0;36m_input_request\u001b[0;34m(self, prompt, ident, parent, password)\u001b[0m\n\u001b[1;32m    893\u001b[0m             \u001b[0;32mexcept\u001b[0m \u001b[0mKeyboardInterrupt\u001b[0m\u001b[0;34m:\u001b[0m\u001b[0;34m\u001b[0m\u001b[0;34m\u001b[0m\u001b[0m\n\u001b[1;32m    894\u001b[0m                 \u001b[0;31m# re-raise KeyboardInterrupt, to truncate traceback\u001b[0m\u001b[0;34m\u001b[0m\u001b[0;34m\u001b[0m\u001b[0m\n\u001b[0;32m--> 895\u001b[0;31m                 \u001b[0;32mraise\u001b[0m \u001b[0mKeyboardInterrupt\u001b[0m\u001b[0;34m(\u001b[0m\u001b[0;34m\"Interrupted by user\"\u001b[0m\u001b[0;34m)\u001b[0m \u001b[0;32mfrom\u001b[0m \u001b[0;32mNone\u001b[0m\u001b[0;34m\u001b[0m\u001b[0;34m\u001b[0m\u001b[0m\n\u001b[0m\u001b[1;32m    896\u001b[0m             \u001b[0;32mexcept\u001b[0m \u001b[0mException\u001b[0m \u001b[0;32mas\u001b[0m \u001b[0me\u001b[0m\u001b[0;34m:\u001b[0m\u001b[0;34m\u001b[0m\u001b[0;34m\u001b[0m\u001b[0m\n\u001b[1;32m    897\u001b[0m                 \u001b[0mself\u001b[0m\u001b[0;34m.\u001b[0m\u001b[0mlog\u001b[0m\u001b[0;34m.\u001b[0m\u001b[0mwarning\u001b[0m\u001b[0;34m(\u001b[0m\u001b[0;34m\"Invalid Message:\"\u001b[0m\u001b[0;34m,\u001b[0m \u001b[0mexc_info\u001b[0m\u001b[0;34m=\u001b[0m\u001b[0;32mTrue\u001b[0m\u001b[0;34m)\u001b[0m\u001b[0;34m\u001b[0m\u001b[0;34m\u001b[0m\u001b[0m\n",
            "\u001b[0;31mKeyboardInterrupt\u001b[0m: Interrupted by user"
          ]
        }
      ],
      "source": [
        "for j in range(int(input())):\n",
        "  a,b=input().split()\n",
        "  try:\n",
        "    print(f\"{int(input())/int(input())}\")\n",
        "  except ZeroDivisionError:\n",
        "    print(f\"Error code: Integer Division or modulo by zero \")\n",
        "  except ValueError:\n",
        "    print(f\"Invalid literal for int() with base 10: '$'\")"
      ]
    },
    {
      "cell_type": "code",
      "execution_count": null,
      "metadata": {
        "colab": {
          "base_uri": "https://localhost:8080/"
        },
        "id": "reH5O0CmfNpR",
        "outputId": "e4dd6a0e-ea84-4b7f-f842-3a3330a960ee"
      },
      "outputs": [
        {
          "name": "stdout",
          "output_type": "stream",
          "text": [
            "2\n",
            "6\n",
            "4 3 2 1 3 4\n",
            "Yes\n",
            "3\n",
            "1 3 2\n",
            "No\n"
          ]
        }
      ],
      "source": [
        "#Q20\n",
        "for _ in range(int(input())):\n",
        "  size=int(input())\n",
        "  s1=list(map(int,input().split()))\n",
        "  if s1[0]<max(s1[1:-1])>s1[-1]:\n",
        "    print(\"No\")\n",
        "  else:\n",
        "    print(\"Yes\")"
      ]
    },
    {
      "cell_type": "code",
      "execution_count": null,
      "metadata": {
        "colab": {
          "base_uri": "https://localhost:8080/"
        },
        "id": "GgfSuTXymKBr",
        "outputId": "0d55d28d-ff54-4a79-dbfc-5454f5dd7218"
      },
      "outputs": [
        {
          "name": "stdout",
          "output_type": "stream",
          "text": [
            "2\n",
            "6\n",
            "4 3 2 1 3 4\n",
            "Yes\n",
            "3\n",
            "1 3 2\n",
            "No\n"
          ]
        }
      ],
      "source": [
        "for _ in range(int(input())):\n",
        "  a1=int(input())\n",
        "  a2=list(map(int,input().split()))\n",
        "  if a2[0]<max(a2[1:-1])>a2[-1]:\n",
        "    print(\"No\")\n",
        "  else:\n",
        "    print(\"Yes\")"
      ]
    },
    {
      "cell_type": "code",
      "execution_count": null,
      "metadata": {
        "colab": {
          "base_uri": "https://localhost:8080/",
          "height": 331
        },
        "id": "oA83_OOXnA8H",
        "outputId": "f4461fb5-1ae4-4b77-c5f4-dbc29205a4b1"
      },
      "outputs": [
        {
          "ename": "TypeError",
          "evalue": "ignored",
          "output_type": "error",
          "traceback": [
            "\u001b[0;31m---------------------------------------------------------------------------\u001b[0m",
            "\u001b[0;31mTypeError\u001b[0m                                 Traceback (most recent call last)",
            "\u001b[0;32m<ipython-input-5-3b076d300259>\u001b[0m in \u001b[0;36m<cell line: 11>\u001b[0;34m()\u001b[0m\n\u001b[1;32m     10\u001b[0m   \u001b[0mprint\u001b[0m\u001b[0;34m(\u001b[0m\u001b[0;34m\"\\n\"\u001b[0m\u001b[0;34m)\u001b[0m\u001b[0;34m\u001b[0m\u001b[0;34m\u001b[0m\u001b[0m\n\u001b[1;32m     11\u001b[0m \u001b[0;32mif\u001b[0m \u001b[0m__name__\u001b[0m\u001b[0;34m==\u001b[0m\u001b[0;34m'__main__'\u001b[0m\u001b[0;34m:\u001b[0m\u001b[0;34m\u001b[0m\u001b[0;34m\u001b[0m\u001b[0m\n\u001b[0;32m---> 12\u001b[0;31m   \u001b[0mprint_board\u001b[0m\u001b[0;34m(\u001b[0m\u001b[0mlist1\u001b[0m\u001b[0;34m)\u001b[0m\u001b[0;34m\u001b[0m\u001b[0;34m\u001b[0m\u001b[0m\n\u001b[0m",
            "\u001b[0;32m<ipython-input-5-3b076d300259>\u001b[0m in \u001b[0;36mprint_board\u001b[0;34m(p1)\u001b[0m\n\u001b[1;32m      7\u001b[0m     \u001b[0;32melse\u001b[0m\u001b[0;34m:\u001b[0m\u001b[0;34m\u001b[0m\u001b[0;34m\u001b[0m\u001b[0m\n\u001b[1;32m      8\u001b[0m       \u001b[0ma1\u001b[0m\u001b[0;34m.\u001b[0m\u001b[0mappend\u001b[0m\u001b[0;34m(\u001b[0m\u001b[0mi\u001b[0m\u001b[0;34m)\u001b[0m\u001b[0;34m\u001b[0m\u001b[0;34m\u001b[0m\u001b[0m\n\u001b[0;32m----> 9\u001b[0;31m   \u001b[0ms\u001b[0m\u001b[0;34m=\u001b[0m\u001b[0;34m\"|\"\u001b[0m\u001b[0;34m.\u001b[0m\u001b[0mjoin\u001b[0m\u001b[0;34m(\u001b[0m\u001b[0ma1\u001b[0m\u001b[0;34m)\u001b[0m\u001b[0;34m\u001b[0m\u001b[0;34m\u001b[0m\u001b[0m\n\u001b[0m\u001b[1;32m     10\u001b[0m   \u001b[0mprint\u001b[0m\u001b[0;34m(\u001b[0m\u001b[0;34m\"\\n\"\u001b[0m\u001b[0;34m)\u001b[0m\u001b[0;34m\u001b[0m\u001b[0;34m\u001b[0m\u001b[0m\n\u001b[1;32m     11\u001b[0m \u001b[0;32mif\u001b[0m \u001b[0m__name__\u001b[0m\u001b[0;34m==\u001b[0m\u001b[0;34m'__main__'\u001b[0m\u001b[0;34m:\u001b[0m\u001b[0;34m\u001b[0m\u001b[0;34m\u001b[0m\u001b[0m\n",
            "\u001b[0;31mTypeError\u001b[0m: sequence item 0: expected str instance, list found"
          ]
        }
      ],
      "source": [
        "list1=[ [ '#' , 'o' , 'x' ] , [ '#' , '#' , 'o' ] , [ 'x' , '#' , 'o' ] ]\n",
        "def print_board(p1:list):\n",
        "  a1=[]\n",
        "  for i in p1:\n",
        "    if i=='#':\n",
        "      a1.append(' ')\n",
        "    else:\n",
        "      a1.append(i)\n",
        "  s=\"|\".join(a1)\n",
        "  print(\"\\n\")\n",
        "if __name__=='__main__':\n",
        "  print_board(list1)\n"
      ]
    },
    {
      "cell_type": "code",
      "execution_count": null,
      "metadata": {
        "colab": {
          "base_uri": "https://localhost:8080/"
        },
        "id": "wPtu3-n0vGyi",
        "outputId": "dcf42af9-686e-472a-933c-01cbf64bd3ce"
      },
      "outputs": [
        {
          "name": "stdout",
          "output_type": "stream",
          "text": [
            "1 2 3\n"
          ]
        }
      ],
      "source": [
        "sn=' '.join(str(a) for a in [1,2,3])\n",
        "print(sn)"
      ]
    },
    {
      "cell_type": "code",
      "execution_count": null,
      "metadata": {
        "colab": {
          "base_uri": "https://localhost:8080/"
        },
        "id": "OL7ohHwV2HW-",
        "outputId": "c46a6f70-d583-4a34-b966-4b67a13cced7"
      },
      "outputs": [
        {
          "name": "stdout",
          "output_type": "stream",
          "text": [
            "   |  o  |  x\n",
            "------------\n",
            "   |     |  o\n",
            "------------\n",
            "x  |     |  o\n",
            "------------\n"
          ]
        }
      ],
      "source": [
        "list1=[ [ '#' , 'o' , 'x' ] , [ '#' , '#' , 'o' ] , [ 'x' , '#' , 'o' ] ]\n",
        "def print_board(l1:list):\n",
        "  s1=[]\n",
        "  for i in l1:\n",
        "    for k in i:\n",
        "      if k=='#':\n",
        "        s1.append(' ')\n",
        "      else:\n",
        "        s1.append(k)\n",
        "    print('  |  '.join(s1))\n",
        "    print(\"------------\")\n",
        "    s1=[]\n",
        "print_board(list1)"
      ]
    },
    {
      "cell_type": "code",
      "execution_count": null,
      "metadata": {
        "colab": {
          "base_uri": "https://localhost:8080/"
        },
        "id": "rGajoCEiI_Vh",
        "outputId": "7905b534-b8e4-49a0-c6c4-daf0028143a8"
      },
      "outputs": [
        {
          "name": "stdout",
          "output_type": "stream",
          "text": [
            "19284756242 True\n",
            "90909 True\n",
            "0909 True\n"
          ]
        }
      ],
      "source": [
        "#Q22\n",
        "def mehwi(n1:list):\n",
        "  for i in range(1,len(n1)-1):\n",
        "    if int(n1[i-1])>int(n1[i])<int(n1[i+1]) or int(n1[i-1])<int(n1[i])>int(n1[i+1]):\n",
        "      a=True\n",
        "    else:\n",
        "      a=False\n",
        "      break\n",
        "  if a:\n",
        "    return True\n",
        "  else:\n",
        "    return False\n",
        "\n",
        "if __name__=='__main__':\n",
        "  a=['19284756242', '90909', '0909']\n",
        "  for i in a:\n",
        "    print(i,mehwi(i))\n",
        "\n",
        "\n"
      ]
    },
    {
      "cell_type": "code",
      "execution_count": null,
      "metadata": {
        "colab": {
          "base_uri": "https://localhost:8080/"
        },
        "id": "TZJvx0j8LtAN",
        "outputId": "eafe90af-cbbe-4310-fabe-6268be90591c"
      },
      "outputs": [
        {
          "name": "stdout",
          "output_type": "stream",
          "text": [
            "86 False\n",
            "189 False\n",
            "88 False\n",
            "89 False\n",
            "91 False\n",
            "92 False\n",
            "93 False\n",
            "94 False\n",
            "95 False\n",
            "96 False\n",
            "97 False\n",
            "98 False\n",
            "99 False\n",
            "101 True\n"
          ]
        }
      ],
      "source": [
        "#Q22\n",
        "def mehwi(n1:list):\n",
        "  if len(n1)>2:\n",
        "    for i in range(1,len(n1)-1):\n",
        "      if int(n1[i-1])>int(n1[i])<int(n1[i+1]) or int(n1[i-1])<int(n1[i])>int(n1[i+1]):\n",
        "        a1=True\n",
        "      else:\n",
        "        a1=False\n",
        "        break\n",
        "    if a1:\n",
        "      return True\n",
        "    else:\n",
        "      return False\n",
        "  else:\n",
        "    return False\n",
        "\n",
        "if __name__=='__main__':\n",
        "  a=['86', '189', '88', '89', '91', '92', '93', '94', '95', '96', '97', '98', '99','101']\n",
        "  for i in a:\n",
        "    print(i,mehwi(i))\n"
      ]
    },
    {
      "cell_type": "code",
      "execution_count": null,
      "metadata": {
        "colab": {
          "base_uri": "https://localhost:8080/"
        },
        "id": "aa-I6qwlO3-l",
        "outputId": "683ce0ec-72e4-44ec-8dad-bd5f96e4993f"
      },
      "outputs": [
        {
          "name": "stdout",
          "output_type": "stream",
          "text": [
            "4 Bungs is worth 80 hoojim and 960 blinks\n"
          ]
        }
      ],
      "source": [
        "def converte(n):\n",
        "  print(f\"{n} Bungs is worth {n*20} hoojim and {n*240} blinks\")\n",
        "if __name__=='__main__':\n",
        "  converte(4)"
      ]
    },
    {
      "cell_type": "code",
      "execution_count": null,
      "metadata": {
        "colab": {
          "base_uri": "https://localhost:8080/"
        },
        "id": "FbEFj9OO9poJ",
        "outputId": "b02d2b39-cbea-45ea-cbec-e7f6b77e4d71"
      },
      "outputs": [
        {
          "name": "stdout",
          "output_type": "stream",
          "text": [
            "506 Blinks is worth 2 Bungs, 1 hoojim and 6 blinks\n"
          ]
        }
      ],
      "source": [
        "def enBlinkHoojaBung(n):\n",
        "  a=int(n/240)\n",
        "  a1=a*240\n",
        "  b=int((n-a1)/20)\n",
        "  b1=a1+b*20\n",
        "  c=n-b1\n",
        "  return f\"{n} Blinks is worth {a} Bungs, {b} hoojim and {c} blinks\"\n",
        "if __name__=='__main__':\n",
        "  d=enBlinkHoojaBung(506)\n",
        "  print(d)\n"
      ]
    },
    {
      "cell_type": "code",
      "execution_count": null,
      "metadata": {
        "colab": {
          "base_uri": "https://localhost:8080/"
        },
        "id": "WGfsrxQ-CsNy",
        "outputId": "1f50dd2d-6c28-478b-a2a4-63cf937962a6"
      },
      "outputs": [
        {
          "name": "stdout",
          "output_type": "stream",
          "text": [
            "(2, 1, 6)\n"
          ]
        }
      ],
      "source": [
        "def enBlink(n):\n",
        "  a=int(n/240)\n",
        "  a1=n-240*a\n",
        "  b=int(a1/20)\n",
        "  b1=a1-20*b\n",
        "  c=n-(240*a+20*b)\n",
        "  return(a,b,c)\n",
        "if __name__=='__main__':\n",
        "  d1=enBlink(506)\n",
        "  print(d1)\n"
      ]
    },
    {
      "cell_type": "code",
      "execution_count": null,
      "metadata": {
        "colab": {
          "base_uri": "https://localhost:8080/"
        },
        "id": "Z1puXT5eahDU",
        "outputId": "69800d56-f71b-4cda-d370-3dd08d685d31"
      },
      "outputs": [
        {
          "name": "stdout",
          "output_type": "stream",
          "text": [
            "8\n",
            "20\n"
          ]
        }
      ],
      "source": [
        "#Q26\n",
        "#This is how you write a recursive function that would calculate sum of all the even numbers\n",
        "def summer(n,total=0,i=2):\n",
        "  if i>n:\n",
        "    return total\n",
        "  return summer(n, total=total+i,i=i+2)\n",
        "if __name__=='__main__':\n",
        "  k=summer(int(input()))\n",
        "  print(k)"
      ]
    },
    {
      "cell_type": "code",
      "execution_count": null,
      "metadata": {
        "colab": {
          "base_uri": "https://localhost:8080/"
        },
        "id": "nSVFdoRObo_q",
        "outputId": "6fce46ba-506e-44dd-a7c3-bccdbd41903f"
      },
      "outputs": [
        {
          "data": {
            "text/plain": [
              "0"
            ]
          },
          "execution_count": 3,
          "metadata": {},
          "output_type": "execute_result"
        }
      ],
      "source": [
        "#Q27\n",
        "#This is how you write recursive function that would find the largest in a list\n",
        "def biggest(n,largest=0,i=0):\n",
        "  if i>=len(n):\n",
        "    return largest\n",
        "  elif largest<n[i]:\n",
        "    c=n[i]\n",
        "    return biggest(n,largest=n[i],i=i+1)\n",
        "  return biggest(n,largest=c,i=i+1)\n",
        "\n",
        "biggest([1,3,5,7,8,6,2])\n",
        "\n"
      ]
    },
    {
      "cell_type": "code",
      "execution_count": null,
      "metadata": {
        "colab": {
          "base_uri": "https://localhost:8080/"
        },
        "id": "fs_w_N3_yAzk",
        "outputId": "51befc6f-bd44-49bc-fd5e-99929af925da"
      },
      "outputs": [
        {
          "name": "stdout",
          "output_type": "stream",
          "text": [
            "b\n"
          ]
        }
      ],
      "source": [
        "l1=[1,2,3]\n",
        "if not l1:\n",
        "  print(\"a\")\n",
        "else:\n",
        "  print(\"b\")"
      ]
    },
    {
      "cell_type": "code",
      "execution_count": null,
      "metadata": {
        "colab": {
          "base_uri": "https://localhost:8080/"
        },
        "id": "gPRcJ_Hp6QgI",
        "outputId": "ed2ef811-f69b-4692-cba4-b6a409030d3d"
      },
      "outputs": [
        {
          "name": "stdout",
          "output_type": "stream",
          "text": [
            "c\n"
          ]
        }
      ],
      "source": [
        "l1=[]\n",
        "if not l1:\n",
        "  print(\"c\")\n",
        "else:\n",
        "  print(\"d\")\n",
        "#as l1 is empty so if l1 would evaluate to if True and if not l1 would evaluate to if False"
      ]
    },
    {
      "cell_type": "code",
      "execution_count": null,
      "metadata": {
        "colab": {
          "base_uri": "https://localhost:8080/",
          "height": 349
        },
        "id": "MDusXNNG6jKu",
        "outputId": "20496e55-acfa-413b-aa0d-cadf3b4d26c9"
      },
      "outputs": [
        {
          "ename": "TypeError",
          "evalue": "ignored",
          "output_type": "error",
          "traceback": [
            "\u001b[0;31m---------------------------------------------------------------------------\u001b[0m",
            "\u001b[0;31mTypeError\u001b[0m                                 Traceback (most recent call last)",
            "\u001b[0;32m<ipython-input-7-2af6a11a01ac>\u001b[0m in \u001b[0;36m<cell line: 9>\u001b[0;34m()\u001b[0m\n\u001b[1;32m      7\u001b[0m   \u001b[0;32mreturn\u001b[0m \u001b[0msmallest\u001b[0m\u001b[0;34m(\u001b[0m\u001b[0mn\u001b[0m\u001b[0;34m[\u001b[0m\u001b[0;36m1\u001b[0m\u001b[0;34m:\u001b[0m\u001b[0;34m]\u001b[0m\u001b[0;34m,\u001b[0m\u001b[0mminimum\u001b[0m\u001b[0;34m)\u001b[0m\u001b[0;34m\u001b[0m\u001b[0;34m\u001b[0m\u001b[0m\n\u001b[1;32m      8\u001b[0m \u001b[0;34m\u001b[0m\u001b[0m\n\u001b[0;32m----> 9\u001b[0;31m \u001b[0msmallest\u001b[0m\u001b[0;34m(\u001b[0m\u001b[0;34m[\u001b[0m\u001b[0;36m3\u001b[0m\u001b[0;34m,\u001b[0m\u001b[0;36m4\u001b[0m\u001b[0;34m,\u001b[0m\u001b[0;36m5\u001b[0m\u001b[0;34m,\u001b[0m\u001b[0;36m1\u001b[0m\u001b[0;34m,\u001b[0m\u001b[0;36m2\u001b[0m\u001b[0;34m,\u001b[0m\u001b[0;36m9\u001b[0m\u001b[0;34m,\u001b[0m\u001b[0;36m11\u001b[0m\u001b[0;34m]\u001b[0m\u001b[0;34m)\u001b[0m\u001b[0;34m\u001b[0m\u001b[0;34m\u001b[0m\u001b[0m\n\u001b[0m\u001b[1;32m     10\u001b[0m \u001b[0;34m\u001b[0m\u001b[0m\n",
            "\u001b[0;32m<ipython-input-7-2af6a11a01ac>\u001b[0m in \u001b[0;36msmallest\u001b[0;34m(n, minimum)\u001b[0m\n\u001b[1;32m      3\u001b[0m   \u001b[0;32mif\u001b[0m \u001b[0;32mnot\u001b[0m \u001b[0mn\u001b[0m\u001b[0;34m:\u001b[0m\u001b[0;34m\u001b[0m\u001b[0;34m\u001b[0m\u001b[0m\n\u001b[1;32m      4\u001b[0m     \u001b[0;32mreturn\u001b[0m \u001b[0mminimum\u001b[0m\u001b[0;34m\u001b[0m\u001b[0;34m\u001b[0m\u001b[0m\n\u001b[0;32m----> 5\u001b[0;31m   \u001b[0;32melif\u001b[0m \u001b[0mminimum\u001b[0m\u001b[0;34m>\u001b[0m\u001b[0mn\u001b[0m\u001b[0;34m[\u001b[0m\u001b[0;36m0\u001b[0m\u001b[0;34m]\u001b[0m\u001b[0;34m:\u001b[0m\u001b[0;34m\u001b[0m\u001b[0;34m\u001b[0m\u001b[0m\n\u001b[0m\u001b[1;32m      6\u001b[0m     \u001b[0mminimum\u001b[0m\u001b[0;34m=\u001b[0m\u001b[0mn\u001b[0m\u001b[0;34m[\u001b[0m\u001b[0;36m0\u001b[0m\u001b[0;34m]\u001b[0m\u001b[0;34m\u001b[0m\u001b[0;34m\u001b[0m\u001b[0m\n\u001b[1;32m      7\u001b[0m   \u001b[0;32mreturn\u001b[0m \u001b[0msmallest\u001b[0m\u001b[0;34m(\u001b[0m\u001b[0mn\u001b[0m\u001b[0;34m[\u001b[0m\u001b[0;36m1\u001b[0m\u001b[0;34m:\u001b[0m\u001b[0;34m]\u001b[0m\u001b[0;34m,\u001b[0m\u001b[0mminimum\u001b[0m\u001b[0;34m)\u001b[0m\u001b[0;34m\u001b[0m\u001b[0;34m\u001b[0m\u001b[0m\n",
            "\u001b[0;31mTypeError\u001b[0m: '>' not supported between instances of 'NoneType' and 'int'"
          ]
        }
      ],
      "source": [
        "#Q27\n",
        "def smallest(n,minimum=None):\n",
        "  if not n:\n",
        "    return minimum\n",
        "  elif minimum>n[0]:\n",
        "    minimum=n[0]\n",
        "  return smallest(n[1:],minimum)\n",
        "\n",
        "smallest([3,4,5,1,2,9,11])\n",
        "\n"
      ]
    },
    {
      "cell_type": "code",
      "execution_count": null,
      "metadata": {
        "colab": {
          "base_uri": "https://localhost:8080/"
        },
        "id": "W4sRkcPi9W1t",
        "outputId": "9adf2b1d-6865-4287-b1ca-4fbb31b6191f"
      },
      "outputs": [
        {
          "data": {
            "text/plain": [
              "1"
            ]
          },
          "execution_count": 10,
          "metadata": {},
          "output_type": "execute_result"
        }
      ],
      "source": [
        "#To avoid the above error which we get at the very beginning, we code in this mannner\n",
        "def smallest(n,minimum=None):\n",
        "  if not n:\n",
        "    return minimum\n",
        "  elif minimum is None or minimum>n[0]:\n",
        "    minimum=n[0]\n",
        "  return smallest(n[1:],minimum)\n",
        "\n",
        "smallest([3,4,5,1,2,9,11,7,6,8])"
      ]
    },
    {
      "cell_type": "code",
      "execution_count": null,
      "metadata": {
        "colab": {
          "base_uri": "https://localhost:8080/"
        },
        "id": "kCojB7g9_dMm",
        "outputId": "e9546cb6-0ce7-4588-aae3-c3a73c653b28"
      },
      "outputs": [
        {
          "data": {
            "text/plain": [
              "11"
            ]
          },
          "execution_count": 11,
          "metadata": {},
          "output_type": "execute_result"
        }
      ],
      "source": [
        "def largest(n,maximum=None):\n",
        "  if not n:\n",
        "    return maximum\n",
        "  elif maximum is None or maximum<n[0]:\n",
        "    maximum=n[0]\n",
        "  return largest(n[1:],maximum)\n",
        "largest([3,4,5,1,2,9,11,7,6,8])"
      ]
    },
    {
      "cell_type": "code",
      "execution_count": null,
      "metadata": {
        "colab": {
          "base_uri": "https://localhost:8080/"
        },
        "id": "qbprYrxcW7uc",
        "outputId": "19a1c0a7-351a-4133-f5ac-603e1ac1ad57"
      },
      "outputs": [
        {
          "name": "stdout",
          "output_type": "stream",
          "text": [
            "12\n"
          ]
        }
      ],
      "source": [
        "#Q28\n",
        "def muller(n,muli=1,i=0):\n",
        "  if i>=len(n):\n",
        "    return muli\n",
        "  return muller(n,muli=muli*n[i],i=i+1)\n",
        "\n",
        "if __name__=='__main__':\n",
        "  aj=muller([3,4])\n",
        "  print(aj)"
      ]
    },
    {
      "cell_type": "code",
      "execution_count": null,
      "metadata": {
        "colab": {
          "base_uri": "https://localhost:8080/"
        },
        "id": "wMEW_ul4g805",
        "outputId": "15e3d07d-69a7-480f-c632-f515f3a9ede7"
      },
      "outputs": [
        {
          "name": "stdout",
          "output_type": "stream",
          "text": [
            "7\n"
          ]
        }
      ],
      "source": [
        "#26\n",
        "def adder(n,sum=0,i=0):\n",
        "  if i>=len(n):\n",
        "    return sum\n",
        "  return adder(n,sum=sum+n[i],i=i+1)\n",
        "if __name__=='__main__':\n",
        "  aj1=adder([3,4])\n",
        "  print(aj1)"
      ]
    },
    {
      "cell_type": "code",
      "execution_count": null,
      "metadata": {
        "colab": {
          "base_uri": "https://localhost:8080/"
        },
        "id": "iRzJVOQ2ija8",
        "outputId": "605a8da6-3e8f-483a-9652-1929955c3518"
      },
      "outputs": [
        {
          "name": "stdout",
          "output_type": "stream",
          "text": [
            "31\n"
          ]
        }
      ],
      "source": [
        "#26 Sum of all numbers at even index positions\n",
        "def addeven(n,sum1=0,i=0):\n",
        "  if i>=len(n):\n",
        "    return sum1\n",
        "  return addeven(n,sum1=sum1+n[i],i=i+2)\n",
        "if __name__=='__main__':\n",
        "  aj2=addeven([3,4,5,7,9,11,14,1,99,32])\n",
        "  print(aj2)"
      ]
    },
    {
      "cell_type": "code",
      "execution_count": null,
      "metadata": {
        "colab": {
          "base_uri": "https://localhost:8080/"
        },
        "id": "6qWirAcejnvb",
        "outputId": "bdcf7852-1108-46c9-d50f-a598730f99aa"
      },
      "outputs": [
        {
          "name": "stdout",
          "output_type": "stream",
          "text": [
            "1\n"
          ]
        }
      ],
      "source": [
        "#27 Minimum number in a list\n",
        "def miner(n,min=None):\n",
        "  if not n:\n",
        "    return min\n",
        "  elif min is None or min>n[0]:\n",
        "    min=n[0]\n",
        "  return miner(n[1:],min)\n",
        "if __name__=='__main__':\n",
        "  aj3=miner([3,4,5,7,9,11,14,1,99,32])\n",
        "  print(aj3)"
      ]
    },
    {
      "cell_type": "code",
      "execution_count": null,
      "metadata": {
        "colab": {
          "base_uri": "https://localhost:8080/"
        },
        "id": "AcHn1-M4qjCr",
        "outputId": "50033300-a800-4dad-91aa-c7037b935566"
      },
      "outputs": [
        {
          "name": "stdout",
          "output_type": "stream",
          "text": [
            "99\n"
          ]
        }
      ],
      "source": [
        "def maxer(n,maxxer=None):\n",
        "  if not n:\n",
        "    return maxxer\n",
        "  elif maxxer is None or maxxer<n[0]:\n",
        "    maxxer=n[0]\n",
        "  return maxer(n[1:],maxxer)\n",
        "if __name__=='__main__':\n",
        "  aj4=maxer([3,4,5,7,9,11,14,99,1,32])\n",
        "  print(aj4)"
      ]
    },
    {
      "cell_type": "code",
      "execution_count": null,
      "metadata": {
        "colab": {
          "base_uri": "https://localhost:8080/"
        },
        "id": "oiuzlE3othha",
        "outputId": "113a1fa8-530b-4723-ef8c-8c6906a8f32e"
      },
      "outputs": [
        {
          "name": "stdout",
          "output_type": "stream",
          "text": [
            "480\n"
          ]
        }
      ],
      "source": [
        "def muller(n,muli=1,i=0):\n",
        "  if i>=len(n):\n",
        "    return muli\n",
        "  return muller(n,muli=muli*n[i],i=i+1)\n",
        "if __name__=='__main__':\n",
        "  k1=muller([3,4,5,8])\n",
        "  print(k1)"
      ]
    },
    {
      "cell_type": "code",
      "execution_count": null,
      "metadata": {
        "colab": {
          "base_uri": "https://localhost:8080/"
        },
        "id": "C2ai6xLDziLr",
        "outputId": "99060dd5-d700-41bc-adf3-e9bd8171b919"
      },
      "outputs": [
        {
          "name": "stdout",
          "output_type": "stream",
          "text": [
            "7\n"
          ]
        }
      ],
      "source": [
        "def mylen(n,lgo=0):\n",
        "  if not n:\n",
        "    return lgo\n",
        "  return mylen(n[1:],lgo=lgo+1)\n",
        "if __name__=='__main__':\n",
        "  a12=mylen([1,3,4,5,6,7,99])\n",
        "  print(a12)\n",
        "\n",
        "\n",
        "\n",
        "\n",
        "\n",
        "\n",
        "\n",
        "\n"
      ]
    },
    {
      "cell_type": "code",
      "execution_count": null,
      "metadata": {
        "colab": {
          "base_uri": "https://localhost:8080/"
        },
        "id": "dVHTTRul1-lq",
        "outputId": "ca60f3ae-a3fe-4685-f1d1-e12a771eb51d"
      },
      "outputs": [
        {
          "data": {
            "text/plain": [
              "[2,\n",
              " 4,\n",
              " 6,\n",
              " 8,\n",
              " 10,\n",
              " 12,\n",
              " 14,\n",
              " 16,\n",
              " 18,\n",
              " 20,\n",
              " 22,\n",
              " 24,\n",
              " 26,\n",
              " 28,\n",
              " 30,\n",
              " 32,\n",
              " 34,\n",
              " 36,\n",
              " 38,\n",
              " 40,\n",
              " 42,\n",
              " 44,\n",
              " 46,\n",
              " 48,\n",
              " 50,\n",
              " 52,\n",
              " 54,\n",
              " 56,\n",
              " 58,\n",
              " 60,\n",
              " 62,\n",
              " 64,\n",
              " 66,\n",
              " 68,\n",
              " 70,\n",
              " 72,\n",
              " 74,\n",
              " 76,\n",
              " 78,\n",
              " 80,\n",
              " 82,\n",
              " 84,\n",
              " 86,\n",
              " 88,\n",
              " 90,\n",
              " 92,\n",
              " 94,\n",
              " 96,\n",
              " 98,\n",
              " 100,\n",
              " 102,\n",
              " 104,\n",
              " 106,\n",
              " 108,\n",
              " 110,\n",
              " 112,\n",
              " 114,\n",
              " 116,\n",
              " 118,\n",
              " 120,\n",
              " 122,\n",
              " 124,\n",
              " 126,\n",
              " 128,\n",
              " 130,\n",
              " 132,\n",
              " 134,\n",
              " 136,\n",
              " 138,\n",
              " 140,\n",
              " 142,\n",
              " 144,\n",
              " 146,\n",
              " 148,\n",
              " 150,\n",
              " 152,\n",
              " 154,\n",
              " 156,\n",
              " 158,\n",
              " 160,\n",
              " 162,\n",
              " 164,\n",
              " 166,\n",
              " 168,\n",
              " 170,\n",
              " 172,\n",
              " 174,\n",
              " 176,\n",
              " 178,\n",
              " 180,\n",
              " 182,\n",
              " 184,\n",
              " 186,\n",
              " 188,\n",
              " 190,\n",
              " 192,\n",
              " 194,\n",
              " 196,\n",
              " 198,\n",
              " 200]"
            ]
          },
          "execution_count": 12,
          "metadata": {},
          "output_type": "execute_result"
        }
      ],
      "source": [
        "list(map(lambda x:x*2,[a for a in range(1,101)]))\n",
        "#this is how you use map and lambda function to convert a list of 1 to 100 to a list of 2 to 200"
      ]
    },
    {
      "cell_type": "code",
      "execution_count": null,
      "metadata": {
        "colab": {
          "base_uri": "https://localhost:8080/"
        },
        "id": "m2rnaAkI2a0d",
        "outputId": "ad99d223-aa30-460f-8e1e-0eee18464c28"
      },
      "outputs": [
        {
          "data": {
            "text/plain": [
              "[1,\n",
              " 3,\n",
              " 5,\n",
              " 7,\n",
              " 9,\n",
              " 11,\n",
              " 13,\n",
              " 15,\n",
              " 17,\n",
              " 19,\n",
              " 21,\n",
              " 23,\n",
              " 25,\n",
              " 27,\n",
              " 29,\n",
              " 31,\n",
              " 33,\n",
              " 35,\n",
              " 37,\n",
              " 39,\n",
              " 41,\n",
              " 43,\n",
              " 45,\n",
              " 47,\n",
              " 49,\n",
              " 51,\n",
              " 53,\n",
              " 55,\n",
              " 57,\n",
              " 59,\n",
              " 61,\n",
              " 63,\n",
              " 65,\n",
              " 67,\n",
              " 69,\n",
              " 71,\n",
              " 73,\n",
              " 75,\n",
              " 77,\n",
              " 79,\n",
              " 81,\n",
              " 83,\n",
              " 85,\n",
              " 87,\n",
              " 89,\n",
              " 91,\n",
              " 93,\n",
              " 95,\n",
              " 97,\n",
              " 99]"
            ]
          },
          "execution_count": 16,
          "metadata": {},
          "output_type": "execute_result"
        }
      ],
      "source": [
        "list(filter(lambda a:a%2!=0,[a for a in range(101)]))"
      ]
    },
    {
      "cell_type": "code",
      "execution_count": null,
      "metadata": {
        "colab": {
          "base_uri": "https://localhost:8080/"
        },
        "id": "n9MSblHm3FhB",
        "outputId": "e5d7c994-799f-4e86-e935-f8021053f878"
      },
      "outputs": [
        {
          "data": {
            "text/plain": [
              "[1,\n",
              " 3,\n",
              " 5,\n",
              " 7,\n",
              " 9,\n",
              " 11,\n",
              " 13,\n",
              " 15,\n",
              " 17,\n",
              " 19,\n",
              " 21,\n",
              " 23,\n",
              " 25,\n",
              " 27,\n",
              " 29,\n",
              " 31,\n",
              " 33,\n",
              " 35,\n",
              " 37,\n",
              " 39,\n",
              " 41,\n",
              " 43,\n",
              " 45,\n",
              " 47,\n",
              " 49,\n",
              " 51,\n",
              " 53,\n",
              " 55,\n",
              " 57,\n",
              " 59,\n",
              " 61,\n",
              " 63,\n",
              " 65,\n",
              " 67,\n",
              " 69,\n",
              " 71,\n",
              " 73,\n",
              " 75,\n",
              " 77,\n",
              " 79,\n",
              " 81,\n",
              " 83,\n",
              " 85,\n",
              " 87,\n",
              " 89,\n",
              " 91,\n",
              " 93,\n",
              " 95,\n",
              " 97,\n",
              " 99]"
            ]
          },
          "execution_count": 17,
          "metadata": {},
          "output_type": "execute_result"
        }
      ],
      "source": [
        "[a for a in range(0,101) if a%2!=0]"
      ]
    },
    {
      "cell_type": "code",
      "execution_count": null,
      "metadata": {
        "id": "qfMrR_WU4J-L"
      },
      "outputs": [],
      "source": [
        "\n"
      ]
    },
    {
      "cell_type": "code",
      "execution_count": null,
      "metadata": {
        "colab": {
          "base_uri": "https://localhost:8080/"
        },
        "id": "tQgcfdJxsVS7",
        "outputId": "a50a21ca-457c-4f5c-9724-b942ab33b8f3"
      },
      "outputs": [
        {
          "name": "stdout",
          "output_type": "stream",
          "text": [
            "1\n",
            "2\n",
            "3\n",
            "4\n",
            "5\n",
            "6\n",
            "7\n",
            "8\n",
            "9\n",
            "10\n"
          ]
        }
      ],
      "source": [
        "#This is how we write a generator function to print the factorial numbers\n",
        "def generator_factorial():\n",
        "  result=1\n",
        "  i=1\n",
        "  while True:\n",
        "    result*=i\n",
        "    yield i\n",
        "    i+=1\n",
        "ken=generator_factorial()\n",
        "for i in range(10):\n",
        "  print(next(ken))"
      ]
    },
    {
      "cell_type": "code",
      "execution_count": null,
      "metadata": {
        "colab": {
          "base_uri": "https://localhost:8080/"
        },
        "id": "dwss8r8fu8QC",
        "outputId": "f1f19ae4-92a4-4389-a65f-fa85ea3953dd"
      },
      "outputs": [
        {
          "name": "stdout",
          "output_type": "stream",
          "text": [
            "1\n",
            "2\n",
            "6\n",
            "24\n",
            "120\n",
            "720\n",
            "5040\n",
            "40320\n",
            "362880\n",
            "3628800\n",
            "<class 'generator'>\n"
          ]
        }
      ],
      "source": [
        "#A generator executes and produces the output everytime next method is executed, it only retains the state of the function till then\n",
        "#This is how we create a generator function to print factorials\n",
        "def gen_functor():\n",
        "  result=1\n",
        "  i=1\n",
        "  while True:\n",
        "    result*=i\n",
        "    yield result\n",
        "    i+=1\n",
        "ken1=gen_functor()\n",
        "for i in range(10):\n",
        "  print(next(ken1))\n",
        "print(type(ken1))\n",
        "#when next is executed the first term gets printed, when next is executed again then next term gets printed, the state of the function is retained in case of a generator even after\n",
        "#the execution of yield statement."
      ]
    },
    {
      "cell_type": "code",
      "execution_count": null,
      "metadata": {
        "colab": {
          "base_uri": "https://localhost:8080/"
        },
        "id": "c8ZsHvBgzIMI",
        "outputId": "05eabd4a-6ce7-4a9c-ddf5-db8f1a79a95d"
      },
      "outputs": [
        {
          "name": "stdout",
          "output_type": "stream",
          "text": [
            "44\n"
          ]
        }
      ],
      "source": [
        "def func(m,n):\n",
        "  func.calls+=1\n",
        "  if m==0:\n",
        "    return n+1\n",
        "  elif m>0 and n==0:\n",
        "    return func(m-1,1)\n",
        "  elif m>0 and n>0:\n",
        "    return func(m-1,func(m,n-1))\n",
        "func.calls=0\n",
        "func(2,3)\n",
        "print(f\"{func.calls}\")\n",
        "#if we want to know how many times a function has been recursively called, we can do that by using function attributes as seen above"
      ]
    },
    {
      "cell_type": "code",
      "execution_count": null,
      "metadata": {
        "colab": {
          "base_uri": "https://localhost:8080/"
        },
        "id": "4VhwNRvkAWE1",
        "outputId": "de4c27d3-17da-46c7-ecfb-d1eae9912097"
      },
      "outputs": [
        {
          "name": "stdout",
          "output_type": "stream",
          "text": [
            "Palindrome\n"
          ]
        }
      ],
      "source": [
        "#Recursive implementation of palindrome function\n",
        "def palin(s,index1=0,index2=-1):\n",
        "  while True:\n",
        "    if index1>=len(s):\n",
        "      print(\"Palindrome\")\n",
        "      break\n",
        "    elif s[index1]!=s[index2]:\n",
        "      print(\"Not palindrome\")\n",
        "      break\n",
        "    return palin(s,index1=index1+1,index2=index2-1)\n",
        "\n",
        "palin(\"radar\")\n",
        "\n"
      ]
    },
    {
      "cell_type": "code",
      "execution_count": null,
      "metadata": {
        "colab": {
          "base_uri": "https://localhost:8080/"
        },
        "id": "uLPfE_xhR9E_",
        "outputId": "c55f9c90-4ba8-471c-97ce-9eab846e7461"
      },
      "outputs": [
        {
          "name": "stdout",
          "output_type": "stream",
          "text": [
            "Palindrome\n"
          ]
        }
      ],
      "source": [
        "def palin(s,index=0,index1=-1):\n",
        "  while True:\n",
        "    if index>=len(s):\n",
        "      print(\"Palindrome\")\n",
        "      break\n",
        "    elif s[index]!=s[index1]:\n",
        "      print(\"Not palindrome\")\n",
        "      break\n",
        "    return palin(s,index=index+1,index1=index1-1)\n",
        "palin(\"madam\")"
      ]
    },
    {
      "cell_type": "code",
      "execution_count": null,
      "metadata": {
        "colab": {
          "base_uri": "https://localhost:8080/"
        },
        "id": "wsO4aNK_So2B",
        "outputId": "06ecaa46-754f-4ba1-a8e3-ad72d44c9fe5"
      },
      "outputs": [
        {
          "data": {
            "text/plain": [
              "4"
            ]
          },
          "execution_count": 2,
          "metadata": {},
          "output_type": "execute_result"
        }
      ],
      "source": [
        "#assert statement ensures that a statement is true, if it is not then an assertionError exception is raised\n",
        "def check_int(num):\n",
        "  assert type(num)==type(0)\n",
        "  return num*2\n",
        "\n",
        "check_int(2)\n",
        "# check_int(\"hello\")\n",
        "\n",
        "#type(0) means the type of 0, datatype of 0 which is int"
      ]
    },
    {
      "cell_type": "code",
      "execution_count": null,
      "metadata": {
        "colab": {
          "base_uri": "https://localhost:8080/",
          "height": 297
        },
        "id": "1aHKndrw4ekO",
        "outputId": "ba9e607f-ce15-454f-b0a6-1d15ca4c5bbe"
      },
      "outputs": [
        {
          "ename": "AssertionError",
          "evalue": "ignored",
          "output_type": "error",
          "traceback": [
            "\u001b[0;31m---------------------------------------------------------------------------\u001b[0m",
            "\u001b[0;31mAssertionError\u001b[0m                            Traceback (most recent call last)",
            "\u001b[0;32m<ipython-input-3-baf9a73cbc4a>\u001b[0m in \u001b[0;36m<cell line: 1>\u001b[0;34m()\u001b[0m\n\u001b[0;32m----> 1\u001b[0;31m \u001b[0mcheck_int\u001b[0m\u001b[0;34m(\u001b[0m\u001b[0;34m\"hello\"\u001b[0m\u001b[0;34m)\u001b[0m\u001b[0;34m\u001b[0m\u001b[0;34m\u001b[0m\u001b[0m\n\u001b[0m",
            "\u001b[0;32m<ipython-input-2-ef5cb96265ad>\u001b[0m in \u001b[0;36mcheck_int\u001b[0;34m(num)\u001b[0m\n\u001b[1;32m      1\u001b[0m \u001b[0;31m#assert statement ensures that a statement is true, if it is not then an assertionError exception is raised\u001b[0m\u001b[0;34m\u001b[0m\u001b[0;34m\u001b[0m\u001b[0m\n\u001b[1;32m      2\u001b[0m \u001b[0;32mdef\u001b[0m \u001b[0mcheck_int\u001b[0m\u001b[0;34m(\u001b[0m\u001b[0mnum\u001b[0m\u001b[0;34m)\u001b[0m\u001b[0;34m:\u001b[0m\u001b[0;34m\u001b[0m\u001b[0;34m\u001b[0m\u001b[0m\n\u001b[0;32m----> 3\u001b[0;31m   \u001b[0;32massert\u001b[0m \u001b[0mtype\u001b[0m\u001b[0;34m(\u001b[0m\u001b[0mnum\u001b[0m\u001b[0;34m)\u001b[0m\u001b[0;34m==\u001b[0m\u001b[0mtype\u001b[0m\u001b[0;34m(\u001b[0m\u001b[0;36m0\u001b[0m\u001b[0;34m)\u001b[0m\u001b[0;34m\u001b[0m\u001b[0;34m\u001b[0m\u001b[0m\n\u001b[0m\u001b[1;32m      4\u001b[0m   \u001b[0;32mreturn\u001b[0m \u001b[0mnum\u001b[0m\u001b[0;34m*\u001b[0m\u001b[0;36m2\u001b[0m\u001b[0;34m\u001b[0m\u001b[0;34m\u001b[0m\u001b[0m\n\u001b[1;32m      5\u001b[0m \u001b[0;34m\u001b[0m\u001b[0m\n",
            "\u001b[0;31mAssertionError\u001b[0m: "
          ]
        }
      ],
      "source": [
        "check_int(\"hello\")"
      ]
    },
    {
      "cell_type": "code",
      "execution_count": null,
      "metadata": {
        "colab": {
          "base_uri": "https://localhost:8080/"
        },
        "id": "pqnf9IJp4jDT",
        "outputId": "a4e07735-24c6-4a28-e26f-4d0a867d6acc"
      },
      "outputs": [
        {
          "name": "stdout",
          "output_type": "stream",
          "text": [
            "87\n"
          ]
        }
      ],
      "source": [
        "import random\n",
        "print(random.randint(1,100))"
      ]
    },
    {
      "cell_type": "code",
      "execution_count": null,
      "metadata": {
        "colab": {
          "base_uri": "https://localhost:8080/"
        },
        "id": "DAr-YCNt8Cag",
        "outputId": "22d89a65-07be-4350-e0db-b88606e60138"
      },
      "outputs": [
        {
          "data": {
            "text/plain": [
              "3"
            ]
          },
          "execution_count": 9,
          "metadata": {},
          "output_type": "execute_result"
        }
      ],
      "source": [
        "#A dice class which has positive number of sides\n",
        "import random\n",
        "class dice:\n",
        "  def __init__(self,sides):\n",
        "    assert type(sides)==type(0)\n",
        "    assert sides>0\n",
        "    self.sides=sides\n",
        "    self.generator=random\n",
        "    self.current=1\n",
        "  def roll(self):\n",
        "    c1=self.generator.randint(1,self.sides+1)\n",
        "    return c1\n",
        "\n",
        "c21=dice(6)\n",
        "c21.roll()\n"
      ]
    },
    {
      "cell_type": "code",
      "execution_count": null,
      "metadata": {
        "id": "VnrAoJIH-k50"
      },
      "outputs": [],
      "source": [
        "#A dice class which always has positive number of sides\n",
        "class dice:\n",
        "  def __init__(self,sides):\n",
        "    assert type(sides)==type(0)\n",
        "    assert sides>0\n",
        "    self.sides=sides\n",
        "    self.generator=random\n",
        "    self.current=1\n",
        "  def roll(self):\n",
        "    c1=self.generator.randint(1,self.sides)\n",
        "    return c1\n",
        "c11=dice(6)\n",
        "c11.roll()"
      ]
    },
    {
      "cell_type": "code",
      "execution_count": null,
      "metadata": {
        "colab": {
          "base_uri": "https://localhost:8080/",
          "height": 366
        },
        "id": "t45VjgVy2PaQ",
        "outputId": "cf932246-e074-4d52-83b8-e5de7335d4cd"
      },
      "outputs": [
        {
          "name": "stdout",
          "output_type": "stream",
          "text": [
            "None\n"
          ]
        },
        {
          "ename": "ValueError",
          "evalue": "ignored",
          "output_type": "error",
          "traceback": [
            "\u001b[0;31m---------------------------------------------------------------------------\u001b[0m",
            "\u001b[0;31mValueError\u001b[0m                                Traceback (most recent call last)",
            "\u001b[0;32m<ipython-input-4-2095bc177a68>\u001b[0m in \u001b[0;36m<cell line: 37>\u001b[0;34m()\u001b[0m\n\u001b[1;32m     35\u001b[0m \u001b[0;34m\u001b[0m\u001b[0m\n\u001b[1;32m     36\u001b[0m \u001b[0mprint\u001b[0m\u001b[0;34m(\u001b[0m\u001b[0macc\u001b[0m\u001b[0;34m.\u001b[0m\u001b[0mdeposit\u001b[0m\u001b[0;34m(\u001b[0m\u001b[0;36m300\u001b[0m\u001b[0;34m)\u001b[0m\u001b[0;34m)\u001b[0m  \u001b[0;31m# Deposit $300\u001b[0m\u001b[0;34m\u001b[0m\u001b[0;34m\u001b[0m\u001b[0m\n\u001b[0;32m---> 37\u001b[0;31m \u001b[0mprint\u001b[0m\u001b[0;34m(\u001b[0m\u001b[0macc\u001b[0m\u001b[0;34m.\u001b[0m\u001b[0mwithdraw\u001b[0m\u001b[0;34m(\u001b[0m\u001b[0;36m700\u001b[0m\u001b[0;34m)\u001b[0m\u001b[0;34m)\u001b[0m  \u001b[0;31m# Try to withdraw $700 (exceeds overdraft limit)\u001b[0m\u001b[0;34m\u001b[0m\u001b[0;34m\u001b[0m\u001b[0m\n\u001b[0m\u001b[1;32m     38\u001b[0m \u001b[0mprint\u001b[0m\u001b[0;34m(\u001b[0m\u001b[0macc\u001b[0m\u001b[0;34m)\u001b[0m\u001b[0;34m\u001b[0m\u001b[0;34m\u001b[0m\u001b[0m\n",
            "\u001b[0;32m<ipython-input-4-2095bc177a68>\u001b[0m in \u001b[0;36mwithdraw\u001b[0;34m(self, amount)\u001b[0m\n\u001b[1;32m     17\u001b[0m       \u001b[0;32mraise\u001b[0m \u001b[0mValueError\u001b[0m\u001b[0;34m(\u001b[0m\u001b[0;34m\"Can't withdraw negative numbers\"\u001b[0m\u001b[0;34m)\u001b[0m\u001b[0;34m\u001b[0m\u001b[0;34m\u001b[0m\u001b[0m\n\u001b[1;32m     18\u001b[0m     \u001b[0;32melif\u001b[0m \u001b[0mamount\u001b[0m\u001b[0;34m>\u001b[0m\u001b[0;34m(\u001b[0m\u001b[0mself\u001b[0m\u001b[0;34m.\u001b[0m\u001b[0mbalance\u001b[0m\u001b[0;34m+\u001b[0m\u001b[0mAccount\u001b[0m\u001b[0;34m.\u001b[0m\u001b[0moverdraft_limit\u001b[0m\u001b[0;34m)\u001b[0m\u001b[0;34m:\u001b[0m\u001b[0;34m\u001b[0m\u001b[0;34m\u001b[0m\u001b[0m\n\u001b[0;32m---> 19\u001b[0;31m       \u001b[0;32mraise\u001b[0m \u001b[0mValueError\u001b[0m\u001b[0;34m(\u001b[0m\u001b[0;34m\"Not enough credit\"\u001b[0m\u001b[0;34m)\u001b[0m\u001b[0;34m\u001b[0m\u001b[0;34m\u001b[0m\u001b[0m\n\u001b[0m\u001b[1;32m     20\u001b[0m     \u001b[0;32melif\u001b[0m \u001b[0mamount\u001b[0m\u001b[0;34m>\u001b[0m\u001b[0mself\u001b[0m\u001b[0;34m.\u001b[0m\u001b[0mbalance\u001b[0m\u001b[0;34m:\u001b[0m\u001b[0;34m\u001b[0m\u001b[0;34m\u001b[0m\u001b[0m\n\u001b[1;32m     21\u001b[0m       \u001b[0mself\u001b[0m\u001b[0;34m.\u001b[0m\u001b[0mbalance\u001b[0m\u001b[0;34m-=\u001b[0m\u001b[0mamount\u001b[0m\u001b[0;34m\u001b[0m\u001b[0;34m\u001b[0m\u001b[0m\n",
            "\u001b[0;31mValueError\u001b[0m: Not enough credit"
          ]
        }
      ],
      "source": [
        "# Write a class Account that stores the current balance, interest rate and account number of a bank account.\n",
        "# Your class should provide methods to withdraw, deposit and add interest to the account.\n",
        "# The user should only be allowed to withdraw money up to some overdraft limit. If an account goes overdrawn, there is fee charged.\n",
        "class Account:\n",
        "  interest=0.05\n",
        "  overdraft_limit=300\n",
        "  overdraft_fee=50\n",
        "  def __init__(self,number):\n",
        "    self.number=number\n",
        "    self.balance=0\n",
        "  def deposit(self,amount):\n",
        "    if amount<0:\n",
        "      raise ValueError(\"Can't deposit negative values\")\n",
        "    self.balance+=amount\n",
        "  def withdraw(self,amount):\n",
        "    if amount<0:\n",
        "      raise ValueError(\"Can't withdraw negative numbers\")\n",
        "    elif amount>(self.balance+Account.overdraft_limit):\n",
        "      raise ValueError(\"Not enough credit\")\n",
        "    elif amount>self.balance:\n",
        "      self.balance-=amount\n",
        "      self.balance-=Account.overdraft_fee\n",
        "    else:\n",
        "      self.balance-=amount\n",
        "  def __str__(self):\n",
        "    sep='--------------'\n",
        "    s=\"\\nAccount\\n\"+sep+'\\n'\n",
        "    s+=\"\\nAccount Number:\"+str(self.number)+\"\\n\"\n",
        "    s+=\"\\nBalance:\"+str(self.balance)+\"\\n\"\n",
        "    s+=\"\\nOverdraft limit:\"+str(Account.overdraft_limit)+\"\\n\"\n",
        "    s+=\"\\nOverdraft fee:\"+str(Account.overdraft_fee)+\"\\n\"\n",
        "    return s\n",
        "\n",
        "acc = Account(\"123456789\")\n",
        "\n",
        "print(acc.deposit(300))  # Deposit $300\n",
        "print(acc.withdraw(700))  # Try to withdraw $700 (exceeds overdraft limit)\n",
        "print(acc)\n"
      ]
    },
    {
      "cell_type": "code",
      "execution_count": null,
      "metadata": {
        "colab": {
          "base_uri": "https://localhost:8080/"
        },
        "id": "vqiD93m1LZ_n",
        "outputId": "0deb6728-8663-4887-d197-43430c2d26c3"
      },
      "outputs": [
        {
          "name": "stdout",
          "output_type": "stream",
          "text": [
            "\n",
            "Account\n",
            "--------------\n",
            "\n",
            "Account Number:84370\n",
            "\n",
            "Balance:100\n",
            "\n",
            "Overdraft limit:300\n",
            "\n",
            "Overdraft fee:50\n",
            "\n"
          ]
        }
      ],
      "source": [
        "acc1=Account(\"84370\")\n",
        "acc1.deposit(400)\n",
        "acc1.withdraw(300)\n",
        "print(acc1)"
      ]
    },
    {
      "cell_type": "code",
      "execution_count": null,
      "metadata": {
        "colab": {
          "base_uri": "https://localhost:8080/"
        },
        "id": "OEDHJrFjNIGG",
        "outputId": "901a988d-b4e4-440c-f9ba-7ff89a80bffc"
      },
      "outputs": [
        {
          "name": "stdout",
          "output_type": "stream",
          "text": [
            "\n",
            "Account\n",
            "--------------\n",
            "\n",
            "Account Number:88235\n",
            "\n",
            "Balance:-150\n",
            "\n",
            "Overdraft limit:300\n",
            "\n",
            "Overdraft fee:50\n",
            "\n"
          ]
        }
      ],
      "source": [
        "acc2=Account(\"88235\")\n",
        "acc2.deposit(400)\n",
        "acc2.withdraw(500)\n",
        "print(acc2)"
      ]
    },
    {
      "cell_type": "code",
      "execution_count": null,
      "metadata": {
        "colab": {
          "base_uri": "https://localhost:8080/",
          "height": 366
        },
        "id": "bjsWrHkYNxHR",
        "outputId": "4a328e3c-0e43-4067-947b-5189779f7c1b"
      },
      "outputs": [
        {
          "name": "stdout",
          "output_type": "stream",
          "text": [
            "None\n"
          ]
        },
        {
          "ename": "ValueError",
          "evalue": "ignored",
          "output_type": "error",
          "traceback": [
            "\u001b[0;31m---------------------------------------------------------------------------\u001b[0m",
            "\u001b[0;31mValueError\u001b[0m                                Traceback (most recent call last)",
            "\u001b[0;32m<ipython-input-13-ca8290a54687>\u001b[0m in \u001b[0;36m<cell line: 33>\u001b[0;34m()\u001b[0m\n\u001b[1;32m     31\u001b[0m \u001b[0;34m\u001b[0m\u001b[0m\n\u001b[1;32m     32\u001b[0m \u001b[0mprint\u001b[0m\u001b[0;34m(\u001b[0m\u001b[0macc\u001b[0m\u001b[0;34m.\u001b[0m\u001b[0mdeposit\u001b[0m\u001b[0;34m(\u001b[0m\u001b[0;36m300\u001b[0m\u001b[0;34m)\u001b[0m\u001b[0;34m)\u001b[0m  \u001b[0;31m# Deposit $300\u001b[0m\u001b[0;34m\u001b[0m\u001b[0;34m\u001b[0m\u001b[0m\n\u001b[0;32m---> 33\u001b[0;31m \u001b[0mprint\u001b[0m\u001b[0;34m(\u001b[0m\u001b[0macc\u001b[0m\u001b[0;34m.\u001b[0m\u001b[0mwithdraw\u001b[0m\u001b[0;34m(\u001b[0m\u001b[0;36m700\u001b[0m\u001b[0;34m)\u001b[0m\u001b[0;34m)\u001b[0m  \u001b[0;31m# Try to withdraw $700 (exceeds overdraft limit)\u001b[0m\u001b[0;34m\u001b[0m\u001b[0;34m\u001b[0m\u001b[0m\n\u001b[0m\u001b[1;32m     34\u001b[0m \u001b[0mprint\u001b[0m\u001b[0;34m(\u001b[0m\u001b[0macc\u001b[0m\u001b[0;34m)\u001b[0m\u001b[0;34m\u001b[0m\u001b[0;34m\u001b[0m\u001b[0m\n",
            "\u001b[0;32m<ipython-input-13-ca8290a54687>\u001b[0m in \u001b[0;36mwithdraw\u001b[0;34m(self, amount)\u001b[0m\n\u001b[1;32m     14\u001b[0m       \u001b[0;32mraise\u001b[0m \u001b[0mValueError\u001b[0m\u001b[0;34m(\u001b[0m\u001b[0;34m\"Can't withdraw negative numbers\"\u001b[0m\u001b[0;34m)\u001b[0m\u001b[0;34m\u001b[0m\u001b[0;34m\u001b[0m\u001b[0m\n\u001b[1;32m     15\u001b[0m     \u001b[0;32melif\u001b[0m \u001b[0mamount\u001b[0m\u001b[0;34m>\u001b[0m\u001b[0;34m(\u001b[0m\u001b[0mself\u001b[0m\u001b[0;34m.\u001b[0m\u001b[0mbalance\u001b[0m\u001b[0;34m+\u001b[0m\u001b[0mAccount1\u001b[0m\u001b[0;34m.\u001b[0m\u001b[0moverdraft_limit\u001b[0m\u001b[0;34m)\u001b[0m\u001b[0;34m:\u001b[0m\u001b[0;34m\u001b[0m\u001b[0;34m\u001b[0m\u001b[0m\n\u001b[0;32m---> 16\u001b[0;31m       \u001b[0;32mraise\u001b[0m \u001b[0mValueError\u001b[0m\u001b[0;34m(\u001b[0m\u001b[0;34m\"Not enough credit\"\u001b[0m\u001b[0;34m)\u001b[0m\u001b[0;34m\u001b[0m\u001b[0;34m\u001b[0m\u001b[0m\n\u001b[0m\u001b[1;32m     17\u001b[0m     \u001b[0;32melif\u001b[0m \u001b[0mamount\u001b[0m\u001b[0;34m>\u001b[0m\u001b[0mself\u001b[0m\u001b[0;34m.\u001b[0m\u001b[0mbalance\u001b[0m\u001b[0;34m:\u001b[0m\u001b[0;34m\u001b[0m\u001b[0;34m\u001b[0m\u001b[0m\n\u001b[1;32m     18\u001b[0m       \u001b[0mself\u001b[0m\u001b[0;34m.\u001b[0m\u001b[0mbalance\u001b[0m\u001b[0;34m-=\u001b[0m\u001b[0mamount\u001b[0m\u001b[0;34m\u001b[0m\u001b[0;34m\u001b[0m\u001b[0m\n",
            "\u001b[0;31mValueError\u001b[0m: Not enough credit"
          ]
        }
      ],
      "source": [
        "class Account1:\n",
        "  interest=0.5\n",
        "  overdraft_limit=300\n",
        "  overdraft_fee=50\n",
        "  def __init__(self,number):\n",
        "    self.account_number=number\n",
        "    self.balance=0\n",
        "  def deposit(self,amount):\n",
        "    if amount<0:\n",
        "      raise ValueError(\"Cn't deposit negative numbers\")\n",
        "    self.balance+=amount\n",
        "  def withdraw(self,amount):\n",
        "    if amount<0:\n",
        "      raise ValueError(\"Can't withdraw negative numbers\")\n",
        "    elif amount>(self.balance+Account1.overdraft_limit):\n",
        "      raise ValueError(\"Not enough credit\")\n",
        "    elif amount>self.balance:\n",
        "      self.balance-=amount\n",
        "      self.balance-=Account1.overdraft_fee\n",
        "    else:\n",
        "      self.balance-=amount\n",
        "  def __str__(self):\n",
        "    sep=\"-------------\"\n",
        "    s=\"\\nAccount\\n \"+sep+\"\\n\"\n",
        "    s+=\"\\nAccount number: \"+str(self.account_number)+\"\\n\"\n",
        "    s+=\"\\nOverdraft limit: \"+str(Account1.overdraft_limit)+\"\\n\"\n",
        "    s+=\"\\nOverdraft fee: \"+str(Account1.overdraft_fee)+\"\\n\"\n",
        "    s+=\"\\nBalance: \"+str(self.balance)+\"\\n\"\n",
        "    return s\n",
        "acc = Account1(\"123456789\")\n",
        "\n",
        "print(acc.deposit(300))  # Deposit $300\n",
        "print(acc.withdraw(700))  # Try to withdraw $700 (exceeds overdraft limit)\n",
        "print(acc)\n"
      ]
    },
    {
      "cell_type": "code",
      "execution_count": null,
      "metadata": {
        "colab": {
          "base_uri": "https://localhost:8080/"
        },
        "id": "zSsfhU8IU0EN",
        "outputId": "b0c01de3-6145-4742-ba0e-3a1fd5d390eb"
      },
      "outputs": [
        {
          "name": "stdout",
          "output_type": "stream",
          "text": [
            "\n",
            "Account\n",
            " -------------\n",
            "\n",
            "Account number: 84370\n",
            "\n",
            "Overdraft limit: 300\n",
            "\n",
            "Overdraft fee: 50\n",
            "\n",
            "Balance: 100\n",
            "\n"
          ]
        }
      ],
      "source": [
        "acc1=Account1(\"84370\")\n",
        "acc1.deposit(400)\n",
        "acc1.withdraw(300)\n",
        "print(acc1)"
      ]
    },
    {
      "cell_type": "code",
      "execution_count": null,
      "metadata": {
        "colab": {
          "base_uri": "https://localhost:8080/"
        },
        "id": "QI5Y2CW-U9n8",
        "outputId": "2b02ff79-5fb7-46d6-cb74-94b1062fc8be"
      },
      "outputs": [
        {
          "name": "stdout",
          "output_type": "stream",
          "text": [
            "\n",
            "Account\n",
            " -------------\n",
            "\n",
            "Account number: 88235\n",
            "\n",
            "Overdraft limit: 300\n",
            "\n",
            "Overdraft fee: 50\n",
            "\n",
            "Balance: -150\n",
            "\n"
          ]
        }
      ],
      "source": [
        "acc2=Account1(\"88235\")\n",
        "acc2.deposit(400)\n",
        "acc2.withdraw(500)\n",
        "print(acc2)"
      ]
    },
    {
      "cell_type": "code",
      "execution_count": null,
      "metadata": {
        "colab": {
          "base_uri": "https://localhost:8080/"
        },
        "id": "eQiv4x1qVUIz",
        "outputId": "222f4c4d-dba0-4d50-e4c8-b6edbce173df"
      },
      "outputs": [
        {
          "name": "stdout",
          "output_type": "stream",
          "text": [
            "Account \n",
            "---------------\n",
            "Account number: 9933\n",
            "Account Balance: 100\n",
            "Overdraft fee: 50\n",
            "Overdraft limit: 300\n",
            "\n"
          ]
        }
      ],
      "source": [
        "#this is how we make account in another way\n",
        "class account1:\n",
        "  def __init__(self,number,account=0,fee=50,limit=300):\n",
        "    self.account_number=number\n",
        "    self.balance=account\n",
        "    self.overdraft_fee=fee\n",
        "    self.overdraft_limit=limit\n",
        "  def deposit(self,amount):\n",
        "    if amount<0:\n",
        "      raise ValueError(\"Not valid value\")\n",
        "    self.balance+=amount\n",
        "  def withdraw(self,amount):\n",
        "    if amount<0:\n",
        "      raise ValueError(\"Not valid value\")\n",
        "    elif amount>(self.balance+self.overdraft_limit):\n",
        "      raise ValueError(\"Not enough credit\")\n",
        "    elif amount>self.balance:\n",
        "      self.balance-=amount\n",
        "      self.balance-=self.overdraft_fee\n",
        "    else:\n",
        "      self.balance-=amount\n",
        "  def __str__(self):\n",
        "    stem=\"---------------\"\n",
        "    s=\"Account \\n\"+stem+\"\\n\"\n",
        "    s+=\"Account number: \"+str(self.account_number)+\"\\n\"\n",
        "    s+=\"Account Balance: \"+str(self.balance)+\"\\n\"\n",
        "    s+=\"Overdraft fee: \"+str(self.overdraft_fee)+\"\\n\"\n",
        "    s+=\"Overdraft limit: \"+str(self.overdraft_limit)+\"\\n\"\n",
        "    return s\n",
        "c11=account1(\"9933\")\n",
        "c11.deposit(500)\n",
        "c11.withdraw(400)\n",
        "print(c11)"
      ]
    },
    {
      "cell_type": "code",
      "execution_count": null,
      "metadata": {
        "colab": {
          "base_uri": "https://localhost:8080/",
          "height": 349
        },
        "id": "DLbFTdxYt_H8",
        "outputId": "c1655206-4bb5-42d5-bd91-de63bff819d5"
      },
      "outputs": [
        {
          "ename": "ValueError",
          "evalue": "ignored",
          "output_type": "error",
          "traceback": [
            "\u001b[0;31m---------------------------------------------------------------------------\u001b[0m",
            "\u001b[0;31mValueError\u001b[0m                                Traceback (most recent call last)",
            "\u001b[0;32m<ipython-input-5-c909d09d170d>\u001b[0m in \u001b[0;36m<cell line: 3>\u001b[0;34m()\u001b[0m\n\u001b[1;32m      1\u001b[0m \u001b[0mc12\u001b[0m\u001b[0;34m=\u001b[0m\u001b[0maccount1\u001b[0m\u001b[0;34m(\u001b[0m\u001b[0;34m\"99033\"\u001b[0m\u001b[0;34m)\u001b[0m\u001b[0;34m\u001b[0m\u001b[0;34m\u001b[0m\u001b[0m\n\u001b[1;32m      2\u001b[0m \u001b[0mc12\u001b[0m\u001b[0;34m.\u001b[0m\u001b[0mdeposit\u001b[0m\u001b[0;34m(\u001b[0m\u001b[0;36m1000\u001b[0m\u001b[0;34m)\u001b[0m\u001b[0;34m\u001b[0m\u001b[0;34m\u001b[0m\u001b[0m\n\u001b[0;32m----> 3\u001b[0;31m \u001b[0mc12\u001b[0m\u001b[0;34m.\u001b[0m\u001b[0mwithdraw\u001b[0m\u001b[0;34m(\u001b[0m\u001b[0;36m1500\u001b[0m\u001b[0;34m)\u001b[0m\u001b[0;34m\u001b[0m\u001b[0;34m\u001b[0m\u001b[0m\n\u001b[0m\u001b[1;32m      4\u001b[0m \u001b[0mprint\u001b[0m\u001b[0;34m(\u001b[0m\u001b[0mc12\u001b[0m\u001b[0;34m)\u001b[0m\u001b[0;34m\u001b[0m\u001b[0;34m\u001b[0m\u001b[0m\n",
            "\u001b[0;32m<ipython-input-4-6c60b6d1bf19>\u001b[0m in \u001b[0;36mwithdraw\u001b[0;34m(self, amount)\u001b[0m\n\u001b[1;32m     14\u001b[0m       \u001b[0;32mraise\u001b[0m \u001b[0mValueError\u001b[0m\u001b[0;34m(\u001b[0m\u001b[0;34m\"Not valid value\"\u001b[0m\u001b[0;34m)\u001b[0m\u001b[0;34m\u001b[0m\u001b[0;34m\u001b[0m\u001b[0m\n\u001b[1;32m     15\u001b[0m     \u001b[0;32melif\u001b[0m \u001b[0mamount\u001b[0m\u001b[0;34m>\u001b[0m\u001b[0;34m(\u001b[0m\u001b[0mself\u001b[0m\u001b[0;34m.\u001b[0m\u001b[0mbalance\u001b[0m\u001b[0;34m+\u001b[0m\u001b[0mself\u001b[0m\u001b[0;34m.\u001b[0m\u001b[0moverdraft_limit\u001b[0m\u001b[0;34m)\u001b[0m\u001b[0;34m:\u001b[0m\u001b[0;34m\u001b[0m\u001b[0;34m\u001b[0m\u001b[0m\n\u001b[0;32m---> 16\u001b[0;31m       \u001b[0;32mraise\u001b[0m \u001b[0mValueError\u001b[0m\u001b[0;34m(\u001b[0m\u001b[0;34m\"Not enough credit\"\u001b[0m\u001b[0;34m)\u001b[0m\u001b[0;34m\u001b[0m\u001b[0;34m\u001b[0m\u001b[0m\n\u001b[0m\u001b[1;32m     17\u001b[0m     \u001b[0;32melif\u001b[0m \u001b[0mamount\u001b[0m\u001b[0;34m>\u001b[0m\u001b[0mself\u001b[0m\u001b[0;34m.\u001b[0m\u001b[0mbalance\u001b[0m\u001b[0;34m:\u001b[0m\u001b[0;34m\u001b[0m\u001b[0;34m\u001b[0m\u001b[0m\n\u001b[1;32m     18\u001b[0m       \u001b[0mself\u001b[0m\u001b[0;34m.\u001b[0m\u001b[0mbalance\u001b[0m\u001b[0;34m-=\u001b[0m\u001b[0mamount\u001b[0m\u001b[0;34m\u001b[0m\u001b[0;34m\u001b[0m\u001b[0m\n",
            "\u001b[0;31mValueError\u001b[0m: Not enough credit"
          ]
        }
      ],
      "source": [
        "c12=account1(\"99033\")\n",
        "c12.deposit(1000)\n",
        "c12.withdraw(1500)\n",
        "print(c12)"
      ]
    },
    {
      "cell_type": "code",
      "execution_count": null,
      "metadata": {
        "colab": {
          "base_uri": "https://localhost:8080/"
        },
        "id": "huaMJSJWvy0Q",
        "outputId": "544857e0-2946-4cc6-c2af-f9fce5904698"
      },
      "outputs": [
        {
          "name": "stdout",
          "output_type": "stream",
          "text": [
            "Account \n",
            "---------------\n",
            "Account number: mahendra\n",
            "Account Balance: -150\n",
            "Overdraft fee: 50\n",
            "Overdraft limit: 300\n",
            "\n"
          ]
        }
      ],
      "source": [
        "c14=account1(\"mahendra\")\n",
        "c14.deposit(1000)\n",
        "c14.withdraw(1100)\n",
        "print(c14)"
      ]
    },
    {
      "cell_type": "code",
      "execution_count": null,
      "metadata": {
        "id": "aIHCBbm-XxCZ"
      },
      "outputs": [],
      "source": [
        "#Interpreted language directly executes the source code by interpreting it line by line whereas compiled language converts the entire source code into machine code before\n",
        "#execution. In compiled language like C,C++, the source code is converted into machine code before execution.\n",
        "#Source-code refers to human-readable instructions within a programming language like python, c++."
      ]
    },
    {
      "cell_type": "code",
      "execution_count": null,
      "metadata": {
        "id": "jaLv4pBg9PdT"
      },
      "outputs": [],
      "source": [
        "#Runtime starts from the moment a program starts executing or starts running. Dynamic typing in python is used to refer to the ability of python interpreter to automatically deduce the\n",
        "#type of variable during the runtime. It means you don nee dto explicitly declare the type of variables. Python interpreter deduces the type of the variable on its own using the value\n",
        "#initialized to the variable."
      ]
    },
    {
      "cell_type": "code",
      "execution_count": null,
      "metadata": {
        "colab": {
          "base_uri": "https://localhost:8080/"
        },
        "id": "l-iCeDzBKP8B",
        "outputId": "2f8d7c7b-870a-448e-b548-f9b858f74a35"
      },
      "outputs": [
        {
          "name": "stdout",
          "output_type": "stream",
          "text": [
            "Bhow! Bhow\n"
          ]
        }
      ],
      "source": [
        "#In dynamically bound languages like the python, the determination of which method or function to be called during the runtime is based on the type of the object.\n",
        "class animal:\n",
        "  def sound(self):\n",
        "    print(\"Make sound\")\n",
        "class Dog(animal):\n",
        "  def sound(self):#The side method of Dog and Cat class over-rides the sound method of Animal object\n",
        "    print(\"Bhow! Bhow\")\n",
        "class Cat(animal):\n",
        "  def sound(self):\n",
        "    print(\"Myau Myau\")\n",
        "def make_sound(animal):\n",
        "  animal.sound()#The sound method is dynamically bound to the type of object\n",
        "dog=Dog()\n",
        "cat=Cat()\n",
        "make_sound(dog)"
      ]
    },
    {
      "cell_type": "code",
      "execution_count": null,
      "metadata": {
        "colab": {
          "base_uri": "https://localhost:8080/"
        },
        "id": "ekJZZDOlSSiy",
        "outputId": "54bca677-8927-40b1-da07-edc81f449a52"
      },
      "outputs": [
        {
          "name": "stdout",
          "output_type": "stream",
          "text": [
            "Myau Myau\n"
          ]
        }
      ],
      "source": [
        "make_sound(cat)"
      ]
    },
    {
      "cell_type": "code",
      "execution_count": null,
      "metadata": {
        "id": "IL1Ufr-sThcO"
      },
      "outputs": [],
      "source": [
        "#When dynamic binding is not present then static binding will ensure that the method to be called is determined and fixed during the compile time and not during the run time\n",
        "#for example\n",
        "#class shape(self):\n",
        "#   def draw(self):\n",
        "#       pass\n",
        "#class circle(shape):\n",
        "#    def draw(self):\n",
        "#        print(\"Draw a circle\")\n",
        "#class square(shape):\n",
        "#     def draw(self):\n",
        "#         print(\"Draw a square\")\n",
        "#def make_dia(shape):\n",
        "#     shape.draw()\n",
        "#c=circle()\n",
        "#s=square()\n",
        "#make_dia(c)\n",
        "#make_dia(s)\n",
        "#here the behaviour is fixed during the declared type during compile time, static binding chooses method to be called based on declared type during the compile time. Hence even\n",
        "#when you pass in square, the draw method of the circle class will be called because that is the type declared during the compile time."
      ]
    },
    {
      "cell_type": "code",
      "execution_count": null,
      "metadata": {
        "id": "H6_UbYmXDU5-"
      },
      "outputs": [],
      "source": [
        "#Advantages of python are:\n",
        "#It has easy to learn syntax and secondly it has characteristics like dynamic typic and dynamic binding."
      ]
    },
    {
      "cell_type": "code",
      "execution_count": null,
      "metadata": {
        "id": "_asLj0zhEE-p"
      },
      "outputs": [],
      "source": [
        "#Typing refers to type_checking in programming language. In a strongly typed programming language \"1\"+2 would result in a type error as implicit type conversion wont be allowed(like in python)\n",
        "#whereas in a weakly typed programming language \"1\"+2 would result in \"12\"\n",
        "#In a static typed language, the type-checking is done before execution whereas in dynamic typed language the type-checking is done during the execution and is determined by the value\n",
        "#initialized to a variable."
      ]
    },
    {
      "cell_type": "code",
      "execution_count": null,
      "metadata": {
        "id": "ul2vF2wpUR7E"
      },
      "outputs": [],
      "source": [
        "#Interpreted language\n",
        "#In an interpreted language there is no intermediary compilation step involved, the source code is executed directly line by line(which makes dynamic typing and dynamic binding possible)\n",
        "#Examples are R,PHP,Python,Javascript, Ruby"
      ]
    },
    {
      "cell_type": "code",
      "execution_count": null,
      "metadata": {
        "id": "_2NejPDaWgUw"
      },
      "outputs": [],
      "source": [
        "#PEP(Python enhancement proposal)\n",
        "#In order to contribute to the python open source community, you need to follow the guidelines set by python enhancement proposal."
      ]
    },
    {
      "cell_type": "code",
      "execution_count": null,
      "metadata": {
        "id": "EBtLisCNoI0x"
      },
      "outputs": [],
      "source": [
        "#A scope refers to the block of code where an object in python can be accessed. A namespace constitutes all objects and the variable referencing to them"
      ]
    },
    {
      "cell_type": "code",
      "execution_count": null,
      "metadata": {
        "colab": {
          "base_uri": "https://localhost:8080/"
        },
        "id": "eQhLwpfIxka7",
        "outputId": "a8046b3f-4610-4149-e28c-3a8df0ae90d4"
      },
      "outputs": [
        {
          "name": "stdout",
          "output_type": "stream",
          "text": [
            "chalo\n"
          ]
        }
      ],
      "source": [
        "#ternary operator in python\n",
        "#[on true] if [expression] else [on false]\n",
        "a,b=10,12\n",
        "print(\"Hello\") if a>b else print(\"chalo\")"
      ]
    },
    {
      "cell_type": "code",
      "execution_count": null,
      "metadata": {
        "colab": {
          "base_uri": "https://localhost:8080/"
        },
        "id": "8D5s5H6TzNQn",
        "outputId": "d281454c-4f1b-4b00-a9e5-f8073096cdac"
      },
      "outputs": [
        {
          "name": "stdout",
          "output_type": "stream",
          "text": [
            "When\n"
          ]
        }
      ],
      "source": [
        "a,b=14,12\n",
        "print(\"When\") if a>b else print(\"Then\")"
      ]
    },
    {
      "cell_type": "code",
      "execution_count": null,
      "metadata": {
        "id": "e4PrxgizzWzM"
      },
      "outputs": [],
      "source": [
        "#isdigit() returns True if all the characters in the strings are digits from 0 to 9. It does not consider numeric characters from other languages\n",
        "#or roman numerals.\n",
        "#isnumeric() returns True if all the characters in the strings are numeric from any language. It does consider roman numerals and numerics from other\n",
        "#languages."
      ]
    },
    {
      "cell_type": "code",
      "execution_count": null,
      "metadata": {
        "id": "vdbJG5jlq4gL"
      },
      "outputs": [],
      "source": [
        "#isalnum() checks if the string consists of alphanumerics, isalpha() checks if the string consists of alphabets."
      ]
    },
    {
      "cell_type": "code",
      "execution_count": null,
      "metadata": {
        "colab": {
          "base_uri": "https://localhost:8080/"
        },
        "id": "c6JTjDmKupg2",
        "outputId": "38b5f39e-a55d-46e6-8518-cd93e8117c78"
      },
      "outputs": [
        {
          "name": "stdout",
          "output_type": "stream",
          "text": [
            "True\n",
            "True\n",
            "False\n",
            "False\n"
          ]
        }
      ],
      "source": [
        "a=\"mahendra\"\n",
        "print(a.isalpha())\n",
        "print(a.isalnum())\n",
        "print(a.isdigit())\n",
        "print(a.isnumeric())\n",
        "#in case of isalnum(), even if the string consists of only alphabets it will still hold True and even if the string consists of only numerics it will still\n",
        "#hold True."
      ]
    },
    {
      "cell_type": "code",
      "execution_count": null,
      "metadata": {
        "colab": {
          "base_uri": "https://localhost:8080/"
        },
        "id": "0_szcGiqviFr",
        "outputId": "2293149b-1491-4d28-96de-430ca55acd06"
      },
      "outputs": [
        {
          "name": "stdout",
          "output_type": "stream",
          "text": [
            "False\n",
            "True\n",
            "False\n",
            "False\n"
          ]
        }
      ],
      "source": [
        "a=\"mahendra1\"\n",
        "print(a.isalpha())\n",
        "print(a.isalnum())\n",
        "print(a.isdigit())\n",
        "print(a.isnumeric())\n",
        "#isalpha() holds True only if all the characters in string are strings, in this case one of the characters is digit hence we get the error"
      ]
    },
    {
      "cell_type": "code",
      "execution_count": null,
      "metadata": {
        "colab": {
          "base_uri": "https://localhost:8080/"
        },
        "id": "5Gd9lqTQyTt6",
        "outputId": "3c653e3c-3296-4e43-c573-2fded8c8ff33"
      },
      "outputs": [
        {
          "name": "stdout",
          "output_type": "stream",
          "text": [
            "True\n",
            "False\n",
            "True\n",
            "True\n"
          ]
        }
      ],
      "source": [
        "print('123²'.isnumeric())\n",
        "print('123²'.isalpha())\n",
        "print('123²'.isalnum())\n",
        "print('123²'.isdigit())\n",
        "#isnumeric() returns True for all numeric values even if those numeric values belong to other languages or are subscripts or roman numerals"
      ]
    },
    {
      "cell_type": "code",
      "execution_count": null,
      "metadata": {
        "colab": {
          "base_uri": "https://localhost:8080/"
        },
        "id": "eSE4-cKk0JhN",
        "outputId": "0c2d6301-b790-4ed8-bab1-93c8822b45ac"
      },
      "outputs": [
        {
          "name": "stdout",
          "output_type": "stream",
          "text": [
            "False\n",
            "True\n"
          ]
        }
      ],
      "source": [
        "print('ⅠⅢⅧ'.isdigit())\n",
        "print('ⅠⅢⅧ'.isnumeric())\n",
        "#isdigit() returns True for all the numeric values between 0 to 9 but it doesnot return True for numerics belonging to other languages\n",
        "#isnumerics on the other hand returns True for numerics of all languages, Roman numerals, Arabic numerals, Indic numerals."
      ]
    },
    {
      "cell_type": "code",
      "execution_count": null,
      "metadata": {
        "colab": {
          "base_uri": "https://localhost:8080/"
        },
        "id": "m5tirMvI014X",
        "outputId": "046a3c35-6426-44f1-e72f-88b26adb8f05"
      },
      "outputs": [
        {
          "name": "stdout",
          "output_type": "stream",
          "text": [
            "b\n"
          ]
        }
      ],
      "source": [
        "s=\"abcdef\"\n",
        "n=\"123456\"\n",
        "print(chr(ord('a')+1))"
      ]
    },
    {
      "cell_type": "code",
      "execution_count": null,
      "metadata": {
        "colab": {
          "base_uri": "https://localhost:8080/"
        },
        "id": "_38WLZjMQ6UY",
        "outputId": "b898d2a1-361e-4364-8ddd-8a6158d5922a"
      },
      "outputs": [
        {
          "data": {
            "text/plain": [
              "97"
            ]
          },
          "execution_count": 2,
          "metadata": {},
          "output_type": "execute_result"
        }
      ],
      "source": [
        "ord('a')"
      ]
    },
    {
      "cell_type": "code",
      "execution_count": null,
      "metadata": {
        "colab": {
          "base_uri": "https://localhost:8080/"
        },
        "id": "dKMbiT8FSZD7",
        "outputId": "da0d4ef5-7b8b-4e69-9c37-f64f94ec9b2e"
      },
      "outputs": [
        {
          "name": "stdout",
          "output_type": "stream",
          "text": [
            "bdfhjl\n"
          ]
        }
      ],
      "source": [
        "s=\"abcdef\"\n",
        "n=\"123456\"\n",
        "s1=\"\"\n",
        "for i in range(len(s)):\n",
        "  s1+=chr(ord(s[i])+int(n[i]))\n",
        "print(s1)\n"
      ]
    },
    {
      "cell_type": "code",
      "execution_count": null,
      "metadata": {
        "colab": {
          "base_uri": "https://localhost:8080/"
        },
        "id": "WeF4oiYCUKe8",
        "outputId": "0485c4c8-ad40-4697-d16b-40c585d764f3"
      },
      "outputs": [
        {
          "name": "stdout",
          "output_type": "stream",
          "text": [
            "a 1\n",
            "b 2\n",
            "c 3\n",
            "d 4\n",
            "e 5\n",
            "f 6\n"
          ]
        }
      ],
      "source": [
        "#Another way of doing the above is\n",
        "s=\"abcdef\"\n",
        "n=\"123456\"\n",
        "for i,z in zip(s,n):\n",
        "  print(i,z)"
      ]
    },
    {
      "cell_type": "code",
      "execution_count": null,
      "metadata": {
        "colab": {
          "base_uri": "https://localhost:8080/"
        },
        "id": "5GlfegZXUaxH",
        "outputId": "246c59dd-ff25-4966-80d5-a00167c3d730"
      },
      "outputs": [
        {
          "name": "stdout",
          "output_type": "stream",
          "text": [
            "('a', '1')\n",
            "('b', '2')\n",
            "('c', '3')\n",
            "('d', '4')\n",
            "('e', '5')\n",
            "('f', '6')\n"
          ]
        }
      ],
      "source": [
        "for k in zip(s,n):\n",
        "  print(k)"
      ]
    },
    {
      "cell_type": "code",
      "execution_count": null,
      "metadata": {
        "colab": {
          "base_uri": "https://localhost:8080/"
        },
        "id": "2WpCxJIRUjhw",
        "outputId": "9f41ecc2-1e35-4cb0-dc39-0c20b370a6f6"
      },
      "outputs": [
        {
          "name": "stdout",
          "output_type": "stream",
          "text": [
            "[('a', '1'), ('b', '2'), ('c', '3'), ('d', '4'), ('e', '5'), ('f', '6')]\n"
          ]
        }
      ],
      "source": [
        "l1=zip(s,n)\n",
        "print(list(l1))"
      ]
    },
    {
      "cell_type": "code",
      "execution_count": null,
      "metadata": {
        "colab": {
          "base_uri": "https://localhost:8080/"
        },
        "id": "lqKI80exUuGe",
        "outputId": "70a0476d-6093-446b-d7e2-c803e8cdb60f"
      },
      "outputs": [
        {
          "name": "stdout",
          "output_type": "stream",
          "text": [
            "4\n"
          ]
        }
      ],
      "source": [
        "print(s.find('e')) #It outputs the index at which 'e' has been found"
      ]
    },
    {
      "cell_type": "code",
      "execution_count": null,
      "metadata": {
        "colab": {
          "base_uri": "https://localhost:8080/"
        },
        "id": "zNzwrADMWZZM",
        "outputId": "1413f9cc-0e9e-49c7-bbe2-28645dbd29aa"
      },
      "outputs": [
        {
          "name": "stdout",
          "output_type": "stream",
          "text": [
            "campusx\n"
          ]
        }
      ],
      "source": [
        "#If we have to circularly traverse across a string then we have to use the modulus operator(%)\n",
        "S='zwhjnko'\n",
        "N='3456789'\n",
        "alphabet='abcdefghijklmnopqrstuvwxyz'\n",
        "code=''\n",
        "for k,m in zip(S,N):\n",
        "  a=alphabet.find(k)\n",
        "  code+=alphabet[(a+int(m))%26]\n",
        "print(code)"
      ]
    },
    {
      "cell_type": "code",
      "execution_count": null,
      "metadata": {
        "colab": {
          "base_uri": "https://localhost:8080/"
        },
        "id": "vYcndODnaL7Z",
        "outputId": "77e0e574-ebd4-477e-bc17-46bdfcef617c"
      },
      "outputs": [
        {
          "name": "stdout",
          "output_type": "stream",
          "text": [
            "campusx\n"
          ]
        }
      ],
      "source": [
        "S='zwhjnko'\n",
        "N='3456789'\n",
        "alphabet='abcdefghijklmnopqrstuvwxyz'\n",
        "code1=''\n",
        "for k,m in zip(S,N):\n",
        "  a=alphabet.find(k)\n",
        "  code1+=alphabet[(a+int(m))%26]\n",
        "print(code1)"
      ]
    },
    {
      "cell_type": "code",
      "execution_count": null,
      "metadata": {
        "colab": {
          "base_uri": "https://localhost:8080/"
        },
        "id": "B0TDK9Xjd27t",
        "outputId": "d48c1139-14ac-4efa-c49c-63faad787a00"
      },
      "outputs": [
        {
          "name": "stdout",
          "output_type": "stream",
          "text": [
            "campusx\n"
          ]
        }
      ],
      "source": [
        "S='zwhjnko'\n",
        "N='3456789'\n",
        "alphabet='abcdefghijklmnopqrstuvwxyz'\n",
        "code=''\n",
        "for k,m in zip(S,N):\n",
        "  a=alphabet.find(k)\n",
        "  code+=alphabet[(a+int(m))%26]\n",
        "print(code)"
      ]
    },
    {
      "cell_type": "code",
      "execution_count": null,
      "metadata": {
        "colab": {
          "base_uri": "https://localhost:8080/",
          "height": 35
        },
        "id": "6rJ3cZMzQK10",
        "outputId": "d0e5537a-2d23-4000-8ef2-938533561ade"
      },
      "outputs": [
        {
          "data": {
            "application/vnd.google.colaboratory.intrinsic+json": {
              "type": "string"
            },
            "text/plain": [
              "'mhnrsnh'"
            ]
          },
          "execution_count": 5,
          "metadata": {},
          "output_type": "execute_result"
        }
      ],
      "source": [
        "#slicing is a technique that allows us to retrieve only a part of list, tuple or string\n",
        "#[<int>:<int>:<int>]---->The first value denotes starting index, the second value denotes ending index(last excluded), the third denotes the\n",
        "#jump value. If 2 is given then it will take a jump of 1 value.\n",
        "a1=\"mahendrasingh\"\n",
        "a1[::2]\n",
        "#here is a jump by 1, by default the value of jump is 1, if you make it negative, it will start moving from the opposite side."
      ]
    },
    {
      "cell_type": "code",
      "execution_count": null,
      "metadata": {
        "colab": {
          "base_uri": "https://localhost:8080/",
          "height": 35
        },
        "id": "HK7HE8LIc1Fq",
        "outputId": "76aa5e58-e2b0-4f95-eabf-9464ce8b86b5"
      },
      "outputs": [
        {
          "data": {
            "application/vnd.google.colaboratory.intrinsic+json": {
              "type": "string"
            },
            "text/plain": [
              "'hgnisardneham'"
            ]
          },
          "execution_count": 6,
          "metadata": {},
          "output_type": "execute_result"
        }
      ],
      "source": [
        "a1[::-1]"
      ]
    },
    {
      "cell_type": "code",
      "execution_count": null,
      "metadata": {
        "colab": {
          "base_uri": "https://localhost:8080/",
          "height": 35
        },
        "id": "Q-pY_8iXdLMX",
        "outputId": "eaf53ac8-97da-49dd-c968-d2af473739ae"
      },
      "outputs": [
        {
          "data": {
            "application/vnd.google.colaboratory.intrinsic+json": {
              "type": "string"
            },
            "text/plain": [
              "'mahendrasi'"
            ]
          },
          "execution_count": 8,
          "metadata": {},
          "output_type": "execute_result"
        }
      ],
      "source": [
        "a1[:10]#if the first value is not given, it will treat as if it starts from the start and ends at the 9th index. The 10th index is excluded."
      ]
    },
    {
      "cell_type": "code",
      "execution_count": null,
      "metadata": {
        "colab": {
          "base_uri": "https://localhost:8080/"
        },
        "id": "ItzDzBPVg92Y",
        "outputId": "cea999fb-ebdf-4f09-c58c-7fd0182cafd7"
      },
      "outputs": [
        {
          "name": "stdout",
          "output_type": "stream",
          "text": [
            "n\n",
            "hendrasingh\n"
          ]
        }
      ],
      "source": [
        "print(a1[10])\n",
        "print(a1[2:])#If the second value is not given, it will treat it as if it goes till the end, if the third value is not given then it will take\n",
        "#every character."
      ]
    },
    {
      "cell_type": "code",
      "execution_count": null,
      "metadata": {
        "colab": {
          "base_uri": "https://localhost:8080/"
        },
        "id": "UOa1_Ibehcv4",
        "outputId": "2386a4b7-4ab9-47b2-c945-3aca63770365"
      },
      "outputs": [
        {
          "name": "stdout",
          "output_type": "stream",
          "text": [
            "hgnisardneham\n"
          ]
        }
      ],
      "source": [
        "print(a1[::-1])"
      ]
    },
    {
      "cell_type": "code",
      "execution_count": null,
      "metadata": {
        "colab": {
          "base_uri": "https://localhost:8080/"
        },
        "id": "Yi259sz3lNQW",
        "outputId": "79fec62b-c473-44c8-ab9a-932dfcbdacfe"
      },
      "outputs": [
        {
          "name": "stdout",
          "output_type": "stream",
          "text": [
            "2.5\n"
          ]
        }
      ],
      "source": [
        "#In python / operator returns quotient\n",
        "print(5/2)"
      ]
    },
    {
      "cell_type": "code",
      "execution_count": null,
      "metadata": {
        "colab": {
          "base_uri": "https://localhost:8080/"
        },
        "id": "VP74OR5ClrRX",
        "outputId": "9cd5edf6-a278-42b8-a6a9-d3afae2d68ee"
      },
      "outputs": [
        {
          "name": "stdout",
          "output_type": "stream",
          "text": [
            "2\n"
          ]
        }
      ],
      "source": [
        "#// this operator on the other hand returns quotient in integer\n",
        "print(5//2)"
      ]
    },
    {
      "cell_type": "code",
      "execution_count": null,
      "metadata": {
        "colab": {
          "base_uri": "https://localhost:8080/"
        },
        "id": "1Tz0eotcmIKD",
        "outputId": "5a7770dd-e7e1-412c-81ec-36c9fc2ac099"
      },
      "outputs": [
        {
          "name": "stdout",
          "output_type": "stream",
          "text": [
            "132599682056256\n",
            "132599682056256\n"
          ]
        }
      ],
      "source": [
        "list1=[1,2,3]\n",
        "list2=[1,2,3]\n",
        "list3=list1\n",
        "print(id(list1))\n",
        "print(id(list3))\n",
        "#As we can see list3 is also passed the reference of the location of the object at which list1 is poinitng , this is what happens when you\n",
        "#equate list3 with list1, a variable actually stores the reference of object(location at which object is stored). hence when list3=list1 then the\n",
        "#reference is passed over to list3 as well"
      ]
    },
    {
      "cell_type": "code",
      "execution_count": null,
      "metadata": {
        "colab": {
          "base_uri": "https://localhost:8080/"
        },
        "id": "2N9WT91INxhL",
        "outputId": "8e7881ae-9a51-45bb-d2d1-79cbeca46593"
      },
      "outputs": [
        {
          "data": {
            "text/plain": [
              "True"
            ]
          },
          "execution_count": 1,
          "metadata": {},
          "output_type": "execute_result"
        }
      ],
      "source": [
        "\"abc123\".isalnum()"
      ]
    },
    {
      "cell_type": "code",
      "execution_count": null,
      "metadata": {
        "colab": {
          "base_uri": "https://localhost:8080/"
        },
        "id": "IT9giEoHrxtF",
        "outputId": "005d21d8-7988-4e7c-ef03-6bba4fa9d998"
      },
      "outputs": [
        {
          "data": {
            "text/plain": [
              "True"
            ]
          },
          "execution_count": 2,
          "metadata": {},
          "output_type": "execute_result"
        }
      ],
      "source": [
        "\"abc\".isalnum()"
      ]
    },
    {
      "cell_type": "code",
      "execution_count": null,
      "metadata": {
        "colab": {
          "base_uri": "https://localhost:8080/"
        },
        "id": "eE3idgRPr15J",
        "outputId": "41126184-9955-4855-c1cb-fbd75f8ee7b4"
      },
      "outputs": [
        {
          "data": {
            "text/plain": [
              "True"
            ]
          },
          "execution_count": 3,
          "metadata": {},
          "output_type": "execute_result"
        }
      ],
      "source": [
        "\"123\".isnumeric()"
      ]
    },
    {
      "cell_type": "code",
      "execution_count": null,
      "metadata": {
        "colab": {
          "base_uri": "https://localhost:8080/"
        },
        "id": "LbikP6qYtir1",
        "outputId": "e21adee1-44ad-4330-cc47-5828dd6a311b"
      },
      "outputs": [
        {
          "name": "stdout",
          "output_type": "stream",
          "text": [
            "True\n",
            "True\n"
          ]
        }
      ],
      "source": [
        "print('123²'.isnumeric())\n",
        "print('123²'.isdigit())\n"
      ]
    },
    {
      "cell_type": "code",
      "execution_count": null,
      "metadata": {
        "colab": {
          "base_uri": "https://localhost:8080/"
        },
        "id": "bfM9o-autscC",
        "outputId": "f94528b9-4fb6-43b5-c025-83f8d6112318"
      },
      "outputs": [
        {
          "name": "stdout",
          "output_type": "stream",
          "text": [
            "False\n",
            "False\n"
          ]
        }
      ],
      "source": [
        "print(\"123.15\".isnumeric())\n",
        "print(\"123.15\".isdigit())"
      ]
    },
    {
      "cell_type": "code",
      "execution_count": null,
      "metadata": {
        "colab": {
          "base_uri": "https://localhost:8080/"
        },
        "id": "sCptpHl2ubDT",
        "outputId": "cd34f9ff-d852-43db-90d3-4f9fd9e712c8"
      },
      "outputs": [
        {
          "name": "stdout",
          "output_type": "stream",
          "text": [
            "False\n",
            "True\n"
          ]
        }
      ],
      "source": [
        "print('ⅠⅢⅧ'.isdigit())\n",
        "print('ⅠⅢⅧ'.isnumeric())\n",
        "#isdigit() holds true for strings having digits, decimals, exponents of english language. isnumeric() holds True for strings containing digits\n",
        "#of any language."
      ]
    },
    {
      "cell_type": "code",
      "execution_count": null,
      "metadata": {
        "colab": {
          "base_uri": "https://localhost:8080/"
        },
        "id": "lN0Sccz8w0Fn",
        "outputId": "23619560-044e-46e4-8d38-296cf62b5ed0"
      },
      "outputs": [
        {
          "name": "stdout",
          "output_type": "stream",
          "text": [
            "bdfhjl\n"
          ]
        }
      ],
      "source": [
        "S = \"abcdef\"\n",
        "N = \"123456\"\n",
        "aq=\"abcdefghijklmnopqrstuvwxyz\"\n",
        "l=\"\"\n",
        "for k,nn in zip(S,N):\n",
        "  a1=aq.find(k)\n",
        "  l+=aq[(int(nn)+a1)%26]\n",
        "print(l)\n",
        "#This is the best solution"
      ]
    },
    {
      "cell_type": "code",
      "execution_count": null,
      "metadata": {
        "id": "dN3VK7S-0zOv"
      },
      "outputs": [],
      "source": [
        "S = \"abcdef\"\n",
        "N = \"123456\"\n",
        "\n"
      ]
    },
    {
      "cell_type": "code",
      "execution_count": null,
      "metadata": {
        "colab": {
          "base_uri": "https://localhost:8080/"
        },
        "id": "1HdJ1UlT1jrg",
        "outputId": "95db90e2-43ae-4b1e-8fd5-f9e451466360"
      },
      "outputs": [
        {
          "data": {
            "text/plain": [
              "97"
            ]
          },
          "execution_count": 10,
          "metadata": {},
          "output_type": "execute_result"
        }
      ],
      "source": [
        "ord('a')"
      ]
    },
    {
      "cell_type": "code",
      "execution_count": null,
      "metadata": {
        "colab": {
          "base_uri": "https://localhost:8080/"
        },
        "id": "kerWNxil1myu",
        "outputId": "a732cecd-d8a2-41c1-a3ae-0e9c66552739"
      },
      "outputs": [
        {
          "name": "stdout",
          "output_type": "stream",
          "text": [
            "c\n"
          ]
        }
      ],
      "source": [
        "print(chr(ord('a')+2))"
      ]
    },
    {
      "cell_type": "code",
      "execution_count": null,
      "metadata": {
        "colab": {
          "base_uri": "https://localhost:8080/"
        },
        "id": "mXXr-8gl197X",
        "outputId": "bc5215e5-d1bc-49d0-91d7-15c4f44d47a3"
      },
      "outputs": [
        {
          "name": "stdout",
          "output_type": "stream",
          "text": [
            "aao\n"
          ]
        }
      ],
      "source": [
        "s='caaomupeufsqx'\n",
        "print(s[1:4])\n",
        "#index 4 is excluded and 1 is included."
      ]
    },
    {
      "cell_type": "code",
      "execution_count": null,
      "metadata": {
        "colab": {
          "base_uri": "https://localhost:8080/"
        },
        "id": "iRhDLoSe4d4K",
        "outputId": "7f992cdc-3b49-4cb9-9cc4-cb24011bd0ab"
      },
      "outputs": [
        {
          "name": "stdout",
          "output_type": "stream",
          "text": [
            "aoue\n"
          ]
        }
      ],
      "source": [
        "s='caaomupeufsqx'\n",
        "print(s[1:8:2])\n",
        "#2 is jump index, we jump by 2 in this case over here. so 'a' is taken at first, 'o' is taken after that, 'u' is taken after that and 'e' is taken\n",
        "#at last."
      ]
    },
    {
      "cell_type": "code",
      "execution_count": null,
      "metadata": {
        "colab": {
          "base_uri": "https://localhost:8080/"
        },
        "id": "RHsKGaoS5FfC",
        "outputId": "0a23cf1b-863f-452e-8da2-bbe01d650c1c"
      },
      "outputs": [
        {
          "name": "stdout",
          "output_type": "stream",
          "text": [
            "2\n",
            "2.5\n"
          ]
        }
      ],
      "source": [
        "print(5//2)\n",
        "#5//2 returns quotient in int\n",
        "print(5/2)\n",
        "#5/2 returns quotient in float"
      ]
    },
    {
      "cell_type": "code",
      "execution_count": null,
      "metadata": {
        "colab": {
          "base_uri": "https://localhost:8080/"
        },
        "id": "jaN4F4eE6n59",
        "outputId": "f5103aef-5112-4078-81ae-8b475621a7b3"
      },
      "outputs": [
        {
          "data": {
            "text/plain": [
              "True"
            ]
          },
          "execution_count": 22,
          "metadata": {},
          "output_type": "execute_result"
        }
      ],
      "source": [
        "list1=[1,2,3]\n",
        "list2=[1,2,3]\n",
        "list3=list1\n",
        "list1==list2"
      ]
    },
    {
      "cell_type": "code",
      "execution_count": null,
      "metadata": {
        "colab": {
          "base_uri": "https://localhost:8080/"
        },
        "id": "dZIXOQze-twj",
        "outputId": "cdeddac6-a3af-41fb-8c7e-fdfe6c48c96b"
      },
      "outputs": [
        {
          "data": {
            "text/plain": [
              "True"
            ]
          },
          "execution_count": 27,
          "metadata": {},
          "output_type": "execute_result"
        }
      ],
      "source": [
        "list3 is list1\n",
        "#As you can see list3 and list1 refers to the same list object in the memory and is checks whether 2 variables refer to the same list object\n",
        "#else it returns False"
      ]
    },
    {
      "cell_type": "code",
      "execution_count": null,
      "metadata": {
        "colab": {
          "base_uri": "https://localhost:8080/"
        },
        "id": "mC4k-kE3-x2X",
        "outputId": "b0379f78-d1c1-4130-a9f2-d43b47ff4773"
      },
      "outputs": [
        {
          "data": {
            "text/plain": [
              "False"
            ]
          },
          "execution_count": 24,
          "metadata": {},
          "output_type": "execute_result"
        }
      ],
      "source": [
        "list3 is list2"
      ]
    },
    {
      "cell_type": "code",
      "execution_count": null,
      "metadata": {
        "id": "s2sRxy2w_tsa"
      },
      "outputs": [],
      "source": [
        "#Disadvantages of python\n",
        "#The execution of python takes place with the help of interpreter rather than compiler in which the source code is executed line by line.\n",
        "#Hence Python is slow.\n",
        "#Python is an excellent language for server-side.\n",
        "#Server-side language(Suppose you are using a social media page where you login your informations, the server side receives the data)\n",
        "#It checks whether username and password matches to what is stored in the database.\n",
        "#If they match, the server fetches your information, posts etc and sends them back to browser to display your profile-page.\n",
        "#This cannot be used for Mobile App development."
      ]
    },
    {
      "cell_type": "code",
      "execution_count": null,
      "metadata": {
        "id": "Ew5E04hHTaH9"
      },
      "outputs": [],
      "source": [
        "#In python, the list can contain elements of different data-types and it can change size dynamically. Python uses more memory to store additional information\n",
        "#such as references, datatype information and overhead required for storing dynamic data structures.\n",
        "#In C, arrays have a fixed size and contain elements only of a specific datatype. So unlike Python arrays in C donot consume additional overhead memory\n",
        "#for dynamic allocation and additional type information."
      ]
    },
    {
      "cell_type": "code",
      "execution_count": null,
      "metadata": {
        "colab": {
          "base_uri": "https://localhost:8080/"
        },
        "id": "vBTWTC7LIpBk",
        "outputId": "97d658f3-d69e-4048-93f4-c317afc1b5df"
      },
      "outputs": [
        {
          "name": "stdout",
          "output_type": "stream",
          "text": [
            "135522646775920\n",
            "135522646775920\n"
          ]
        }
      ],
      "source": [
        "mine=\"hello, world\"\n",
        "print(id(mine[2]))\n",
        "print(id(mine[3]))"
      ]
    },
    {
      "cell_type": "code",
      "execution_count": null,
      "metadata": {
        "colab": {
          "base_uri": "https://localhost:8080/"
        },
        "id": "k0unNhI1S78y",
        "outputId": "44e99c52-fd6a-4f97-9ba7-258a3c7bbc26"
      },
      "outputs": [
        {
          "name": "stdout",
          "output_type": "stream",
          "text": [
            "108\n",
            "0108\n",
            "00006F\n"
          ]
        }
      ],
      "source": [
        "print(ord(mine[2]))\n",
        "print(f\"{ord(mine[2]):04}\")\n",
        "print(f\"{ord(mine[4]):06X}\")"
      ]
    },
    {
      "cell_type": "code",
      "execution_count": null,
      "metadata": {
        "colab": {
          "base_uri": "https://localhost:8080/"
        },
        "id": "9ckLFq8vTfob",
        "outputId": "f6031e48-3bc8-4eeb-f107-95ef8901013c"
      },
      "outputs": [
        {
          "name": "stdout",
          "output_type": "stream",
          "text": [
            "135192255158384\n",
            "135192255158384\n"
          ]
        }
      ],
      "source": [
        "#In Python, strings are a set of characters and each character is represented internally as a set of unicode code points.\n",
        "#Each character references to a memory location where these unicode code points are stored for instance.\n",
        "min2=\"hello, world\"\n",
        "print(id(min2[2]))\n",
        "print(id(min2[3]))\n",
        "#as you can see here min2[2] and min2[3] points at the same location where unicode code point of character 'l' is stored."
      ]
    },
    {
      "cell_type": "code",
      "execution_count": null,
      "metadata": {
        "id": "XbQI-0ZyGRDM"
      },
      "outputs": [],
      "source": [
        "#The Zen of Python is a collection of 19 guiding principles for writing computer programs."
      ]
    },
    {
      "cell_type": "code",
      "execution_count": null,
      "metadata": {
        "id": "HcJVAPObQ3HH"
      },
      "outputs": [],
      "source": [
        "#The is and is not are identity operators that compare objects based on their identity, if identity is the same then True is returned else\n",
        "#False is returned. If first variable var1 and another variable var2 refers to the same object then var1 is var2 returns True , when 2 variables\n",
        "#refer to the same object then their id would be same as well, == is a equality operator and it checks if the objects to which 2 variables are\n",
        "#pointing at has the same value"
      ]
    },
    {
      "cell_type": "code",
      "execution_count": null,
      "metadata": {
        "colab": {
          "base_uri": "https://localhost:8080/"
        },
        "id": "caFJWEalBOdy",
        "outputId": "ea9cede8-4163-4c1b-f3ba-721fdec9c02e"
      },
      "outputs": [
        {
          "data": {
            "text/plain": [
              "True"
            ]
          },
          "execution_count": 2,
          "metadata": {},
          "output_type": "execute_result"
        }
      ],
      "source": [
        "a=2\n",
        "b=2\n",
        "a is b"
      ]
    },
    {
      "cell_type": "code",
      "execution_count": null,
      "metadata": {
        "colab": {
          "base_uri": "https://localhost:8080/"
        },
        "id": "ZGF1J4N1BTgX",
        "outputId": "91e4f570-3e8f-48ba-f6ed-90951bf3d5e1"
      },
      "outputs": [
        {
          "data": {
            "text/plain": [
              "False"
            ]
          },
          "execution_count": 3,
          "metadata": {},
          "output_type": "execute_result"
        }
      ],
      "source": [
        "a=1000000\n",
        "b=1000000\n",
        "a is b"
      ]
    },
    {
      "cell_type": "code",
      "execution_count": null,
      "metadata": {
        "colab": {
          "base_uri": "https://localhost:8080/"
        },
        "id": "AaT6SirdBYES",
        "outputId": "7f4e8aae-ebda-4c29-d228-3ac2bb8c8e94"
      },
      "outputs": [
        {
          "data": {
            "text/plain": [
              "True"
            ]
          },
          "execution_count": 4,
          "metadata": {},
          "output_type": "execute_result"
        }
      ],
      "source": [
        "a=240\n",
        "b=240\n",
        "a is b"
      ]
    },
    {
      "cell_type": "code",
      "execution_count": null,
      "metadata": {
        "id": "SKZNX4ivSWA9"
      },
      "outputs": [],
      "source": [
        "#Machine code is the lowest level programming language that directly corresponds to the instructions executed by the CPU.\n",
        "#It consists of binary digits.\n",
        "#Machine code is executed directly by the hardware without any translation or interpretation required.\n",
        "#It is specific to the underlying hardware architecture.\n",
        "#Bytecode\n",
        "#Bytecode is generated by compiling a high-level language into a platform-independent format\n",
        "#Bytecode is generated by compiling a high-level language into a platform-independent format.\n",
        "#Bytecode is generated by compiling a high-level language into a platform independent format. It is not executed directly by the CPU but by software\n",
        "#interpreter or runtime environment. Bytecode is platform-independent. It allows for programs written in high-level languages to be executed on any\n",
        "#platform that has the appropriate bytecode interpreter or runtime environment."
      ]
    },
    {
      "cell_type": "code",
      "execution_count": null,
      "metadata": {
        "id": "8_mBDC3Mn_6v"
      },
      "outputs": [],
      "source": [
        "#In case of python, source code is first compiled into bytecode and is interpreted line by line by the CPython or JIT(just in time compiler)."
      ]
    },
    {
      "cell_type": "code",
      "execution_count": null,
      "metadata": {
        "colab": {
          "base_uri": "https://localhost:8080/"
        },
        "id": "FOcZjMeBsIaK",
        "outputId": "19553683-8b9d-40f2-ceab-ab4fa06da204"
      },
      "outputs": [
        {
          "name": "stdout",
          "output_type": "stream",
          "text": [
            "5\n"
          ]
        }
      ],
      "source": [
        "_=5\n",
        "print(_)"
      ]
    },
    {
      "cell_type": "code",
      "execution_count": null,
      "metadata": {
        "colab": {
          "base_uri": "https://localhost:8080/"
        },
        "id": "Un3pPcKhxUxK",
        "outputId": "d9b72ebe-2b1a-45e5-e80c-337a8f395ca5"
      },
      "outputs": [
        {
          "name": "stdout",
          "output_type": "stream",
          "text": [
            "1 3\n"
          ]
        }
      ],
      "source": [
        "#The underscore _ is a also called throwaway or i don't care variable, in case you want to ignore a certain value.\n",
        "#The throwaway/i don't care variables is often used to ignore certain values while unpacking\n",
        "#The throwaway/i don't care _ variables is used when we ignore the index\n",
        "a,_,c=(1,2,3)\n",
        "print(a,c)"
      ]
    },
    {
      "cell_type": "code",
      "execution_count": null,
      "metadata": {
        "colab": {
          "base_uri": "https://localhost:8080/"
        },
        "id": "NtUSSAsj5yPo",
        "outputId": "022b10ac-2551-43ec-ffcd-9f30afec8f00"
      },
      "outputs": [
        {
          "name": "stdout",
          "output_type": "stream",
          "text": [
            "0\n",
            "1\n",
            "2\n",
            "3\n",
            "4\n"
          ]
        }
      ],
      "source": [
        "for _ in range(5):\n",
        "  print(_)"
      ]
    },
    {
      "cell_type": "code",
      "execution_count": null,
      "metadata": {
        "id": "sJWHNdYi559W"
      },
      "outputs": [],
      "source": [
        "#A module is a python file.\n",
        "#A package has a collection of modules that work together to achieve a functionality. All these folders are present in a single folder and there exists\n",
        "#a seperate __init__.py file within that folder to tell python that this is a package."
      ]
    },
    {
      "cell_type": "code",
      "execution_count": null,
      "metadata": {
        "colab": {
          "base_uri": "https://localhost:8080/"
        },
        "id": "_vpcZhLvanS_",
        "outputId": "55522cc4-a86f-47bf-d775-f40bd1413a0b"
      },
      "outputs": [
        {
          "name": "stdout",
          "output_type": "stream",
          "text": [
            "False\n"
          ]
        }
      ],
      "source": [
        "print(0.3-0.2==0.1)\n",
        "#Because computers donot compute in decimal but in binary."
      ]
    },
    {
      "cell_type": "code",
      "execution_count": null,
      "metadata": {
        "colab": {
          "base_uri": "https://localhost:8080/"
        },
        "id": "QJEd_BEwgySr",
        "outputId": "9b7d2cbe-7a38-43ad-cd23-988993b43623"
      },
      "outputs": [
        {
          "name": "stdout",
          "output_type": "stream",
          "text": [
            "0.09999999999999998\n"
          ]
        }
      ],
      "source": [
        "t1=0.1\n",
        "result=0.3-0.2\n",
        "print(abs(result))"
      ]
    },
    {
      "cell_type": "code",
      "execution_count": null,
      "metadata": {
        "id": "Y8Y8DzLdhuVD"
      },
      "outputs": [],
      "source": [
        "#In python ~ this operator computes bitwise complement of a number. The easiest formula for this is for a number x the bitwise complement would be\n",
        "#-x-1 and if 10 bit representation of 3 is 0000000011 then the bitwise complement for it would be 1111111100."
      ]
    },
    {
      "cell_type": "code",
      "execution_count": null,
      "metadata": {
        "id": "y_Eo8HOEVrq1"
      },
      "outputs": [],
      "source": [
        "#docstrings means the comments."
      ]
    },
    {
      "cell_type": "code",
      "execution_count": null,
      "metadata": {
        "id": "im-_1CqWWGQW"
      },
      "outputs": [],
      "source": [
        "#Mutability is when you can change the content of an object without changing its id"
      ]
    },
    {
      "cell_type": "code",
      "execution_count": null,
      "metadata": {
        "colab": {
          "base_uri": "https://localhost:8080/"
        },
        "id": "zHHLivGl8w-n",
        "outputId": "885253b5-7cee-4af5-af98-b67887c8a46d"
      },
      "outputs": [
        {
          "name": "stdout",
          "output_type": "stream",
          "text": [
            "134526532394496\n",
            "134526532394496\n"
          ]
        }
      ],
      "source": [
        "a=[1,2,3]\n",
        "print(id(a))\n",
        "a.append(4)\n",
        "print(id(a))\n",
        "#as you can see the content of the object has been changed here without changing the id"
      ]
    },
    {
      "cell_type": "code",
      "execution_count": null,
      "metadata": {
        "colab": {
          "base_uri": "https://localhost:8080/"
        },
        "id": "hH7jUb8y84qE",
        "outputId": "68167ee5-9979-4fe6-c994-81b46055f150"
      },
      "outputs": [
        {
          "name": "stdout",
          "output_type": "stream",
          "text": [
            "134526532401728\n",
            "134526530802688\n",
            "(1, 2, 3)\n"
          ]
        }
      ],
      "source": [
        "a=(1,2)\n",
        "print(id(a))\n",
        "a=a+(3,)\n",
        "print(id(a))\n",
        "print(a)\n",
        "#when you change the content of the object, its id too gets changed and a now starts refering to a completely new memory location."
      ]
    },
    {
      "cell_type": "code",
      "execution_count": null,
      "metadata": {
        "colab": {
          "base_uri": "https://localhost:8080/",
          "height": 194
        },
        "id": "lQ7BYo8g9ZDP",
        "outputId": "c7490f5d-343c-414c-8125-e1c0d77b263d"
      },
      "outputs": [
        {
          "ename": "TypeError",
          "evalue": "ignored",
          "output_type": "error",
          "traceback": [
            "\u001b[0;31m---------------------------------------------------------------------------\u001b[0m",
            "\u001b[0;31mTypeError\u001b[0m                                 Traceback (most recent call last)",
            "\u001b[0;32m<ipython-input-8-f4c71b59a0a8>\u001b[0m in \u001b[0;36m<cell line: 1>\u001b[0;34m()\u001b[0m\n\u001b[0;32m----> 1\u001b[0;31m \u001b[0ma\u001b[0m\u001b[0;34m=\u001b[0m\u001b[0;34m{\u001b[0m\u001b[0;34m[\u001b[0m\u001b[0;36m1\u001b[0m\u001b[0;34m,\u001b[0m\u001b[0;36m2\u001b[0m\u001b[0;34m]\u001b[0m\u001b[0;34m,\u001b[0m\u001b[0;36m3\u001b[0m\u001b[0;34m,\u001b[0m\u001b[0;36m4\u001b[0m\u001b[0;34m}\u001b[0m\u001b[0;34m\u001b[0m\u001b[0;34m\u001b[0m\u001b[0m\n\u001b[0m\u001b[1;32m      2\u001b[0m \u001b[0mprint\u001b[0m\u001b[0;34m(\u001b[0m\u001b[0ma\u001b[0m\u001b[0;34m)\u001b[0m\u001b[0;34m\u001b[0m\u001b[0;34m\u001b[0m\u001b[0m\n",
            "\u001b[0;31mTypeError\u001b[0m: unhashable type: 'list'"
          ]
        }
      ],
      "source": [
        "a={[1,2],3,4}\n",
        "print(a)"
      ]
    },
    {
      "cell_type": "code",
      "execution_count": null,
      "metadata": {
        "id": "3dnfps0Q9uST"
      },
      "outputs": [],
      "source": [
        "a={1,\"dho\",3,4}\n",
        "#all the elements of set has to be immutable in nature, because they need to be hashable in nature, tuples are immutable but they can contain\n",
        "#mutable items as elements. The keys in dictionary has to be immutable in nature because they have to be hashable."
      ]
    },
    {
      "cell_type": "code",
      "execution_count": null,
      "metadata": {
        "id": "PfZ2DbPY9yIb"
      },
      "outputs": [],
      "source": [
        "a=(1,2,[1,2])"
      ]
    },
    {
      "cell_type": "code",
      "execution_count": null,
      "metadata": {
        "id": "f3Dci7tT_-oS"
      },
      "outputs": [],
      "source": [
        "#Homogeneous data structures---->Data elements will be of the same datatype(eg. Array)\n",
        "#Heterogeneous data structures---->Data elements may not be of the same datatype(eg. List,tuple,sets,dictionary)...in case of sets and dictionary\n",
        "#only immutable datatypes can be elements and keys respectively because immutable datatypes are hashable in nature."
      ]
    },
    {
      "cell_type": "code",
      "execution_count": null,
      "metadata": {
        "colab": {
          "base_uri": "https://localhost:8080/",
          "height": 229
        },
        "id": "FPFvDUqOFrOr",
        "outputId": "5cc3bbd7-e8d7-49de-8725-4d31390add56"
      },
      "outputs": [
        {
          "ename": "TypeError",
          "evalue": "ignored",
          "output_type": "error",
          "traceback": [
            "\u001b[0;31m---------------------------------------------------------------------------\u001b[0m",
            "\u001b[0;31mTypeError\u001b[0m                                 Traceback (most recent call last)",
            "\u001b[0;32m<ipython-input-16-7ad180204757>\u001b[0m in \u001b[0;36m<cell line: 2>\u001b[0;34m()\u001b[0m\n\u001b[1;32m      1\u001b[0m \u001b[0mo1\u001b[0m\u001b[0;34m=\u001b[0m\u001b[0;34m[\u001b[0m\u001b[0;36m1\u001b[0m\u001b[0;34m,\u001b[0m\u001b[0;36m2\u001b[0m\u001b[0;34m,\u001b[0m\u001b[0;36m3\u001b[0m\u001b[0;34m]\u001b[0m\u001b[0;34m\u001b[0m\u001b[0;34m\u001b[0m\u001b[0m\n\u001b[0;32m----> 2\u001b[0;31m \u001b[0mo1\u001b[0m\u001b[0;34m.\u001b[0m\u001b[0mextend\u001b[0m\u001b[0;34m(\u001b[0m\u001b[0;36m4\u001b[0m\u001b[0;34m)\u001b[0m\u001b[0;34m\u001b[0m\u001b[0;34m\u001b[0m\u001b[0m\n\u001b[0m\u001b[1;32m      3\u001b[0m \u001b[0mprint\u001b[0m\u001b[0;34m(\u001b[0m\u001b[0mo1\u001b[0m\u001b[0;34m)\u001b[0m\u001b[0;34m\u001b[0m\u001b[0;34m\u001b[0m\u001b[0m\n\u001b[1;32m      4\u001b[0m \u001b[0;31m#The argument of extend function has to be an iterable and each item of iterable is added to the o1 list\u001b[0m\u001b[0;34m\u001b[0m\u001b[0;34m\u001b[0m\u001b[0m\n",
            "\u001b[0;31mTypeError\u001b[0m: 'int' object is not iterable"
          ]
        }
      ],
      "source": [
        "o1=[1,2,3]\n",
        "o1.extend(4)\n",
        "print(o1)\n",
        "#The argument of extend function has to be an iterable and each item of iterable is added to the o1 list"
      ]
    },
    {
      "cell_type": "code",
      "execution_count": null,
      "metadata": {
        "colab": {
          "base_uri": "https://localhost:8080/"
        },
        "id": "uzAQ-tczPZqe",
        "outputId": "0f1676f5-6ecc-4c42-da9c-c0d6a9b4bdae"
      },
      "outputs": [
        {
          "name": "stdout",
          "output_type": "stream",
          "text": [
            "[1, 2, 3, 4, 5, 6]\n"
          ]
        }
      ],
      "source": [
        "o1=[1,2,3]\n",
        "o1.extend([4,5,6])\n",
        "print(o1)\n"
      ]
    },
    {
      "cell_type": "code",
      "execution_count": null,
      "metadata": {
        "colab": {
          "base_uri": "https://localhost:8080/"
        },
        "id": "PGfoFLSHPpxy",
        "outputId": "e1ea28fa-f331-4c5d-b42d-ceba1aed4a22"
      },
      "outputs": [
        {
          "name": "stdout",
          "output_type": "stream",
          "text": [
            "[1, 2, 3, [1, 2, 3]]\n",
            "[1, 2, 3, [1, 2, 3], [7, 8, 9]]\n"
          ]
        }
      ],
      "source": [
        "o1=[1,2,3]\n",
        "o1.append([1,2,3])\n",
        "print(o1)\n",
        "o1.append([7,8,9])\n",
        "print(o1)\n"
      ]
    },
    {
      "cell_type": "code",
      "execution_count": null,
      "metadata": {
        "colab": {
          "base_uri": "https://localhost:8080/"
        },
        "id": "GNy5Ha2haMxO",
        "outputId": "46f8b36e-3a77-4b3a-e857-dd0b2d82cf33"
      },
      "outputs": [
        {
          "name": "stdout",
          "output_type": "stream",
          "text": [
            "[1, 9, 2, 3]\n"
          ]
        }
      ],
      "source": [
        "o1=[1,2,3]\n",
        "o1.insert(1,9)\n",
        "print(o1)"
      ]
    },
    {
      "cell_type": "code",
      "execution_count": null,
      "metadata": {
        "id": "Eptf8jOIaV4y"
      },
      "outputs": [],
      "source": [
        "#The element passed as an argument to the append function is added to the end of the list, only an iterable can be passed as an argument to the\n",
        "#extend function. Every element of the iterable is added to the end of the list, insert function adds a specific element within the list at a specific index\n",
        "#position. In case of append and insert function the list is increased by 1 and in case of extend function the increment in list is equal to the length of the\n",
        "#iterable. The time-complexity of append function is of the order of O(1), the time-complexity of insert function is of the order of n...O(n) and time complexity\n",
        "#of extend function is of the order of k O(k) where k is the length of the iterable."
      ]
    },
    {
      "cell_type": "code",
      "execution_count": null,
      "metadata": {
        "id": "iReY4Ap6blpu"
      },
      "outputs": [],
      "source": [
        "#An object with more than one reference is called aliased.\n",
        "a=[1,2,3]\n",
        "b=a\n",
        "#now both b and a are pointing at the list object"
      ]
    },
    {
      "cell_type": "code",
      "execution_count": null,
      "metadata": {
        "colab": {
          "base_uri": "https://localhost:8080/"
        },
        "id": "QVwRjD7p4aTv",
        "outputId": "99cfa542-9739-45a0-898d-182df672c096"
      },
      "outputs": [
        {
          "name": "stdout",
          "output_type": "stream",
          "text": [
            "140300127362752 140300127359680\n",
            "140301398393072 140301398393072\n",
            "140301398393136\n",
            "140301398393136\n",
            "[1, 2, [3, 4]]\n",
            "[1, 2, [3, 4], 41]\n",
            "[1, 2, [3, 4, 91]]\n",
            "[1, 2, [3, 4, 91], 41]\n"
          ]
        }
      ],
      "source": [
        "a1=[1,2,[3,4]]\n",
        "a2=a1[:]\n",
        "print(id(a1),id(a2))\n",
        "print(id(a1[0]),id(a2[0]))\n",
        "print(id(a1[2][0]))\n",
        "print(id(a2[2][0]))\n",
        "a2.append(41)\n",
        "print(a1)\n",
        "print(a2)\n",
        "a2[2].append(91)\n",
        "print(a1)\n",
        "print(a2)"
      ]
    },
    {
      "cell_type": "code",
      "execution_count": null,
      "metadata": {
        "colab": {
          "base_uri": "https://localhost:8080/"
        },
        "id": "2lfk-zZr8_bh",
        "outputId": "e12cc128-5927-4023-a437-31b4e61cf34d"
      },
      "outputs": [
        {
          "name": "stdout",
          "output_type": "stream",
          "text": [
            "140462587003248\n",
            "140462587003248\n"
          ]
        }
      ],
      "source": [
        "a3=[11,22,[5,6]]\n",
        "a4=a3.copy()\n",
        "print(id(a3[2][0]))\n",
        "print(id(a4[2][0]))"
      ]
    },
    {
      "cell_type": "code",
      "execution_count": null,
      "metadata": {
        "colab": {
          "base_uri": "https://localhost:8080/"
        },
        "id": "8rR8ioTu-r3e",
        "outputId": "a1810e75-69f7-4248-fb25-3b6d096be4b5"
      },
      "outputs": [
        {
          "name": "stdout",
          "output_type": "stream",
          "text": [
            "[11, 22, [5, 6]]\n",
            "[11, 22, [5, 6], 91]\n",
            "140300127318080\n",
            "140300127318080\n",
            "[11, 22, [5, 6, 88], 91]\n",
            "[11, 22, [5, 6, 88]]\n",
            "[11, 22, [55, 6, 88]]\n",
            "[11, 22, [55, 6, 88], 91]\n",
            "140301398393392 140301398393392 140301398393744 140301398393744 140300127357184 140300127357440\n",
            "[11, 22, [55, 6, 88]] [912, 22, [55, 6, 88], 91]\n"
          ]
        }
      ],
      "source": [
        "a33=[11,22,[5,6]]\n",
        "a44=a33.copy()\n",
        "a44.append(91)\n",
        "print(a33)\n",
        "print(a44)\n",
        "print(id(a33[2]))\n",
        "print(id(a44[2]))\n",
        "a44[2].append(88)\n",
        "print(a44)\n",
        "print(a33)\n",
        "a44[2][0]=55\n",
        "print(a33)\n",
        "print(a44)\n",
        "print(id(a33[0]),id(a44[0]),id(a33[1]),id(a44[1]),id(a33),id(a44))\n",
        "a44[0]=912\n",
        "print(a33,a44)\n",
        "#as we can see when we clone using copy() or slicing [:] then we actually create a new object(as is clear by different ids of a33 and a44)\n",
        "#but then all the references to the items are copied as well. Hence any change made to the immutable item(whose id is changed with the change in value of the object)\n",
        "#is not reflected back to the original list as if any immutable object's value is changed, it changes the id too, on the other hand when you make changes\n",
        "#to mutable object(like list) then the change is reflected back to the original list as well because any change made to the mutable item within a list\n",
        "#changes the value of the mutable item within the original copy as well because a mutable item can be changed without any change in the respective id"
      ]
    },
    {
      "cell_type": "code",
      "execution_count": null,
      "metadata": {
        "colab": {
          "base_uri": "https://localhost:8080/"
        },
        "id": "eA38m9UqYKwc",
        "outputId": "b7e4c2c6-3a1a-4464-852a-fde33c8744f0"
      },
      "outputs": [
        {
          "name": "stdout",
          "output_type": "stream",
          "text": [
            "[2, 3]\n"
          ]
        }
      ],
      "source": [
        "#A program in python to delete the first element from a list\n",
        "def dello(list):\n",
        "  del list[0]\n",
        "\n",
        "a=[1,2,3]\n",
        "dello(a)\n",
        "print(a)\n",
        "#this is how you delete an element within a list using del list[0]"
      ]
    },
    {
      "cell_type": "code",
      "execution_count": null,
      "metadata": {
        "id": "J_Sq3V_Z7q28"
      },
      "outputs": [],
      "source": [
        "#Difference between tuple and list is that as lists are dynamic array(which involves extra overhead memory to accomodate new items) so it consumes more memory\n",
        "#than tuples and secondly lists are mutable meaning that the value of the list object can be altered(while there id remains constant) but tuple is immutable"
      ]
    },
    {
      "cell_type": "code",
      "execution_count": null,
      "metadata": {
        "colab": {
          "base_uri": "https://localhost:8080/"
        },
        "id": "as_I0agABD31",
        "outputId": "e9db6934-35e2-4b43-dd6e-5835533770a5"
      },
      "outputs": [
        {
          "name": "stdout",
          "output_type": "stream",
          "text": [
            "140300127054976\n",
            "140300127049984\n"
          ]
        }
      ],
      "source": [
        "a=(1,2)\n",
        "print(id(a))\n",
        "a=a+(4,)\n",
        "print(id(a))\n",
        "#as you can see even if you add a new element, it becomes a new object altogether and now the variable a is pointing to a completely new memory\n",
        "#location altogether."
      ]
    },
    {
      "cell_type": "code",
      "execution_count": null,
      "metadata": {
        "colab": {
          "base_uri": "https://localhost:8080/"
        },
        "id": "MPtHgPv5BJzO",
        "outputId": "27760e98-b127-40cd-c5a8-cd58bf960bdf"
      },
      "outputs": [
        {
          "name": "stdout",
          "output_type": "stream",
          "text": [
            "2 1\n"
          ]
        }
      ],
      "source": [
        "a=1\n",
        "b=2\n",
        "a,b=b,a\n",
        "print(a,b)"
      ]
    },
    {
      "cell_type": "code",
      "execution_count": null,
      "metadata": {
        "colab": {
          "base_uri": "https://localhost:8080/"
        },
        "id": "OEag_p-ia2vq",
        "outputId": "bea5b338-74bd-4a90-811e-1c669b0e2825"
      },
      "outputs": [
        {
          "name": "stdout",
          "output_type": "stream",
          "text": [
            "[1, 4, 9, 16, 25, 36, 49, 64]\n"
          ]
        }
      ],
      "source": [
        "#The map function applies a function to every item of an iterable and returns a map object. This map object can be passed to a list or set function\n",
        "#to return a list or set.\n",
        "a=list(map(lambda x:x**2,[1,2,3,4,5,6,7,8]))\n",
        "print(a)\n"
      ]
    },
    {
      "cell_type": "code",
      "execution_count": null,
      "metadata": {
        "colab": {
          "base_uri": "https://localhost:8080/"
        },
        "id": "bNiSuuBElBvv",
        "outputId": "026bd0a4-d853-4efa-830e-89874985bb34"
      },
      "outputs": [
        {
          "name": "stdout",
          "output_type": "stream",
          "text": [
            "[1, 2, 3, 4]\n",
            "<class 'list'>\n"
          ]
        }
      ],
      "source": [
        "a11={2: 'Apple', 1:'Mango', 3:'Orange', 4:'Banana'}\n",
        "print(sorted(a11))\n",
        "print(type(sorted(a11)))\n",
        "#sorted function returns the keys of a dictionary in sorted order within a list."
      ]
    },
    {
      "cell_type": "code",
      "execution_count": null,
      "metadata": {
        "colab": {
          "base_uri": "https://localhost:8080/"
        },
        "id": "hKO-XaF6pTAy",
        "outputId": "4f2193d1-cd21-48fb-85c8-d27cd7fb13a0"
      },
      "outputs": [
        {
          "name": "stdout",
          "output_type": "stream",
          "text": [
            "dict_keys([2, 1, 3, 4])\n",
            "<class 'dict_keys'>\n"
          ]
        }
      ],
      "source": [
        "print(a11.keys())\n",
        "print(type(a11.keys()))"
      ]
    },
    {
      "cell_type": "code",
      "execution_count": null,
      "metadata": {
        "colab": {
          "base_uri": "https://localhost:8080/"
        },
        "id": "tH5A3yEdpzrW",
        "outputId": "c704930f-8477-42cb-f16f-a5eeb1dc3863"
      },
      "outputs": [
        {
          "name": "stdout",
          "output_type": "stream",
          "text": [
            "Sorted list  [1, 2, 5, 6, 8]\n"
          ]
        }
      ],
      "source": [
        "#sorted function sorts the iterable in ascending order and it returns a sorted list.\n",
        "unsorted_list = [5, 2, 8, 1, 6]\n",
        "sorted_list=sorted(unsorted_list)\n",
        "print(\"Sorted list \",sorted_list)"
      ]
    },
    {
      "cell_type": "code",
      "execution_count": null,
      "metadata": {
        "colab": {
          "base_uri": "https://localhost:8080/"
        },
        "id": "yIKVxvIay9Sw",
        "outputId": "0275d379-9527-491a-f802-58734deba3d8"
      },
      "outputs": [
        {
          "name": "stdout",
          "output_type": "stream",
          "text": [
            "Sorted tuple  [3, 4, 7, 9, 10]\n"
          ]
        }
      ],
      "source": [
        "unsorted_tuple = (10, 4, 7, 3, 9)\n",
        "sorted_tuple=sorted(unsorted_tuple)\n",
        "print(\"Sorted tuple \",sorted_tuple)"
      ]
    },
    {
      "cell_type": "code",
      "execution_count": null,
      "metadata": {
        "colab": {
          "base_uri": "https://localhost:8080/"
        },
        "id": "NhGSMZFu1UHj",
        "outputId": "b6120c61-1580-4488-b0d3-8e010c1c53d4"
      },
      "outputs": [
        {
          "name": "stdout",
          "output_type": "stream",
          "text": [
            "['h', 'n', 'o', 'p', 't', 'y']\n"
          ]
        }
      ],
      "source": [
        "unsorted_string=\"python\"\n",
        "sorted_string=sorted(unsorted_string)\n",
        "print(sorted_string)"
      ]
    },
    {
      "cell_type": "code",
      "execution_count": null,
      "metadata": {
        "colab": {
          "base_uri": "https://localhost:8080/"
        },
        "id": "McP4zBpB3qqO",
        "outputId": "d30060b4-a44a-48d6-f6cf-99cd1cf31bc7"
      },
      "outputs": [
        {
          "name": "stdout",
          "output_type": "stream",
          "text": [
            "[8, 6, 5, 2, 1]\n"
          ]
        }
      ],
      "source": [
        "unsorted_list1=[5,2,8,1,6]\n",
        "sorted_list1=sorted(sorted(unsorted_list1),reverse=True)\n",
        "print(sorted_list1)"
      ]
    },
    {
      "cell_type": "code",
      "execution_count": null,
      "metadata": {
        "colab": {
          "base_uri": "https://localhost:8080/"
        },
        "id": "f99i2YEQ6md-",
        "outputId": "5b63536b-fce2-40a2-d52a-0bdaa683c855"
      },
      "outputs": [
        {
          "name": "stdout",
          "output_type": "stream",
          "text": [
            "['Apple', 'Banana', 'Grapes', 'Orange']\n"
          ]
        }
      ],
      "source": [
        "unsorted_list2=['Apple','Banana','Orange','Grapes']\n",
        "sorted_list2=sorted(unsorted_list2,key=lambda x:x[0].lower())\n",
        "print(sorted_list2)"
      ]
    },
    {
      "cell_type": "code",
      "execution_count": null,
      "metadata": {
        "colab": {
          "base_uri": "https://localhost:8080/"
        },
        "id": "nrMd6Dkjun-l",
        "outputId": "aa1ab40b-a393-4bf0-a041-4de722d6fa02"
      },
      "outputs": [
        {
          "name": "stdout",
          "output_type": "stream",
          "text": [
            "[1, 2, 3, 4]\n",
            "1 Mango\n",
            "2 Apple\n",
            "3 Orange\n",
            "4 Banana\n"
          ]
        }
      ],
      "source": [
        "input={2: 'Apple', 1:'Mango', 3:'Orange', 4:'Banana'}\n",
        "sorted_list3=sorted(input)\n",
        "print(sorted_list3)\n",
        "for i in sorted_list3:\n",
        "  print(i,input[i])"
      ]
    },
    {
      "cell_type": "code",
      "execution_count": null,
      "metadata": {
        "colab": {
          "base_uri": "https://localhost:8080/"
        },
        "id": "f77GZwK12RuU",
        "outputId": "b0483adb-1b88-4ace-b054-6ce570827247"
      },
      "outputs": [
        {
          "name": "stdout",
          "output_type": "stream",
          "text": [
            "['Apple', 'Banana', 'Mango', 'Orange']\n",
            "dict_items([(2, 'Apple'), (1, 'Mango'), (3, 'Orange'), (4, 'Banana')])\n",
            "[(1, 'Mango'), (2, 'Apple'), (3, 'Orange'), (4, 'Banana')]\n",
            "[(2, 'Apple'), (4, 'Banana'), (1, 'Mango'), (3, 'Orange')]\n"
          ]
        }
      ],
      "source": [
        "input2={2: 'Apple', 1:'Mango', 3:'Orange', 4:'Banana'}\n",
        "sorted_list3=sorted(input.values())\n",
        "print(sorted_list3)\n",
        "print(input.items())\n",
        "print(sorted(input.items()))\n",
        "#automatically done on the basis of keys\n",
        "print(sorted(input.items(),key=lambda x:x[1]))\n",
        "#key is used to point out the basis on which the sorting is done and it is sorted in ascending order, if you want to change it to descending\n",
        "#then you also have to mention reverse=True"
      ]
    },
    {
      "cell_type": "code",
      "execution_count": null,
      "metadata": {
        "colab": {
          "base_uri": "https://localhost:8080/"
        },
        "id": "QBmbt6maAStb",
        "outputId": "f66be734-16ac-4a58-b887-11c92d8879df"
      },
      "outputs": [
        {
          "name": "stdout",
          "output_type": "stream",
          "text": [
            "0112022101120221011202"
          ]
        }
      ],
      "source": [
        "a=0\n",
        "b=1\n",
        "print('01',end='')\n",
        "for i in range(20):\n",
        "  sm=(a+b)%3\n",
        "  print(sm,end='')\n",
        "  a=b\n",
        "  b=sm\n"
      ]
    },
    {
      "cell_type": "code",
      "execution_count": null,
      "metadata": {
        "colab": {
          "base_uri": "https://localhost:8080/"
        },
        "id": "e9omyxXLZjFD",
        "outputId": "532fe29e-bbc6-4a94-cfbb-80ddd47e204f"
      },
      "outputs": [
        {
          "name": "stdout",
          "output_type": "stream",
          "text": [
            "dict_items([('volvo', 'car'), ('benz', 'car'), ('yamaha', 'bike'), ('hero', 'bike')])\n"
          ]
        }
      ],
      "source": [
        "dict1 = {\"volvo\":\"car\", \"benz\":\"car\", \"yamaha\":\"bike\", \"hero\":\"bike\"}\n",
        "print(dict1.items())"
      ]
    },
    {
      "cell_type": "code",
      "execution_count": null,
      "metadata": {
        "colab": {
          "base_uri": "https://localhost:8080/"
        },
        "id": "gSjCc7ymtpOo",
        "outputId": "99768140-1060-4e99-9e55-8ea4622153d8"
      },
      "outputs": [
        {
          "name": "stdout",
          "output_type": "stream",
          "text": [
            "{'car': ['volvo', 'benz'], 'bike': ['yamaha', 'hero']}\n"
          ]
        }
      ],
      "source": [
        "dict2={}\n",
        "for a,b in dict1.items():\n",
        "  if b in dict2:\n",
        "    dict2[b].append(a)\n",
        "  else:\n",
        "    dict2[b]=[a]\n",
        "print(dict2)\n"
      ]
    },
    {
      "cell_type": "code",
      "execution_count": null,
      "metadata": {
        "colab": {
          "base_uri": "https://localhost:8080/"
        },
        "id": "dNw_Fk-PwCOI",
        "outputId": "21e18603-070e-42be-d824-af36943e9563"
      },
      "outputs": [
        {
          "name": "stdout",
          "output_type": "stream",
          "text": [
            "{'car': ['volvo', 'benz'], 'bike': ['yamaha', 'hero']}\n"
          ]
        }
      ],
      "source": [
        "dict2={}\n",
        "for a,b in dict1.items():\n",
        "  try:\n",
        "    dict2[b].append(a)\n",
        "  except KeyError:\n",
        "    dict2[b]=[a]\n",
        "print(dict2)"
      ]
    },
    {
      "cell_type": "code",
      "execution_count": null,
      "metadata": {
        "colab": {
          "base_uri": "https://localhost:8080/"
        },
        "id": "TY4yP7l-wtiW",
        "outputId": "8e4a8990-a1da-4459-d13a-4a2db400d912"
      },
      "outputs": [
        {
          "name": "stdout",
          "output_type": "stream",
          "text": [
            "num1---> 9\n",
            "num2---> 77\n"
          ]
        }
      ],
      "source": [
        "num1='1001'\n",
        "num2 = '1001101'\n",
        "print('num1--->',int(num1,2))\n",
        "print('num2--->',int(num2,2))\n",
        "#int(num1,2) interprets num1 as a binary string and converts it into an integer using base 2\n",
        "#int(num2,2) interprets num2 as a binary string and converts it into an integer using base 2"
      ]
    },
    {
      "cell_type": "code",
      "execution_count": null,
      "metadata": {
        "colab": {
          "base_uri": "https://localhost:8080/"
        },
        "id": "7Ft7vLARGQfj",
        "outputId": "4fb7258a-b17e-47ec-c1a9-0ba031839347"
      },
      "outputs": [
        {
          "name": "stdout",
          "output_type": "stream",
          "text": [
            "num1---> 9\n",
            "num2---> 77\n"
          ]
        }
      ],
      "source": [
        "num1='1001'\n",
        "num2='1001101'\n",
        "print('num1--->',int(num1,2))\n",
        "print('num2--->',int(num2,2))\n",
        "#int(num1,2) interprets num1 as a binary string and converts it into an integer using base 2\n",
        "#int(num2,2) interprets num2 as a binary string and converts it into an integer using base 2"
      ]
    },
    {
      "cell_type": "code",
      "execution_count": null,
      "metadata": {
        "colab": {
          "base_uri": "https://localhost:8080/"
        },
        "id": "6lyV3LKGpEJb",
        "outputId": "5b1ffe6f-535b-4e77-80d1-4e7235504c56"
      },
      "outputs": [
        {
          "name": "stdout",
          "output_type": "stream",
          "text": [
            "num1---> 9\n",
            "num2---> 77\n"
          ]
        }
      ],
      "source": [
        "num1='1001'\n",
        "num2='1001101'\n",
        "print('num1--->',int(num1,2))\n",
        "print('num2--->',int(num2,2))\n",
        "#int(num1,2) identifies num1 as a binary string and converts it into integer using base 2\n",
        "#int(num2,2) identifies num2 as a binary string and converts it into integer using base 2"
      ]
    },
    {
      "cell_type": "code",
      "execution_count": null,
      "metadata": {
        "colab": {
          "base_uri": "https://localhost:8080/"
        },
        "id": "7hk1ultoro21",
        "outputId": "da90bf62-246a-4034-846b-95392089daf8"
      },
      "outputs": [
        {
          "name": "stdout",
          "output_type": "stream",
          "text": [
            "12.345\n"
          ]
        }
      ],
      "source": [
        "a1=12.345\n",
        "print(f\"{a1}\")"
      ]
    },
    {
      "cell_type": "code",
      "execution_count": null,
      "metadata": {
        "colab": {
          "base_uri": "https://localhost:8080/"
        },
        "id": "IL08bun2uegj",
        "outputId": "1d0ba29d-017e-4ef2-c095-c2e3691f1545"
      },
      "outputs": [
        {
          "name": "stdout",
          "output_type": "stream",
          "text": [
            "12.345000000\n"
          ]
        }
      ],
      "source": [
        "print(f\"{a1:.9f}\")"
      ]
    },
    {
      "cell_type": "code",
      "execution_count": null,
      "metadata": {
        "colab": {
          "base_uri": "https://localhost:8080/"
        },
        "id": "uEZvoYdKujal",
        "outputId": "c4b412a2-e32a-4e82-87bd-002891cd32ee"
      },
      "outputs": [
        {
          "name": "stdout",
          "output_type": "stream",
          "text": [
            "11\n"
          ]
        }
      ],
      "source": [
        "a2=3\n",
        "print(f\"{a2:b}\")"
      ]
    },
    {
      "cell_type": "code",
      "execution_count": null,
      "metadata": {
        "colab": {
          "base_uri": "https://localhost:8080/"
        },
        "id": "BgPhGNs9up2S",
        "outputId": "41eeb8d2-7fdf-4300-aebf-f80c9b5213df"
      },
      "outputs": [
        {
          "name": "stdout",
          "output_type": "stream",
          "text": [
            "1011\n"
          ]
        }
      ],
      "source": [
        "a21=11\n",
        "print(f\"{a21:b}\")\n",
        "#you represent any number as float using f\"{a1:.2f}(float having 2 decimal places) and to represent something in binary we use f\"{a:b}"
      ]
    },
    {
      "cell_type": "code",
      "execution_count": null,
      "metadata": {
        "colab": {
          "base_uri": "https://localhost:8080/"
        },
        "id": "L4K6DlICwlhD",
        "outputId": "ec89ef74-2570-401c-ee18-87f82ea7b081"
      },
      "outputs": [
        {
          "name": "stdout",
          "output_type": "stream",
          "text": [
            "num1---> 9\n",
            "num2---> 77\n",
            "1010110\n"
          ]
        }
      ],
      "source": [
        "#python programme to add 2 binary nnumbers\n",
        "num1=\"1001\"\n",
        "num2=\"1001101\"\n",
        "print(\"num1--->\",int(num1,2))\n",
        "print(\"num2--->\",int(num2,2))\n",
        "res=int(num1,2)+int(num2,2)\n",
        "print(f\"{res:b}\")"
      ]
    },
    {
      "cell_type": "code",
      "execution_count": null,
      "metadata": {
        "colab": {
          "base_uri": "https://localhost:8080/",
          "height": 211
        },
        "id": "DQEGO1rPxujZ",
        "outputId": "7141147f-9efe-40a0-88c7-231f58c7e99e"
      },
      "outputs": [
        {
          "ename": "TypeError",
          "evalue": "ignored",
          "output_type": "error",
          "traceback": [
            "\u001b[0;31m---------------------------------------------------------------------------\u001b[0m",
            "\u001b[0;31mTypeError\u001b[0m                                 Traceback (most recent call last)",
            "\u001b[0;32m<ipython-input-14-d7900a99e720>\u001b[0m in \u001b[0;36m<cell line: 3>\u001b[0;34m()\u001b[0m\n\u001b[1;32m      1\u001b[0m \u001b[0;31m#Python programme that takes in a list of numbers as input and outputs the next number\u001b[0m\u001b[0;34m\u001b[0m\u001b[0;34m\u001b[0m\u001b[0m\n\u001b[1;32m      2\u001b[0m \u001b[0ma\u001b[0m\u001b[0;34m=\u001b[0m\u001b[0;34m[\u001b[0m\u001b[0;36m1\u001b[0m\u001b[0;34m,\u001b[0m\u001b[0;36m2\u001b[0m\u001b[0;34m,\u001b[0m\u001b[0;36m3\u001b[0m\u001b[0;34m,\u001b[0m\u001b[0;36m4\u001b[0m\u001b[0;34m]\u001b[0m\u001b[0;34m\u001b[0m\u001b[0;34m\u001b[0m\u001b[0m\n\u001b[0;32m----> 3\u001b[0;31m \u001b[0mprint\u001b[0m\u001b[0;34m(\u001b[0m\u001b[0;34m\"\"\u001b[0m\u001b[0;34m.\u001b[0m\u001b[0mjoin\u001b[0m\u001b[0;34m(\u001b[0m\u001b[0ma\u001b[0m\u001b[0;34m)\u001b[0m\u001b[0;34m)\u001b[0m\u001b[0;34m\u001b[0m\u001b[0;34m\u001b[0m\u001b[0m\n\u001b[0m",
            "\u001b[0;31mTypeError\u001b[0m: sequence item 0: expected str instance, int found"
          ]
        }
      ],
      "source": [
        "#Python programme that takes in a list of numbers as input and outputs the next number\n",
        "a=[1,2,3,4]\n",
        "print(\"\".join(a))"
      ]
    },
    {
      "cell_type": "code",
      "execution_count": null,
      "metadata": {
        "colab": {
          "base_uri": "https://localhost:8080/"
        },
        "id": "Q9io09RJ1S-x",
        "outputId": "80bc3b43-0bdf-468f-98d6-8116ddaa2aa0"
      },
      "outputs": [
        {
          "name": "stdout",
          "output_type": "stream",
          "text": [
            "abcd\n"
          ]
        }
      ],
      "source": [
        "a1=['a','b','c','d']\n",
        "print(\"\".join(a1))\n",
        "#as you can see join works only when all items of the list are strings"
      ]
    },
    {
      "cell_type": "code",
      "execution_count": null,
      "metadata": {
        "colab": {
          "base_uri": "https://localhost:8080/",
          "height": 194
        },
        "id": "iBkdJb2g2oV0",
        "outputId": "a90f2c76-6d06-413d-a1d5-a8b1eff5dcdd"
      },
      "outputs": [
        {
          "ename": "TypeError",
          "evalue": "ignored",
          "output_type": "error",
          "traceback": [
            "\u001b[0;31m---------------------------------------------------------------------------\u001b[0m",
            "\u001b[0;31mTypeError\u001b[0m                                 Traceback (most recent call last)",
            "\u001b[0;32m<ipython-input-16-c03309221d99>\u001b[0m in \u001b[0;36m<cell line: 2>\u001b[0;34m()\u001b[0m\n\u001b[1;32m      1\u001b[0m \u001b[0ma2\u001b[0m\u001b[0;34m=\u001b[0m\u001b[0;34m[\u001b[0m\u001b[0;34m'a'\u001b[0m\u001b[0;34m,\u001b[0m\u001b[0;34m'b'\u001b[0m\u001b[0;34m,\u001b[0m\u001b[0;36m3\u001b[0m\u001b[0;34m,\u001b[0m\u001b[0;34m'd'\u001b[0m\u001b[0;34m]\u001b[0m\u001b[0;34m\u001b[0m\u001b[0;34m\u001b[0m\u001b[0m\n\u001b[0;32m----> 2\u001b[0;31m \u001b[0mprint\u001b[0m\u001b[0;34m(\u001b[0m\u001b[0;34m\"\"\u001b[0m\u001b[0;34m.\u001b[0m\u001b[0mjoin\u001b[0m\u001b[0;34m(\u001b[0m\u001b[0ma2\u001b[0m\u001b[0;34m)\u001b[0m\u001b[0;34m)\u001b[0m\u001b[0;34m\u001b[0m\u001b[0;34m\u001b[0m\u001b[0m\n\u001b[0m",
            "\u001b[0;31mTypeError\u001b[0m: sequence item 2: expected str instance, int found"
          ]
        }
      ],
      "source": [
        "a2=['a','b',3,'d']\n",
        "print(\"\".join(a2))"
      ]
    },
    {
      "cell_type": "code",
      "execution_count": null,
      "metadata": {
        "colab": {
          "base_uri": "https://localhost:8080/"
        },
        "id": "e0eXOMry3-CI",
        "outputId": "fcb69b5b-2a37-441c-c67e-f96515dd2705"
      },
      "outputs": [
        {
          "name": "stdout",
          "output_type": "stream",
          "text": [
            "[1, 2, 3, 5]\n"
          ]
        }
      ],
      "source": [
        "a11=[1,2,3,4]\n",
        "a2=list(map(int,list(str(int(\"\".join(map(str,a11)))+1))))\n",
        "print(a2)\n",
        "#A python program that takes a list of numbers and output the next number for example in this case it intakes list [1,2,3,4] and outputs list\n",
        "#[1,2,3,5]"
      ]
    },
    {
      "cell_type": "code",
      "execution_count": null,
      "metadata": {
        "colab": {
          "base_uri": "https://localhost:8080/"
        },
        "id": "mjlILT1h7OGz",
        "outputId": "87d62c6f-442d-46e9-9ce2-a438104175db"
      },
      "outputs": [
        {
          "name": "stdout",
          "output_type": "stream",
          "text": [
            "[1, 0, 0, 0]\n"
          ]
        }
      ],
      "source": [
        "a11=[9,9,9]\n",
        "a22=list(map(int,list(str(int(\"\".join(map(str,a11)))+1))))\n",
        "print(a22)\n",
        "#As every item of the list is integer, so all the items needs to be first converted into string to be combined into a single string using\n",
        "#join, after that that string is converted into integer and incremented by 1 and then that incremented integer is converted back into string and then list\n",
        "#but we get this list ['1','0','0','0'], now we have to convert every item of the list into a string and we do that using map function again where\n",
        "#map(function,iterable) and function is now applied on every item of the iterable. Here we will use int function to be applied on the list"
      ]
    },
    {
      "cell_type": "code",
      "execution_count": null,
      "metadata": {
        "colab": {
          "base_uri": "https://localhost:8080/"
        },
        "id": "oqi0bLTHBXpt",
        "outputId": "0e3f9fa9-f744-497d-e1ee-92fb60623421"
      },
      "outputs": [
        {
          "name": "stdout",
          "output_type": "stream",
          "text": [
            "2023-12-04 12:02:43.409050\n"
          ]
        }
      ],
      "source": [
        "from datetime import datetime\n",
        "right_now=datetime.now()\n",
        "print(right_now)"
      ]
    },
    {
      "cell_type": "code",
      "execution_count": null,
      "metadata": {
        "colab": {
          "base_uri": "https://localhost:8080/",
          "height": 35
        },
        "id": "kE0Jc6FVuEUl",
        "outputId": "b2c60ff6-d571-4485-a948-a713583e9e09"
      },
      "outputs": [
        {
          "data": {
            "application/vnd.google.colaboratory.intrinsic+json": {
              "type": "string"
            },
            "text/plain": [
              "'04:12:23'"
            ]
          },
          "execution_count": 4,
          "metadata": {},
          "output_type": "execute_result"
        }
      ],
      "source": [
        "datetime.strptime('2023-12-04','%Y-%m-%d').strftime(\"%d:%m:%y\")\n",
        "#strptime is string parse time. It takes a string object and converts into a datetime object in a specified format\n",
        "#strftime means string format time. It formats a datetime object into string format based on the specifid notation"
      ]
    },
    {
      "cell_type": "code",
      "execution_count": null,
      "metadata": {
        "colab": {
          "base_uri": "https://localhost:8080/",
          "height": 35
        },
        "id": "QXN47OHr11r9",
        "outputId": "e9af0fac-9955-4e7f-cc64-50a659873be9"
      },
      "outputs": [
        {
          "data": {
            "application/vnd.google.colaboratory.intrinsic+json": {
              "type": "string"
            },
            "text/plain": [
              "'04-12-23'"
            ]
          },
          "execution_count": 5,
          "metadata": {},
          "output_type": "execute_result"
        }
      ],
      "source": [
        "datetime.strptime('2023-12-04','%Y-%m-%d').strftime('%d-%m-%y')\n",
        "#strptime is string parse time. It takes a string object and converts into a datetime object in a specified format\n",
        "#strftime is string format time. It takes a datetime object and converts into a string format object in a specified format."
      ]
    },
    {
      "cell_type": "code",
      "execution_count": null,
      "metadata": {
        "colab": {
          "base_uri": "https://localhost:8080/",
          "height": 35
        },
        "id": "dTlyavum3G0V",
        "outputId": "90ce1a7f-fcd9-4ec4-aafe-119b73b77313"
      },
      "outputs": [
        {
          "data": {
            "application/vnd.google.colaboratory.intrinsic+json": {
              "type": "string"
            },
            "text/plain": [
              "'04-12-2023'"
            ]
          },
          "execution_count": 6,
          "metadata": {},
          "output_type": "execute_result"
        }
      ],
      "source": [
        "datetime.strptime('2023-12-04','%Y-%m-%d').strftime('%d-%m-%Y')\n",
        "#strptime is string parse time. It takes in string object and converts it into a datetime object in a specified format.\n",
        "#strftime is string format time. It takes in a datetime object and converts it into string format object in a specified format."
      ]
    },
    {
      "cell_type": "code",
      "execution_count": null,
      "metadata": {
        "colab": {
          "base_uri": "https://localhost:8080/"
        },
        "id": "ZiQBgLI-5EFG",
        "outputId": "3fc5838a-a42e-4ee8-f0a9-98b6cdae187e"
      },
      "outputs": [
        {
          "name": "stdout",
          "output_type": "stream",
          "text": [
            "abbbb\n",
            "<re.Match object; span=(3, 8), match='abbbb'>\n",
            "['abbbb', 'abbbbb', 'abbbb']\n"
          ]
        }
      ],
      "source": [
        "import re\n",
        "text=\"aaaabbbbccccddddabbbbbcdddabbbb\"\n",
        "pattern=\"ab{4,8}\"\n",
        "a=re.search(pattern,text)\n",
        "print(a.group())\n",
        "print(a)\n",
        "b=re.findall(pattern,text)\n",
        "print(b)"
      ]
    },
    {
      "cell_type": "code",
      "execution_count": null,
      "metadata": {
        "colab": {
          "base_uri": "https://localhost:8080/"
        },
        "id": "b6ewjIaUJ27c",
        "outputId": "aca00ff0-a787-4d18-86a1-3c7848bd9303"
      },
      "outputs": [
        {
          "name": "stdout",
          "output_type": "stream",
          "text": [
            "None\n"
          ]
        }
      ],
      "source": [
        "import re\n",
        "text='abcdefghijklmahendrasinghdhoni'\n",
        "pattern='ab{3,8}'\n",
        "a=re.search(pattern,text)\n",
        "print(a)\n",
        "#if no matching is found then if we do a.group(), we get error else if matching is found then a.group() would fetch the matching element."
      ]
    },
    {
      "cell_type": "code",
      "execution_count": null,
      "metadata": {
        "colab": {
          "base_uri": "https://localhost:8080/",
          "height": 35
        },
        "id": "oCaYIgnscyog",
        "outputId": "4847e13a-b2ea-4d60-f29a-df475507c01f"
      },
      "outputs": [
        {
          "data": {
            "application/vnd.google.colaboratory.intrinsic+json": {
              "type": "string"
            },
            "text/plain": [
              "'Match Found'"
            ]
          },
          "execution_count": 2,
          "metadata": {},
          "output_type": "execute_result"
        }
      ],
      "source": [
        "import re\n",
        "text='abbcddffoulkjhabbbhjuioabbbbdf'\n",
        "def match_data(txt_data):\n",
        "  if re.search('ab{3,8}',text):\n",
        "    return 'Match Found'\n",
        "  else:\n",
        "    return 'No Match found'\n",
        "match_data(text)"
      ]
    },
    {
      "cell_type": "code",
      "execution_count": null,
      "metadata": {
        "colab": {
          "base_uri": "https://localhost:8080/",
          "height": 35
        },
        "id": "CnFjPqHmCeYk",
        "outputId": "2a778b4d-41b0-4ae2-86a9-4edd8d13b5e3"
      },
      "outputs": [
        {
          "data": {
            "application/vnd.google.colaboratory.intrinsic+json": {
              "type": "string"
            },
            "text/plain": [
              "'Match Found'"
            ]
          },
          "execution_count": 4,
          "metadata": {},
          "output_type": "execute_result"
        }
      ],
      "source": [
        "import re\n",
        "def match_data(txt_data):\n",
        "  if re.search('ab{3,8}',text):\n",
        "    return 'Match Found'\n",
        "  else:\n",
        "    return 'No Match Found'\n",
        "match_data(text)\n",
        "#pattern 'ab{3,8}' means a pattern which has a single 'a' followed by 3 to 8 'b'. If this pattern matches then 'Match found' is returned else\n",
        "#'No Match Found' is returned. If no match is found then re.search('ab{3,8},text) returns None."
      ]
    },
    {
      "cell_type": "code",
      "execution_count": null,
      "metadata": {
        "id": "UMURv4YlEfBm"
      },
      "outputs": [],
      "source": [
        "#XOR returns 1 if and only if exactly one of your input values is 1."
      ]
    },
    {
      "cell_type": "code",
      "execution_count": null,
      "metadata": {
        "colab": {
          "base_uri": "https://localhost:8080/"
        },
        "id": "RDJdil5VzSIg",
        "outputId": "cc65002f-67ef-4448-bc1b-e4b7f3daaef2"
      },
      "outputs": [
        {
          "name": "stdout",
          "output_type": "stream",
          "text": [
            "2\n",
            "0\n"
          ]
        }
      ],
      "source": [
        "a=1\n",
        "print(a<<1)\n",
        "print(a>>1)"
      ]
    },
    {
      "cell_type": "code",
      "execution_count": null,
      "metadata": {
        "colab": {
          "base_uri": "https://localhost:8080/"
        },
        "id": "MbvQrV5ez9w2",
        "outputId": "0ed64b00-9889-4a23-a27b-62f49e2a6cfd"
      },
      "outputs": [
        {
          "name": "stdout",
          "output_type": "stream",
          "text": [
            "12\n"
          ]
        }
      ],
      "source": [
        "#how to add 2 numbers without + operator\n",
        "num1=2\n",
        "num2=10\n",
        "while num2!=0:\n",
        "  data=num1&num2\n",
        "  num1=num1^num2\n",
        "  num2=data<<1\n",
        "print(num1)"
      ]
    },
    {
      "cell_type": "code",
      "execution_count": null,
      "metadata": {
        "colab": {
          "base_uri": "https://localhost:8080/"
        },
        "id": "TIqw2ikRq4HI",
        "outputId": "ef13b7fe-d07f-416e-b066-9366dfb72d23"
      },
      "outputs": [
        {
          "name": "stdout",
          "output_type": "stream",
          "text": [
            "12\n"
          ]
        }
      ],
      "source": [
        "num1=2\n",
        "num2=10\n",
        "while num2!=0:\n",
        "  data=num1&num2\n",
        "  num1=num1^num2\n",
        "  num2=data<<1\n",
        "print(num1)"
      ]
    },
    {
      "cell_type": "code",
      "execution_count": null,
      "metadata": {
        "colab": {
          "base_uri": "https://localhost:8080/"
        },
        "id": "4VieRbMzrHe9",
        "outputId": "1e5991e9-2767-4ee5-8571-afb839791109"
      },
      "outputs": [
        {
          "data": {
            "text/plain": [
              "True"
            ]
          },
          "execution_count": 4,
          "metadata": {},
          "output_type": "execute_result"
        }
      ],
      "source": [
        "#A sequence of numbers are taken and checked if any duplicates are present or not\n",
        "def check_duplicates(stren):\n",
        "  if len(stren)==len(set(stren)):\n",
        "    return True\n",
        "  else:\n",
        "    return False\n",
        "check_duplicates([3,5,7,9])"
      ]
    },
    {
      "cell_type": "code",
      "execution_count": null,
      "metadata": {
        "colab": {
          "base_uri": "https://localhost:8080/"
        },
        "id": "za3vYD_e7SwT",
        "outputId": "d27b04c3-f776-4922-99c7-eb5ae54a3946"
      },
      "outputs": [
        {
          "data": {
            "text/plain": [
              "False"
            ]
          },
          "execution_count": 5,
          "metadata": {},
          "output_type": "execute_result"
        }
      ],
      "source": [
        "check_duplicates([3,5,7,7,9])"
      ]
    },
    {
      "cell_type": "code",
      "execution_count": null,
      "metadata": {
        "id": "aIpV5VIc7ZZj"
      },
      "outputs": [],
      "source": [
        "#set doesnot take duplicates, secondly all the items in the set needs to be hashable and hence all the items in the set are immutable."
      ]
    },
    {
      "cell_type": "code",
      "execution_count": null,
      "metadata": {
        "colab": {
          "base_uri": "https://localhost:8080/"
        },
        "id": "M2RqjWy49uR4",
        "outputId": "676e3d70-bf57-42cb-f649-02b70aebe5d6"
      },
      "outputs": [
        {
          "name": "stdout",
          "output_type": "stream",
          "text": [
            "140483530932464 140483530932464\n",
            "140482258239040 140482258263744\n",
            "140483530932496 140483530932496\n",
            "140482258235904 140482258260480\n"
          ]
        }
      ],
      "source": [
        "import copy\n",
        "a=[1,2,[3,4]]\n",
        "b=copy.deepcopy(a)\n",
        "print(id(a[0]),id(b[0]))\n",
        "print(id(a[2]),id(b[2]))\n",
        "print(id(a[1]),id(b[1]))\n",
        "print(id(a),id(b))"
      ]
    },
    {
      "cell_type": "code",
      "execution_count": null,
      "metadata": {
        "colab": {
          "base_uri": "https://localhost:8080/"
        },
        "id": "hgC7IDUcJb9B",
        "outputId": "ccd89872-dd49-43f2-85da-26a96d036d0c"
      },
      "outputs": [
        {
          "name": "stdout",
          "output_type": "stream",
          "text": [
            "140483530932464 140483530932464\n",
            "140482258259648 140482258259648\n",
            "140483530932496 140483530932496\n",
            "140482259921664 140482259854464\n"
          ]
        }
      ],
      "source": [
        "a1=[1,2,[3,4]]\n",
        "b1=a1.copy()\n",
        "print(id(a1[0]),id(b1[0]))\n",
        "print(id(a1[2]),id(b1[2]))\n",
        "print(id(a1[1]),id(b1[1]))\n",
        "print(id(a1),id(b1))\n",
        "#As can be seen in shallow copy, reference of the nested object is passed as it is as a result of which any change in nested object present\n",
        "#within the new object is reflected back to old object as well but in case of deep copy as we can see the reference of the nested object within the old object\n",
        "#and reference of the nested object within the new object is completely different. Hence any change made to the nested object within new object is not\n",
        "#reflected by the old object."
      ]
    },
    {
      "cell_type": "code",
      "execution_count": null,
      "metadata": {
        "colab": {
          "base_uri": "https://localhost:8080/"
        },
        "id": "kVsjTINMMhO2",
        "outputId": "4bde274e-3e5a-4dea-eeb0-7c961a89f261"
      },
      "outputs": [
        {
          "name": "stdout",
          "output_type": "stream",
          "text": [
            "[1, 2, [3, 4]]\n",
            "[1, 2, [3, 4, 91]]\n"
          ]
        }
      ],
      "source": [
        "#Advantage of deep copy is as shown below\n",
        "import copy\n",
        "a1=[1,2,[3,4]]\n",
        "b1=copy.deepcopy(a1)\n",
        "b1[2].append(91)\n",
        "print(a1)\n",
        "print(b1)\n",
        "#As you can see any change made to the nested object of the new object is not reflected back to the nested object present within the old object\n",
        "#as references of both the nested objects are different."
      ]
    },
    {
      "cell_type": "code",
      "execution_count": null,
      "metadata": {
        "colab": {
          "base_uri": "https://localhost:8080/"
        },
        "id": "sl3b_BQZSxCT",
        "outputId": "4ff73fa7-3b2c-4039-beac-d2f7063b64b6"
      },
      "outputs": [
        {
          "name": "stdout",
          "output_type": "stream",
          "text": [
            "140482258383488\n",
            "140482258379968\n",
            "[5, 6] [5, 6]\n"
          ]
        }
      ],
      "source": [
        "import copy\n",
        "a1=[1,[2,3],[4,[5,6]]]\n",
        "b1=copy.deepcopy(a1)\n",
        "print(id(a1[2][1]))\n",
        "print(id(b1[2][1]))\n",
        "print(a1[2][1],b1[2][1])\n",
        "#As you can see, copying something recursively means creating copies(new objects) not just of the original object but also of the nested objects\n",
        "#inside that object and also of the nested object within the nested object."
      ]
    },
    {
      "cell_type": "code",
      "execution_count": null,
      "metadata": {
        "id": "RqMY8WhXA3Z6"
      },
      "outputs": [],
      "source": [
        "#Deep copying involves recursive copying(creating a copy not just of the object but also of the nested object existing within). Shallow copying\n",
        "#involves copying just the object not the nested objects within, all the references existing in the original object are copied in case of shallow\n",
        "#copying as it is."
      ]
    },
    {
      "cell_type": "code",
      "execution_count": null,
      "metadata": {
        "colab": {
          "base_uri": "https://localhost:8080/"
        },
        "id": "4uxUzpb3C-Bv",
        "outputId": "f4ffeaf4-15ab-4730-d943-d9cc5bf616e7"
      },
      "outputs": [
        {
          "data": {
            "text/plain": [
              "[2, 4, 6, 8, 10, 12, 14, 16]"
            ]
          },
          "execution_count": 2,
          "metadata": {},
          "output_type": "execute_result"
        }
      ],
      "source": [
        "#Lambda functions in python are small, anonymous, single-use function. The lambda functions can have any number of arguments  but only 1 expression\n",
        "#an example of this\n",
        "list(map(lambda x:x*2,[1,2,3,4,5,6,7,8]))"
      ]
    },
    {
      "cell_type": "code",
      "execution_count": null,
      "metadata": {
        "colab": {
          "base_uri": "https://localhost:8080/"
        },
        "id": "8HGCsoqLGz9a",
        "outputId": "2e0c2960-cce0-45ec-f8dc-166013866a23"
      },
      "outputs": [
        {
          "name": "stdout",
          "output_type": "stream",
          "text": [
            "The output is  4.0\n"
          ]
        }
      ],
      "source": [
        "#decorator in python adds extra functionality to an already existing function\n",
        "def divider(first,second):\n",
        "  print(\"The output is \",first/second)\n",
        "\n",
        "divider(16,4)"
      ]
    },
    {
      "cell_type": "code",
      "execution_count": null,
      "metadata": {
        "colab": {
          "base_uri": "https://localhost:8080/"
        },
        "id": "XWcs-hdgLWE5",
        "outputId": "c104b0f2-3272-4e59-b098-01952c5c1184"
      },
      "outputs": [
        {
          "name": "stdout",
          "output_type": "stream",
          "text": [
            "The output is  0.25\n"
          ]
        }
      ],
      "source": [
        "divider(4,16)"
      ]
    },
    {
      "cell_type": "code",
      "execution_count": null,
      "metadata": {
        "colab": {
          "base_uri": "https://localhost:8080/"
        },
        "id": "M0rYdWbwLj5-",
        "outputId": "41ffef64-759f-440a-9152-0b07d6e23541"
      },
      "outputs": [
        {
          "name": "stdout",
          "output_type": "stream",
          "text": [
            "The output is  4.0\n"
          ]
        }
      ],
      "source": [
        "divider(16,4)\n",
        "#as you can see in this case if you swap the arguments then you are getting a different answer, hence to avoid this we use decorators."
      ]
    },
    {
      "cell_type": "code",
      "execution_count": null,
      "metadata": {
        "colab": {
          "base_uri": "https://localhost:8080/"
        },
        "id": "vqzDrqgrQ6fM",
        "outputId": "a1d07999-e38b-4f91-c800-733f5bb44fc4"
      },
      "outputs": [
        {
          "name": "stdout",
          "output_type": "stream",
          "text": [
            "The division result is  4.0\n"
          ]
        }
      ],
      "source": [
        "def swipe_decorator(func):\n",
        "  def swiper(first,second):\n",
        "    if first<second:\n",
        "      first,second=second,first\n",
        "    return func(first,second)\n",
        "  return swiper\n",
        "\n",
        "def divider(first,second):\n",
        "  print(f\"The division result is \",first/second)\n",
        "divider=swipe_decorator(divider)\n",
        "divider(16,4)\n",
        "#The swipe_decorator(divider) function returns swiper, when divider(16,4) is called then swiper(16,4) is called and divider(16,4) is returned\n",
        "#which is equivalent to 4.\n",
        "# The swipe_decorator(divider) function returns swiper, when divider(4,16) is called then swiper(4,16) is called and divider(16,4) is returned\n",
        "#again which is equivalent to 4"
      ]
    },
    {
      "cell_type": "code",
      "execution_count": null,
      "metadata": {
        "colab": {
          "base_uri": "https://localhost:8080/"
        },
        "id": "050cul2bVvbl",
        "outputId": "99bea041-e2cc-47ac-b2c6-e9510c4e7f20"
      },
      "outputs": [
        {
          "name": "stdout",
          "output_type": "stream",
          "text": [
            "The division result is  4.0\n"
          ]
        }
      ],
      "source": [
        "divider(4,16)"
      ]
    },
    {
      "cell_type": "code",
      "execution_count": null,
      "metadata": {
        "colab": {
          "base_uri": "https://localhost:8080/"
        },
        "id": "fhncNwOOWDC5",
        "outputId": "d7af1b95-79e0-4ae2-8bc8-de23d263e72e"
      },
      "outputs": [
        {
          "name": "stdout",
          "output_type": "stream",
          "text": [
            "The result is  4.0\n"
          ]
        }
      ],
      "source": [
        "def swipe_decorator1(func):\n",
        "  def swiper(first,second):\n",
        "    if first<second:\n",
        "      first,second=second,first\n",
        "    return func(first,second)\n",
        "  return swiper\n",
        "\n",
        "@swipe_decorator1\n",
        "def divider(first,second):\n",
        "  print(\"The result is \",first/second)\n",
        "divider(4,16)"
      ]
    },
    {
      "cell_type": "code",
      "execution_count": null,
      "metadata": {
        "colab": {
          "base_uri": "https://localhost:8080/"
        },
        "id": "pIKtxgFMghUc",
        "outputId": "dc519397-b0a7-4218-da10-6c048bfa50e4"
      },
      "outputs": [
        {
          "name": "stdout",
          "output_type": "stream",
          "text": [
            "The result is  4.0\n"
          ]
        }
      ],
      "source": [
        "divider(16,4)\n",
        "#As you can see this is another way of using decorators using @swipe_decorator1"
      ]
    },
    {
      "cell_type": "code",
      "execution_count": null,
      "metadata": {
        "id": "RfRLm4FGg1Rz"
      },
      "outputs": [],
      "source": [
        "#This is how we determine if a class is subclass of another class.\n",
        "class abc:\n",
        "  pass\n",
        "class pqr(abc):\n",
        "  pass\n",
        "print(issubclass(abc,pqr))\n",
        "print(issubclass(pqr,abc))\n",
        "#issubclass(abc,pqr) returns False because abc is not a subclass of pqr but issubclass(pqr,abc) returns True as pqr is indeed a subclass of abc."
      ]
    },
    {
      "cell_type": "code",
      "execution_count": null,
      "metadata": {
        "colab": {
          "base_uri": "https://localhost:8080/",
          "height": 229
        },
        "id": "q74wEEe3pAhs",
        "outputId": "71c73f41-c49e-4d19-acf6-fe662715b863"
      },
      "outputs": [
        {
          "name": "stdout",
          "output_type": "stream",
          "text": [
            "This is constructor of father class\n"
          ]
        },
        {
          "ename": "TypeError",
          "evalue": "ignored",
          "output_type": "error",
          "traceback": [
            "\u001b[0;31m---------------------------------------------------------------------------\u001b[0m",
            "\u001b[0;31mTypeError\u001b[0m                                 Traceback (most recent call last)",
            "\u001b[0;32m<ipython-input-2-0f07b111b404>\u001b[0m in \u001b[0;36m<cell line: 10>\u001b[0;34m()\u001b[0m\n\u001b[1;32m      8\u001b[0m     \u001b[0mprint\u001b[0m\u001b[0;34m(\u001b[0m\u001b[0;34m\"Come on\"\u001b[0m\u001b[0;34m)\u001b[0m\u001b[0;34m\u001b[0m\u001b[0;34m\u001b[0m\u001b[0m\n\u001b[1;32m      9\u001b[0m \u001b[0md1\u001b[0m\u001b[0;34m=\u001b[0m\u001b[0mfather\u001b[0m\u001b[0;34m(\u001b[0m\u001b[0;34m)\u001b[0m\u001b[0;34m\u001b[0m\u001b[0;34m\u001b[0m\u001b[0m\n\u001b[0;32m---> 10\u001b[0;31m \u001b[0md1\u001b[0m\u001b[0;34m.\u001b[0m\u001b[0mshow\u001b[0m\u001b[0;34m(\u001b[0m\u001b[0;34m)\u001b[0m\u001b[0;34m\u001b[0m\u001b[0;34m\u001b[0m\u001b[0m\n\u001b[0m",
            "\u001b[0;31mTypeError\u001b[0m: father.show() takes 0 positional arguments but 1 was given"
          ]
        }
      ],
      "source": [
        "#Method resolution order(MRO).A class inherits from multiple classes under multiple inheritance. If we attempt to access a method by building\n",
        "#an object from the child class then the method is first searched for in the child class and if it is not found in the child class then it is searched\n",
        "#for in the classes from left to the right in the order of inheritance.\n",
        "class father:\n",
        "  def __init__(self):\n",
        "    print(\"This is constructor of father class\")\n",
        "  def show():\n",
        "    print(\"Come on\")\n",
        "d1=father()\n",
        "d1.show()\n",
        "#The argument self is used to make\n"
      ]
    },
    {
      "cell_type": "code",
      "execution_count": null,
      "metadata": {
        "colab": {
          "base_uri": "https://localhost:8080/",
          "height": 350
        },
        "id": "K1CKFrXa_6uH",
        "outputId": "e1a6f659-ae47-4907-aa1b-fcb2f24a1308"
      },
      "outputs": [
        {
          "name": "stdout",
          "output_type": "stream",
          "text": [
            "kaun hai bey \n"
          ]
        },
        {
          "ename": "AttributeError",
          "evalue": "ignored",
          "output_type": "error",
          "traceback": [
            "\u001b[0;31m---------------------------------------------------------------------------\u001b[0m",
            "\u001b[0;31mAttributeError\u001b[0m                            Traceback (most recent call last)",
            "\u001b[0;32m<ipython-input-2-965f5eab2558>\u001b[0m in \u001b[0;36m<cell line: 13>\u001b[0;34m()\u001b[0m\n\u001b[1;32m     11\u001b[0m \u001b[0;34m\u001b[0m\u001b[0m\n\u001b[1;32m     12\u001b[0m \u001b[0mc1\u001b[0m\u001b[0;34m=\u001b[0m\u001b[0mmnb\u001b[0m\u001b[0;34m(\u001b[0m\u001b[0;36m22\u001b[0m\u001b[0;34m)\u001b[0m\u001b[0;34m\u001b[0m\u001b[0;34m\u001b[0m\u001b[0m\n\u001b[0;32m---> 13\u001b[0;31m \u001b[0mc1\u001b[0m\u001b[0;34m.\u001b[0m\u001b[0mmake_c\u001b[0m\u001b[0;34m(\u001b[0m\u001b[0;36m24\u001b[0m\u001b[0;34m)\u001b[0m\u001b[0;34m\u001b[0m\u001b[0;34m\u001b[0m\u001b[0m\n\u001b[0m",
            "\u001b[0;32m<ipython-input-2-965f5eab2558>\u001b[0m in \u001b[0;36mmake_c\u001b[0;34m(self, c)\u001b[0m\n\u001b[1;32m      8\u001b[0m   \u001b[0;32mdef\u001b[0m \u001b[0mmake_c\u001b[0m\u001b[0;34m(\u001b[0m\u001b[0mself\u001b[0m\u001b[0;34m,\u001b[0m\u001b[0mc\u001b[0m\u001b[0;34m)\u001b[0m\u001b[0;34m:\u001b[0m\u001b[0;34m\u001b[0m\u001b[0;34m\u001b[0m\u001b[0m\n\u001b[1;32m      9\u001b[0m     \u001b[0mself\u001b[0m\u001b[0;34m.\u001b[0m\u001b[0mc\u001b[0m\u001b[0;34m=\u001b[0m\u001b[0mc\u001b[0m\u001b[0;34m\u001b[0m\u001b[0;34m\u001b[0m\u001b[0m\n\u001b[0;32m---> 10\u001b[0;31m     \u001b[0mprint\u001b[0m\u001b[0;34m(\u001b[0m\u001b[0;34m\"hum hoon make_c \"\u001b[0m\u001b[0;34m,\u001b[0m\u001b[0mself\u001b[0m\u001b[0;34m.\u001b[0m\u001b[0mb\u001b[0m\u001b[0;34m)\u001b[0m\u001b[0;34m\u001b[0m\u001b[0;34m\u001b[0m\u001b[0m\n\u001b[0m\u001b[1;32m     11\u001b[0m \u001b[0;34m\u001b[0m\u001b[0m\n\u001b[1;32m     12\u001b[0m \u001b[0mc1\u001b[0m\u001b[0;34m=\u001b[0m\u001b[0mmnb\u001b[0m\u001b[0;34m(\u001b[0m\u001b[0;36m22\u001b[0m\u001b[0;34m)\u001b[0m\u001b[0;34m\u001b[0m\u001b[0;34m\u001b[0m\u001b[0m\n",
            "\u001b[0;31mAttributeError\u001b[0m: 'mnb' object has no attribute 'b'"
          ]
        }
      ],
      "source": [
        "class mnb:\n",
        "  def __init__(self,a):\n",
        "    self.a=a\n",
        "    print(\"kaun hai bey \")\n",
        "  def make_b(self,b):\n",
        "    self.b=b\n",
        "    print(\"hum hoon make_b \",self.a)\n",
        "  def make_c(self,c):\n",
        "    self.c=c\n",
        "    print(\"hum hoon make_c \",self.b)\n",
        "\n",
        "c1=mnb(22)\n",
        "c1.make_c(24)\n"
      ]
    },
    {
      "cell_type": "code",
      "execution_count": null,
      "metadata": {
        "colab": {
          "base_uri": "https://localhost:8080/"
        },
        "id": "jsX2zxgnBq9Y",
        "outputId": "5ef9ab65-a848-41e5-fc8e-2f7259c61c6b"
      },
      "outputs": [
        {
          "name": "stdout",
          "output_type": "stream",
          "text": [
            "kaun hai bey \n",
            "hum hoon make_b  23\n",
            "hum hoon make_c  25\n"
          ]
        }
      ],
      "source": [
        "c2=mnb(23)\n",
        "c2.make_b(25)\n",
        "c2.make_c(27)\n",
        "#AS you can see self also helps in inta-class communication."
      ]
    },
    {
      "cell_type": "code",
      "execution_count": null,
      "metadata": {
        "id": "0IOgqk6CIqUg"
      },
      "outputs": [],
      "source": [
        "#When you define a method within a class and want that method to access and modify the instance variables specific to a class then we use the\n",
        "#self parameter. This parameter refers to specific instance of class and allows access to its attributes and methods."
      ]
    },
    {
      "cell_type": "code",
      "execution_count": null,
      "metadata": {
        "id": "XNFXxfzmWZl5"
      },
      "outputs": [],
      "source": [
        "#This parameter helps to differentiate between instance attributes and local attributes. self is a reference to the instance of the class and\n",
        "#and allows the instance of class to access methods and acess and modify instance attributes"
      ]
    },
    {
      "cell_type": "code",
      "execution_count": null,
      "metadata": {
        "colab": {
          "base_uri": "https://localhost:8080/"
        },
        "id": "no3zrhOIZGnc",
        "outputId": "157bcd01-c3a4-45ad-de87-d0482b898711"
      },
      "outputs": [
        {
          "name": "stdout",
          "output_type": "stream",
          "text": [
            "25\n"
          ]
        },
        {
          "data": {
            "text/plain": [
              "729"
            ]
          },
          "execution_count": 7,
          "metadata": {},
          "output_type": "execute_result"
        }
      ],
      "source": [
        "class miner:\n",
        "  clss_vl1=25\n",
        "  @staticmethod\n",
        "  def kambal(x):\n",
        "    print(miner.clss_vl1)\n",
        "    return x**3\n",
        "miner.kambal(9)\n"
      ]
    },
    {
      "cell_type": "code",
      "execution_count": null,
      "metadata": {
        "colab": {
          "base_uri": "https://localhost:8080/",
          "height": 263
        },
        "id": "4fbNxL_1n5OB",
        "outputId": "e173231c-34c5-4868-e6df-0ead3115b9f9"
      },
      "outputs": [
        {
          "ename": "TypeError",
          "evalue": "ignored",
          "output_type": "error",
          "traceback": [
            "\u001b[0;31m---------------------------------------------------------------------------\u001b[0m",
            "\u001b[0;31mTypeError\u001b[0m                                 Traceback (most recent call last)",
            "\u001b[0;32m<ipython-input-1-7ef8718defad>\u001b[0m in \u001b[0;36m<cell line: 6>\u001b[0;34m()\u001b[0m\n\u001b[1;32m      4\u001b[0m   \u001b[0;32mdef\u001b[0m \u001b[0mkumfu\u001b[0m\u001b[0;34m(\u001b[0m\u001b[0mcls\u001b[0m\u001b[0;34m)\u001b[0m\u001b[0;34m:\u001b[0m\u001b[0;34m\u001b[0m\u001b[0;34m\u001b[0m\u001b[0m\n\u001b[1;32m      5\u001b[0m     \u001b[0mprint\u001b[0m\u001b[0;34m(\u001b[0m\u001b[0mcls\u001b[0m\u001b[0;34m.\u001b[0m\u001b[0mclss_vl1\u001b[0m\u001b[0;34m)\u001b[0m\u001b[0;34m\u001b[0m\u001b[0;34m\u001b[0m\u001b[0m\n\u001b[0;32m----> 6\u001b[0;31m \u001b[0mminer1\u001b[0m\u001b[0;34m.\u001b[0m\u001b[0mkumfu\u001b[0m\u001b[0;34m(\u001b[0m\u001b[0;34m)\u001b[0m\u001b[0;34m\u001b[0m\u001b[0;34m\u001b[0m\u001b[0m\n\u001b[0m\u001b[1;32m      7\u001b[0m \u001b[0;31m#as we can see that we cannot access class variables from static methods using cls or self argument. Although we can access the class variables\u001b[0m\u001b[0;34m\u001b[0m\u001b[0;34m\u001b[0m\u001b[0m\n\u001b[1;32m      8\u001b[0m \u001b[0;31m#using class name, we cannot access it using parameters\u001b[0m\u001b[0;34m\u001b[0m\u001b[0;34m\u001b[0m\u001b[0m\n",
            "\u001b[0;31mTypeError\u001b[0m: miner1.kumfu() missing 1 required positional argument: 'cls'"
          ]
        }
      ],
      "source": [
        "class miner1:\n",
        "  clss_vl1=299\n",
        "  @staticmethod\n",
        "  def kumfu(cls):\n",
        "    print(cls.clss_vl1)\n",
        "miner1.kumfu()\n",
        "#as we can see that we cannot access class variables from static methods using cls or self argument. Although we can access the class variables\n",
        "#using class name, we cannot access it using parameters"
      ]
    },
    {
      "cell_type": "code",
      "execution_count": null,
      "metadata": {
        "colab": {
          "base_uri": "https://localhost:8080/"
        },
        "id": "NoPm_jS1om42",
        "outputId": "cd72b785-a60c-45a7-9f8f-2a87f3b1b2f5"
      },
      "outputs": [
        {
          "name": "stdout",
          "output_type": "stream",
          "text": [
            "100\n"
          ]
        }
      ],
      "source": [
        "class mahindra:\n",
        "  clss_vr1=100\n",
        "  @classmethod\n",
        "  def miner1(cls):\n",
        "    print(mahindra.clss_vr1)\n",
        "  def ramn(self):\n",
        "    print(\"who is great\")\n",
        "\n",
        "mahindra.miner1()"
      ]
    },
    {
      "cell_type": "code",
      "execution_count": null,
      "metadata": {
        "id": "yhTGQ6p3Tpgq"
      },
      "outputs": [],
      "source": [
        "#instance methods can access class variables as well as instance variables, instance methods can be called by the instanc of class(i.e objects) not by class itself\n",
        "#class methods can access only class variables not instance variables, class methods can be accessed both by class as well as by the instances of class\n",
        "#static method can access only class variables, static methods can be accessed by both class as well as instance of class\n",
        "#Lastly class methods use decorator called @classmethod, static method too use decorators @staticmethod but instance methods donot use decorators"
      ]
    },
    {
      "cell_type": "code",
      "execution_count": null,
      "metadata": {
        "colab": {
          "base_uri": "https://localhost:8080/",
          "height": 211
        },
        "id": "yDC5DkgniSPV",
        "outputId": "21a8a3ad-3190-4ed3-b382-f5f3b092cfc4"
      },
      "outputs": [
        {
          "ename": "TypeError",
          "evalue": "ignored",
          "output_type": "error",
          "traceback": [
            "\u001b[0;31m---------------------------------------------------------------------------\u001b[0m",
            "\u001b[0;31mTypeError\u001b[0m                                 Traceback (most recent call last)",
            "\u001b[0;32m<ipython-input-13-7403fa2798d3>\u001b[0m in \u001b[0;36m<cell line: 4>\u001b[0;34m()\u001b[0m\n\u001b[1;32m      2\u001b[0m   \u001b[0;32mdef\u001b[0m \u001b[0mkamin\u001b[0m\u001b[0;34m(\u001b[0m\u001b[0mself\u001b[0m\u001b[0;34m)\u001b[0m\u001b[0;34m:\u001b[0m\u001b[0;34m\u001b[0m\u001b[0;34m\u001b[0m\u001b[0m\n\u001b[1;32m      3\u001b[0m     \u001b[0mprint\u001b[0m\u001b[0;34m(\u001b[0m\u001b[0;34m\"jumbo\"\u001b[0m\u001b[0;34m)\u001b[0m\u001b[0;34m\u001b[0m\u001b[0;34m\u001b[0m\u001b[0m\n\u001b[0;32m----> 4\u001b[0;31m \u001b[0mrambo\u001b[0m\u001b[0;34m.\u001b[0m\u001b[0mkamin\u001b[0m\u001b[0;34m(\u001b[0m\u001b[0;34m)\u001b[0m\u001b[0;34m\u001b[0m\u001b[0;34m\u001b[0m\u001b[0m\n\u001b[0m",
            "\u001b[0;31mTypeError\u001b[0m: rambo.kamin() missing 1 required positional argument: 'self'"
          ]
        }
      ],
      "source": [
        "class rambo:\n",
        "  def kamin(self):\n",
        "    print(\"jumbo\")\n",
        "rambo.kamin()"
      ]
    },
    {
      "cell_type": "code",
      "execution_count": null,
      "metadata": {
        "colab": {
          "base_uri": "https://localhost:8080/"
        },
        "id": "OLF5bk9TUz2d",
        "outputId": "a8b1aa6e-7382-4b63-9e86-ce0de12f1a17"
      },
      "outputs": [
        {
          "name": "stdout",
          "output_type": "stream",
          "text": [
            "100\n"
          ]
        }
      ],
      "source": [
        "mns=mahindra()\n",
        "mns.miner1()\n"
      ]
    },
    {
      "cell_type": "code",
      "execution_count": null,
      "metadata": {
        "colab": {
          "base_uri": "https://localhost:8080/",
          "height": 194
        },
        "id": "JjoAzepQVNUc",
        "outputId": "5478d328-1271-4feb-c29f-ea24074102f9"
      },
      "outputs": [
        {
          "ename": "TypeError",
          "evalue": "ignored",
          "output_type": "error",
          "traceback": [
            "\u001b[0;31m---------------------------------------------------------------------------\u001b[0m",
            "\u001b[0;31mTypeError\u001b[0m                                 Traceback (most recent call last)",
            "\u001b[0;32m<ipython-input-8-9b6c48081e79>\u001b[0m in \u001b[0;36m<cell line: 1>\u001b[0;34m()\u001b[0m\n\u001b[0;32m----> 1\u001b[0;31m \u001b[0mmahindra\u001b[0m\u001b[0;34m.\u001b[0m\u001b[0mramn\u001b[0m\u001b[0;34m(\u001b[0m\u001b[0;34m)\u001b[0m\u001b[0;34m\u001b[0m\u001b[0;34m\u001b[0m\u001b[0m\n\u001b[0m\u001b[1;32m      2\u001b[0m \u001b[0;31m#\u001b[0m\u001b[0;34m\u001b[0m\u001b[0;34m\u001b[0m\u001b[0m\n",
            "\u001b[0;31mTypeError\u001b[0m: mahindra.ramn() missing 1 required positional argument: 'self'"
          ]
        }
      ],
      "source": [
        "mahindra.ramn()\n",
        "#"
      ]
    },
    {
      "cell_type": "code",
      "execution_count": null,
      "metadata": {
        "id": "XdM7fQjQfe_E"
      },
      "outputs": [],
      "source": [
        "s w"
      ]
    },
    {
      "cell_type": "code",
      "execution_count": null,
      "metadata": {
        "colab": {
          "base_uri": "https://localhost:8080/"
        },
        "id": "r4ftHvijfTkY",
        "outputId": "42592c34-525a-438d-afb4-f727ef79ce37"
      },
      "outputs": [
        {
          "name": "stdout",
          "output_type": "stream",
          "text": [
            "25\n"
          ]
        },
        {
          "data": {
            "text/plain": [
              "5832"
            ]
          },
          "execution_count": 9,
          "metadata": {},
          "output_type": "execute_result"
        }
      ],
      "source": [
        "class miner:\n",
        "  clss_vl1=25\n",
        "  @staticmethod\n",
        "  def kambal(x):\n",
        "    print(miner.clss_vl1)\n",
        "    return x**3\n",
        "d1=miner()\n",
        "d1.kambal(18)"
      ]
    },
    {
      "cell_type": "code",
      "execution_count": null,
      "metadata": {
        "colab": {
          "base_uri": "https://localhost:8080/",
          "height": 333
        },
        "id": "8qb3H1g_iyR1",
        "outputId": "2770d87e-d1b0-4da4-ccb6-29aa4f05d867"
      },
      "outputs": [
        {
          "ename": "UnboundLocalError",
          "evalue": "ignored",
          "output_type": "error",
          "traceback": [
            "\u001b[0;31m---------------------------------------------------------------------------\u001b[0m",
            "\u001b[0;31mUnboundLocalError\u001b[0m                         Traceback (most recent call last)",
            "\u001b[0;32m<ipython-input-16-0cdc201def5f>\u001b[0m in \u001b[0;36m<cell line: 10>\u001b[0;34m()\u001b[0m\n\u001b[1;32m      8\u001b[0m     \u001b[0mprint\u001b[0m\u001b[0;34m(\u001b[0m\u001b[0;34m\"what show\"\u001b[0m\u001b[0;34m)\u001b[0m\u001b[0;34m\u001b[0m\u001b[0;34m\u001b[0m\u001b[0m\n\u001b[1;32m      9\u001b[0m \u001b[0;34m\u001b[0m\u001b[0m\n\u001b[0;32m---> 10\u001b[0;31m \u001b[0mfather\u001b[0m\u001b[0;34m.\u001b[0m\u001b[0mshow\u001b[0m\u001b[0;34m(\u001b[0m\u001b[0;34m)\u001b[0m\u001b[0;34m\u001b[0m\u001b[0;34m\u001b[0m\u001b[0m\n\u001b[0m",
            "\u001b[0;32m<ipython-input-16-0cdc201def5f>\u001b[0m in \u001b[0;36mshow\u001b[0;34m()\u001b[0m\n\u001b[1;32m      4\u001b[0m     \u001b[0mprint\u001b[0m\u001b[0;34m(\u001b[0m\u001b[0;34m\"This is constructor of father class\"\u001b[0m\u001b[0;34m)\u001b[0m\u001b[0;34m\u001b[0m\u001b[0;34m\u001b[0m\u001b[0m\n\u001b[1;32m      5\u001b[0m   \u001b[0;32mdef\u001b[0m \u001b[0mshow\u001b[0m\u001b[0;34m(\u001b[0m\u001b[0;34m)\u001b[0m\u001b[0;34m:\u001b[0m\u001b[0;34m\u001b[0m\u001b[0;34m\u001b[0m\u001b[0m\n\u001b[0;32m----> 6\u001b[0;31m     \u001b[0mcls_v1\u001b[0m\u001b[0;34m+=\u001b[0m\u001b[0;36m1\u001b[0m\u001b[0;34m\u001b[0m\u001b[0;34m\u001b[0m\u001b[0m\n\u001b[0m\u001b[1;32m      7\u001b[0m     \u001b[0mprint\u001b[0m\u001b[0;34m(\u001b[0m\u001b[0mcls_v1\u001b[0m\u001b[0;34m)\u001b[0m\u001b[0;34m\u001b[0m\u001b[0;34m\u001b[0m\u001b[0m\n\u001b[1;32m      8\u001b[0m     \u001b[0mprint\u001b[0m\u001b[0;34m(\u001b[0m\u001b[0;34m\"what show\"\u001b[0m\u001b[0;34m)\u001b[0m\u001b[0;34m\u001b[0m\u001b[0;34m\u001b[0m\u001b[0m\n",
            "\u001b[0;31mUnboundLocalError\u001b[0m: local variable 'cls_v1' referenced before assignment"
          ]
        }
      ],
      "source": [
        "class father:\n",
        "  cls_v1=100\n",
        "  def __init__(self):\n",
        "    print(\"This is constructor of father class\")\n",
        "  def show():\n",
        "    cls_v1+=1\n",
        "    print(cls_v1)\n",
        "    print(\"what show\")\n",
        "\n",
        "father.show()\n"
      ]
    },
    {
      "cell_type": "code",
      "execution_count": null,
      "metadata": {
        "colab": {
          "base_uri": "https://localhost:8080/",
          "height": 211
        },
        "id": "ULCRIEZUlwjz",
        "outputId": "a08e651a-76b8-4565-fa53-1c6459f5f5de"
      },
      "outputs": [
        {
          "name": "stdout",
          "output_type": "stream",
          "text": [
            "This is constructor of father class\n"
          ]
        },
        {
          "ename": "TypeError",
          "evalue": "ignored",
          "output_type": "error",
          "traceback": [
            "\u001b[0;31m---------------------------------------------------------------------------\u001b[0m",
            "\u001b[0;31mTypeError\u001b[0m                                 Traceback (most recent call last)",
            "\u001b[0;32m<ipython-input-15-b38a2b09cffb>\u001b[0m in \u001b[0;36m<cell line: 2>\u001b[0;34m()\u001b[0m\n\u001b[1;32m      1\u001b[0m \u001b[0mc\u001b[0m\u001b[0;34m=\u001b[0m\u001b[0mfather\u001b[0m\u001b[0;34m(\u001b[0m\u001b[0;34m)\u001b[0m\u001b[0;34m\u001b[0m\u001b[0;34m\u001b[0m\u001b[0m\n\u001b[0;32m----> 2\u001b[0;31m \u001b[0mc\u001b[0m\u001b[0;34m.\u001b[0m\u001b[0mshow\u001b[0m\u001b[0;34m(\u001b[0m\u001b[0;34m)\u001b[0m\u001b[0;34m\u001b[0m\u001b[0;34m\u001b[0m\u001b[0m\n\u001b[0m",
            "\u001b[0;31mTypeError\u001b[0m: father.show() takes 0 positional arguments but 1 was given"
          ]
        }
      ],
      "source": [
        "c=father()\n",
        "c.show()"
      ]
    },
    {
      "cell_type": "code",
      "execution_count": null,
      "metadata": {
        "colab": {
          "base_uri": "https://localhost:8080/"
        },
        "id": "J9JdjlCenTx7",
        "outputId": "757f1cd1-94a9-4e46-e977-238df0c1566d"
      },
      "outputs": [
        {
          "name": "stdout",
          "output_type": "stream",
          "text": [
            "101\n",
            "what show\n"
          ]
        }
      ],
      "source": [
        "class father:\n",
        "  cls_v1=100\n",
        "  def __init__(self):\n",
        "    print(\"This is constructor of father class\")\n",
        "  def show():\n",
        "    father.cls_v1+=1\n",
        "    print(father.cls_v1)\n",
        "    print(\"what show\")\n",
        "father.show()\n",
        "#This shows why you should use self in the argument to call a method using instances of the objects as well else you can call the method\n",
        "#only by using classes"
      ]
    },
    {
      "cell_type": "code",
      "execution_count": null,
      "metadata": {
        "colab": {
          "base_uri": "https://localhost:8080/"
        },
        "id": "l-hQFbsinmNW",
        "outputId": "cfe2e574-c68d-4c9c-a823-eeb5bde37708"
      },
      "outputs": [
        {
          "name": "stdout",
          "output_type": "stream",
          "text": [
            "This is child's constructor\n",
            "This is child's child_uno method\n"
          ]
        }
      ],
      "source": [
        "class father:\n",
        "  def __init__(self):\n",
        "    print(\"This is father constructor\")\n",
        "  def show(self):\n",
        "    print(\"This is father show method\")\n",
        "  def uno(self):\n",
        "    print(\"This is father's uno method\")\n",
        "  def father_uno(self):\n",
        "    print(\"This is father's father_uno method\")\n",
        "class mother:\n",
        "  def __init__(self):\n",
        "    print(\"This is mother's constructor\")\n",
        "  def show(self):\n",
        "    print(\"This is mother's show method\")\n",
        "  def uno(self):\n",
        "    print(\"This is mother's uno method\")\n",
        "  def mother_uno(self):\n",
        "    print(\"This is mother's mother_uno method\")\n",
        "class child(father,mother):\n",
        "  def __init__(self):\n",
        "    print(\"This is child's constructor\")\n",
        "  def show(self):\n",
        "    print(\"This is child's show method\")\n",
        "  def child_uno(self):\n",
        "    print(\"This is child's child_uno method\")\n",
        "c11=child()\n",
        "c11.child_uno()\n"
      ]
    },
    {
      "cell_type": "code",
      "execution_count": null,
      "metadata": {
        "colab": {
          "base_uri": "https://localhost:8080/"
        },
        "id": "1IpicDKxV-YG",
        "outputId": "1eb69f7a-0deb-45e0-a00a-aeb56160ea8e"
      },
      "outputs": [
        {
          "name": "stdout",
          "output_type": "stream",
          "text": [
            "This is father's uno method\n"
          ]
        }
      ],
      "source": [
        "c11.uno()"
      ]
    },
    {
      "cell_type": "code",
      "execution_count": null,
      "metadata": {
        "colab": {
          "base_uri": "https://localhost:8080/"
        },
        "id": "flpqBUyeWEvd",
        "outputId": "699eb68c-7630-4f2c-d3f6-b2eb23f982a4"
      },
      "outputs": [
        {
          "name": "stdout",
          "output_type": "stream",
          "text": [
            "This is child's show method\n"
          ]
        }
      ],
      "source": [
        "c11.show()"
      ]
    },
    {
      "cell_type": "code",
      "execution_count": null,
      "metadata": {
        "colab": {
          "base_uri": "https://localhost:8080/"
        },
        "id": "vBMfLbTgWQ-p",
        "outputId": "e07d95ad-8f3a-44ad-dfda-b2e23bc904b5"
      },
      "outputs": [
        {
          "name": "stdout",
          "output_type": "stream",
          "text": [
            "This is father's father_uno method\n"
          ]
        }
      ],
      "source": [
        "c11.father_uno()"
      ]
    },
    {
      "cell_type": "code",
      "execution_count": null,
      "metadata": {
        "colab": {
          "base_uri": "https://localhost:8080/"
        },
        "id": "9YW1ytFOWYML",
        "outputId": "5b61cdb7-4731-4e11-dd1d-81ae843c3c3d"
      },
      "outputs": [
        {
          "name": "stdout",
          "output_type": "stream",
          "text": [
            "This is mother's mother_uno method\n"
          ]
        }
      ],
      "source": [
        "c11.mother_uno()\n",
        "#as u can see if a method is present in child class then it will get executed first, else if the method being called is not present in child class\n",
        "#but is present both in the father(which is on the left) class and in the mother class(which is on the right) then method of the class on the left\n",
        "#is executed. This is called Method resolution order."
      ]
    },
    {
      "cell_type": "code",
      "execution_count": null,
      "metadata": {
        "id": "R9zpi7GWY6j2"
      },
      "outputs": [],
      "source": [
        "#_var is used to mean that a name is meant for internal use and is not meant for the public interface of the class.\n",
        "#_var is used to mean that a name is meant for internal use and is not meant for public interface of the class. This is not enforced by python\n",
        "#but is only used as a hint to the programmer."
      ]
    },
    {
      "cell_type": "code",
      "execution_count": null,
      "metadata": {
        "colab": {
          "base_uri": "https://localhost:8080/"
        },
        "id": "zqCq5scEa0Fs",
        "outputId": "a91f1322-e74f-4855-f991-144f348bb7f3"
      },
      "outputs": [
        {
          "data": {
            "text/plain": [
              "12"
            ]
          },
          "execution_count": 8,
          "metadata": {},
          "output_type": "execute_result"
        }
      ],
      "source": [
        "class jumbo:\n",
        "  def __init__(self):\n",
        "    self.a=12\n",
        "    self._b=14\n",
        "a1=jumbo()\n",
        "a1.a"
      ]
    },
    {
      "cell_type": "code",
      "execution_count": null,
      "metadata": {
        "colab": {
          "base_uri": "https://localhost:8080/"
        },
        "id": "E7MIVthEbcj-",
        "outputId": "737560be-9505-44fb-eeaa-db03747d6f2d"
      },
      "outputs": [
        {
          "data": {
            "text/plain": [
              "14"
            ]
          },
          "execution_count": 10,
          "metadata": {},
          "output_type": "execute_result"
        }
      ],
      "source": [
        "a1._b\n",
        "#single leading underscore is used to mean that a name is meant for internal use and is not meant for public interface of the class. This is not\n",
        "#enforced by python but is only used as a hint to the programmer."
      ]
    },
    {
      "cell_type": "code",
      "execution_count": null,
      "metadata": {
        "colab": {
          "base_uri": "https://localhost:8080/"
        },
        "id": "K6VGe2pCcFPB",
        "outputId": "90385ba4-0a12-4db2-a5dd-6c4ecb84dbe8"
      },
      "outputs": [
        {
          "data": {
            "text/plain": [
              "88"
            ]
          },
          "execution_count": 6,
          "metadata": {},
          "output_type": "execute_result"
        }
      ],
      "source": [
        "class Test:\n",
        "  def __init__(self):\n",
        "    self.foo=18\n",
        "    self._var=20\n",
        "    self.__var1=22\n",
        "class test2(Test):\n",
        "  def __init__(self):\n",
        "    self.foo=88\n",
        "    self._var=21\n",
        "c=test2()\n",
        "c.foo"
      ]
    },
    {
      "cell_type": "code",
      "execution_count": null,
      "metadata": {
        "colab": {
          "base_uri": "https://localhost:8080/"
        },
        "id": "d6oRaPMd1d3d",
        "outputId": "ed059d35-5ed5-4718-a9a4-2c49a3d0c9fd"
      },
      "outputs": [
        {
          "data": {
            "text/plain": [
              "21"
            ]
          },
          "execution_count": 7,
          "metadata": {},
          "output_type": "execute_result"
        }
      ],
      "source": [
        "c._var"
      ]
    },
    {
      "cell_type": "code",
      "execution_count": null,
      "metadata": {
        "colab": {
          "base_uri": "https://localhost:8080/",
          "height": 194
        },
        "id": "ipDNEelt1hVk",
        "outputId": "66a99d7d-f6c0-4221-8f76-dced3bdbee19"
      },
      "outputs": [
        {
          "ename": "AttributeError",
          "evalue": "ignored",
          "output_type": "error",
          "traceback": [
            "\u001b[0;31m---------------------------------------------------------------------------\u001b[0m",
            "\u001b[0;31mAttributeError\u001b[0m                            Traceback (most recent call last)",
            "\u001b[0;32m<ipython-input-9-e17982ba002a>\u001b[0m in \u001b[0;36m<cell line: 1>\u001b[0;34m()\u001b[0m\n\u001b[0;32m----> 1\u001b[0;31m \u001b[0mc\u001b[0m\u001b[0;34m.\u001b[0m\u001b[0m__var1\u001b[0m\u001b[0;34m\u001b[0m\u001b[0;34m\u001b[0m\u001b[0m\n\u001b[0m\u001b[1;32m      2\u001b[0m \u001b[0;31m#as we can see double underscore before the name of the variable has prevented the attribute from being over-ridden by\u001b[0m\u001b[0;34m\u001b[0m\u001b[0;34m\u001b[0m\u001b[0m\n",
            "\u001b[0;31mAttributeError\u001b[0m: 'test2' object has no attribute '__var1'"
          ]
        }
      ],
      "source": [
        "c.__var1\n",
        "#as we can see double underscore before the name of the variable has prevented the attribute from being over-ridden by"
      ]
    },
    {
      "cell_type": "code",
      "execution_count": null,
      "metadata": {
        "colab": {
          "base_uri": "https://localhost:8080/",
          "height": 177
        },
        "id": "eZiTJswk3k1j",
        "outputId": "bfa9141f-9053-4407-af4c-d8b957bd3e28"
      },
      "outputs": [
        {
          "ename": "AttributeError",
          "evalue": "ignored",
          "output_type": "error",
          "traceback": [
            "\u001b[0;31m---------------------------------------------------------------------------\u001b[0m",
            "\u001b[0;31mAttributeError\u001b[0m                            Traceback (most recent call last)",
            "\u001b[0;32m<ipython-input-10-b7894ba621ef>\u001b[0m in \u001b[0;36m<cell line: 1>\u001b[0;34m()\u001b[0m\n\u001b[0;32m----> 1\u001b[0;31m \u001b[0mc\u001b[0m\u001b[0;34m.\u001b[0m\u001b[0m_Test__var1\u001b[0m\u001b[0;34m\u001b[0m\u001b[0;34m\u001b[0m\u001b[0m\n\u001b[0m",
            "\u001b[0;31mAttributeError\u001b[0m: 'test2' object has no attribute '_Test__var1'"
          ]
        }
      ],
      "source": [
        "c._Test__var1"
      ]
    },
    {
      "cell_type": "code",
      "execution_count": null,
      "metadata": {
        "colab": {
          "base_uri": "https://localhost:8080/",
          "height": 194
        },
        "id": "OeaESoui4xuo",
        "outputId": "bdd1667a-1afb-4246-9a7f-710599290aa7"
      },
      "outputs": [
        {
          "ename": "AttributeError",
          "evalue": "ignored",
          "output_type": "error",
          "traceback": [
            "\u001b[0;31m---------------------------------------------------------------------------\u001b[0m",
            "\u001b[0;31mAttributeError\u001b[0m                            Traceback (most recent call last)",
            "\u001b[0;32m<ipython-input-11-b2b0d5525408>\u001b[0m in \u001b[0;36m<cell line: 2>\u001b[0;34m()\u001b[0m\n\u001b[1;32m      1\u001b[0m \u001b[0mobj\u001b[0m \u001b[0;34m=\u001b[0m \u001b[0mtest2\u001b[0m\u001b[0;34m(\u001b[0m\u001b[0;34m)\u001b[0m\u001b[0;34m\u001b[0m\u001b[0;34m\u001b[0m\u001b[0m\n\u001b[0;32m----> 2\u001b[0;31m \u001b[0mprint\u001b[0m\u001b[0;34m(\u001b[0m\u001b[0mobj\u001b[0m\u001b[0;34m.\u001b[0m\u001b[0m_Test__var1\u001b[0m\u001b[0;34m)\u001b[0m  \u001b[0;31m# Accesses the mangled name of __var1 from the Test class\u001b[0m\u001b[0;34m\u001b[0m\u001b[0;34m\u001b[0m\u001b[0m\n\u001b[0m",
            "\u001b[0;31mAttributeError\u001b[0m: 'test2' object has no attribute '_Test__var1'"
          ]
        }
      ],
      "source": [
        "obj = test2()\n",
        "print(obj._Test__var1)  # Accesses the mangled name of __var1 from the Test class\n"
      ]
    },
    {
      "cell_type": "code",
      "execution_count": null,
      "metadata": {
        "id": "fhLbBxP1432p"
      },
      "outputs": [],
      "source": [
        "#as we can see when you use double underscore before a variable name then the attribute undergoes a name-change and this prevents collisions\n",
        "#when the class is extended and this class becomes sub-class of other classes. This process of a variable undergoing name change is called name-mangling\n",
        "#Name mangling prevents this variable being over-riddedn by any variable in the subclasses with the same name."
      ]
    },
    {
      "cell_type": "code",
      "execution_count": null,
      "metadata": {
        "id": "l6ddG5Wt7aRS"
      },
      "outputs": [],
      "source": [
        "#The interpreter changes the name of the variable in a way that makes it harder to prevent collisions when the class is extended any further.\n",
        "#This is called name mangling and it happens when you use double underscore before the name of a variable."
      ]
    },
    {
      "cell_type": "code",
      "execution_count": null,
      "metadata": {
        "colab": {
          "base_uri": "https://localhost:8080/"
        },
        "id": "c0m609oPBM1G",
        "outputId": "cd614f63-96f6-4a62-e244-32b0dd2ae176"
      },
      "outputs": [
        {
          "name": "stdout",
          "output_type": "stream",
          "text": [
            "same(5)\n"
          ]
        }
      ],
      "source": [
        "#Double underscore at the front of a variable and double underscore at the back of a variable are dunder methods(magic methods) that enable\n",
        "#customization of a object.\n",
        "class same:\n",
        "  def __init__(self,value):\n",
        "    self.value=value\n",
        "  def __repr__(self):\n",
        "    return f\"same({self.value})\"\n",
        "  def __add__(self,other):\n",
        "    return same(self.value+other.value)\n",
        "  def __len__(self):\n",
        "    return len(str(self.value))\n",
        "c1=same(5)\n",
        "print(c1)"
      ]
    },
    {
      "cell_type": "code",
      "execution_count": null,
      "metadata": {
        "colab": {
          "base_uri": "https://localhost:8080/"
        },
        "id": "Q3ldWRDRyWVO",
        "outputId": "856cb676-ff17-4624-cf20-4b2e9417b27a"
      },
      "outputs": [
        {
          "name": "stdout",
          "output_type": "stream",
          "text": [
            "same(15)\n"
          ]
        },
        {
          "data": {
            "text/plain": [
              "2"
            ]
          },
          "execution_count": 2,
          "metadata": {},
          "output_type": "execute_result"
        }
      ],
      "source": [
        "c2=same(10)\n",
        "c3=c1+c2\n",
        "print(c3)\n",
        "len(c3)"
      ]
    },
    {
      "cell_type": "code",
      "execution_count": null,
      "metadata": {
        "colab": {
          "base_uri": "https://localhost:8080/",
          "height": 35
        },
        "id": "qnNiw97lyjA4",
        "outputId": "cc83495f-a2c5-477c-a2da-13f368446cc8"
      },
      "outputs": [
        {
          "data": {
            "application/vnd.google.colaboratory.intrinsic+json": {
              "type": "string"
            },
            "text/plain": [
              "'This is a static method'"
            ]
          },
          "execution_count": 7,
          "metadata": {},
          "output_type": "execute_result"
        }
      ],
      "source": [
        "class baseclass:\n",
        "  @staticmethod\n",
        "  def staticmethod():\n",
        "    return f\"This is a static method\"\n",
        "\n",
        "c=baseclass()\n",
        "c.staticmethod()"
      ]
    },
    {
      "cell_type": "code",
      "execution_count": null,
      "metadata": {
        "colab": {
          "base_uri": "https://localhost:8080/"
        },
        "id": "MT8kdeml4eOb",
        "outputId": "4d3ae631-f03c-4a1c-faf3-dc41796f1911"
      },
      "outputs": [
        {
          "name": "stdout",
          "output_type": "stream",
          "text": [
            "This is a static method\n"
          ]
        }
      ],
      "source": [
        "c=baseclass.staticmethod()\n",
        "print(c)\n",
        "#As you can see a static method can be executed when we create an instance of the class as well as without creating an instance of the base class."
      ]
    },
    {
      "cell_type": "code",
      "execution_count": null,
      "metadata": {
        "colab": {
          "base_uri": "https://localhost:8080/",
          "height": 35
        },
        "id": "HObDQKEO5GPi",
        "outputId": "76798220-8c63-4a4f-e75b-11e92a891084"
      },
      "outputs": [
        {
          "data": {
            "application/vnd.google.colaboratory.intrinsic+json": {
              "type": "string"
            },
            "text/plain": [
              "'Who is he'"
            ]
          },
          "execution_count": 10,
          "metadata": {},
          "output_type": "execute_result"
        }
      ],
      "source": [
        "class baserclass:\n",
        "  def __init__(self,a,b):\n",
        "    self.a=a\n",
        "    self.b=b\n",
        "  def sello(self):\n",
        "    return \"Who is he\"\n",
        "class baserclass2(baserclass):\n",
        "  def __init__(self,a,d,e):\n",
        "    self.a=a\n",
        "    self.d=d\n",
        "    self.e=e\n",
        "  def ullo(self):\n",
        "    return f\"who is ullo {self.b}\"\n",
        "  def ullo2(self):\n",
        "    return f\"who is ullo2 {self.a}\"\n",
        "\n",
        "c1=baserclass2(1,2,3)\n",
        "c1.sello()\n"
      ]
    },
    {
      "cell_type": "code",
      "execution_count": null,
      "metadata": {
        "id": "dTcN75LfBnLZ"
      },
      "outputs": [],
      "source": [
        "#As you can see we can call a base method without creating an instance of the base class in 2 ways, firstly by creating a static method in the base class\n",
        "#static method can be called even by using the class name, secondly by importing the base class into a child class we can call that base method using the\n",
        "#instance of the child class."
      ]
    },
    {
      "cell_type": "code",
      "execution_count": null,
      "metadata": {
        "colab": {
          "base_uri": "https://localhost:8080/",
          "height": 35
        },
        "id": "1UMPjSLbEWNd",
        "outputId": "80038147-f272-478f-f7ec-2ae1fbd83877"
      },
      "outputs": [
        {
          "data": {
            "application/vnd.google.colaboratory.intrinsic+json": {
              "type": "string"
            },
            "text/plain": [
              "'The value is 24'"
            ]
          },
          "execution_count": 2,
          "metadata": {},
          "output_type": "execute_result"
        }
      ],
      "source": [
        "class acerclass1:\n",
        "  cimon=24\n",
        "  def __init__(self,value):\n",
        "    self.value=value\n",
        "  @classmethod\n",
        "  def maniu(cls):\n",
        "    return f\"The value is {cls.cimon}\"\n",
        "c1=acerclass1(9)\n",
        "acerclass1.maniu()\n",
        "#this is also a way of calling a method without creating an instance"
      ]
    },
    {
      "cell_type": "code",
      "execution_count": null,
      "metadata": {
        "colab": {
          "base_uri": "https://localhost:8080/",
          "height": 35
        },
        "id": "XQgJugJD3f4g",
        "outputId": "9817b1ef-ff2a-4be6-a7e5-49c1633afc4f"
      },
      "outputs": [
        {
          "data": {
            "application/vnd.google.colaboratory.intrinsic+json": {
              "type": "string"
            },
            "text/plain": [
              "'The value is 24'"
            ]
          },
          "execution_count": 4,
          "metadata": {},
          "output_type": "execute_result"
        }
      ],
      "source": [
        "c1.maniu()\n",
        "#but a class method can also be called without a class instance"
      ]
    },
    {
      "cell_type": "code",
      "execution_count": null,
      "metadata": {
        "colab": {
          "base_uri": "https://localhost:8080/"
        },
        "id": "_UjWBfrh8bIW",
        "outputId": "f5539ddd-91ae-4d80-fc20-c3691f382264"
      },
      "outputs": [
        {
          "name": "stdout",
          "output_type": "stream",
          "text": [
            "Mahendra Dhoni (30)\n"
          ]
        }
      ],
      "source": [
        "class person:\n",
        "  def __init__(self,first_name,last_name,age):\n",
        "    self.first_name=first_name\n",
        "    self.last_name=last_name\n",
        "    self.age=age\n",
        "  def __str__(self):\n",
        "    return f\"{self.first_name} {self.last_name} ({self.age})\"\n",
        "a=person(\"Mahendra\",\"Dhoni\",30)\n",
        "print(a)\n",
        "#This is how we can control how an object gets printed"
      ]
    },
    {
      "cell_type": "code",
      "execution_count": null,
      "metadata": {
        "id": "1GlpLlBt_pSn"
      },
      "outputs": [],
      "source": [
        "class dhamn:\n",
        "  cl_amin=9\n",
        "  def __init__(self,f_name,l_name,age):\n",
        "    self.f_name=11\n",
        "    self.l_name=14\n",
        "    self.age=20\n",
        "  def increment_age(self):\n",
        "    self.age+=1\n",
        "    self.change_name()\n",
        "  def change_name(self):\n",
        "    self.f_name=\"Amitabh\"\n",
        "  def classvarchanger(self):\n",
        "    self.__class__.cl_amin+=1\n",
        "c=dhamn(\"mahi\",'singh',30)\n",
        "c.increment_age()\n",
        "\n"
      ]
    },
    {
      "cell_type": "code",
      "execution_count": null,
      "metadata": {
        "colab": {
          "base_uri": "https://localhost:8080/"
        },
        "id": "4nP84K3IiWlE",
        "outputId": "2a6f9984-d26d-40a4-855d-8491382284b2"
      },
      "outputs": [
        {
          "data": {
            "text/plain": [
              "21"
            ]
          },
          "execution_count": 3,
          "metadata": {},
          "output_type": "execute_result"
        }
      ],
      "source": [
        "c.age"
      ]
    },
    {
      "cell_type": "code",
      "execution_count": null,
      "metadata": {
        "colab": {
          "base_uri": "https://localhost:8080/",
          "height": 35
        },
        "id": "Ng5XTyJ8iOd0",
        "outputId": "2fa1ef2d-999a-4b6d-8eda-8f086c20b0a9"
      },
      "outputs": [
        {
          "data": {
            "application/vnd.google.colaboratory.intrinsic+json": {
              "type": "string"
            },
            "text/plain": [
              "'Amitabh'"
            ]
          },
          "execution_count": 4,
          "metadata": {},
          "output_type": "execute_result"
        }
      ],
      "source": [
        "c.f_name"
      ]
    },
    {
      "cell_type": "code",
      "execution_count": null,
      "metadata": {
        "id": "6kbofGG8ifwC"
      },
      "outputs": [],
      "source": [
        "c.classvarchanger()"
      ]
    },
    {
      "cell_type": "code",
      "execution_count": null,
      "metadata": {
        "colab": {
          "base_uri": "https://localhost:8080/"
        },
        "id": "gqhdwCXciojk",
        "outputId": "7ac7712c-1da2-4328-eb4c-0e1df5758ce5"
      },
      "outputs": [
        {
          "data": {
            "text/plain": [
              "10"
            ]
          },
          "execution_count": 7,
          "metadata": {},
          "output_type": "execute_result"
        }
      ],
      "source": [
        "c.cl_amin\n",
        "#as you can see instance methods can access the state of the object as well as the state of the class and both the state of the object and\n",
        "#state of the class can be changed using self(which is a reference to instance). As you can also see from above instance methods can also\n",
        "#access other instance methods and also access the attributes."
      ]
    },
    {
      "cell_type": "code",
      "execution_count": null,
      "metadata": {
        "id": "mw1UUTTUkIQh"
      },
      "outputs": [],
      "source": [
        "#A method is converted into class method by using a decorator @classmethod. A class method can change the state of the class but it cannot\n",
        "#access the instance variables. Class method can access class variables but not instance variables."
      ]
    },
    {
      "cell_type": "code",
      "execution_count": null,
      "metadata": {
        "colab": {
          "base_uri": "https://localhost:8080/"
        },
        "id": "SQ5acCHdotvF",
        "outputId": "09a0d43d-6333-4e84-fcbe-c3b19ebc4205"
      },
      "outputs": [
        {
          "data": {
            "text/plain": [
              "('the method is ', <__main__.Myclass at 0x7f378f7613f0>)"
            ]
          },
          "execution_count": 1,
          "metadata": {},
          "output_type": "execute_result"
        }
      ],
      "source": [
        "class Myclass:\n",
        "  def method(self):\n",
        "    return 'the method is ',self\n",
        "  @classmethod\n",
        "  def classer(cls):\n",
        "    return 'This is a class method ',cls\n",
        "  @staticmethod\n",
        "  def minure():\n",
        "    return 'This is a static method'\n",
        "\n",
        "c1=Myclass()\n",
        "c1.method()\n",
        "#as you can see an object can call instance methods as well as class methods but upon calling instance method it returns the object and upon\n",
        "#calling class method it returns class"
      ]
    },
    {
      "cell_type": "code",
      "execution_count": null,
      "metadata": {
        "colab": {
          "base_uri": "https://localhost:8080/"
        },
        "id": "omYz5jU5OYmr",
        "outputId": "eefdcf25-7b0a-44ff-a752-a4911b9a9a55"
      },
      "outputs": [
        {
          "data": {
            "text/plain": [
              "('This is a class method ', __main__.Myclass)"
            ]
          },
          "execution_count": 2,
          "metadata": {},
          "output_type": "execute_result"
        }
      ],
      "source": [
        "c1.classer()\n",
        "#As we can see from here that class method doesnot have access to the instance object but only to the class object"
      ]
    },
    {
      "cell_type": "code",
      "execution_count": null,
      "metadata": {
        "colab": {
          "base_uri": "https://localhost:8080/",
          "height": 177
        },
        "id": "E-_VaFIVOdMg",
        "outputId": "1b2224ed-3ab6-40e2-ee0f-db8da0b8d3a7"
      },
      "outputs": [
        {
          "ename": "AttributeError",
          "evalue": "ignored",
          "output_type": "error",
          "traceback": [
            "\u001b[0;31m---------------------------------------------------------------------------\u001b[0m",
            "\u001b[0;31mAttributeError\u001b[0m                            Traceback (most recent call last)",
            "\u001b[0;32m<ipython-input-3-1ec6211046fc>\u001b[0m in \u001b[0;36m<cell line: 1>\u001b[0;34m()\u001b[0m\n\u001b[0;32m----> 1\u001b[0;31m \u001b[0mc1\u001b[0m\u001b[0;34m.\u001b[0m\u001b[0mmiure\u001b[0m\u001b[0;34m(\u001b[0m\u001b[0;34m)\u001b[0m\u001b[0;34m\u001b[0m\u001b[0;34m\u001b[0m\u001b[0m\n\u001b[0m",
            "\u001b[0;31mAttributeError\u001b[0m: 'Myclass' object has no attribute 'miure'"
          ]
        }
      ],
      "source": [
        "c1.miure()"
      ]
    },
    {
      "cell_type": "code",
      "execution_count": null,
      "metadata": {
        "colab": {
          "base_uri": "https://localhost:8080/"
        },
        "id": "R-clB5bWQu0e",
        "outputId": "e6beae84-8798-4bb8-d4d1-52762162d448"
      },
      "outputs": [
        {
          "data": {
            "text/plain": [
              "('This is a class method ', __main__.Myclass)"
            ]
          },
          "execution_count": 3,
          "metadata": {},
          "output_type": "execute_result"
        }
      ],
      "source": [
        "Myclass.classer()"
      ]
    },
    {
      "cell_type": "code",
      "execution_count": null,
      "metadata": {
        "colab": {
          "base_uri": "https://localhost:8080/",
          "height": 177
        },
        "id": "V3EQmr5hTu6Q",
        "outputId": "a95b7566-361a-49a7-95e0-1f5f21772fe5"
      },
      "outputs": [
        {
          "ename": "TypeError",
          "evalue": "ignored",
          "output_type": "error",
          "traceback": [
            "\u001b[0;31m---------------------------------------------------------------------------\u001b[0m",
            "\u001b[0;31mTypeError\u001b[0m                                 Traceback (most recent call last)",
            "\u001b[0;32m<ipython-input-4-8c1accb613e3>\u001b[0m in \u001b[0;36m<cell line: 1>\u001b[0;34m()\u001b[0m\n\u001b[0;32m----> 1\u001b[0;31m \u001b[0mMyclass\u001b[0m\u001b[0;34m.\u001b[0m\u001b[0mmethod\u001b[0m\u001b[0;34m(\u001b[0m\u001b[0;34m)\u001b[0m\u001b[0;34m\u001b[0m\u001b[0;34m\u001b[0m\u001b[0m\n\u001b[0m",
            "\u001b[0;31mTypeError\u001b[0m: Myclass.method() missing 1 required positional argument: 'self'"
          ]
        }
      ],
      "source": [
        "Myclass.method()"
      ]
    },
    {
      "cell_type": "code",
      "execution_count": null,
      "metadata": {
        "id": "iKu-DXgKzM3h"
      },
      "outputs": [],
      "source": [
        "#class method only has access to the class object but instance method has access to the class instance object."
      ]
    },
    {
      "cell_type": "code",
      "execution_count": null,
      "metadata": {
        "id": "MN0hiuwuzbhR"
      },
      "outputs": [],
      "source": [
        "#With @property decorator, we can access a attribute, delete it, change it without accessing an attribute directly. This provides a level of data security."
      ]
    },
    {
      "cell_type": "code",
      "execution_count": null,
      "metadata": {
        "colab": {
          "base_uri": "https://localhost:8080/"
        },
        "id": "Uazsqqa3nuHn",
        "outputId": "adabf551-ae0d-4d2b-ef80-6a5c0b1c0067"
      },
      "outputs": [
        {
          "name": "stdout",
          "output_type": "stream",
          "text": [
            "5\n",
            "5\n",
            "20\n",
            "20\n",
            "500\n"
          ]
        }
      ],
      "source": [
        "class Rectangle:\n",
        "  def __init__(self,height,width):\n",
        "    self._height=height\n",
        "    self._width=width\n",
        "  @property\n",
        "  def height(self):\n",
        "    return self._height\n",
        "  @property\n",
        "  def width(self):\n",
        "    return self._height\n",
        "  @property\n",
        "  def area(self):\n",
        "    return self._height*self._width\n",
        "  @height.setter\n",
        "  def height(self,value):\n",
        "    if value<0:\n",
        "      raise ValueError(\"Value error is raised\")\n",
        "    self._height=value\n",
        "  @width.setter\n",
        "  def width(self,value):\n",
        "    if value<0:\n",
        "      raise ValueError(\"Value error is raised\")\n",
        "    self._width=value\n",
        "c=Rectangle(5,10)\n",
        "print(c.height)\n",
        "print(c.width)\n",
        "c.height=20\n",
        "c.width=25\n",
        "print(c.height)\n",
        "print(c.width)\n",
        "print(c.area)"
      ]
    },
    {
      "cell_type": "code",
      "execution_count": null,
      "metadata": {
        "colab": {
          "base_uri": "https://localhost:8080/"
        },
        "id": "ZIankGmRFdIg",
        "outputId": "42d1c63b-e262-44e0-b0d4-843e5e09314d"
      },
      "outputs": [
        {
          "name": "stdout",
          "output_type": "stream",
          "text": [
            "Decorator executed\n",
            "Inside my_method\n"
          ]
        }
      ],
      "source": [
        "# Example of using a decorator with a class method taking self argument\n",
        "def my_decorator(func):\n",
        "    def wrapper(*args, **kwargs):\n",
        "        print(\"Decorator executed\")\n",
        "        return func(*args, **kwargs)\n",
        "    return wrapper\n",
        "\n",
        "class MyClass:\n",
        "    @my_decorator\n",
        "    def my_method(self):\n",
        "        print(\"Inside my_method\")\n",
        "\n",
        "# Creating an instance of MyClass\n",
        "obj = MyClass()\n",
        "\n",
        "# Calling the decorated method\n",
        "obj.my_method()\n"
      ]
    },
    {
      "cell_type": "code",
      "execution_count": null,
      "metadata": {
        "id": "x0mFFjLbsws7"
      },
      "outputs": [],
      "source": [
        "#The only limitation of decorator is that they need to be defined before the function it is decorating."
      ]
    },
    {
      "cell_type": "code",
      "execution_count": null,
      "metadata": {
        "id": "QHtbxemas9X4"
      },
      "outputs": [],
      "source": [
        "with open('shambhu.txt','w') as f1:\n",
        "  f1.write(\"\"\"Who is dhoni?\n",
        "              He is warrio\n",
        "              jamal jamalo\"\"\")\n",
        "with open('shambu1.txt','w') as f1:\n",
        "  f1.write(\"\"\"I see who you are?\n",
        "  You are my enemy\n",
        "  my enemy\n",
        "  you are my enemy\"\"\")\n",
        "with open('shambu2.txt','w') as f1:\n",
        "  f1.write(\"\"\"Who the black skinned one, don't make my heart bleed\n",
        "  where did you go when i became crazy\n",
        "  Beauty, your beauty....Your beautiful height\n",
        "  Your heart is in the prizon of chest, sighs of rest it doesnot take\n",
        "  \"\"\")"
      ]
    },
    {
      "cell_type": "code",
      "execution_count": null,
      "metadata": {
        "id": "tWmEXsaJ1lE5"
      },
      "outputs": [],
      "source": [
        "files=['shambhu.txt','shambu1.txt','shambu2.txt']\n",
        "with open('kashinath.txt','w') as f1:\n",
        "  for a in files:\n",
        "    with open(a) as f2:\n",
        "      f23=f2.read()\n",
        "      f1.write(f\"Content fro {a} file\\n\")\n",
        "      f1.write(f23)\n",
        "      f1.write(\"\\n\\n\")\n",
        "#This is how we can open multiple files from python and copy their content within one text file"
      ]
    },
    {
      "cell_type": "code",
      "execution_count": null,
      "metadata": {
        "id": "ffmQVntw_vvU"
      },
      "outputs": [],
      "source": [
        "#Amongst try, except, finally block the finally block executes irrespective of whether the try block is executed or not."
      ]
    },
    {
      "cell_type": "code",
      "execution_count": null,
      "metadata": {
        "colab": {
          "base_uri": "https://localhost:8080/"
        },
        "id": "qgDiL5JRSmHC",
        "outputId": "69e8b534-6a15-48aa-a6f6-ffe80d81107b"
      },
      "outputs": [
        {
          "name": "stdout",
          "output_type": "stream",
          "text": [
            "caffin\n"
          ]
        }
      ],
      "source": [
        "lm=\"\"\n",
        "if lm:\n",
        "  print(\"amin\")\n",
        "else:\n",
        "  print(\"caffin\")\n",
        "#As you can \"\" or empty is false by default"
      ]
    },
    {
      "cell_type": "code",
      "execution_count": null,
      "metadata": {
        "colab": {
          "base_uri": "https://localhost:8080/"
        },
        "id": "y0SvT92zjDYO",
        "outputId": "29eb97f1-bca1-4978-df12-d1820322d861"
      },
      "outputs": [
        {
          "name": "stdout",
          "output_type": "stream",
          "text": [
            "Till current  0 Content fr\n",
            "Till current  10 o shambhu.\n",
            "Till current  20 txt file\n",
            "W\n",
            "Till current  30 ho is dhon\n",
            "Till current  40 i?\n",
            "       \n",
            "Till current  50        He \n",
            "Till current  60 is warrio\n",
            "\n",
            "Till current  70           \n",
            "Till current  80     jamal \n",
            "Till current  90 jamalo\n",
            "\n",
            "Co\n",
            "Till current  100 ntent fro \n",
            "Till current  110 shambu1.tx\n",
            "Till current  120 t file\n",
            "I s\n",
            "Till current  130 ee who you\n",
            "Till current  140  are?\n",
            "  Yo\n",
            "Till current  150 u are my e\n",
            "Till current  160 nemy\n",
            "  my \n",
            "Till current  170 enemy\n",
            "  yo\n",
            "Till current  180 u are my e\n",
            "Till current  190 nemy\n",
            "\n",
            "Cont\n",
            "Till current  200 ent fro sh\n",
            "Till current  210 ambu2.txt \n",
            "Till current  220 file\n",
            "Who t\n",
            "Till current  230 he black s\n",
            "Till current  240 kinned one\n",
            "Till current  250 , don't ma\n",
            "Till current  260 ke my hear\n",
            "Till current  270 t bleed\n",
            "  \n",
            "Till current  280 where did \n",
            "Till current  290 you go whe\n",
            "Till current  300 n i became\n",
            "Till current  310  crazy\n",
            "  B\n",
            "Till current  320 eauty, you\n",
            "Till current  330 r beauty..\n",
            "Till current  340 ..Your bea\n",
            "Till current  350 utiful hei\n",
            "Till current  360 ght\n",
            "  Your\n",
            "Till current  370  heart is \n",
            "Till current  380 in the pri\n",
            "Till current  390 zon of che\n",
            "Till current  400 st, sighs \n",
            "Till current  410 of rest it\n",
            "Till current  420  doesnot t\n",
            "Till current  430 ake\n",
            "  \n",
            "\n",
            "\n"
          ]
        }
      ],
      "source": [
        "with open('kashinath.txt') as f2:\n",
        "  while True:\n",
        "    current=f2.tell()\n",
        "    c1=f2.read(10)\n",
        "    if not c1:\n",
        "      break\n",
        "    print(\"Till current \",current,c1)\n"
      ]
    },
    {
      "cell_type": "code",
      "execution_count": null,
      "metadata": {
        "id": "EBHhXzLp3W_W"
      },
      "outputs": [],
      "source": [
        "#The yield keyword is used while defining generators. Generators processes one item at a time and doesnot load entire dataset in the memory\n",
        "#at once hence this is more memory efficient especially in case of large datasets. Secondly, the state of the execution is preserved in case\n",
        "#of generator even after yield function is executed unlike the case with function with the function is out from the global namespace after the\n",
        "#return statement is executed."
      ]
    },
    {
      "cell_type": "code",
      "execution_count": null,
      "metadata": {
        "colab": {
          "base_uri": "https://localhost:8080/"
        },
        "id": "hWZsPQm0MR1_",
        "outputId": "2d678988-a37a-40f9-8683-e681f39f6ff0"
      },
      "outputs": [
        {
          "name": "stdout",
          "output_type": "stream",
          "text": [
            "0\n",
            "1\n",
            "1\n",
            "2\n",
            "3\n",
            "5\n",
            "8\n",
            "13\n",
            "21\n",
            "34\n"
          ]
        }
      ],
      "source": [
        "def fibbo():\n",
        "  a,b=0,1\n",
        "  while True:\n",
        "    yield a\n",
        "    a,b=b,a+b\n",
        "a1=fibbo()\n",
        "for _ in range(10):\n",
        "  print(next(a1))\n",
        "#as you can see even after yield statement is executed by print(next(a1)) the execution starts from the place where it was left when the control\n",
        "#returns back inside the generator function, a,b gets adjusted and yield statement is executed further(this is quite unlike return in normal functions)\n",
        "#where the function gets lost from the global namespace the moment return statement is executed. Secondly only"
      ]
    },
    {
      "cell_type": "code",
      "execution_count": null,
      "metadata": {
        "id": "kdoDDr4bNhVQ"
      },
      "outputs": [],
      "source": [
        "#In case of generator function the state of the function is preserved between the calls. Generator function processes one item at a time and it doesnot store\n",
        "#the entire dataset in the memory at once.\n"
      ]
    },
    {
      "cell_type": "code",
      "execution_count": null,
      "metadata": {
        "colab": {
          "base_uri": "https://localhost:8080/"
        },
        "id": "r7p1Fn1lRY2k",
        "outputId": "71b307dd-079d-4ca3-b181-486a14dd533d"
      },
      "outputs": [
        {
          "name": "stdout",
          "output_type": "stream",
          "text": [
            "0\n",
            "1\n",
            "1\n",
            "2\n",
            "3\n",
            "5\n",
            "8\n",
            "13\n",
            "21\n",
            "34\n"
          ]
        }
      ],
      "source": [
        "def fibbo():\n",
        "  a,b=0,1\n",
        "  while True:\n",
        "    yield a\n",
        "    a,b=b,a+b\n",
        "a1=fibbo()\n",
        "for _ in range(10):\n",
        "  print(next(a1))\n",
        "#the state of the function is preserved between function calls that is next(a1) and secondly generator processes one item at atime and doesnot store\n",
        "#entire dataset in the memory at once. Hence it is more memory-efficient."
      ]
    },
    {
      "cell_type": "code",
      "execution_count": null,
      "metadata": {
        "id": "6W2lcBV9SImU"
      },
      "outputs": [],
      "source": [
        "#exceptions can be handled by the programmer himself by using try except blocks but errors are mostly out of our hand for instance if you take the\n",
        "#case of execution of OCR like easyocr, it might work in my system because of my hardware configuration but it might not work in your system\n",
        "#because of your hardware configurations, memoryerror is a hardware problem, the only error that can be handled easily by the programmer\n",
        "#  is syntax error"
      ]
    },
    {
      "cell_type": "code",
      "execution_count": null,
      "metadata": {
        "id": "2qaJHOzPTk3P"
      },
      "outputs": [],
      "source": [
        "#finally block executes no matter what, it gets executed even if there is an exception"
      ]
    },
    {
      "cell_type": "code",
      "execution_count": null,
      "metadata": {
        "colab": {
          "base_uri": "https://localhost:8080/"
        },
        "id": "jNQTpnG0UMwz",
        "outputId": "24e70b94-ef7c-44e3-aab0-3f6912f8e145"
      },
      "outputs": [
        {
          "name": "stdout",
          "output_type": "stream",
          "text": [
            "Who is ms dhoni?\n",
            "    He is a warrior, He is a warrior\n",
            "    O great a warrior\n",
            "Who is ms dhoni?\n",
            "    He is a warrior, He is a warrior\n",
            "    O great a warrior\n"
          ]
        }
      ],
      "source": [
        "try:\n",
        "  with open('mahendra.txt') as f1:\n",
        "    print(f1.read())\n",
        "except:\n",
        "  with open('mahendra.txt','w') as f2:\n",
        "    f2.write(\"\"\"Who is ms dhoni?\n",
        "    He is a warrior, He is a warrior\n",
        "    O great a warrior\"\"\")\n",
        "finally:\n",
        "  with open('mahendra.txt') as f3:\n",
        "    print(f3.read())"
      ]
    },
    {
      "cell_type": "code",
      "execution_count": null,
      "metadata": {
        "id": "YID1t6MUU6gp"
      },
      "outputs": [],
      "source": [
        "import os\n",
        "class ab:\n",
        "  def __init__(self,value):\n",
        "    self.a1=\"who is msd\"\n",
        "    self.a2=value\n",
        "  def append(self):\n",
        "    with open(self.a2,'a') as f2:\n",
        "      f2.write(self.a1)\n",
        "  def delete(self):\n",
        "    os.remove(self.a2)\n",
        "\n",
        "a=ab('dhamdham.txt')\n",
        "a.append()\n"
      ]
    },
    {
      "cell_type": "code",
      "execution_count": null,
      "metadata": {
        "id": "dNIZ3pUpJT1y"
      },
      "outputs": [],
      "source": [
        "a.delete()"
      ]
    },
    {
      "cell_type": "code",
      "execution_count": null,
      "metadata": {
        "id": "cgIcyJWfKamq"
      },
      "outputs": [],
      "source": [
        "import os\n",
        "class ab:\n",
        "  def __init__(self,value):\n",
        "    self.a1=\"Who is ms dhoni.\\n Is he a warrior.\\n Yes he is a warrior. \\n When will the war arise.\\n When will it start.\"\n",
        "    self.a2=value\n",
        "  def append(self):\n",
        "    with open(self.a2,'a') as f2:\n",
        "      f2.write(self.a1)\n",
        "  def delete(self):\n",
        "    os.remove(self.a2)\n",
        "\n",
        "a1=ab('ranatunga.txt')\n",
        "a1.append()"
      ]
    },
    {
      "cell_type": "code",
      "execution_count": null,
      "metadata": {
        "id": "Y3Cov_YTbyPr"
      },
      "outputs": [],
      "source": [
        "a1.delete()"
      ]
    },
    {
      "cell_type": "code",
      "execution_count": null,
      "metadata": {
        "colab": {
          "base_uri": "https://localhost:8080/"
        },
        "id": "-D39ZIbiAmhi",
        "outputId": "cb17e0b9-f193-4735-8fab-28605779ea87"
      },
      "outputs": [
        {
          "name": "stdout",
          "output_type": "stream",
          "text": [
            "0.5\n"
          ]
        }
      ],
      "source": [
        "#Assertions in python are used to raise exception if a condition holds true else it returns False\n",
        "def diver(a,b):\n",
        "  assert b!=0\n",
        "  return a/b\n",
        "c1=diver(5,10)\n",
        "print(c1)"
      ]
    },
    {
      "cell_type": "code",
      "execution_count": null,
      "metadata": {
        "colab": {
          "base_uri": "https://localhost:8080/",
          "height": 315
        },
        "id": "cAtYiZAvIYNO",
        "outputId": "789494f3-a29e-4601-a798-ca0826e6c018"
      },
      "outputs": [
        {
          "ename": "AssertionError",
          "evalue": "ignored",
          "output_type": "error",
          "traceback": [
            "\u001b[0;31m---------------------------------------------------------------------------\u001b[0m",
            "\u001b[0;31mAssertionError\u001b[0m                            Traceback (most recent call last)",
            "\u001b[0;32m<ipython-input-2-29d42f82f7d2>\u001b[0m in \u001b[0;36m<cell line: 1>\u001b[0;34m()\u001b[0m\n\u001b[0;32m----> 1\u001b[0;31m \u001b[0mc2\u001b[0m\u001b[0;34m=\u001b[0m\u001b[0mdiver\u001b[0m\u001b[0;34m(\u001b[0m\u001b[0;36m8\u001b[0m\u001b[0;34m,\u001b[0m\u001b[0;36m0\u001b[0m\u001b[0;34m)\u001b[0m\u001b[0;34m\u001b[0m\u001b[0;34m\u001b[0m\u001b[0m\n\u001b[0m\u001b[1;32m      2\u001b[0m \u001b[0mprint\u001b[0m\u001b[0;34m(\u001b[0m\u001b[0mc2\u001b[0m\u001b[0;34m)\u001b[0m\u001b[0;34m\u001b[0m\u001b[0;34m\u001b[0m\u001b[0m\n",
            "\u001b[0;32m<ipython-input-1-d6adb8db55df>\u001b[0m in \u001b[0;36mdiver\u001b[0;34m(a, b)\u001b[0m\n\u001b[1;32m      1\u001b[0m \u001b[0;31m#Assertions in python are used to raise exception if a condition holds true else it returns False\u001b[0m\u001b[0;34m\u001b[0m\u001b[0;34m\u001b[0m\u001b[0m\n\u001b[1;32m      2\u001b[0m \u001b[0;32mdef\u001b[0m \u001b[0mdiver\u001b[0m\u001b[0;34m(\u001b[0m\u001b[0ma\u001b[0m\u001b[0;34m,\u001b[0m\u001b[0mb\u001b[0m\u001b[0;34m)\u001b[0m\u001b[0;34m:\u001b[0m\u001b[0;34m\u001b[0m\u001b[0;34m\u001b[0m\u001b[0m\n\u001b[0;32m----> 3\u001b[0;31m   \u001b[0;32massert\u001b[0m \u001b[0mb\u001b[0m\u001b[0;34m!=\u001b[0m\u001b[0;36m0\u001b[0m\u001b[0;34m\u001b[0m\u001b[0;34m\u001b[0m\u001b[0m\n\u001b[0m\u001b[1;32m      4\u001b[0m   \u001b[0;32mreturn\u001b[0m \u001b[0ma\u001b[0m\u001b[0;34m/\u001b[0m\u001b[0mb\u001b[0m\u001b[0;34m\u001b[0m\u001b[0;34m\u001b[0m\u001b[0m\n\u001b[1;32m      5\u001b[0m \u001b[0mc1\u001b[0m\u001b[0;34m=\u001b[0m\u001b[0mdiver\u001b[0m\u001b[0;34m(\u001b[0m\u001b[0;36m5\u001b[0m\u001b[0;34m,\u001b[0m\u001b[0;36m10\u001b[0m\u001b[0;34m)\u001b[0m\u001b[0;34m\u001b[0m\u001b[0;34m\u001b[0m\u001b[0m\n",
            "\u001b[0;31mAssertionError\u001b[0m: "
          ]
        }
      ],
      "source": [
        "c2=diver(8,0)\n",
        "print(c2)"
      ]
    },
    {
      "cell_type": "code",
      "execution_count": null,
      "metadata": {
        "id": "9FwNEXamIfPD"
      },
      "outputs": [],
      "source": [
        "#when you raise an error the program stops immediately which is not the case of handling an exception."
      ]
    },
    {
      "cell_type": "code",
      "execution_count": null,
      "metadata": {
        "id": "Ja9j8EegXIyn"
      },
      "outputs": [],
      "source": [
        "#Custom exceptions are exceptions that are specific to application."
      ]
    },
    {
      "cell_type": "code",
      "execution_count": null,
      "metadata": {
        "colab": {
          "base_uri": "https://localhost:8080/"
        },
        "id": "gniQiQbbl_LN",
        "outputId": "34011bd2-6dc1-452f-c998-319df51a60f6"
      },
      "outputs": [
        {
          "name": "stdout",
          "output_type": "stream",
          "text": [
            "Inner function  kjhl\n"
          ]
        }
      ],
      "source": [
        "#Passing in immutable objects to a function can be considered call by value as the values of immutable objects can never be changed and\n",
        "#passing of mutable objects to a function can be considered call by reference as the values of mutable objects can be changed permanently.\n",
        "string=\"mahin\"\n",
        "def fnb(srt):\n",
        "  string=\"kjhl\"\n",
        "  print(\"Inner function \",string)\n",
        "fnb(string)\n",
        "#the object at which string within function is pointing at and the object at which string variable outside the function is pointing at are pointing\n",
        "#to 2 completely different objects."
      ]
    },
    {
      "cell_type": "code",
      "execution_count": null,
      "metadata": {
        "colab": {
          "base_uri": "https://localhost:8080/"
        },
        "id": "_s5rEOOjoDSH",
        "outputId": "8631393f-c5f2-453e-bb96-9f12198d37bd"
      },
      "outputs": [
        {
          "name": "stdout",
          "output_type": "stream",
          "text": [
            "mahin\n"
          ]
        }
      ],
      "source": [
        "print(string)"
      ]
    },
    {
      "cell_type": "code",
      "execution_count": null,
      "metadata": {
        "colab": {
          "base_uri": "https://localhost:8080/"
        },
        "id": "6ZXsv08poIyQ",
        "outputId": "bae0b9b4-a347-4bb1-bdeb-92c0dea13222"
      },
      "outputs": [
        {
          "name": "stdout",
          "output_type": "stream",
          "text": [
            "[1, 2, 3, 4]\n",
            "[1, 2, 3, 4]\n"
          ]
        }
      ],
      "source": [
        "ms=[1,2,3]\n",
        "def func(mn):\n",
        "  mn.append(4)\n",
        "  print(mn)\n",
        "func(ms)\n",
        "print(ms)\n",
        "#as you can see when you pass mn within a function and it gets appended then the object at which ms variable is pointing at gets effected too\n",
        "#as well and this effect can be shown when ms is printed outside."
      ]
    },
    {
      "cell_type": "code",
      "execution_count": null,
      "metadata": {
        "id": "qA_wERLWppWR"
      },
      "outputs": [],
      "source": [
        "#Serialization is the process of converting data to a format that can be stored and later transported. Pickling on the other hand is\n",
        "#converting data in byte streams and dumping it into memory so that it can be transported over. It is mostly done for custom made python\n",
        "#objects so that all its functionalities and attributes are retained."
      ]
    },
    {
      "cell_type": "code",
      "execution_count": null,
      "metadata": {
        "id": "2Ykmeu2za3-x"
      },
      "outputs": [],
      "source": [
        "#Json is used for converting data in human readable format whereas pickling converts data in byte streams"
      ]
    },
    {
      "cell_type": "code",
      "execution_count": null,
      "metadata": {
        "colab": {
          "base_uri": "https://localhost:8080/"
        },
        "id": "mXfc14o4bTib",
        "outputId": "00addbdd-4e59-43d4-a840-eeb60ba32f02"
      },
      "outputs": [
        {
          "name": "stdout",
          "output_type": "stream",
          "text": [
            "{'name': 'mahendra', 'age': 21, 'weight': 31}\n",
            "<class 'dict'>\n"
          ]
        }
      ],
      "source": [
        "import json\n",
        "c={\"name\":\"mahendra\",\n",
        "   \"age\":21,\n",
        "   \"weight\":31}\n",
        "with open(\"ext1.json\",'w') as f1:\n",
        "  json.dump(c,f1)\n",
        "with open(\"ext1.json\") as f2:\n",
        "  c11=json.load(f2)\n",
        "  print(c11)\n",
        "  print(type(c11))"
      ]
    },
    {
      "cell_type": "code",
      "execution_count": null,
      "metadata": {
        "colab": {
          "base_uri": "https://localhost:8080/"
        },
        "id": "tgtHRoSQfX2W",
        "outputId": "9285cd37-aab1-41da-bb9f-657f880405f0"
      },
      "outputs": [
        {
          "name": "stdout",
          "output_type": "stream",
          "text": [
            "{'fname': 'mahendra', 'lname': 'harendra', 'age': 29, 'gender': 'male'}\n",
            "<class 'dict'>\n"
          ]
        }
      ],
      "source": [
        "import json\n",
        "c1={'fname':'mahendra',\n",
        "    'lname':'harendra',\n",
        "    'age':29,\n",
        "    'gender':'male'}\n",
        "with open('ext2.json','w') as f1:\n",
        "  json.dump(c1,f1,indent=4)\n",
        "with open('ext2.json') as f2:\n",
        "  c2=json.load(f2)\n",
        "  print(c2)\n",
        "  print(type(c2))\n"
      ]
    },
    {
      "cell_type": "code",
      "execution_count": null,
      "metadata": {
        "colab": {
          "base_uri": "https://localhost:8080/"
        },
        "id": "Suh_Z3tsjGQ5",
        "outputId": "f809fb2b-75d4-47cd-a40c-5f2727cba25c"
      },
      "outputs": [
        {
          "name": "stdout",
          "output_type": "stream",
          "text": [
            "[1, 2, 3]\n",
            "<class 'list'>\n"
          ]
        }
      ],
      "source": [
        "import json\n",
        "c1=[1,2,3]\n",
        "with open('ex1.json','w') as f2:\n",
        "  json.dump(c1,f2)\n",
        "with open('ex1.json') as f1:\n",
        "  c11=json.load(f1)\n",
        "  print(c11)\n",
        "  print(type(c11))\n",
        "#As we can see that we can transport python datatypes using json format easily and the datatype is still retained"
      ]
    },
    {
      "cell_type": "code",
      "execution_count": null,
      "metadata": {
        "colab": {
          "base_uri": "https://localhost:8080/"
        },
        "id": "UE3w_hR7j-_s",
        "outputId": "d4f0990a-6ea2-4ba5-8e63-e9952cf5947e"
      },
      "outputs": [
        {
          "name": "stdout",
          "output_type": "stream",
          "text": [
            "Name:Mahendra singh,Age:29,Gender:Male\n",
            "<class 'str'>\n"
          ]
        }
      ],
      "source": [
        "class person1:\n",
        "  def __init__(self,fname,lname,age,gender):\n",
        "    self.fname=fname\n",
        "    self.lname=lname\n",
        "    self.age=age\n",
        "    self.gender=gender\n",
        "  def __str__(self):\n",
        "    return f\"Name:{self.fname} {self.lname},Age:{self.age},Gender:{self.gender}\"\n",
        "def show_obj(p):\n",
        "  if isinstance(p,person1):\n",
        "    return f\"Name:{p.fname} {p.lname},Age:{p.age},Gender:{p.gender}\"\n",
        "p1=person1(\"Mahendra\",\"singh\",29,\"Male\")\n",
        "with open('exl3.json','w') as f1:\n",
        "  json.dump(p1,f1,default=show_obj)\n",
        "with open('exl3.json') as f2:\n",
        "  c124=json.load(f2)\n",
        "  print(c124)\n",
        "  print(type(c124))\n",
        "#as we can see that if we want to store and transport custom python object using json, it returns it as string. This is where pikle comes\n",
        "#in our use"
      ]
    },
    {
      "cell_type": "code",
      "execution_count": null,
      "metadata": {
        "colab": {
          "base_uri": "https://localhost:8080/",
          "height": 70
        },
        "id": "Det4wHSYo339",
        "outputId": "b4c0a9d7-c135-490e-d9de-42e1dcda8c57"
      },
      "outputs": [
        {
          "name": "stdout",
          "output_type": "stream",
          "text": [
            "<__main__.person object at 0x7ee9f70c7e80>\n",
            "<class '__main__.person'>\n"
          ]
        },
        {
          "data": {
            "application/vnd.google.colaboratory.intrinsic+json": {
              "type": "string"
            },
            "text/plain": [
              "'Name:Mahan singh,Age:34,Gender:Male'"
            ]
          },
          "execution_count": 12,
          "metadata": {},
          "output_type": "execute_result"
        }
      ],
      "source": [
        "import pickle\n",
        "class person:\n",
        "  def __init__(self,f,l,age,gender):\n",
        "    self.fname=f\n",
        "    self.lname=l\n",
        "    self.age=age\n",
        "    self.gender=gender\n",
        "  def display(self):\n",
        "    return f\"Name:{self.fname} {self.lname},Age:{self.age},Gender:{self.gender}\"\n",
        "c11=person(\"Mahan\",\"singh\",34,\"Male\")\n",
        "with open(\"zabron.pkl\",\"wb\") as f1:\n",
        "  pickle.dump(c11,f1)\n",
        "with open(\"zabron.pkl\",\"rb\") as f2:\n",
        "  c14=pickle.load(f2)\n",
        "  print(c14)\n",
        "  print(type(c14))\n",
        "c14.display()\n",
        "#As we can see that pickling serializes the custom made python object into byte streams such that it can be transported intactly and\n",
        "#such that its functionality is retained. json converts data into human understandable text format whereas pickling converts it into\n",
        "#byte streams"
      ]
    },
    {
      "cell_type": "code",
      "execution_count": null,
      "metadata": {
        "id": "4x89na9GtBRv"
      },
      "outputs": [],
      "source": [
        "#.py contains the source code while .pyc contains the bytecode of the program. We get bytecode after compilation of .py files.\n",
        "#Before execution python interpreter checks for .pyc files if found the python interpreter executes it else .py file is compiled into .pyc\n",
        "#file and then executed by python interpreter. Having a .pyc file saves your compilation time."
      ]
    },
    {
      "cell_type": "code",
      "execution_count": null,
      "metadata": {
        "id": "GsfTatTr8QA2"
      },
      "outputs": [],
      "source": [
        "#Python's assert statement is used to raise an exception. If the statement is true then exception is not raised else exception is raised\n",
        "#and program stops immediately."
      ]
    },
    {
      "cell_type": "code",
      "execution_count": null,
      "metadata": {
        "id": "-maoYGg0_6f8"
      },
      "outputs": [],
      "source": [
        "#*args and **kwargs accepts variable number of arguments where *args is variable number of positional arguments and **kwargs is variable number\n",
        "#of keyword arguments. kwargs represent dictionary and args would be a tuple"
      ]
    },
    {
      "cell_type": "code",
      "execution_count": null,
      "metadata": {
        "colab": {
          "base_uri": "https://localhost:8080/",
          "height": 211
        },
        "id": "RJ3jJRYxL1OC",
        "outputId": "c0e820ec-0dac-4dda-b076-305ac9e4033d"
      },
      "outputs": [
        {
          "ename": "TypeError",
          "evalue": "ignored",
          "output_type": "error",
          "traceback": [
            "\u001b[0;31m---------------------------------------------------------------------------\u001b[0m",
            "\u001b[0;31mTypeError\u001b[0m                                 Traceback (most recent call last)",
            "\u001b[0;32m<ipython-input-6-37599f02d0be>\u001b[0m in \u001b[0;36m<cell line: 7>\u001b[0;34m()\u001b[0m\n\u001b[1;32m      5\u001b[0m   \u001b[0;32mif\u001b[0m \u001b[0mkwargs\u001b[0m\u001b[0;34m:\u001b[0m\u001b[0;34m\u001b[0m\u001b[0;34m\u001b[0m\u001b[0m\n\u001b[1;32m      6\u001b[0m     \u001b[0mprint\u001b[0m\u001b[0;34m(\u001b[0m\u001b[0mkwargs\u001b[0m\u001b[0;34m)\u001b[0m\u001b[0;34m\u001b[0m\u001b[0;34m\u001b[0m\u001b[0m\n\u001b[0;32m----> 7\u001b[0;31m \u001b[0mfoo\u001b[0m\u001b[0;34m(\u001b[0m\u001b[0;34m)\u001b[0m\u001b[0;34m\u001b[0m\u001b[0;34m\u001b[0m\u001b[0m\n\u001b[0m",
            "\u001b[0;31mTypeError\u001b[0m: foo() missing 1 required positional argument: 'requires'"
          ]
        }
      ],
      "source": [
        "def foo(requires,*args,**kwargs):\n",
        "  print(requires)\n",
        "  if args:\n",
        "    print(args)\n",
        "  if kwargs:\n",
        "    print(kwargs)\n",
        "foo()\n"
      ]
    },
    {
      "cell_type": "code",
      "execution_count": null,
      "metadata": {
        "colab": {
          "base_uri": "https://localhost:8080/"
        },
        "id": "JRETibF0QZpf",
        "outputId": "a1501663-7315-4505-fb5a-d2ac5baaae65"
      },
      "outputs": [
        {
          "name": "stdout",
          "output_type": "stream",
          "text": [
            "mahendra\n"
          ]
        }
      ],
      "source": [
        "foo(\"mahendra\")"
      ]
    },
    {
      "cell_type": "code",
      "execution_count": null,
      "metadata": {
        "colab": {
          "base_uri": "https://localhost:8080/"
        },
        "id": "nVsooMBlQh6U",
        "outputId": "6feaa108-7552-4e11-b9ee-749b32bfabe4"
      },
      "outputs": [
        {
          "name": "stdout",
          "output_type": "stream",
          "text": [
            "harendra\n",
            "(1, 2, 3)\n"
          ]
        }
      ],
      "source": [
        "foo(\"harendra\",1,2,3)"
      ]
    },
    {
      "cell_type": "code",
      "execution_count": null,
      "metadata": {
        "colab": {
          "base_uri": "https://localhost:8080/"
        },
        "id": "HwqCYGPvQmI5",
        "outputId": "b15e752c-66d0-4176-ae12-56a88b50285a"
      },
      "outputs": [
        {
          "name": "stdout",
          "output_type": "stream",
          "text": [
            "Gajendra\n",
            "(1, 2, 3)\n",
            "{'a': 1, 'b': 2, 'c': 3}\n"
          ]
        }
      ],
      "source": [
        "foo(\"Gajendra\",1,2,3,a=1,b=2,c=3)"
      ]
    },
    {
      "cell_type": "code",
      "execution_count": null,
      "metadata": {
        "colab": {
          "base_uri": "https://localhost:8080/"
        },
        "id": "QhF5wqPnQsUK",
        "outputId": "4eae0949-7b0e-4ab9-97c2-976c377e9213"
      },
      "outputs": [
        {
          "name": "stdout",
          "output_type": "stream",
          "text": [
            "jhu\n",
            "(1, 2, 3, 4)\n",
            "{'a': 1, 'b': 2, 'c': 3, 'name': 'mahendra'}\n"
          ]
        }
      ],
      "source": [
        "def foo1(*args,**kwargs):\n",
        "  new_args=args+(4,)\n",
        "  kwargs['name']='mahendra'\n",
        "  foo('jhu',*new_args,**kwargs)\n",
        "foo1(1,2,3,a=1,b=2,c=3)\n",
        "#new_args adds new positional arguments and when you add (4,) then a new element gets added to the args tuple and when an 'name' key is added\n",
        "#to the dictionary and the forwarded to another function."
      ]
    },
    {
      "cell_type": "code",
      "execution_count": null,
      "metadata": {
        "colab": {
          "base_uri": "https://localhost:8080/"
        },
        "id": "bpisjo-HOqPq",
        "outputId": "63df2140-fc5c-4702-be0c-3b373b5ceedb"
      },
      "outputs": [
        {
          "name": "stdout",
          "output_type": "stream",
          "text": [
            "lk\n"
          ]
        }
      ],
      "source": [
        "ar=()\n",
        "if ar:\n",
        "  print(\"msd\")\n",
        "else:\n",
        "  print(\"lk\")"
      ]
    },
    {
      "cell_type": "code",
      "execution_count": null,
      "metadata": {
        "colab": {
          "base_uri": "https://localhost:8080/"
        },
        "id": "u1V44eDHOxgR",
        "outputId": "273c4c47-a095-46ea-8c95-53548ed957ee"
      },
      "outputs": [
        {
          "name": "stdout",
          "output_type": "stream",
          "text": [
            "op\n"
          ]
        }
      ],
      "source": [
        "ar1={}\n",
        "if ar1:\n",
        "  print(\"uss\")\n",
        "else:\n",
        "  print(\"op\")"
      ]
    },
    {
      "cell_type": "code",
      "execution_count": null,
      "metadata": {
        "colab": {
          "base_uri": "https://localhost:8080/"
        },
        "id": "fOOcG52aXRq9",
        "outputId": "90578320-c045-451f-d0b0-202d13a0eb2f"
      },
      "outputs": [
        {
          "name": "stdout",
          "output_type": "stream",
          "text": [
            "9\n"
          ]
        }
      ],
      "source": [
        "increment_by_i = [lambda x: x + i for i in range(10)]\n",
        "print(increment_by_i[0](0))"
      ]
    },
    {
      "cell_type": "code",
      "execution_count": null,
      "metadata": {
        "colab": {
          "base_uri": "https://localhost:8080/"
        },
        "id": "UpjSX40jwgq1",
        "outputId": "0f53751f-156d-4d9c-eee3-66b155bbe0df"
      },
      "outputs": [
        {
          "name": "stdout",
          "output_type": "stream",
          "text": [
            "[0, 1, 2, 3, 4, 5, 6, 7, 8, 9]\n"
          ]
        }
      ],
      "source": [
        "a1=[x for x in range(10)]\n",
        "print(a1)"
      ]
    },
    {
      "cell_type": "code",
      "execution_count": null,
      "metadata": {
        "colab": {
          "base_uri": "https://localhost:8080/"
        },
        "id": "TT1nkHmhwpdQ",
        "outputId": "a23b3ce2-493b-43c5-c2bf-eef501a08882"
      },
      "outputs": [
        {
          "name": "stdout",
          "output_type": "stream",
          "text": [
            "12\n"
          ]
        }
      ],
      "source": [
        "a1=[lambda a,b:a+b+i for i in range(10)]\n",
        "print(a1[9](1,2))"
      ]
    },
    {
      "cell_type": "code",
      "execution_count": null,
      "metadata": {
        "colab": {
          "base_uri": "https://localhost:8080/"
        },
        "id": "OXuXdcxx4ULT",
        "outputId": "21705a43-456e-4cea-e0db-d83932e80c76"
      },
      "outputs": [
        {
          "name": "stdout",
          "output_type": "stream",
          "text": [
            "[8, 8, 8, 8, 8]\n"
          ]
        }
      ],
      "source": [
        "def muller():\n",
        "  md=[]\n",
        "  for i in range(5):\n",
        "    md.append(lambda x:x*i)\n",
        "  return md\n",
        "aa=muller()\n",
        "k=[a(2) for a in aa]\n",
        "print(k)"
      ]
    },
    {
      "cell_type": "code",
      "execution_count": null,
      "metadata": {
        "id": "zbEaNLNUU2YE"
      },
      "outputs": [],
      "source": [
        "#each lambda function takes the reference at which i variable is pointing and so only the latest value of the i will be taken into account\n",
        "#when each function within a list is called by passing arguments."
      ]
    },
    {
      "cell_type": "code",
      "execution_count": null,
      "metadata": {
        "id": "63erIHvVbWXG"
      },
      "outputs": [],
      "source": [
        "#when each function is called with argument 2 as a(2) then the value of i for each of the function will be 4, as 4 is the latest value of i\n",
        "#after the end of the loop."
      ]
    },
    {
      "cell_type": "code",
      "execution_count": null,
      "metadata": {
        "colab": {
          "base_uri": "https://localhost:8080/"
        },
        "id": "n2uojIVBmy7A",
        "outputId": "10c96a3e-9726-43eb-94b9-7bbf468f06e8"
      },
      "outputs": [
        {
          "name": "stdout",
          "output_type": "stream",
          "text": [
            "[0, 2, 4, 6, 8]\n"
          ]
        }
      ],
      "source": [
        "#we can also prevent late binding using this process\n",
        "def killer():\n",
        "  mn=[]\n",
        "  for i in range(5):\n",
        "    mn.append(lambda x,i=i:x*i)\n",
        "  return mn\n",
        "aaa=killer()\n",
        "k=[a(2) for a in aaa]\n",
        "print(k)"
      ]
    },
    {
      "cell_type": "code",
      "execution_count": null,
      "metadata": {
        "colab": {
          "base_uri": "https://localhost:8080/"
        },
        "id": "1-oGiXx8oeOl",
        "outputId": "510888c5-83b1-4259-81b2-7cf7ced342bf"
      },
      "outputs": [
        {
          "name": "stdout",
          "output_type": "stream",
          "text": [
            "13\n"
          ]
        }
      ],
      "source": [
        "a1=[lambda x:x+a for a in range(10)]\n",
        "print(a1[3](4))\n",
        "#because of late binding the latest value of a will be passed when we call the function by passing 4 as argument. The last value of a after\n",
        "#end of the loop will be 9 hence 9+4=13"
      ]
    },
    {
      "cell_type": "code",
      "execution_count": null,
      "metadata": {
        "colab": {
          "base_uri": "https://localhost:8080/"
        },
        "id": "IJHmLj1QvMZE",
        "outputId": "6cdd2051-da17-4f60-ac86-49f27ec6aa0d"
      },
      "outputs": [
        {
          "name": "stdout",
          "output_type": "stream",
          "text": [
            "{'a': 1, 'b': 5}\n"
          ]
        }
      ],
      "source": [
        "s_dict={'a':1,'b':2}\n",
        "s_dict.update({'b':5})\n",
        "print(s_dict)"
      ]
    },
    {
      "cell_type": "code",
      "execution_count": null,
      "metadata": {
        "colab": {
          "base_uri": "https://localhost:8080/",
          "height": 211
        },
        "id": "8g3smPVo2B_u",
        "outputId": "112ae6ff-0398-437b-f697-7d81ffc861ed"
      },
      "outputs": [
        {
          "ename": "TypeError",
          "evalue": "ignored",
          "output_type": "error",
          "traceback": [
            "\u001b[0;31m---------------------------------------------------------------------------\u001b[0m",
            "\u001b[0;31mTypeError\u001b[0m                                 Traceback (most recent call last)",
            "\u001b[0;32m<ipython-input-9-ce623a7db8ce>\u001b[0m in \u001b[0;36m<cell line: 9>\u001b[0;34m()\u001b[0m\n\u001b[1;32m      7\u001b[0m \u001b[0ma1\u001b[0m\u001b[0;34m=\u001b[0m\u001b[0ma\u001b[0m\u001b[0;34m(\u001b[0m\u001b[0;34m)\u001b[0m\u001b[0;34m\u001b[0m\u001b[0;34m\u001b[0m\u001b[0m\n\u001b[1;32m      8\u001b[0m \u001b[0ma2\u001b[0m\u001b[0;34m=\u001b[0m\u001b[0mb\u001b[0m\u001b[0;34m(\u001b[0m\u001b[0;34m)\u001b[0m\u001b[0;34m\u001b[0m\u001b[0;34m\u001b[0m\u001b[0m\n\u001b[0;32m----> 9\u001b[0;31m \u001b[0mprint\u001b[0m\u001b[0;34m(\u001b[0m\u001b[0ma1\u001b[0m\u001b[0;34m,\u001b[0m\u001b[0ma2\u001b[0m\u001b[0;34m)\u001b[0m\u001b[0;34m\u001b[0m\u001b[0;34m\u001b[0m\u001b[0m\n\u001b[0m",
            "\u001b[0;31mTypeError\u001b[0m: __str__ returned non-string (type int)"
          ]
        }
      ],
      "source": [
        "class a:\n",
        "  def __str__(self):\n",
        "    return 1\n",
        "class b(a):\n",
        "  def __init__(self):\n",
        "    super().__init__()\n",
        "a1=a()\n",
        "a2=b()\n",
        "print(a1,a2)"
      ]
    },
    {
      "cell_type": "code",
      "execution_count": null,
      "metadata": {
        "colab": {
          "base_uri": "https://localhost:8080/",
          "height": 229
        },
        "id": "FK5Ezion5iLp",
        "outputId": "640a1952-4cd4-447b-eee7-62539bf6a33b"
      },
      "outputs": [
        {
          "ename": "TypeError",
          "evalue": "ignored",
          "output_type": "error",
          "traceback": [
            "\u001b[0;31m---------------------------------------------------------------------------\u001b[0m",
            "\u001b[0;31mTypeError\u001b[0m                                 Traceback (most recent call last)",
            "\u001b[0;32m<ipython-input-10-cf90789ccb48>\u001b[0m in \u001b[0;36m<cell line: 19>\u001b[0;34m()\u001b[0m\n\u001b[1;32m     17\u001b[0m         \u001b[0mprint\u001b[0m\u001b[0;34m(\u001b[0m\u001b[0mself\u001b[0m\u001b[0;34m.\u001b[0m\u001b[0m__var\u001b[0m\u001b[0;34m)\u001b[0m\u001b[0;34m\u001b[0m\u001b[0;34m\u001b[0m\u001b[0m\n\u001b[1;32m     18\u001b[0m \u001b[0;34m\u001b[0m\u001b[0m\n\u001b[0;32m---> 19\u001b[0;31m \u001b[0mobj\u001b[0m\u001b[0;34m=\u001b[0m\u001b[0mParent\u001b[0m\u001b[0;34m(\u001b[0m\u001b[0;34m)\u001b[0m\u001b[0;34m\u001b[0m\u001b[0;34m\u001b[0m\u001b[0m\n\u001b[0m\u001b[1;32m     20\u001b[0m \u001b[0mobj\u001b[0m\u001b[0;34m.\u001b[0m\u001b[0mshow\u001b[0m\u001b[0;34m(\u001b[0m\u001b[0;34m)\u001b[0m\u001b[0;34m\u001b[0m\u001b[0;34m\u001b[0m\u001b[0m\n",
            "\u001b[0;31mTypeError\u001b[0m: Can't instantiate abstract class Parent with abstract method show"
          ]
        }
      ],
      "source": [
        "from abc import ABCMeta, abstractmethod\n",
        "class Parent(metaclass=ABCMeta):\n",
        "    def __init__(self):\n",
        "        self.num=100\n",
        "\n",
        "    @abstractmethod\n",
        "    def show(self):\n",
        "        pass\n",
        "\n",
        "class Child(Parent):\n",
        "    def __init__(self):\n",
        "        super().__init__()\n",
        "        self.__var=10\n",
        "\n",
        "    def show(self):\n",
        "        print(self.num)\n",
        "        print(self.__var)\n",
        "\n",
        "obj=Parent()\n",
        "obj.show()"
      ]
    },
    {
      "cell_type": "code",
      "execution_count": null,
      "metadata": {
        "colab": {
          "base_uri": "https://localhost:8080/"
        },
        "id": "IO-euPp_6b1R",
        "outputId": "a1eeed5a-9ead-4c21-9b7d-3b22d6801f44"
      },
      "outputs": [
        {
          "name": "stdout",
          "output_type": "stream",
          "text": [
            "20\n",
            "18\n",
            "14\n",
            "8\n",
            "0\n"
          ]
        }
      ],
      "source": [
        "li = [1, 2, 3, 4, 3]\n",
        "def fun(x):\n",
        "    return lambda x: 2*x\n",
        "x = list(map(fun, li))\n",
        "\n",
        "for i in range(5):\n",
        "    p=sum(x[i](li[i:-1]))\n",
        "    print(p)"
      ]
    },
    {
      "cell_type": "code",
      "execution_count": null,
      "metadata": {
        "colab": {
          "base_uri": "https://localhost:8080/"
        },
        "id": "k9fL9IZK7ZzK",
        "outputId": "c14885a8-eda1-4d2d-a1f2-346c976a91e4"
      },
      "outputs": [
        {
          "name": "stdout",
          "output_type": "stream",
          "text": [
            "{(1, 2, 4): 5, (4, 2, 1): 2, (1, 2): 6}\n",
            "16\n"
          ]
        }
      ],
      "source": [
        "count={}\n",
        "count[(1,2,4)] = 5\n",
        "count[(4,2,1)] = 7\n",
        "count[(1,2)] = 6\n",
        "count[(4,2,1)] = 2\n",
        "print(count)\n",
        "tot = 0\n",
        "for i in count:\n",
        "    tot=tot+count[i]\n",
        "print(len(count)+tot)"
      ]
    },
    {
      "cell_type": "code",
      "execution_count": null,
      "metadata": {
        "colab": {
          "base_uri": "https://localhost:8080/"
        },
        "id": "UfXX4I6D8Ch1",
        "outputId": "fef5bfcf-b219-44df-d259-5551c50885bb"
      },
      "outputs": [
        {
          "name": "stdout",
          "output_type": "stream",
          "text": [
            "2\n"
          ]
        }
      ],
      "source": [
        "class Demo:\n",
        "    def __init__(self):\n",
        "        self.x = 1\n",
        "    def change(self):\n",
        "        self.x = 10\n",
        "class Demo_derived(Demo):\n",
        "    def change(self):\n",
        "        self.x=self.x+1\n",
        "        return self.x\n",
        "\n",
        "obj = Demo_derived()\n",
        "print(obj.change())"
      ]
    },
    {
      "cell_type": "code",
      "execution_count": null,
      "metadata": {
        "colab": {
          "base_uri": "https://localhost:8080/"
        },
        "id": "yHErGM0P-Eih",
        "outputId": "d10be9d6-d149-43ef-f8ae-779de5008c5f"
      },
      "outputs": [
        {
          "name": "stdout",
          "output_type": "stream",
          "text": [
            "{'Numbers': {1: 56, 3: 7}, 'Letters': {4: 'B'}}\n"
          ]
        }
      ],
      "source": [
        "numbers = {}\n",
        "letters = {}\n",
        "comb = {}\n",
        "numbers[1] = 56\n",
        "numbers[3] = 7\n",
        "letters[4] = 'B'\n",
        "comb['Numbers'] = numbers\n",
        "comb['Letters'] = letters\n",
        "print(comb)"
      ]
    },
    {
      "cell_type": "code",
      "execution_count": null,
      "metadata": {
        "colab": {
          "base_uri": "https://localhost:8080/"
        },
        "id": "yynLHnVs_S1C",
        "outputId": "2fea3464-3717-46b8-bcdc-ae1d4d634935"
      },
      "outputs": [
        {
          "name": "stdout",
          "output_type": "stream",
          "text": [
            "20\n"
          ]
        }
      ],
      "source": [
        "class Customer:\n",
        "    def __init__(self, cust_id, age):\n",
        "        self.cust_id = cust_id\n",
        "        self.age = age\n",
        "\n",
        "c1=Customer(100,20)\n",
        "\n",
        "def change(c2):\n",
        "    c2=Customer(100,21)\n",
        "\n",
        "change(c1)\n",
        "print(c1.age)"
      ]
    },
    {
      "cell_type": "code",
      "execution_count": null,
      "metadata": {
        "colab": {
          "base_uri": "https://localhost:8080/"
        },
        "id": "Qqj5AJDk_VqP",
        "outputId": "d7b23f64-ad26-4183-800c-157361425d4a"
      },
      "outputs": [
        {
          "data": {
            "text/plain": [
              "2"
            ]
          },
          "execution_count": 18,
          "metadata": {},
          "output_type": "execute_result"
        }
      ],
      "source": [
        "x=1\n",
        "def cg():\n",
        " global x\n",
        " x=x+1\n",
        "cg()\n",
        "x"
      ]
    },
    {
      "cell_type": "code",
      "execution_count": null,
      "metadata": {
        "colab": {
          "base_uri": "https://localhost:8080/"
        },
        "id": "3MwQPfXpBmry",
        "outputId": "2bb3d8aa-770c-4356-eab4-c4c9c219f2a6"
      },
      "outputs": [
        {
          "data": {
            "text/plain": [
              "True"
            ]
          },
          "execution_count": 20,
          "metadata": {},
          "output_type": "execute_result"
        }
      ],
      "source": [
        "10/5==2\n",
        "#difference between / and //"
      ]
    },
    {
      "cell_type": "code",
      "execution_count": null,
      "metadata": {
        "colab": {
          "base_uri": "https://localhost:8080/"
        },
        "id": "Wjz-iv7JBx-y",
        "outputId": "dcc07a05-e91e-44ec-abb0-52f65b7604f4"
      },
      "outputs": [
        {
          "name": "stdout",
          "output_type": "stream",
          "text": [
            "{(3, 1), (4, 1), (4, 2), (5, 2)}\n"
          ]
        }
      ],
      "source": [
        "s1={3, 4}\n",
        "s2={1, 2}\n",
        "s3=set()\n",
        "i=0\n",
        "j=0\n",
        "for i in s1:\n",
        "    for j in s2:\n",
        "        s3.add((i,j))\n",
        "        i+=1\n",
        "        j+=1\n",
        "print(s3)"
      ]
    },
    {
      "cell_type": "code",
      "execution_count": null,
      "metadata": {
        "colab": {
          "base_uri": "https://localhost:8080/"
        },
        "id": "7_BptVtmY7zh",
        "outputId": "460dd7a2-3d0b-4a4b-d8b7-cc333bcb5398"
      },
      "outputs": [
        {
          "name": "stdout",
          "output_type": "stream",
          "text": [
            "2.5\n"
          ]
        }
      ],
      "source": [
        "print(5/2)"
      ]
    },
    {
      "cell_type": "code",
      "execution_count": null,
      "metadata": {
        "colab": {
          "base_uri": "https://localhost:8080/"
        },
        "id": "fR4Hl4-iZByS",
        "outputId": "83ce6a0c-dad5-43c3-8898-910271da8a2a"
      },
      "outputs": [
        {
          "name": "stdout",
          "output_type": "stream",
          "text": [
            "2\n"
          ]
        }
      ],
      "source": [
        "print(5//2)"
      ]
    },
    {
      "cell_type": "code",
      "execution_count": null,
      "metadata": {
        "colab": {
          "base_uri": "https://localhost:8080/"
        },
        "id": "CsgK5fyZZF5d",
        "outputId": "74e93296-d925-4ea8-911f-359a3d790bd6"
      },
      "outputs": [
        {
          "name": "stdout",
          "output_type": "stream",
          "text": [
            "3.0\n"
          ]
        }
      ],
      "source": [
        "print(6/2)"
      ]
    },
    {
      "cell_type": "code",
      "execution_count": null,
      "metadata": {
        "colab": {
          "base_uri": "https://localhost:8080/"
        },
        "id": "4AL-mjfWZJXm",
        "outputId": "da75996c-4f28-44f5-a66b-1e948374c09b"
      },
      "outputs": [
        {
          "name": "stdout",
          "output_type": "stream",
          "text": [
            "3\n"
          ]
        }
      ],
      "source": [
        "print(6//2)"
      ]
    },
    {
      "cell_type": "code",
      "execution_count": null,
      "metadata": {
        "colab": {
          "base_uri": "https://localhost:8080/"
        },
        "id": "DA-55zF3ZQ5v",
        "outputId": "9d3b66b0-a039-4d9a-b9cf-bc8cf62084d7"
      },
      "outputs": [
        {
          "data": {
            "text/plain": [
              "True"
            ]
          },
          "execution_count": 5,
          "metadata": {},
          "output_type": "execute_result"
        }
      ],
      "source": [
        "6/2==6//2"
      ]
    },
    {
      "cell_type": "code",
      "execution_count": null,
      "metadata": {
        "colab": {
          "base_uri": "https://localhost:8080/"
        },
        "id": "Xbu0GXdFZUej",
        "outputId": "774a9490-90c9-4621-b174-d61de236974b"
      },
      "outputs": [
        {
          "data": {
            "text/plain": [
              "False"
            ]
          },
          "execution_count": 6,
          "metadata": {},
          "output_type": "execute_result"
        }
      ],
      "source": [
        "5/2==5//2"
      ]
    },
    {
      "cell_type": "code",
      "execution_count": null,
      "metadata": {
        "colab": {
          "base_uri": "https://localhost:8080/"
        },
        "id": "NO73Gxr-ZXnB",
        "outputId": "c46d5c5b-7576-4143-876d-df0f21edd4d7"
      },
      "outputs": [
        {
          "data": {
            "text/plain": [
              "True"
            ]
          },
          "execution_count": 8,
          "metadata": {},
          "output_type": "execute_result"
        }
      ],
      "source": [
        "3.0==3\n",
        "#/ this operator returns the floating number quotient while // operator returns the integer part of division and discards the decimal part"
      ]
    },
    {
      "cell_type": "code",
      "execution_count": 43,
      "metadata": {
        "id": "TIq4WXLIaDHx"
      },
      "outputs": [],
      "source": [
        "#key takeaways\n",
        "#1./ this operator returns the entire float part of division while // this operator returns only the integer part of division.\n",
        "#2.The return value of x.append(1) or x.append(2)......or any such thing is None hence x.append(x.append(0)) the x would be equivalent to\n",
        "#[0,None]\n",
        "#3.If any changes are made to the list passed within a function then those changes will also be reflected in the original list as lists are\n",
        "#mutable and changes can be made to it while their memory location remains intact.\n",
        "#4. Even if we donot define constructor in the child class, the object of the child class can still access variables of the parent class and\n",
        "#as we see the methods of the parent class can also be accessed by the objects of the child class.\n",
        "#5. If you want to inherit all the attributes defined in parent constructor into the child constructor while adding a few more attributes\n",
        "#to the child constructor then you do super().__init__(), if you donot do this super().__init__() then your child class constructor\n",
        "#will over-ride the parent class constructor completely also any function of the child class with the same name as any function in the\n",
        "#parent class will over-ride the method with the same name in parent class.\n",
        "#6. sum function won't work on heterogeneous sets.\n",
        "#7. Even if you donot define any constructor in the base class, you can still do super().__init__() while defining the constructor of\n",
        "#the child class and it still won't give any error. All the methods from base class are imported in the child class including dunder\n",
        "#methods.\n",
        "#8. whether you print(1) or print('1'), it will return 1 only.\n",
        "#9.Exceptions can be raised along with custom message. The Exception can be raised either by using raise Exception or raise Exception()\n",
        "#The error message can either be passed within the bracket or the Exception can be caught and subsequent error message displayed.\n",
        "#10. You create a custom exception class by importing Exception class as parent class when you also have to perform some task along with\n",
        "#printing some error message.\n",
        "#11. You cannot create a custom exception class with a custom name without creating a seperate exception class for that custom exception.\n",
        "#12. If a method is declared as a abstract method in parent class then it has to be defined in child class at any cost.\n",
        "#13. To define a method as abstract method we have to do this from abc import ABC,abstractmethod followed by class dham(ABC)\n",
        "#we also have to import ABC in our parent class.\n",
        "#14. If we try to catch error with a series of Exceptions and if except Exception as at the start then only the part under except Exception\n",
        "#will be executed, the rest of the exceptions won't be executed. also once exception is raised, the control won't come back to the original\n",
        "#loop or place where the exception was raised.\n",
        "#15. If you donot make any constructor method in your child class then the parent constructor method is imported by default.\n",
        "#16. If you make constructor method in your child class then the parent constructor method will get over-ridden.\n",
        "#17. If there are 3 classes class a,class b and class c and class b(a), class c(b) and if a constructor is defined in a but not in class b\n",
        "#and class c then the constructor of class a will also be present in class b and class c.\n",
        "#18. If there are 3 classes class a,class b and class c and class b(a), class c(b) and if a constructor is defined in a but not in b but\n",
        "#defined in c then constructor of c should have super().__init__() to prevent over-riding of constructor of b(class b will have constructor\n",
        "#of a by default).\n",
        "#19. Abstract classes cannot be instantiated, we cannot create any instances from abstract classes.\n",
        "#20. If lambda function is returned by a function func and if func is applied to every item of an iterable using map then the list we would\n",
        "#get as output would contain lambda functions.\n",
        "#21. math.ceil(a) would convert 99.2 to 100.\n",
        "#22. If a key is initialized with 2 different values twice then the latest value will be taken as final value by that particular key of the\n",
        "#dictionary.\n",
        "#23. Values of dictionary may or may not be unique, multiple keys can have the same values, keys have to be unique though.\n",
        "#24. The moment return statement is encountered, the control exits the function but it doesnot apply for try, except, finally blocks. In case of\n",
        "#try, except, finally blocks, each of the blocks will be executed even if they contain return statements with the only condition that\n",
        "#no statement after the return statement will be executed.\n",
        "#25. Applying str() function on a list say a1=[1] and str(a1) will result in '[1]' and applying str on each item of a list say a1=[[0],[1]]\n",
        "#using map function list(map(str,a1)) will result in ['[0]','[1]'].\n",
        "#26. slicing or a1[5:6] returns a part of the list which is list itself and not list element.\n",
        "#27. A generator expression is similar to list comprehension except that it generates items one at a time and doesnot store the entire list\n",
        "#in the memory at once.Hence it is more memory efficient. It generates items on-the-fly and when required(either in loop or using next).\n",
        "#The generator expression is (expression for item in iterable) for example (x**2 for x in range(5)).\n",
        "#28.song.upper() doesnot convert the song variable to uppercase.\n",
        "#29. if(boolean comparision) is a equally valid statement.\n",
        "#30. A variable referring to a immutable data-type object can be accessed within a function using global keyword and changed. The variable now\n",
        "#starts pointing towards a new memory location both inside and outside the function after using global keyword.\n",
        "#31.isalpha() function checks if a string has all alphabets, isalnum() function checks if a string has alphanumerics and isdigit() function is\n",
        "#used to find if a string only contains digits.\n",
        "#32. If a global variable(declared with a list at the global scope) is passed inside a function and within the function it is re-assigned\n",
        "#with some new value say k=[1] or q=[1] then the variable at global level(say q) will still not be changed as q at global scope and q at local\n",
        "#scope are now referencing to 2 completely new memory locations and hence any change made to the memory location that global q is referencing to\n",
        "#will not get reflected to the memory location that local q is referencing to and vice-versa\n",
        "#def foo1(q):\n",
        "#    q=[0]\n",
        "#q=[1]\n",
        "#fool(q)\n",
        "#print(q)\n",
        "#q will still print [1], when you pass q to function then you are actually passing reference of list [1] but rather than appending or\n",
        "#popping elements when you do q=[0], you re-assign reference of new list to the variable q but this reference will only exist at the\n",
        "#local scope and will not be reflected to q at the global scope.\n",
        "#33. when you convert dictionary to a list only keys of dictionary will be taken as list elements.\n",
        "#34. to dump a data within we use pickle.dump(c1,f1) where c1 is data and f1 is file and to load a data from it we use pickle.load(f)\n",
        "#where f is file.\n",
        "#35.pop() function removes last element from the list say from [1,2,3,4] it will remove 4\n",
        "#36. int('0011',2) means converting binary string '0011' to integer using base 2.\n",
        "#37. If there are 4 recursive calls in a function then the decorator  will evaluate for each step.\n",
        "#38. The reduce function reduces a list to a single value using certain functions.\n",
        "#39. The filter function applied function to a list and returns iterator containing only those items for which a boolean condition\n",
        "#holds True.\n",
        "#40. Applying sum() function like this li.sum() where li is list is False. sum() can be applied only like this sum(li)\n",
        "#41. An iterable contains only the __iter__ method whereas iterator contains both the __next__ as well as the __iter__ methods\n",
        "#an iterator remembers its current state as demonstrated below but iterable doesnot remember its current state."
      ]
    },
    {
      "cell_type": "code",
      "execution_count": null,
      "metadata": {
        "colab": {
          "base_uri": "https://localhost:8080/"
        },
        "id": "U4_VJAxzg9fC",
        "outputId": "afbd475d-be2a-4be7-9acf-a6a732005269"
      },
      "outputs": [
        {
          "name": "stdout",
          "output_type": "stream",
          "text": [
            "[0, None]\n"
          ]
        }
      ],
      "source": [
        "x=[]\n",
        "x.append(x.append(0))\n",
        "print(x)"
      ]
    },
    {
      "cell_type": "code",
      "execution_count": null,
      "metadata": {
        "colab": {
          "base_uri": "https://localhost:8080/"
        },
        "id": "BkcHBrJxhFw7",
        "outputId": "934dd59f-3412-40e0-9208-947a38a09010"
      },
      "outputs": [
        {
          "name": "stdout",
          "output_type": "stream",
          "text": [
            "[0, None, 1, None, 2, None]\n"
          ]
        }
      ],
      "source": [
        "def foo(i,x=[]):\n",
        "  x.append(x.append(i))\n",
        "  return x\n",
        "for i in range(3):\n",
        "  y=foo(i)\n",
        "print(y)\n",
        "#When i=0 then x.append(i) would result in x=[0] after which x.append(x.append(i)) would result in x.append(None), so x=[0,None]\n",
        "#When i=1 then x.append(i) would result in x=[0,None,1] after which x.append(x.append(i)) would result in x.append(None), so x=[0,None,1,None]\n",
        "#when i=2 then x.append(i) would result in x=[0,None,1,None,2] after which x.append(x.append(i)) would result in x.append(None),so\n",
        "#x=[0,None,1,None,2,None]"
      ]
    },
    {
      "cell_type": "code",
      "execution_count": null,
      "metadata": {
        "colab": {
          "base_uri": "https://localhost:8080/"
        },
        "id": "80VTujf5pXw1",
        "outputId": "5e7fce93-f4cc-401a-b9de-1573485c4d93"
      },
      "outputs": [
        {
          "name": "stdout",
          "output_type": "stream",
          "text": [
            "None\n"
          ]
        }
      ],
      "source": [
        "x1=[]\n",
        "print(x1.append(1))"
      ]
    },
    {
      "cell_type": "code",
      "execution_count": null,
      "metadata": {
        "colab": {
          "base_uri": "https://localhost:8080/"
        },
        "id": "Xz7aiptJpt40",
        "outputId": "b7188ee8-b000-4b2f-ddf3-a4ee9b9f3659"
      },
      "outputs": [
        {
          "data": {
            "text/plain": [
              "[1]"
            ]
          },
          "execution_count": 14,
          "metadata": {},
          "output_type": "execute_result"
        }
      ],
      "source": [
        "x1"
      ]
    },
    {
      "cell_type": "code",
      "execution_count": null,
      "metadata": {
        "colab": {
          "base_uri": "https://localhost:8080/"
        },
        "id": "ORt-Z55dwA5-",
        "outputId": "20d94fd2-fddc-49b3-ce0b-60de9d329a5c"
      },
      "outputs": [
        {
          "name": "stdout",
          "output_type": "stream",
          "text": [
            "True\n"
          ]
        }
      ],
      "source": [
        "def foo(x):\n",
        "  x[0]=['def']\n",
        "  x[1]=['abc']\n",
        "  return id(x)\n",
        "q=['abc','def']\n",
        "print(id(q)==foo(q))\n",
        "#True is returned as when q is passed to foo function and when every element of list q is changed by using x[0] and x[1] then you are making\n",
        "#changes to the same list and as lists are mutable so changes can be made to it while its memory location still remains intact. Hence id(x)\n",
        "#and id(q) will remain the same.\n"
      ]
    },
    {
      "cell_type": "code",
      "execution_count": null,
      "metadata": {
        "colab": {
          "base_uri": "https://localhost:8080/"
        },
        "id": "OkoV1It9yfd6",
        "outputId": "11b156b5-6820-4961-f3f2-7eb4d6a97419"
      },
      "outputs": [
        {
          "name": "stdout",
          "output_type": "stream",
          "text": [
            "False\n"
          ]
        }
      ],
      "source": [
        "def foo1(x):\n",
        "  x=[1,2,3]\n",
        "  return id(x)\n",
        "q=['a','b']\n",
        "print(id(q)==foo1(q))\n",
        "#This returns False as x is now equated with a completely new list which now points at a completely different memory location. Hence id(q)\n",
        "#now won't be the same as id(x) because both the variables now point at 2 completely different memory locations."
      ]
    },
    {
      "cell_type": "code",
      "execution_count": null,
      "metadata": {
        "colab": {
          "base_uri": "https://localhost:8080/"
        },
        "id": "g8gzT9yhzLmN",
        "outputId": "e92fd38a-4e32-41fd-ba39-f1dc1d980524"
      },
      "outputs": [
        {
          "name": "stdout",
          "output_type": "stream",
          "text": [
            "[5, 4, 3, 2, 1]\n"
          ]
        }
      ],
      "source": [
        "a = [1, 2, 3, 4, 5]\n",
        "b = lambda x: (b (x[1:]) + x[:1] if x else [])\n",
        "print(b (a))"
      ]
    },
    {
      "cell_type": "code",
      "execution_count": null,
      "metadata": {
        "colab": {
          "base_uri": "https://localhost:8080/"
        },
        "id": "pW0-Nh9R0HNL",
        "outputId": "8b4aa05f-b938-460b-cbf4-d358b817a401"
      },
      "outputs": [
        {
          "data": {
            "text/plain": [
              "[1]"
            ]
          },
          "execution_count": 23,
          "metadata": {},
          "output_type": "execute_result"
        }
      ],
      "source": [
        "a=[1,2,3,4,5]\n",
        "a[:1]"
      ]
    },
    {
      "cell_type": "code",
      "execution_count": null,
      "metadata": {
        "colab": {
          "base_uri": "https://localhost:8080/"
        },
        "id": "kRyQOLM7GqOl",
        "outputId": "58fefa42-abd1-42d2-c8a9-a915ff0e9133"
      },
      "outputs": [
        {
          "data": {
            "text/plain": [
              "[1]"
            ]
          },
          "execution_count": 25,
          "metadata": {},
          "output_type": "execute_result"
        }
      ],
      "source": [
        "a=[1,2,3,4]\n",
        "[]+a[:1]"
      ]
    },
    {
      "cell_type": "code",
      "execution_count": null,
      "metadata": {
        "colab": {
          "base_uri": "https://localhost:8080/"
        },
        "id": "pCeWIEq9G9aD",
        "outputId": "1e29232b-7b85-47a3-ed8b-6387c5d59470"
      },
      "outputs": [
        {
          "name": "stdout",
          "output_type": "stream",
          "text": [
            "[1]\n"
          ]
        }
      ],
      "source": [
        "print(a[:1])"
      ]
    },
    {
      "cell_type": "code",
      "execution_count": null,
      "metadata": {
        "colab": {
          "base_uri": "https://localhost:8080/"
        },
        "id": "sS2MnxEPMvK3",
        "outputId": "cb7ec2c1-5985-48c1-f330-cb6eb0ebd96b"
      },
      "outputs": [
        {
          "name": "stdout",
          "output_type": "stream",
          "text": [
            "[5, 4, 3, 2, 1]\n"
          ]
        }
      ],
      "source": [
        "a=[1,2,3,4,5]\n",
        "b=lambda x:b(x[1:])+x[:1] if x else []\n",
        "print(b(a))\n",
        "#initially b([1,2,3,4,5]) is passed which results in b([2,3,4,5])+[1], Now b([2,3,4,5]) is called\n",
        "#This results in b([3,4,5])+[2], now b([3,4,5]) is called\n",
        "#Calling b([3,4,5]) results in b([4,5])+[3], now b([4,5]) is called\n",
        "#Calling b([4,5]) results in b([5])+[4] , now b(5) is called\n",
        "#Calling b(5) results in b([])+[5]\n",
        "#b([]) results in [], now []+[5] results in [5]--returned by b([])+[5](Result of b(5))\n",
        "#Now b([4,5]) results in [5]+[4]=[5,4]\n",
        "#Now b([3,4,5]) would result in [5,4]+[3]=[5,4,3]\n",
        "#Now b([2,3,4,5]) would result in b([3,4,5])+[2] which is [5,4,3,2]\n",
        "#Lastly b([1,2,3,4,5]) would result in [5,4,3,2,1]"
      ]
    },
    {
      "cell_type": "code",
      "execution_count": null,
      "metadata": {
        "colab": {
          "base_uri": "https://localhost:8080/",
          "height": 35
        },
        "id": "Ovq4VB51fTOR",
        "outputId": "65568019-9ee5-4c9c-89b1-c3de7ac58cc9"
      },
      "outputs": [
        {
          "output_type": "execute_result",
          "data": {
            "text/plain": [
              "'What is ms of class B 24'"
            ],
            "application/vnd.google.colaboratory.intrinsic+json": {
              "type": "string"
            }
          },
          "metadata": {},
          "execution_count": 5
        }
      ],
      "source": [
        "class A:\n",
        "  def __init__(self,a1,a2):\n",
        "    self.a1=a1\n",
        "    self.a2=a2\n",
        "  def mandal(self):\n",
        "    return f\"what is ms of class A {self.a1}\"\n",
        "class B(A):\n",
        "  def display(self):\n",
        "    return f\"What is ms of class B {self.a2}\"\n",
        "c1=B(21,24)\n",
        "c1.display()\n",
        "#as we can see even if you donot declare any constructor method in child class then the child class object can still access variables of\n",
        "#parent class.\n"
      ]
    },
    {
      "cell_type": "code",
      "source": [
        "c1.mandal()"
      ],
      "metadata": {
        "colab": {
          "base_uri": "https://localhost:8080/",
          "height": 35
        },
        "id": "LpelEscenRU7",
        "outputId": "3cf2835d-fee5-41fe-c910-b6aa7d839efa"
      },
      "execution_count": null,
      "outputs": [
        {
          "output_type": "execute_result",
          "data": {
            "text/plain": [
              "'what is ms of class A 21'"
            ],
            "application/vnd.google.colaboratory.intrinsic+json": {
              "type": "string"
            }
          },
          "metadata": {},
          "execution_count": 6
        }
      ]
    },
    {
      "cell_type": "code",
      "source": [
        "class A1:\n",
        "  def __init__(self,a1,a2):\n",
        "    self.a1=a1\n",
        "    self.a2=a2\n",
        "  def mandal(self):\n",
        "    return f\"what is this asb class {self.a1}\"\n",
        "class B1(A1):\n",
        "  def __init__(self,a1,b,b1):\n",
        "    super().__init__(a1,b)\n",
        "    self.b1=b1\n",
        "  def andal(self):\n",
        "    return f\"what is bsb class {self.b1} and asb class {self.a1}\"\n",
        "c11=B1(135,130,125)\n",
        "c11.andal()\n",
        "#As you can if you want to add new attributes of the child class while retaining all the attributes of the parent class\n",
        "#then you have to use super().__init__(a1,b), else the entire child constructor will over-ride the parent constructor."
      ],
      "metadata": {
        "colab": {
          "base_uri": "https://localhost:8080/",
          "height": 35
        },
        "id": "uJv8G61xnk1L",
        "outputId": "59ed4f37-11dd-448b-bbc7-19acb0f46279"
      },
      "execution_count": null,
      "outputs": [
        {
          "output_type": "execute_result",
          "data": {
            "text/plain": [
              "'what is bsb class 125 and asb class 135'"
            ],
            "application/vnd.google.colaboratory.intrinsic+json": {
              "type": "string"
            }
          },
          "metadata": {},
          "execution_count": 11
        }
      ]
    },
    {
      "cell_type": "code",
      "source": [
        "class ab:\n",
        "  def mani(self):\n",
        "    return f\"who is ab\"\n",
        "class cd(ab):\n",
        "  def mani(self):\n",
        "    return f\"who is cd\"\n",
        "a11=cd()\n",
        "a11.mani()\n",
        "#As you can see that a method with the same name in child class completely over-rides a method with the same in parent class"
      ],
      "metadata": {
        "colab": {
          "base_uri": "https://localhost:8080/",
          "height": 35
        },
        "id": "0yKjbBSluWrV",
        "outputId": "a95a0e22-28a6-4bdb-a3a7-9efed9f7b07c"
      },
      "execution_count": null,
      "outputs": [
        {
          "output_type": "execute_result",
          "data": {
            "text/plain": [
              "'who is cd'"
            ],
            "application/vnd.google.colaboratory.intrinsic+json": {
              "type": "string"
            }
          },
          "metadata": {},
          "execution_count": 14
        }
      ]
    },
    {
      "cell_type": "code",
      "source": [
        "a={1:100,2:200,3:300,4:400,5:500,6:600}\n",
        "a.update({4:450,3:350,7:700})\n",
        "print(a)\n",
        "#As we can see we can also update the values with respect to some keys using update in case of python dictionary."
      ],
      "metadata": {
        "colab": {
          "base_uri": "https://localhost:8080/"
        },
        "id": "CduZd57tvWb6",
        "outputId": "968a5b32-b74a-4f9e-8197-95fdee4074b0"
      },
      "execution_count": null,
      "outputs": [
        {
          "output_type": "stream",
          "name": "stdout",
          "text": [
            "{1: 100, 2: 200, 3: 350, 4: 450, 5: 500, 6: 600, 7: 700}\n"
          ]
        }
      ]
    },
    {
      "cell_type": "code",
      "source": [
        "class a1:\n",
        "  def __str__(self):\n",
        "    return '1'\n",
        "class b1(a1):\n",
        "  def __init__(self):\n",
        "    super().__init__()\n",
        "class c1(b1):\n",
        "  def __init__(self):\n",
        "    super().__init__()\n",
        "a11=a1()\n",
        "b11=b1()\n",
        "c11=c1()\n",
        "print(a11,b11,c11)\n",
        "#As you can see that even if you donot define any constructor in the base class, you still won't get any error when you import constructors\n",
        "#from the same base class into the child class. As you also see all the methods are imported from base class into the child classes."
      ],
      "metadata": {
        "colab": {
          "base_uri": "https://localhost:8080/"
        },
        "id": "ltQQG-WuJHHS",
        "outputId": "43dc416d-362e-4622-a2f8-4a7a3ddfe53f"
      },
      "execution_count": null,
      "outputs": [
        {
          "output_type": "stream",
          "name": "stdout",
          "text": [
            "1 1 1\n"
          ]
        }
      ]
    },
    {
      "cell_type": "code",
      "source": [
        "print(\"1\")\n",
        "print('1')\n",
        "print(1)"
      ],
      "metadata": {
        "colab": {
          "base_uri": "https://localhost:8080/"
        },
        "id": "AeCmF09ZRdYW",
        "outputId": "db0950a8-666e-4036-8997-287f8002c7ad"
      },
      "execution_count": null,
      "outputs": [
        {
          "output_type": "stream",
          "name": "stdout",
          "text": [
            "1\n",
            "1\n",
            "1\n"
          ]
        }
      ]
    },
    {
      "cell_type": "code",
      "source": [
        "try:\n",
        "    if '2' != 2:\n",
        "        raise \"Python\"\n",
        "    else:\n",
        "        print(\"Python has not exist\")\n",
        "except \"Python\":\n",
        "    print (\"Python has exist\")"
      ],
      "metadata": {
        "colab": {
          "base_uri": "https://localhost:8080/",
          "height": 402
        },
        "id": "REok0_bnTeNQ",
        "outputId": "def55203-9016-4959-9c35-bf74220b8999"
      },
      "execution_count": null,
      "outputs": [
        {
          "output_type": "error",
          "ename": "TypeError",
          "evalue": "ignored",
          "traceback": [
            "\u001b[0;31m---------------------------------------------------------------------------\u001b[0m",
            "\u001b[0;31mTypeError\u001b[0m                                 Traceback (most recent call last)",
            "\u001b[0;32m<ipython-input-16-b100b0e6084c>\u001b[0m in \u001b[0;36m<cell line: 1>\u001b[0;34m()\u001b[0m\n\u001b[1;32m      2\u001b[0m     \u001b[0;32mif\u001b[0m \u001b[0;34m'2'\u001b[0m \u001b[0;34m!=\u001b[0m \u001b[0;36m2\u001b[0m\u001b[0;34m:\u001b[0m\u001b[0;34m\u001b[0m\u001b[0;34m\u001b[0m\u001b[0m\n\u001b[0;32m----> 3\u001b[0;31m         \u001b[0;32mraise\u001b[0m \u001b[0;34m\"Python\"\u001b[0m\u001b[0;34m\u001b[0m\u001b[0;34m\u001b[0m\u001b[0m\n\u001b[0m\u001b[1;32m      4\u001b[0m     \u001b[0;32melse\u001b[0m\u001b[0;34m:\u001b[0m\u001b[0;34m\u001b[0m\u001b[0;34m\u001b[0m\u001b[0m\n",
            "\u001b[0;31mTypeError\u001b[0m: exceptions must derive from BaseException",
            "\nDuring handling of the above exception, another exception occurred:\n",
            "\u001b[0;31mTypeError\u001b[0m                                 Traceback (most recent call last)",
            "\u001b[0;32m<ipython-input-16-b100b0e6084c>\u001b[0m in \u001b[0;36m<cell line: 1>\u001b[0;34m()\u001b[0m\n\u001b[1;32m      4\u001b[0m     \u001b[0;32melse\u001b[0m\u001b[0;34m:\u001b[0m\u001b[0;34m\u001b[0m\u001b[0;34m\u001b[0m\u001b[0m\n\u001b[1;32m      5\u001b[0m         \u001b[0mprint\u001b[0m\u001b[0;34m(\u001b[0m\u001b[0;34m\"Python has not exist\"\u001b[0m\u001b[0;34m)\u001b[0m\u001b[0;34m\u001b[0m\u001b[0;34m\u001b[0m\u001b[0m\n\u001b[0;32m----> 6\u001b[0;31m \u001b[0;32mexcept\u001b[0m \u001b[0;34m\"Python\"\u001b[0m\u001b[0;34m:\u001b[0m\u001b[0;34m\u001b[0m\u001b[0;34m\u001b[0m\u001b[0m\n\u001b[0m\u001b[1;32m      7\u001b[0m     \u001b[0mprint\u001b[0m \u001b[0;34m(\u001b[0m\u001b[0;34m\"Python has exist\"\u001b[0m\u001b[0;34m)\u001b[0m\u001b[0;34m\u001b[0m\u001b[0;34m\u001b[0m\u001b[0m\n",
            "\u001b[0;31mTypeError\u001b[0m: catching classes that do not inherit from BaseException is not allowed"
          ]
        }
      ]
    },
    {
      "cell_type": "code",
      "source": [
        "if '2'!=2:\n",
        "  raise Exception(\"Where is this\")\n",
        "else:\n",
        "  raise Exception(\"When is this\")"
      ],
      "metadata": {
        "colab": {
          "base_uri": "https://localhost:8080/",
          "height": 229
        },
        "id": "af20kFM2aeVR",
        "outputId": "65acfb14-5edb-433c-8c57-786d8ce6ca4e"
      },
      "execution_count": null,
      "outputs": [
        {
          "output_type": "error",
          "ename": "Exception",
          "evalue": "ignored",
          "traceback": [
            "\u001b[0;31m---------------------------------------------------------------------------\u001b[0m",
            "\u001b[0;31mException\u001b[0m                                 Traceback (most recent call last)",
            "\u001b[0;32m<ipython-input-18-72dd6b64f1ae>\u001b[0m in \u001b[0;36m<cell line: 1>\u001b[0;34m()\u001b[0m\n\u001b[1;32m      1\u001b[0m \u001b[0;32mif\u001b[0m \u001b[0;34m'2'\u001b[0m\u001b[0;34m!=\u001b[0m\u001b[0;36m2\u001b[0m\u001b[0;34m:\u001b[0m\u001b[0;34m\u001b[0m\u001b[0;34m\u001b[0m\u001b[0m\n\u001b[0;32m----> 2\u001b[0;31m   \u001b[0;32mraise\u001b[0m \u001b[0mException\u001b[0m\u001b[0;34m(\u001b[0m\u001b[0;34m\"Where is this\"\u001b[0m\u001b[0;34m)\u001b[0m\u001b[0;34m\u001b[0m\u001b[0;34m\u001b[0m\u001b[0m\n\u001b[0m\u001b[1;32m      3\u001b[0m \u001b[0;32melse\u001b[0m\u001b[0;34m:\u001b[0m\u001b[0;34m\u001b[0m\u001b[0;34m\u001b[0m\u001b[0m\n\u001b[1;32m      4\u001b[0m   \u001b[0;32mraise\u001b[0m \u001b[0mException\u001b[0m\u001b[0;34m(\u001b[0m\u001b[0;34m\"When is this\"\u001b[0m\u001b[0;34m)\u001b[0m\u001b[0;34m\u001b[0m\u001b[0;34m\u001b[0m\u001b[0m\n",
            "\u001b[0;31mException\u001b[0m: Where is this"
          ]
        }
      ]
    },
    {
      "cell_type": "code",
      "source": [
        "if '2'==2:\n",
        "  raise Exception(\"When was this\")\n",
        "else:\n",
        "  raise Exception(\"How was this\")"
      ],
      "metadata": {
        "colab": {
          "base_uri": "https://localhost:8080/",
          "height": 211
        },
        "id": "Wg-FxJO_a1Zh",
        "outputId": "47057a9b-64f1-4f1f-b646-059e090805ce"
      },
      "execution_count": null,
      "outputs": [
        {
          "output_type": "error",
          "ename": "Exception",
          "evalue": "ignored",
          "traceback": [
            "\u001b[0;31m---------------------------------------------------------------------------\u001b[0m",
            "\u001b[0;31mException\u001b[0m                                 Traceback (most recent call last)",
            "\u001b[0;32m<ipython-input-19-4b3bcc084546>\u001b[0m in \u001b[0;36m<cell line: 1>\u001b[0;34m()\u001b[0m\n\u001b[1;32m      2\u001b[0m   \u001b[0;32mraise\u001b[0m \u001b[0mException\u001b[0m\u001b[0;34m(\u001b[0m\u001b[0;34m\"When was this\"\u001b[0m\u001b[0;34m)\u001b[0m\u001b[0;34m\u001b[0m\u001b[0;34m\u001b[0m\u001b[0m\n\u001b[1;32m      3\u001b[0m \u001b[0;32melse\u001b[0m\u001b[0;34m:\u001b[0m\u001b[0;34m\u001b[0m\u001b[0;34m\u001b[0m\u001b[0m\n\u001b[0;32m----> 4\u001b[0;31m   \u001b[0;32mraise\u001b[0m \u001b[0mException\u001b[0m\u001b[0;34m(\u001b[0m\u001b[0;34m\"How was this\"\u001b[0m\u001b[0;34m)\u001b[0m\u001b[0;34m\u001b[0m\u001b[0;34m\u001b[0m\u001b[0m\n\u001b[0m",
            "\u001b[0;31mException\u001b[0m: How was this"
          ]
        }
      ]
    },
    {
      "cell_type": "code",
      "source": [
        "class Customerror(Exception):\n",
        "  def __init__(self,message):\n",
        "    self.message=message\n",
        "    super().__init__(self.message)\n",
        "try:\n",
        "  if '2'!=2:\n",
        "    raise Customerror(\"Where is it?\")\n",
        "  else:\n",
        "    print(\"who is it\")\n",
        "except Customerror as c:\n",
        "  print(\"Caught custom error \",c.message)"
      ],
      "metadata": {
        "id": "9ynpb_v4bKGv",
        "colab": {
          "base_uri": "https://localhost:8080/"
        },
        "outputId": "c79c1fb3-d203-4896-96d8-f932673c815a"
      },
      "execution_count": null,
      "outputs": [
        {
          "output_type": "stream",
          "name": "stdout",
          "text": [
            "Caught custom error  Where is it?\n"
          ]
        }
      ]
    },
    {
      "cell_type": "code",
      "source": [
        "class custom1(Exception):\n",
        "  def __init__(self,message=\"mahendra\"):\n",
        "    self.message=message\n",
        "try:\n",
        "  if '2'!=2:\n",
        "    raise custom1(\"who is custom1\")\n",
        "  else:\n",
        "    print(\"when did he\")\n",
        "except custom1 as c:\n",
        "  print(\"caught custom1 error \",c.message)"
      ],
      "metadata": {
        "colab": {
          "base_uri": "https://localhost:8080/"
        },
        "id": "8PytpQu2gg9h",
        "outputId": "f4f1c047-028e-4880-da63-b731da94dc0f"
      },
      "execution_count": null,
      "outputs": [
        {
          "output_type": "stream",
          "name": "stdout",
          "text": [
            "caught custom1 error  who is custom1\n"
          ]
        }
      ]
    },
    {
      "cell_type": "code",
      "source": [
        "try:\n",
        "  if '2'!=2:\n",
        "    raise Exception\n",
        "  else:\n",
        "    print(\"when to start\")\n",
        "except Exception:\n",
        "  print(\"This is error\")\n",
        "  #we can also create exception like this where you don't have to send a custom error message in the argument, that Exception can be caught\n",
        "  #easily and a custom error message is sent."
      ],
      "metadata": {
        "colab": {
          "base_uri": "https://localhost:8080/"
        },
        "id": "O3NAFEGUjEcC",
        "outputId": "df3e2453-8518-4b5d-a56d-db567a7e5e5c"
      },
      "execution_count": null,
      "outputs": [
        {
          "output_type": "stream",
          "name": "stdout",
          "text": [
            "This is error\n"
          ]
        }
      ]
    },
    {
      "cell_type": "code",
      "source": [
        "try:\n",
        "  if '2'!=2:\n",
        "    raise Exception()\n",
        "  else:\n",
        "    print(\"When to start\")\n",
        "except Exception:\n",
        "  print(\"inside message\")\n",
        "#as you can see that you can raise exception like this ( Exception ) as well as like this ( Exception() )."
      ],
      "metadata": {
        "colab": {
          "base_uri": "https://localhost:8080/"
        },
        "id": "f7a5gTbxjuGB",
        "outputId": "2bcae6b7-66ae-4ef9-ea03-9580d74db344"
      },
      "execution_count": null,
      "outputs": [
        {
          "output_type": "stream",
          "name": "stdout",
          "text": [
            "inside message\n"
          ]
        }
      ]
    },
    {
      "cell_type": "code",
      "source": [
        "\n",
        "  if '2'!=2:\n",
        "    raise Exception(\"when is he\")\n",
        "  else:\n",
        "    print(\"what is this and how\")"
      ],
      "metadata": {
        "colab": {
          "base_uri": "https://localhost:8080/",
          "height": 229
        },
        "id": "CaZcxUIfmQYT",
        "outputId": "d6da78d5-6faf-459d-e1cc-25520e325448"
      },
      "execution_count": null,
      "outputs": [
        {
          "output_type": "error",
          "ename": "Exception",
          "evalue": "ignored",
          "traceback": [
            "\u001b[0;31m---------------------------------------------------------------------------\u001b[0m",
            "\u001b[0;31mException\u001b[0m                                 Traceback (most recent call last)",
            "\u001b[0;32m<ipython-input-27-af4ab1fdb207>\u001b[0m in \u001b[0;36m<cell line: 1>\u001b[0;34m()\u001b[0m\n\u001b[1;32m      1\u001b[0m \u001b[0;32mif\u001b[0m \u001b[0;34m'2'\u001b[0m\u001b[0;34m!=\u001b[0m\u001b[0;36m2\u001b[0m\u001b[0;34m:\u001b[0m\u001b[0;34m\u001b[0m\u001b[0;34m\u001b[0m\u001b[0m\n\u001b[0;32m----> 2\u001b[0;31m   \u001b[0;32mraise\u001b[0m \u001b[0mException\u001b[0m\u001b[0;34m(\u001b[0m\u001b[0;34m\"when is he\"\u001b[0m\u001b[0;34m)\u001b[0m\u001b[0;34m\u001b[0m\u001b[0;34m\u001b[0m\u001b[0m\n\u001b[0m\u001b[1;32m      3\u001b[0m \u001b[0;32melse\u001b[0m\u001b[0;34m:\u001b[0m\u001b[0;34m\u001b[0m\u001b[0;34m\u001b[0m\u001b[0m\n\u001b[1;32m      4\u001b[0m   \u001b[0mprint\u001b[0m\u001b[0;34m(\u001b[0m\u001b[0;34m\"what is this and how\"\u001b[0m\u001b[0;34m)\u001b[0m\u001b[0;34m\u001b[0m\u001b[0;34m\u001b[0m\u001b[0m\n",
            "\u001b[0;31mException\u001b[0m: when is he"
          ]
        }
      ]
    },
    {
      "cell_type": "code",
      "source": [
        "try:\n",
        "  if '2'!=2:\n",
        "    raise Exception(\"what a war\")\n",
        "  else:\n",
        "    print(\"hit\")\n",
        "except Exception as e:\n",
        "  print(e)\n",
        "#if you want to raise Exception with a custom message, we can do it this way by raising exceptions like this( raise Exception ) followed by\n",
        "#a message in the bracket which can be caught and printed."
      ],
      "metadata": {
        "colab": {
          "base_uri": "https://localhost:8080/"
        },
        "id": "KOnXT5-cmtTL",
        "outputId": "701fef28-e359-4a87-e6a1-aff9bb4ccfda"
      },
      "execution_count": null,
      "outputs": [
        {
          "output_type": "stream",
          "name": "stdout",
          "text": [
            "what a war\n"
          ]
        }
      ]
    },
    {
      "cell_type": "code",
      "source": [
        "if '2'!=2:\n",
        "  raise Exception\n",
        "else:\n",
        "  print(\"When did he\")"
      ],
      "metadata": {
        "colab": {
          "base_uri": "https://localhost:8080/",
          "height": 229
        },
        "id": "z8KDDTbiqS9j",
        "outputId": "46a22a27-f1f1-4aca-86b1-318a463ecc82"
      },
      "execution_count": null,
      "outputs": [
        {
          "output_type": "error",
          "ename": "Exception",
          "evalue": "ignored",
          "traceback": [
            "\u001b[0;31m---------------------------------------------------------------------------\u001b[0m",
            "\u001b[0;31mException\u001b[0m                                 Traceback (most recent call last)",
            "\u001b[0;32m<ipython-input-32-980035cc3704>\u001b[0m in \u001b[0;36m<cell line: 1>\u001b[0;34m()\u001b[0m\n\u001b[1;32m      1\u001b[0m \u001b[0;32mif\u001b[0m \u001b[0;34m'2'\u001b[0m\u001b[0;34m!=\u001b[0m\u001b[0;36m2\u001b[0m\u001b[0;34m:\u001b[0m\u001b[0;34m\u001b[0m\u001b[0;34m\u001b[0m\u001b[0m\n\u001b[0;32m----> 2\u001b[0;31m   \u001b[0;32mraise\u001b[0m \u001b[0mException\u001b[0m\u001b[0;34m\u001b[0m\u001b[0;34m\u001b[0m\u001b[0m\n\u001b[0m\u001b[1;32m      3\u001b[0m \u001b[0;32melse\u001b[0m\u001b[0;34m:\u001b[0m\u001b[0;34m\u001b[0m\u001b[0;34m\u001b[0m\u001b[0m\n\u001b[1;32m      4\u001b[0m   \u001b[0mprint\u001b[0m\u001b[0;34m(\u001b[0m\u001b[0;34m\"When did he\"\u001b[0m\u001b[0;34m)\u001b[0m\u001b[0;34m\u001b[0m\u001b[0;34m\u001b[0m\u001b[0m\n",
            "\u001b[0;31mException\u001b[0m: "
          ]
        }
      ]
    },
    {
      "cell_type": "code",
      "source": [
        "class mnb(Exception):\n",
        "  def __init__(self,message):\n",
        "    self.message=message\n",
        "try:\n",
        "  if '2'!=2:\n",
        "    raise mnb(\"who is it?\")\n",
        "  else:\n",
        "    print(\"2222222\")\n",
        "except mnb as m:\n",
        "  print(m)"
      ],
      "metadata": {
        "colab": {
          "base_uri": "https://localhost:8080/"
        },
        "id": "TKGcWh9juc6s",
        "outputId": "471d07cf-987f-4a7f-913f-40a929bd8a9f"
      },
      "execution_count": null,
      "outputs": [
        {
          "output_type": "stream",
          "name": "stdout",
          "text": [
            "who is it?\n"
          ]
        }
      ]
    },
    {
      "cell_type": "code",
      "source": [
        "try:\n",
        "  if '2'!=2:\n",
        "    raise Python\n",
        "  else:\n",
        "    print(\"jennifer\")\n",
        "except Python:\n",
        "  print(\"wrong\")\n",
        "#As you can see, you cannot raise an Exception like this with custom names using raise custom_name unless you have created a custom exception\n",
        "#class which imports Exception as parent class"
      ],
      "metadata": {
        "colab": {
          "base_uri": "https://localhost:8080/",
          "height": 437
        },
        "id": "1fsF3V_iwWem",
        "outputId": "c469601e-4dba-4816-fed7-513cd74125ae"
      },
      "execution_count": null,
      "outputs": [
        {
          "output_type": "error",
          "ename": "NameError",
          "evalue": "ignored",
          "traceback": [
            "\u001b[0;31m---------------------------------------------------------------------------\u001b[0m",
            "\u001b[0;31mNameError\u001b[0m                                 Traceback (most recent call last)",
            "\u001b[0;32m<ipython-input-38-e1279b388ec2>\u001b[0m in \u001b[0;36m<cell line: 1>\u001b[0;34m()\u001b[0m\n\u001b[1;32m      2\u001b[0m   \u001b[0;32mif\u001b[0m \u001b[0;34m'2'\u001b[0m\u001b[0;34m!=\u001b[0m\u001b[0;36m2\u001b[0m\u001b[0;34m:\u001b[0m\u001b[0;34m\u001b[0m\u001b[0;34m\u001b[0m\u001b[0m\n\u001b[0;32m----> 3\u001b[0;31m     \u001b[0;32mraise\u001b[0m \u001b[0mPython\u001b[0m\u001b[0;34m\u001b[0m\u001b[0;34m\u001b[0m\u001b[0m\n\u001b[0m\u001b[1;32m      4\u001b[0m   \u001b[0;32melse\u001b[0m\u001b[0;34m:\u001b[0m\u001b[0;34m\u001b[0m\u001b[0;34m\u001b[0m\u001b[0m\n",
            "\u001b[0;31mNameError\u001b[0m: name 'Python' is not defined",
            "\nDuring handling of the above exception, another exception occurred:\n",
            "\u001b[0;31mNameError\u001b[0m                                 Traceback (most recent call last)",
            "\u001b[0;32m<ipython-input-38-e1279b388ec2>\u001b[0m in \u001b[0;36m<cell line: 1>\u001b[0;34m()\u001b[0m\n\u001b[1;32m      4\u001b[0m   \u001b[0;32melse\u001b[0m\u001b[0;34m:\u001b[0m\u001b[0;34m\u001b[0m\u001b[0;34m\u001b[0m\u001b[0m\n\u001b[1;32m      5\u001b[0m     \u001b[0mprint\u001b[0m\u001b[0;34m(\u001b[0m\u001b[0;34m\"jennifer\"\u001b[0m\u001b[0;34m)\u001b[0m\u001b[0;34m\u001b[0m\u001b[0;34m\u001b[0m\u001b[0m\n\u001b[0;32m----> 6\u001b[0;31m \u001b[0;32mexcept\u001b[0m \u001b[0mPython\u001b[0m\u001b[0;34m:\u001b[0m\u001b[0;34m\u001b[0m\u001b[0;34m\u001b[0m\u001b[0m\n\u001b[0m\u001b[1;32m      7\u001b[0m   \u001b[0mprint\u001b[0m\u001b[0;34m(\u001b[0m\u001b[0;34m\"wrong\"\u001b[0m\u001b[0;34m)\u001b[0m\u001b[0;34m\u001b[0m\u001b[0;34m\u001b[0m\u001b[0m\n\u001b[1;32m      8\u001b[0m \u001b[0;31m#As you can see, you cannot raise an Exception like this with custom names using raise custom_name unless you have created a custom exception\u001b[0m\u001b[0;34m\u001b[0m\u001b[0;34m\u001b[0m\u001b[0m\n",
            "\u001b[0;31mNameError\u001b[0m: name 'Python' is not defined"
          ]
        }
      ]
    },
    {
      "cell_type": "code",
      "source": [
        "try:\n",
        "  if '2'!=2:\n",
        "    raise Pt(Exception)\n",
        "  else:\n",
        "    print(\"what the hell\")\n",
        "except Pt:\n",
        "  print(\"ohhhhhh\")\n",
        "#As you can see you cannot raise custom exception errors with custom names without creating a new exception class."
      ],
      "metadata": {
        "colab": {
          "base_uri": "https://localhost:8080/",
          "height": 420
        },
        "id": "JhGm7IzYz3Uz",
        "outputId": "a8382a52-2ee9-48f3-cd37-fa178adae338"
      },
      "execution_count": null,
      "outputs": [
        {
          "output_type": "error",
          "ename": "NameError",
          "evalue": "ignored",
          "traceback": [
            "\u001b[0;31m---------------------------------------------------------------------------\u001b[0m",
            "\u001b[0;31mNameError\u001b[0m                                 Traceback (most recent call last)",
            "\u001b[0;32m<ipython-input-41-545a2e540dbc>\u001b[0m in \u001b[0;36m<cell line: 1>\u001b[0;34m()\u001b[0m\n\u001b[1;32m      2\u001b[0m   \u001b[0;32mif\u001b[0m \u001b[0;34m'2'\u001b[0m\u001b[0;34m!=\u001b[0m\u001b[0;36m2\u001b[0m\u001b[0;34m:\u001b[0m\u001b[0;34m\u001b[0m\u001b[0;34m\u001b[0m\u001b[0m\n\u001b[0;32m----> 3\u001b[0;31m     \u001b[0;32mraise\u001b[0m \u001b[0mPt\u001b[0m\u001b[0;34m(\u001b[0m\u001b[0mException\u001b[0m\u001b[0;34m)\u001b[0m\u001b[0;34m\u001b[0m\u001b[0;34m\u001b[0m\u001b[0m\n\u001b[0m\u001b[1;32m      4\u001b[0m   \u001b[0;32melse\u001b[0m\u001b[0;34m:\u001b[0m\u001b[0;34m\u001b[0m\u001b[0;34m\u001b[0m\u001b[0m\n",
            "\u001b[0;31mNameError\u001b[0m: name 'Pt' is not defined",
            "\nDuring handling of the above exception, another exception occurred:\n",
            "\u001b[0;31mNameError\u001b[0m                                 Traceback (most recent call last)",
            "\u001b[0;32m<ipython-input-41-545a2e540dbc>\u001b[0m in \u001b[0;36m<cell line: 1>\u001b[0;34m()\u001b[0m\n\u001b[1;32m      4\u001b[0m   \u001b[0;32melse\u001b[0m\u001b[0;34m:\u001b[0m\u001b[0;34m\u001b[0m\u001b[0;34m\u001b[0m\u001b[0m\n\u001b[1;32m      5\u001b[0m     \u001b[0mprint\u001b[0m\u001b[0;34m(\u001b[0m\u001b[0;34m\"what the hell\"\u001b[0m\u001b[0;34m)\u001b[0m\u001b[0;34m\u001b[0m\u001b[0;34m\u001b[0m\u001b[0m\n\u001b[0;32m----> 6\u001b[0;31m \u001b[0;32mexcept\u001b[0m \u001b[0mPt\u001b[0m\u001b[0;34m:\u001b[0m\u001b[0;34m\u001b[0m\u001b[0;34m\u001b[0m\u001b[0m\n\u001b[0m\u001b[1;32m      7\u001b[0m   \u001b[0mprint\u001b[0m\u001b[0;34m(\u001b[0m\u001b[0;34m\"ohhhhhh\"\u001b[0m\u001b[0;34m)\u001b[0m\u001b[0;34m\u001b[0m\u001b[0;34m\u001b[0m\u001b[0m\n\u001b[1;32m      8\u001b[0m \u001b[0;31m#As you can see you cannot raise custom exception errors with custom names without creating a new exception class.\u001b[0m\u001b[0;34m\u001b[0m\u001b[0;34m\u001b[0m\u001b[0m\n",
            "\u001b[0;31mNameError\u001b[0m: name 'Pt' is not defined"
          ]
        }
      ]
    },
    {
      "cell_type": "code",
      "source": [
        "from abc import ABC,abstractmethod\n",
        "class mnbf(ABC):\n",
        "  def mhj(self):\n",
        "    print(\"ooo great\")\n",
        "  @abstractmethod\n",
        "  def dham(self):\n",
        "    pass\n",
        "  @abstractmethod\n",
        "  def fam(self):\n",
        "    pass\n",
        "class bf2(mnbf):\n",
        "  def dham(self):\n",
        "    print(\"kya hai ye\")\n",
        "  def fam(self):\n",
        "    print(\"kaun hai ye\")\n",
        "c11=bf2()\n",
        "c11.dham()"
      ],
      "metadata": {
        "colab": {
          "base_uri": "https://localhost:8080/"
        },
        "id": "CM6BPb00Bgnz",
        "outputId": "cc1d3c03-4095-4aa8-f970-fb54925a2f78"
      },
      "execution_count": null,
      "outputs": [
        {
          "output_type": "stream",
          "name": "stdout",
          "text": [
            "kya hai ye\n"
          ]
        }
      ]
    },
    {
      "cell_type": "code",
      "source": [
        "c11.fam()"
      ],
      "metadata": {
        "colab": {
          "base_uri": "https://localhost:8080/"
        },
        "id": "JrEWs9GCKiyp",
        "outputId": "e2589274-d857-4be1-e3ae-a28e8ce1397b"
      },
      "execution_count": null,
      "outputs": [
        {
          "output_type": "stream",
          "name": "stdout",
          "text": [
            "kaun hai ye\n"
          ]
        }
      ]
    },
    {
      "cell_type": "code",
      "source": [
        "class mandal(Exception):\n",
        "  def __init__(self,message=\"What a shot is this\"):\n",
        "    self.message=message\n",
        "try:\n",
        "  if '2'!=2:\n",
        "    raise mandal\n",
        "    print(\"why did it\")\n",
        "  else:\n",
        "    print(\"who else\")\n",
        "    print(\"why did it not execute\")\n",
        "except Exception as e:\n",
        "  print(\"oh la la\")\n",
        "  print(\"kaif\")\n",
        "except mandal as m:\n",
        "  print(\"error is \",m.message)\n",
        "#as you can see, if you try to catch a error with a series of exceptions and except Exception is at the beginning then only the except\n",
        "#Exception part will be executed. The rest of the exceptions won't be executed. also as we can see the moment we come across a exception\n",
        "#we donot return to the original loop which had raised the Exception."
      ],
      "metadata": {
        "colab": {
          "base_uri": "https://localhost:8080/"
        },
        "id": "MHhwjHBcO1Yt",
        "outputId": "3e6515b7-5bcf-49c8-9cbf-720cd2e4ebb4"
      },
      "execution_count": null,
      "outputs": [
        {
          "output_type": "stream",
          "name": "stdout",
          "text": [
            "oh la la\n",
            "kaif\n"
          ]
        }
      ]
    },
    {
      "cell_type": "code",
      "source": [
        "class a1:\n",
        "  def __init__(self):\n",
        "    self.__value=200\n",
        "  def inc(self):\n",
        "    return self.__value+1\n",
        "class b1(a1):\n",
        "  def num(self):\n",
        "    num=100\n",
        "    return num\n",
        "class c1(b1):\n",
        "  def __init__(self):\n",
        "    self.num=200\n",
        "a11=a1()\n",
        "c11=c1()\n",
        "print(c11.inc())\n",
        "#In this case the constructor in class c1 is over-riding the constructor method it has imported from its parent class b1(which has imported\n",
        "#the constructor of a1 by default)"
      ],
      "metadata": {
        "colab": {
          "base_uri": "https://localhost:8080/",
          "height": 385
        },
        "id": "Q9O6LncyWQyi",
        "outputId": "00ee7bff-9d72-4b8b-842f-bddf34547394"
      },
      "execution_count": null,
      "outputs": [
        {
          "output_type": "error",
          "ename": "AttributeError",
          "evalue": "ignored",
          "traceback": [
            "\u001b[0;31m---------------------------------------------------------------------------\u001b[0m",
            "\u001b[0;31mAttributeError\u001b[0m                            Traceback (most recent call last)",
            "\u001b[0;32m<ipython-input-2-2dc91ce1d6d3>\u001b[0m in \u001b[0;36m<cell line: 15>\u001b[0;34m()\u001b[0m\n\u001b[1;32m     13\u001b[0m \u001b[0ma11\u001b[0m\u001b[0;34m=\u001b[0m\u001b[0ma1\u001b[0m\u001b[0;34m(\u001b[0m\u001b[0;34m)\u001b[0m\u001b[0;34m\u001b[0m\u001b[0;34m\u001b[0m\u001b[0m\n\u001b[1;32m     14\u001b[0m \u001b[0mc11\u001b[0m\u001b[0;34m=\u001b[0m\u001b[0mc1\u001b[0m\u001b[0;34m(\u001b[0m\u001b[0;34m)\u001b[0m\u001b[0;34m\u001b[0m\u001b[0;34m\u001b[0m\u001b[0m\n\u001b[0;32m---> 15\u001b[0;31m \u001b[0mprint\u001b[0m\u001b[0;34m(\u001b[0m\u001b[0mc11\u001b[0m\u001b[0;34m.\u001b[0m\u001b[0minc\u001b[0m\u001b[0;34m(\u001b[0m\u001b[0;34m)\u001b[0m\u001b[0;34m)\u001b[0m\u001b[0;34m\u001b[0m\u001b[0;34m\u001b[0m\u001b[0m\n\u001b[0m\u001b[1;32m     16\u001b[0m \u001b[0;31m#In this case the constructor in class c1 is over-riding the constructor method it has imported from its parent class b1(which has imported\u001b[0m\u001b[0;34m\u001b[0m\u001b[0;34m\u001b[0m\u001b[0m\n\u001b[1;32m     17\u001b[0m \u001b[0;31m#the constructor of a1 by default)\u001b[0m\u001b[0;34m\u001b[0m\u001b[0;34m\u001b[0m\u001b[0m\n",
            "\u001b[0;32m<ipython-input-2-2dc91ce1d6d3>\u001b[0m in \u001b[0;36minc\u001b[0;34m(self)\u001b[0m\n\u001b[1;32m      3\u001b[0m     \u001b[0mself\u001b[0m\u001b[0;34m.\u001b[0m\u001b[0m__value\u001b[0m\u001b[0;34m=\u001b[0m\u001b[0;36m200\u001b[0m\u001b[0;34m\u001b[0m\u001b[0;34m\u001b[0m\u001b[0m\n\u001b[1;32m      4\u001b[0m   \u001b[0;32mdef\u001b[0m \u001b[0minc\u001b[0m\u001b[0;34m(\u001b[0m\u001b[0mself\u001b[0m\u001b[0;34m)\u001b[0m\u001b[0;34m:\u001b[0m\u001b[0;34m\u001b[0m\u001b[0;34m\u001b[0m\u001b[0m\n\u001b[0;32m----> 5\u001b[0;31m     \u001b[0;32mreturn\u001b[0m \u001b[0mself\u001b[0m\u001b[0;34m.\u001b[0m\u001b[0m__value\u001b[0m\u001b[0;34m+\u001b[0m\u001b[0;36m1\u001b[0m\u001b[0;34m\u001b[0m\u001b[0;34m\u001b[0m\u001b[0m\n\u001b[0m\u001b[1;32m      6\u001b[0m \u001b[0;32mclass\u001b[0m \u001b[0mb1\u001b[0m\u001b[0;34m(\u001b[0m\u001b[0ma1\u001b[0m\u001b[0;34m)\u001b[0m\u001b[0;34m:\u001b[0m\u001b[0;34m\u001b[0m\u001b[0;34m\u001b[0m\u001b[0m\n\u001b[1;32m      7\u001b[0m   \u001b[0;32mdef\u001b[0m \u001b[0mnum\u001b[0m\u001b[0;34m(\u001b[0m\u001b[0mself\u001b[0m\u001b[0;34m)\u001b[0m\u001b[0;34m:\u001b[0m\u001b[0;34m\u001b[0m\u001b[0;34m\u001b[0m\u001b[0m\n",
            "\u001b[0;31mAttributeError\u001b[0m: 'c1' object has no attribute '_a1__value'"
          ]
        }
      ]
    },
    {
      "cell_type": "code",
      "source": [
        "class a2:\n",
        "  def __init__(self):\n",
        "    self.__value=200\n",
        "  def get_value(self):\n",
        "    return self.__value+1\n",
        "class b2(a2):\n",
        "  def get_num(self):\n",
        "    num=100\n",
        "    return num\n",
        "class c2(b2):\n",
        "  def __init__(self):\n",
        "    super().__init__()\n",
        "    self.num=200\n",
        "c11=c2()\n",
        "print(c11.get_value())\n",
        "# Here, we have not defined constructor method in class b2 but b2 will get the constructor of a2 by default but when we create a constructor\n",
        "#in c2 but want c2 to retain its original attributes as well so for the same we do super().__init__() within the constructor of c2."
      ],
      "metadata": {
        "colab": {
          "base_uri": "https://localhost:8080/"
        },
        "id": "mTQTQDPe2NOQ",
        "outputId": "d404e4f2-5fc2-45a6-bd68-5b88dc8ee556"
      },
      "execution_count": null,
      "outputs": [
        {
          "output_type": "stream",
          "name": "stdout",
          "text": [
            "201\n"
          ]
        }
      ]
    },
    {
      "cell_type": "code",
      "source": [
        "from abc import ABCMeta, abstractmethod\n",
        "class Parent(metaclass=ABCMeta):\n",
        "    def __init__(self):\n",
        "        self.num=100\n",
        "\n",
        "    @abstractmethod\n",
        "    def show(self):\n",
        "        pass\n",
        "\n",
        "class Child(Parent):\n",
        "    def __init__(self):\n",
        "        super().__init__()\n",
        "        self.__var=10\n",
        "\n",
        "    def show(self):\n",
        "        print(self.num)\n",
        "        print(self.__var)\n",
        "\n",
        "obj=Parent()\n",
        "obj.show()"
      ],
      "metadata": {
        "colab": {
          "base_uri": "https://localhost:8080/",
          "height": 229
        },
        "id": "LyoQqfeb_73k",
        "outputId": "4fec970b-e81f-4455-f0ce-2df4524e2c94"
      },
      "execution_count": null,
      "outputs": [
        {
          "output_type": "error",
          "ename": "TypeError",
          "evalue": "ignored",
          "traceback": [
            "\u001b[0;31m---------------------------------------------------------------------------\u001b[0m",
            "\u001b[0;31mTypeError\u001b[0m                                 Traceback (most recent call last)",
            "\u001b[0;32m<ipython-input-8-cf90789ccb48>\u001b[0m in \u001b[0;36m<cell line: 19>\u001b[0;34m()\u001b[0m\n\u001b[1;32m     17\u001b[0m         \u001b[0mprint\u001b[0m\u001b[0;34m(\u001b[0m\u001b[0mself\u001b[0m\u001b[0;34m.\u001b[0m\u001b[0m__var\u001b[0m\u001b[0;34m)\u001b[0m\u001b[0;34m\u001b[0m\u001b[0;34m\u001b[0m\u001b[0m\n\u001b[1;32m     18\u001b[0m \u001b[0;34m\u001b[0m\u001b[0m\n\u001b[0;32m---> 19\u001b[0;31m \u001b[0mobj\u001b[0m\u001b[0;34m=\u001b[0m\u001b[0mParent\u001b[0m\u001b[0;34m(\u001b[0m\u001b[0;34m)\u001b[0m\u001b[0;34m\u001b[0m\u001b[0;34m\u001b[0m\u001b[0m\n\u001b[0m\u001b[1;32m     20\u001b[0m \u001b[0mobj\u001b[0m\u001b[0;34m.\u001b[0m\u001b[0mshow\u001b[0m\u001b[0;34m(\u001b[0m\u001b[0;34m)\u001b[0m\u001b[0;34m\u001b[0m\u001b[0;34m\u001b[0m\u001b[0m\n",
            "\u001b[0;31mTypeError\u001b[0m: Can't instantiate abstract class Parent with abstract method show"
          ]
        }
      ]
    },
    {
      "cell_type": "code",
      "source": [
        "from abc import ABC,abstractmethod\n",
        "class abc1(ABC):\n",
        "  def __init__(self):\n",
        "    self.a1=100\n",
        "  @abstractmethod\n",
        "  def minnow(self):\n",
        "    pass\n",
        "class bnm(abc):\n",
        "  def minnow(self):\n",
        "    print(\"hello\")\n",
        "c11=abc1()\n",
        "print(c11.minnow())\n",
        "#abstract classes cannot be instantiated, we cannot create any instances from abstract classes.\n"
      ],
      "metadata": {
        "colab": {
          "base_uri": "https://localhost:8080/",
          "height": 246
        },
        "id": "1h0FyAAqMZq1",
        "outputId": "2faddbd7-c6b7-4580-e43a-dc537174ff76"
      },
      "execution_count": null,
      "outputs": [
        {
          "output_type": "error",
          "ename": "TypeError",
          "evalue": "ignored",
          "traceback": [
            "\u001b[0;31m---------------------------------------------------------------------------\u001b[0m",
            "\u001b[0;31mTypeError\u001b[0m                                 Traceback (most recent call last)",
            "\u001b[0;32m<ipython-input-12-9c6582acc460>\u001b[0m in \u001b[0;36m<cell line: 11>\u001b[0;34m()\u001b[0m\n\u001b[1;32m      9\u001b[0m   \u001b[0;32mdef\u001b[0m \u001b[0mminnow\u001b[0m\u001b[0;34m(\u001b[0m\u001b[0mself\u001b[0m\u001b[0;34m)\u001b[0m\u001b[0;34m:\u001b[0m\u001b[0;34m\u001b[0m\u001b[0;34m\u001b[0m\u001b[0m\n\u001b[1;32m     10\u001b[0m     \u001b[0mprint\u001b[0m\u001b[0;34m(\u001b[0m\u001b[0;34m\"hello\"\u001b[0m\u001b[0;34m)\u001b[0m\u001b[0;34m\u001b[0m\u001b[0;34m\u001b[0m\u001b[0m\n\u001b[0;32m---> 11\u001b[0;31m \u001b[0mc11\u001b[0m\u001b[0;34m=\u001b[0m\u001b[0mabc1\u001b[0m\u001b[0;34m(\u001b[0m\u001b[0;34m)\u001b[0m\u001b[0;34m\u001b[0m\u001b[0;34m\u001b[0m\u001b[0m\n\u001b[0m\u001b[1;32m     12\u001b[0m \u001b[0mprint\u001b[0m\u001b[0;34m(\u001b[0m\u001b[0mc11\u001b[0m\u001b[0;34m.\u001b[0m\u001b[0mminnow\u001b[0m\u001b[0;34m(\u001b[0m\u001b[0;34m)\u001b[0m\u001b[0;34m)\u001b[0m\u001b[0;34m\u001b[0m\u001b[0;34m\u001b[0m\u001b[0m\n\u001b[1;32m     13\u001b[0m \u001b[0;31m#abstract classes cannot be instantiated, we cannot create any instances from abstract classes.\u001b[0m\u001b[0;34m\u001b[0m\u001b[0;34m\u001b[0m\u001b[0m\n",
            "\u001b[0;31mTypeError\u001b[0m: Can't instantiate abstract class abc1 with abstract method minnow"
          ]
        }
      ]
    },
    {
      "cell_type": "code",
      "source": [
        "c12=bnm()\n",
        "c12.minnow()"
      ],
      "metadata": {
        "colab": {
          "base_uri": "https://localhost:8080/"
        },
        "id": "cei1DOoDSD2x",
        "outputId": "90da6e66-8989-41e6-a3f4-574a0472f023"
      },
      "execution_count": null,
      "outputs": [
        {
          "output_type": "stream",
          "name": "stdout",
          "text": [
            "hello\n"
          ]
        }
      ]
    },
    {
      "cell_type": "code",
      "source": [
        "li = [1, 2, 3, 4, 3]\n",
        "def fun(x):\n",
        "    return lambda x: 2*x\n",
        "x = list(map(fun, li))\n",
        "print(x)\n",
        "\n",
        "for i in range(5):\n",
        "    p=sum(x[i](li[i:-1]))\n",
        "    print(p)"
      ],
      "metadata": {
        "colab": {
          "base_uri": "https://localhost:8080/"
        },
        "id": "9OcAktlNTvSg",
        "outputId": "76ba7a0e-fafd-44d3-cfa1-8e0cf676c436"
      },
      "execution_count": null,
      "outputs": [
        {
          "output_type": "stream",
          "name": "stdout",
          "text": [
            "[<function fun.<locals>.<lambda> at 0x7e7aaad8cb80>, <function fun.<locals>.<lambda> at 0x7e7aaad8d090>, <function fun.<locals>.<lambda> at 0x7e7aaad8ca60>, <function fun.<locals>.<lambda> at 0x7e7aaad8c9d0>, <function fun.<locals>.<lambda> at 0x7e7aaad8d000>]\n",
            "20\n",
            "18\n",
            "14\n",
            "8\n",
            "0\n"
          ]
        }
      ]
    },
    {
      "cell_type": "code",
      "source": [
        "a=[1,2,3,4,5]\n",
        "def func(x):\n",
        "  return x**2\n",
        "list(map(func,a))"
      ],
      "metadata": {
        "colab": {
          "base_uri": "https://localhost:8080/"
        },
        "id": "nWERGAiVlpFV",
        "outputId": "0de3b43a-df57-46fe-9867-1234205d9f48"
      },
      "execution_count": null,
      "outputs": [
        {
          "output_type": "execute_result",
          "data": {
            "text/plain": [
              "[1, 4, 9, 16, 25]"
            ]
          },
          "metadata": {},
          "execution_count": 17
        }
      ]
    },
    {
      "cell_type": "code",
      "source": [
        "# Mapping function that returns a lambda function to double the number\n",
        "def double_function():\n",
        "    return lambda x: x * 2\n",
        "\n",
        "# List of numbers\n",
        "numbers = [1, 2, 3, 4, 5]\n",
        "\n",
        "# Using map with the double_function\n",
        "doubled_numbers = map(double_function, numbers)\n",
        "\n",
        "# Converting the iterator to a list to see the results\n",
        "result = list(doubled_numbers)\n",
        "\n",
        "print(result)\n"
      ],
      "metadata": {
        "colab": {
          "base_uri": "https://localhost:8080/",
          "height": 246
        },
        "id": "3Pla5HbTneth",
        "outputId": "6d35af7c-35d4-4417-bd9f-bc728fdba449"
      },
      "execution_count": null,
      "outputs": [
        {
          "output_type": "error",
          "ename": "TypeError",
          "evalue": "ignored",
          "traceback": [
            "\u001b[0;31m---------------------------------------------------------------------------\u001b[0m",
            "\u001b[0;31mTypeError\u001b[0m                                 Traceback (most recent call last)",
            "\u001b[0;32m<ipython-input-23-8b3e05a1a2b4>\u001b[0m in \u001b[0;36m<cell line: 12>\u001b[0;34m()\u001b[0m\n\u001b[1;32m     10\u001b[0m \u001b[0;34m\u001b[0m\u001b[0m\n\u001b[1;32m     11\u001b[0m \u001b[0;31m# Converting the iterator to a list to see the results\u001b[0m\u001b[0;34m\u001b[0m\u001b[0;34m\u001b[0m\u001b[0m\n\u001b[0;32m---> 12\u001b[0;31m \u001b[0mresult\u001b[0m \u001b[0;34m=\u001b[0m \u001b[0mlist\u001b[0m\u001b[0;34m(\u001b[0m\u001b[0mdoubled_numbers\u001b[0m\u001b[0;34m)\u001b[0m\u001b[0;34m\u001b[0m\u001b[0;34m\u001b[0m\u001b[0m\n\u001b[0m\u001b[1;32m     13\u001b[0m \u001b[0;34m\u001b[0m\u001b[0m\n\u001b[1;32m     14\u001b[0m \u001b[0mprint\u001b[0m\u001b[0;34m(\u001b[0m\u001b[0mresult\u001b[0m\u001b[0;34m)\u001b[0m\u001b[0;34m\u001b[0m\u001b[0;34m\u001b[0m\u001b[0m\n",
            "\u001b[0;31mTypeError\u001b[0m: double_function() takes 0 positional arguments but 1 was given"
          ]
        }
      ]
    },
    {
      "cell_type": "code",
      "source": [
        "#for each item in the iterable, the map() function calls the specified function with the item as an argument.\n",
        "#for each item in the iterable, the map() function calls the specified function with the item as an argument.\n",
        "a11=[2,3,4,5,6]\n",
        "def func(x):\n",
        "  return lambda x:2*x\n",
        "a1=list(map(func,a11))\n",
        "print(a1)\n",
        "#If we return a lambda function within your function and if func is applied to every item of an iterable then we still get lambda function\n",
        "#as every item of our list.\n",
        "#if b=lambda x:2*x then this lambda function is called by using b(2),b(4).....or so on...."
      ],
      "metadata": {
        "colab": {
          "base_uri": "https://localhost:8080/"
        },
        "id": "Sqvvmg83Sbdi",
        "outputId": "d71b0d0c-4f1e-47d8-b823-daf48dccba99"
      },
      "execution_count": 4,
      "outputs": [
        {
          "output_type": "stream",
          "name": "stdout",
          "text": [
            "[<function func.<locals>.<lambda> at 0x787f7c00e290>, <function func.<locals>.<lambda> at 0x787f7c00e440>, <function func.<locals>.<lambda> at 0x787f7c00e3b0>, <function func.<locals>.<lambda> at 0x787f7c00e320>, <function func.<locals>.<lambda> at 0x787f7c00e050>]\n"
          ]
        }
      ]
    },
    {
      "cell_type": "code",
      "source": [
        "import math\n",
        "a1=99.2\n",
        "print(math.ceil(a1))\n",
        "#math.ceil() function converts the decimal to its maximum value. For example it would convert 99.2 to 100 and so on"
      ],
      "metadata": {
        "colab": {
          "base_uri": "https://localhost:8080/"
        },
        "id": "FS3sykmcV40n",
        "outputId": "4538f90d-a0a9-43e9-b887-5ef7a5980ebc"
      },
      "execution_count": 7,
      "outputs": [
        {
          "output_type": "stream",
          "name": "stdout",
          "text": [
            "100\n"
          ]
        }
      ]
    },
    {
      "cell_type": "code",
      "source": [
        "li = [1, 2, 3, 4, 3]\n",
        "def fun(x):\n",
        "    return lambda x: 2*x\n",
        "x = list(map(fun, li))\n",
        "\n",
        "for i in range(5):\n",
        "    p=sum(x[i](li[i:-1]))\n",
        "    print(p)"
      ],
      "metadata": {
        "colab": {
          "base_uri": "https://localhost:8080/"
        },
        "id": "gUPH1NAbbEGd",
        "outputId": "63f8257b-0919-4245-f6d3-67de27289b8d"
      },
      "execution_count": 10,
      "outputs": [
        {
          "output_type": "stream",
          "name": "stdout",
          "text": [
            "20\n",
            "18\n",
            "14\n",
            "8\n",
            "0\n"
          ]
        }
      ]
    },
    {
      "cell_type": "code",
      "source": [
        "count={}\n",
        "count['a']=5\n",
        "count['b']=6\n",
        "count['c']=7\n",
        "count['a']=2\n",
        "print(count)\n",
        "#if you initialize 2 keys with the same name in a dictionary then the latest value of the key will be taken as you can see the value of\n",
        "#key 'a' has been updated to 2."
      ],
      "metadata": {
        "colab": {
          "base_uri": "https://localhost:8080/"
        },
        "id": "phhZX95hgCbt",
        "outputId": "f8ae9e51-bc48-4f7b-dbde-7b035d4d97d1"
      },
      "execution_count": 12,
      "outputs": [
        {
          "output_type": "stream",
          "name": "stdout",
          "text": [
            "{'a': 2, 'b': 6, 'c': 7}\n"
          ]
        }
      ]
    },
    {
      "cell_type": "code",
      "source": [
        "class Demo:\n",
        "    def __init__(self):\n",
        "        self.x = 1\n",
        "    def change(self):\n",
        "        self.x = 10\n",
        "class Demo_derived(Demo):\n",
        "    def change(self):\n",
        "        self.x=self.x+1\n",
        "        return self.x\n",
        "def main():\n",
        "    obj = Demo_derived()\n",
        "    print(obj.change())\n",
        "\n",
        "main()\n",
        "#if you call a method from a object then that method is first searched in the child class and if found in the child class, the same method\n",
        "#in the parent class isnot even visited. Hence self.x is first inherited from the constructor of the parent and then incremented in the\n",
        "#child class's change method."
      ],
      "metadata": {
        "colab": {
          "base_uri": "https://localhost:8080/"
        },
        "id": "pyeP58W8usuk",
        "outputId": "d3ce1bc9-8468-40bc-bd89-1dc8f85d78a5"
      },
      "execution_count": 16,
      "outputs": [
        {
          "output_type": "stream",
          "name": "stdout",
          "text": [
            "2\n"
          ]
        }
      ]
    },
    {
      "cell_type": "code",
      "source": [
        "def foo():\n",
        "    try:\n",
        "        return 1\n",
        "    finally:\n",
        "        return 2\n",
        "\n",
        "k = foo()\n",
        "print(k)"
      ],
      "metadata": {
        "colab": {
          "base_uri": "https://localhost:8080/"
        },
        "id": "ynfcKvy-zIab",
        "outputId": "7bcd47e5-0f63-4ed0-a290-8c2bac775833"
      },
      "execution_count": 2,
      "outputs": [
        {
          "output_type": "stream",
          "name": "stdout",
          "text": [
            "2\n"
          ]
        }
      ]
    },
    {
      "cell_type": "code",
      "source": [
        "k"
      ],
      "metadata": {
        "colab": {
          "base_uri": "https://localhost:8080/"
        },
        "id": "gl6TrAzPc6Kc",
        "outputId": "139b6d6b-2077-4459-9154-e80865743f2d"
      },
      "execution_count": 3,
      "outputs": [
        {
          "output_type": "execute_result",
          "data": {
            "text/plain": [
              "2"
            ]
          },
          "metadata": {},
          "execution_count": 3
        }
      ]
    },
    {
      "cell_type": "code",
      "source": [
        "def fool():\n",
        "  if 1:\n",
        "    return 1\n",
        "  if 2:\n",
        "    return 2\n",
        "c11=fool()\n",
        "print(c11)\n",
        "#The moment a return statement is encountered, the control exits the function"
      ],
      "metadata": {
        "colab": {
          "base_uri": "https://localhost:8080/"
        },
        "id": "JW6ISIGZd0v8",
        "outputId": "5f4f669e-52bd-40a4-a4d8-a786781d0882"
      },
      "execution_count": 4,
      "outputs": [
        {
          "output_type": "stream",
          "name": "stdout",
          "text": [
            "1\n"
          ]
        }
      ]
    },
    {
      "cell_type": "code",
      "source": [
        "def fool1():\n",
        "  if 1:\n",
        "    return 1\n",
        "    print(\"what\")\n",
        "  if 2:\n",
        "    return 2\n",
        "    print(\"if\")\n",
        "print(\"ok\")\n",
        "c12=fool1()\n",
        "print(c12)\n",
        "#As you can see the moment return statement is encountered, the control exits the function, even the print statement right under the return\n",
        "#statement is not executed."
      ],
      "metadata": {
        "colab": {
          "base_uri": "https://localhost:8080/"
        },
        "id": "ZzGVXMQViJ6Q",
        "outputId": "01273cf0-9307-4c92-e0b4-dd00057331c1"
      },
      "execution_count": 7,
      "outputs": [
        {
          "output_type": "stream",
          "name": "stdout",
          "text": [
            "ok\n",
            "1\n"
          ]
        }
      ]
    },
    {
      "cell_type": "code",
      "source": [
        "def fool2():\n",
        "  try:\n",
        "    return 1\n",
        "    print(\"oh\")\n",
        "  finally:\n",
        "    print(\"what\")\n",
        "    return 2\n",
        "    print(\"oz\")\n",
        "c14=fool2()\n",
        "print(c14)\n",
        "#if return statement is present in try except blocks then the try finally blocks or except blocks will be executed no matter what even if\n",
        "#return statement is encountered in each of this blocks, the only difference being that if some statements are written after the return\n",
        "#statement in any of the try, except or finally blocks then that part won't be executed."
      ],
      "metadata": {
        "colab": {
          "base_uri": "https://localhost:8080/"
        },
        "id": "oHG428S5kJFG",
        "outputId": "ef4065c0-69fe-426a-ef73-91be6bafc2dc"
      },
      "execution_count": 12,
      "outputs": [
        {
          "output_type": "stream",
          "name": "stdout",
          "text": [
            "what\n",
            "2\n"
          ]
        }
      ]
    },
    {
      "cell_type": "code",
      "source": [
        "x = [[0], [1]]\n",
        "print((' '.join(list(map(str, x))),))"
      ],
      "metadata": {
        "colab": {
          "base_uri": "https://localhost:8080/"
        },
        "id": "z30DWdT79Rz-",
        "outputId": "c99fac17-a59b-49e3-cc93-d01a17f0aed7"
      },
      "execution_count": 14,
      "outputs": [
        {
          "output_type": "stream",
          "name": "stdout",
          "text": [
            "('[0] [1]',)\n"
          ]
        }
      ]
    },
    {
      "cell_type": "code",
      "source": [
        "x1=[[0],[1]]\n",
        "print(list(map(str,x1)))"
      ],
      "metadata": {
        "colab": {
          "base_uri": "https://localhost:8080/"
        },
        "id": "fJyU9gPL9UxZ",
        "outputId": "6cf9829f-6860-45a8-dbad-ae211d7ef002"
      },
      "execution_count": 1,
      "outputs": [
        {
          "output_type": "stream",
          "name": "stdout",
          "text": [
            "['[0]', '[1]']\n"
          ]
        }
      ]
    },
    {
      "cell_type": "code",
      "source": [
        "a1=[0]\n",
        "k1=str(a1)\n",
        "print(type(k1))"
      ],
      "metadata": {
        "colab": {
          "base_uri": "https://localhost:8080/"
        },
        "id": "OEaxets0uiuP",
        "outputId": "4029cff7-1d4d-4048-afe7-edd417fa9589"
      },
      "execution_count": 3,
      "outputs": [
        {
          "output_type": "stream",
          "name": "stdout",
          "text": [
            "<class 'str'>\n"
          ]
        }
      ]
    },
    {
      "cell_type": "code",
      "source": [
        "a4=[[0],[1]]\n",
        "k1=list(map(str,a4))\n",
        "print(k1)\n",
        "#as you can see when you convert [0] to string, it becomes '[0]' and not '0'. If you convert each item of this list [[0],[1]] to str then\n",
        "#we get ['[0]','[1]']. and not ['0','1']"
      ],
      "metadata": {
        "colab": {
          "base_uri": "https://localhost:8080/"
        },
        "id": "Zz8WKRk6uz5-",
        "outputId": "19599002-832b-40bf-a639-504c29d0b649"
      },
      "execution_count": 5,
      "outputs": [
        {
          "output_type": "stream",
          "name": "stdout",
          "text": [
            "['[0]', '[1]']\n"
          ]
        }
      ]
    },
    {
      "cell_type": "code",
      "source": [
        "a = [[[10835,   596],\n",
        "        [  142,   639],\n",
        "        [ 4165,    34]],\n",
        "\n",
        "       [[17193,  1753],\n",
        "        [ 4639,  7357],\n",
        "        [ 1278, 16389]],\n",
        "\n",
        "       [[10583,  1223],\n",
        "        [14326, 14079],\n",
        "        [ 4959, 14701]],\n",
        "\n",
        "       [[15612, 10027],\n",
        "        [ 1137, 15540],\n",
        "        [ 9194, 11609]],\n",
        "\n",
        "       [[12090, 10898],\n",
        "        [19437, 15070],\n",
        "        [16592,  6544]],\n",
        "\n",
        "       [[12367, 19572],\n",
        "        [ 8796,     4],\n",
        "        [13577,  6505]],\n",
        "\n",
        "       [[12489, 12089],\n",
        "        [15840,  5979],\n",
        "        [ 4952,  9753]],\n",
        "\n",
        "       [[ 6461,  1604],\n",
        "        [16877, 11262],\n",
        "        [13859, 12849]],\n",
        "\n",
        "       [[ 1654, 13335],\n",
        "        [ 8165, 10417],\n",
        "        [ 5226, 19609]],\n",
        "\n",
        "       [[ 8170,  3577],\n",
        "        [19748, 12171],\n",
        "        [ 7666, 14427]]]\n",
        "print(a[5][1][1])"
      ],
      "metadata": {
        "id": "S1EqynGaPLZS"
      },
      "execution_count": null,
      "outputs": []
    },
    {
      "cell_type": "code",
      "source": [
        "a[5:6][0][1][1]"
      ],
      "metadata": {
        "colab": {
          "base_uri": "https://localhost:8080/"
        },
        "id": "Pk01lGFSVDnZ",
        "outputId": "277630ee-2b77-4721-9005-44c99888dd0f"
      },
      "execution_count": 12,
      "outputs": [
        {
          "output_type": "execute_result",
          "data": {
            "text/plain": [
              "4"
            ]
          },
          "metadata": {},
          "execution_count": 12
        }
      ]
    },
    {
      "cell_type": "code",
      "source": [
        "a[6:7][1][0][1]"
      ],
      "metadata": {
        "colab": {
          "base_uri": "https://localhost:8080/",
          "height": 177
        },
        "id": "JJLwYBHCVVUr",
        "outputId": "0a119970-2255-43eb-dc6a-f02cb5d0eb4c"
      },
      "execution_count": 13,
      "outputs": [
        {
          "output_type": "error",
          "ename": "IndexError",
          "evalue": "ignored",
          "traceback": [
            "\u001b[0;31m---------------------------------------------------------------------------\u001b[0m",
            "\u001b[0;31mIndexError\u001b[0m                                Traceback (most recent call last)",
            "\u001b[0;32m<ipython-input-13-edfe1148df8d>\u001b[0m in \u001b[0;36m<cell line: 1>\u001b[0;34m()\u001b[0m\n\u001b[0;32m----> 1\u001b[0;31m \u001b[0ma\u001b[0m\u001b[0;34m[\u001b[0m\u001b[0;36m6\u001b[0m\u001b[0;34m:\u001b[0m\u001b[0;36m7\u001b[0m\u001b[0;34m]\u001b[0m\u001b[0;34m[\u001b[0m\u001b[0;36m1\u001b[0m\u001b[0;34m]\u001b[0m\u001b[0;34m[\u001b[0m\u001b[0;36m0\u001b[0m\u001b[0;34m]\u001b[0m\u001b[0;34m[\u001b[0m\u001b[0;36m1\u001b[0m\u001b[0;34m]\u001b[0m\u001b[0;34m\u001b[0m\u001b[0;34m\u001b[0m\u001b[0m\n\u001b[0m",
            "\u001b[0;31mIndexError\u001b[0m: list index out of range"
          ]
        }
      ]
    },
    {
      "cell_type": "code",
      "source": [
        "a[1][5:6][0][1]"
      ],
      "metadata": {
        "colab": {
          "base_uri": "https://localhost:8080/",
          "height": 177
        },
        "id": "t-7HXW6bVXKJ",
        "outputId": "1f3baa0d-0c37-4958-c99b-6c495ba82e9f"
      },
      "execution_count": 14,
      "outputs": [
        {
          "output_type": "error",
          "ename": "IndexError",
          "evalue": "ignored",
          "traceback": [
            "\u001b[0;31m---------------------------------------------------------------------------\u001b[0m",
            "\u001b[0;31mIndexError\u001b[0m                                Traceback (most recent call last)",
            "\u001b[0;32m<ipython-input-14-aad5af453549>\u001b[0m in \u001b[0;36m<cell line: 1>\u001b[0;34m()\u001b[0m\n\u001b[0;32m----> 1\u001b[0;31m \u001b[0ma\u001b[0m\u001b[0;34m[\u001b[0m\u001b[0;36m1\u001b[0m\u001b[0;34m]\u001b[0m\u001b[0;34m[\u001b[0m\u001b[0;36m5\u001b[0m\u001b[0;34m:\u001b[0m\u001b[0;36m6\u001b[0m\u001b[0;34m]\u001b[0m\u001b[0;34m[\u001b[0m\u001b[0;36m0\u001b[0m\u001b[0;34m]\u001b[0m\u001b[0;34m[\u001b[0m\u001b[0;36m1\u001b[0m\u001b[0;34m]\u001b[0m\u001b[0;34m\u001b[0m\u001b[0;34m\u001b[0m\u001b[0m\n\u001b[0m",
            "\u001b[0;31mIndexError\u001b[0m: list index out of range"
          ]
        }
      ]
    },
    {
      "cell_type": "code",
      "source": [
        "a[5:6]"
      ],
      "metadata": {
        "colab": {
          "base_uri": "https://localhost:8080/"
        },
        "id": "NAwmJoYrZTzw",
        "outputId": "550c633b-9394-4453-856d-8c07617202ad"
      },
      "execution_count": 15,
      "outputs": [
        {
          "output_type": "execute_result",
          "data": {
            "text/plain": [
              "[[[12367, 19572], [8796, 4], [13577, 6505]]]"
            ]
          },
          "metadata": {},
          "execution_count": 15
        }
      ]
    },
    {
      "cell_type": "code",
      "source": [
        "a[5]"
      ],
      "metadata": {
        "colab": {
          "base_uri": "https://localhost:8080/"
        },
        "id": "vSiDcVE-Zdyv",
        "outputId": "cca94afb-055c-46e0-cdb0-f29b8bdacf78"
      },
      "execution_count": 16,
      "outputs": [
        {
          "output_type": "execute_result",
          "data": {
            "text/plain": [
              "[[12367, 19572], [8796, 4], [13577, 6505]]"
            ]
          },
          "metadata": {},
          "execution_count": 16
        }
      ]
    },
    {
      "cell_type": "code",
      "source": [
        "#slicing or a[5:6] outputs a part of the list and not list element"
      ],
      "metadata": {
        "id": "H2nANdYOdFXx"
      },
      "execution_count": 1,
      "outputs": []
    },
    {
      "cell_type": "code",
      "source": [
        "a1 = [[[10835,   596],\n",
        "        [  142,   639],\n",
        "        [ 4165,    34]],\n",
        "\n",
        "       [[17193,  1753],\n",
        "        [ 4639,  7357],\n",
        "        [ 1278, 16389]],\n",
        "\n",
        "       [[10583,  1223],\n",
        "        [14326, 14079],\n",
        "        [ 4959, 14701]],\n",
        "\n",
        "       [[15612, 10027],\n",
        "        [ 1137, 15540],\n",
        "        [ 9194, 11609]],\n",
        "\n",
        "       [[12090, 10898],\n",
        "        [19437, 15070],\n",
        "        [16592,  6544]],\n",
        "\n",
        "       [[12367, 19572],\n",
        "        [ 8796,     4],\n",
        "        [13577,  6505]],\n",
        "\n",
        "       [[12489, 12089],\n",
        "        [15840,  5979],\n",
        "        [ 4952,  9753]],\n",
        "\n",
        "       [[ 6461,  1604],\n",
        "        [16877, 11262],\n",
        "        [13859, 12849]],\n",
        "\n",
        "       [[ 1654, 13335],\n",
        "        [ 8165, 10417],\n",
        "        [ 5226, 19609]],\n",
        "\n",
        "       [[ 8170,  3577],\n",
        "        [19748, 12171],\n",
        "        [ 7666, 14427]]]\n",
        "print(a1[5:6][0][1][1])"
      ],
      "metadata": {
        "colab": {
          "base_uri": "https://localhost:8080/"
        },
        "id": "Zmq2Xo7VJmS1",
        "outputId": "93bc421d-2567-438b-c9ad-418fa641137a"
      },
      "execution_count": 2,
      "outputs": [
        {
          "output_type": "stream",
          "name": "stdout",
          "text": [
            "4\n"
          ]
        }
      ]
    },
    {
      "cell_type": "code",
      "source": [
        "#A generator expression is similar to list comprehension except that generator expression generates one item at a time and doesnot generate\n",
        "#the entire list in the memory at once a1=(expression for item in iterable).\n",
        "gen1=(x**2 for x in range(5))\n",
        "# next(gen)\n",
        "# next(gen)"
      ],
      "metadata": {
        "id": "hRNZTmugJu6K"
      },
      "execution_count": 10,
      "outputs": []
    },
    {
      "cell_type": "code",
      "source": [
        "next(gen)"
      ],
      "metadata": {
        "colab": {
          "base_uri": "https://localhost:8080/"
        },
        "id": "0FvBT_ujOuom",
        "outputId": "514fd671-106c-4297-eba7-bf68917c4fea"
      },
      "execution_count": 8,
      "outputs": [
        {
          "output_type": "execute_result",
          "data": {
            "text/plain": [
              "4"
            ]
          },
          "metadata": {},
          "execution_count": 8
        }
      ]
    },
    {
      "cell_type": "code",
      "source": [
        "for i in gen1:\n",
        "  print(i)"
      ],
      "metadata": {
        "colab": {
          "base_uri": "https://localhost:8080/"
        },
        "id": "16niTu81Oxja",
        "outputId": "795ae66d-575c-4608-f193-cbcb226d91a4"
      },
      "execution_count": 11,
      "outputs": [
        {
          "output_type": "stream",
          "name": "stdout",
          "text": [
            "0\n",
            "1\n",
            "4\n",
            "9\n",
            "16\n"
          ]
        }
      ]
    },
    {
      "cell_type": "code",
      "source": [
        "song=\"JINGLE Bells jingle Bells Jingle All The Way\"\n",
        "song.upper()\n",
        "print(song)\n",
        "#As we can see song.upper() doesnot change the song string forever"
      ],
      "metadata": {
        "colab": {
          "base_uri": "https://localhost:8080/"
        },
        "id": "1A4AfPOIP47C",
        "outputId": "66fe0caf-f3a2-4c12-cc70-ec4005248fdf"
      },
      "execution_count": 2,
      "outputs": [
        {
          "output_type": "stream",
          "name": "stdout",
          "text": [
            "JINGLE Bells jingle Bells Jingle All The Way\n"
          ]
        }
      ]
    },
    {
      "cell_type": "code",
      "source": [
        "a=1\n",
        "b=2\n",
        "if(a==b):\n",
        "  print(\"tu\")\n",
        "else:\n",
        "  print(\"mai\")\n",
        "#as you can see even if(boolean condition) is equally valid"
      ],
      "metadata": {
        "colab": {
          "base_uri": "https://localhost:8080/"
        },
        "id": "7Y63DbUFtcoS",
        "outputId": "6802b02f-02ef-4b4b-a1a0-426a6d8ccc2f"
      },
      "execution_count": 4,
      "outputs": [
        {
          "output_type": "stream",
          "name": "stdout",
          "text": [
            "mai\n"
          ]
        }
      ]
    },
    {
      "cell_type": "code",
      "source": [
        "x=2\n",
        "print(id(x))\n",
        "def func():\n",
        "  global x\n",
        "  x=x+1\n",
        "  print(x)\n",
        "  print(id(x))\n",
        "func()"
      ],
      "metadata": {
        "colab": {
          "base_uri": "https://localhost:8080/"
        },
        "id": "8PELvYzV0ssr",
        "outputId": "b4606c97-1eab-4326-8c06-be64aaaf01f2"
      },
      "execution_count": 7,
      "outputs": [
        {
          "output_type": "stream",
          "name": "stdout",
          "text": [
            "132508416934160\n",
            "3\n",
            "132508416934192\n"
          ]
        }
      ]
    },
    {
      "cell_type": "code",
      "source": [
        "x=2\n",
        "print(id(x))\n",
        "def func1(x):\n",
        "  x=x+1\n",
        "  print(x)\n",
        "  print(id(x))\n",
        "func1(x)\n",
        "print(id(x))"
      ],
      "metadata": {
        "colab": {
          "base_uri": "https://localhost:8080/"
        },
        "id": "sA4iWYLf3sXF",
        "outputId": "c240d3f5-9565-4a26-cc88-a068315c35f6"
      },
      "execution_count": 9,
      "outputs": [
        {
          "output_type": "stream",
          "name": "stdout",
          "text": [
            "132508416934160\n",
            "3\n",
            "132508416934192\n",
            "132508416934160\n"
          ]
        }
      ]
    },
    {
      "cell_type": "code",
      "source": [
        "num1 = 10\n",
        "num2 = 5\n",
        "num3 = 0\n",
        "num4 = 2\n",
        "num5 = 10\n",
        "not(num3 >= num4) and (num5/num2 == num4)"
      ],
      "metadata": {
        "colab": {
          "base_uri": "https://localhost:8080/"
        },
        "id": "r3djRAI54F1i",
        "outputId": "aeea99e7-a761-4557-919e-f2bbc9b0fb6a"
      },
      "execution_count": 11,
      "outputs": [
        {
          "output_type": "execute_result",
          "data": {
            "text/plain": [
              "True"
            ]
          },
          "metadata": {},
          "execution_count": 11
        }
      ]
    },
    {
      "cell_type": "code",
      "source": [
        "s1={3, 4}\n",
        "s2={1, 2}\n",
        "s3=set()\n",
        "i=0\n",
        "j=0\n",
        "for i in s1:\n",
        "    for j in s2:\n",
        "        s3.add((i,j))\n",
        "        i+=1\n",
        "        j+=1\n",
        "print(s3)"
      ],
      "metadata": {
        "colab": {
          "base_uri": "https://localhost:8080/"
        },
        "id": "EXM6EI_P8fBU",
        "outputId": "db46720d-9b9a-43b6-98bd-6714bf23c836"
      },
      "execution_count": 12,
      "outputs": [
        {
          "output_type": "stream",
          "name": "stdout",
          "text": [
            "{(3, 1), (4, 1), (4, 2), (5, 2)}\n"
          ]
        }
      ]
    },
    {
      "cell_type": "code",
      "source": [
        "s1={9, 55}\n",
        "s2={11, 44}\n",
        "s3=set()\n",
        "i=0\n",
        "j=0\n",
        "for i in s1:\n",
        "    for j in s2:\n",
        "        s3.add((i,j))\n",
        "        i+=1\n",
        "        j+=1\n",
        "#as you can see i and j will get equated with the same value as present in the sets even if you increment their respective values.\n",
        "print(s3)"
      ],
      "metadata": {
        "colab": {
          "base_uri": "https://localhost:8080/"
        },
        "id": "1w4d8qkl86_5",
        "outputId": "1d316228-02af-4df4-a8e9-0cb3e3e66272"
      },
      "execution_count": 15,
      "outputs": [
        {
          "output_type": "stream",
          "name": "stdout",
          "text": [
            "{(9, 11), (10, 44), (56, 44), (55, 11)}\n"
          ]
        }
      ]
    },
    {
      "cell_type": "code",
      "source": [
        "a1=\"123\"\n",
        "a1.isdigit()\n",
        "#isdigit() checks if a string has all digits"
      ],
      "metadata": {
        "colab": {
          "base_uri": "https://localhost:8080/"
        },
        "id": "mCltx31pBUNu",
        "outputId": "5c5df65c-4ae9-4e98-873c-ed2fc3c79fe2"
      },
      "execution_count": 21,
      "outputs": [
        {
          "output_type": "execute_result",
          "data": {
            "text/plain": [
              "True"
            ]
          },
          "metadata": {},
          "execution_count": 21
        }
      ]
    },
    {
      "cell_type": "code",
      "source": [
        "a2=\"amanabhat\"\n",
        "a2.isalpha()\n",
        "#isalpha() checks if a string has all alphabets"
      ],
      "metadata": {
        "colab": {
          "base_uri": "https://localhost:8080/"
        },
        "id": "whucWto4DnYu",
        "outputId": "869f008a-004e-4004-be11-94aa2d08f932"
      },
      "execution_count": 20,
      "outputs": [
        {
          "output_type": "execute_result",
          "data": {
            "text/plain": [
              "True"
            ]
          },
          "metadata": {},
          "execution_count": 20
        }
      ]
    },
    {
      "cell_type": "code",
      "source": [
        "a3=\"123aer\"\n",
        "a3.isalnum()\n",
        "#isalnum() checks if a string has alphanumerics"
      ],
      "metadata": {
        "colab": {
          "base_uri": "https://localhost:8080/"
        },
        "id": "dvuSj7ihDuxJ",
        "outputId": "876a4e6e-6c29-4fb2-ee19-e1b7112d5e39"
      },
      "execution_count": 19,
      "outputs": [
        {
          "output_type": "execute_result",
          "data": {
            "text/plain": [
              "True"
            ]
          },
          "metadata": {},
          "execution_count": 19
        }
      ]
    },
    {
      "cell_type": "code",
      "source": [
        "def foo(k):\n",
        "    k = [1]\n",
        "    print(q)\n",
        "q = [0]\n",
        "foo(q)\n",
        "print(q)\n",
        "#if you would have appended a new element or popped elements using k then the change would have reflected in the original list that q is\n",
        "#referring to as well but as we are completely re-assigning a new item to the variable k, so the memory location that q is pointing at and\n",
        "#the memory location that k is pointing at are completely different. Secondly k exists within the local scope of the function while q is\n",
        "#present on the global scope."
      ],
      "metadata": {
        "colab": {
          "base_uri": "https://localhost:8080/"
        },
        "id": "BK2KaKbTbHNy",
        "outputId": "dfbf5f2e-2529-4ee2-bfbd-66540ff7cfd8"
      },
      "execution_count": 7,
      "outputs": [
        {
          "output_type": "stream",
          "name": "stdout",
          "text": [
            "[0]\n",
            "[0]\n"
          ]
        }
      ]
    },
    {
      "cell_type": "code",
      "source": [
        "def foo1():\n",
        "  global q\n",
        "  q=[1]\n",
        "q=[0]\n",
        "foo1()\n",
        "print(q)\n",
        "#this is how we can change q at global level"
      ],
      "metadata": {
        "colab": {
          "base_uri": "https://localhost:8080/"
        },
        "id": "XsUswdfCnknO",
        "outputId": "59e7588c-626a-4ba3-c0d6-ad42d4631450"
      },
      "execution_count": 4,
      "outputs": [
        {
          "output_type": "stream",
          "name": "stdout",
          "text": [
            "[1]\n"
          ]
        }
      ]
    },
    {
      "cell_type": "code",
      "source": [
        "def foo2(q):\n",
        "  q=[1]\n",
        "q=[0]\n",
        "foo2(q)\n",
        "print(q)\n",
        "#the q variable within the local scope of the function is referencing to a completely new address as compared to q variable in the global\n",
        "#sope because variable q within the local scope has been assigned to a new list and hence it references to a new memory location which is\n",
        "#not the same as the memory location that q at the global scope is referencing."
      ],
      "metadata": {
        "colab": {
          "base_uri": "https://localhost:8080/"
        },
        "id": "P4hhcXCL6BVM",
        "outputId": "50227be2-ccfe-4f76-cea2-632b6681b560"
      },
      "execution_count": 9,
      "outputs": [
        {
          "output_type": "stream",
          "name": "stdout",
          "text": [
            "[0]\n"
          ]
        }
      ]
    },
    {
      "cell_type": "code",
      "source": [
        "a1={'name':'mahendra','age':29}\n",
        "print(list(a1))\n",
        "#as you can see when you convert dictionary to list only the keys are taken and made part of the list."
      ],
      "metadata": {
        "colab": {
          "base_uri": "https://localhost:8080/"
        },
        "id": "XWkmumukFx1r",
        "outputId": "060a47ad-803e-49ed-a3d3-cbedfd4fb587"
      },
      "execution_count": 14,
      "outputs": [
        {
          "output_type": "stream",
          "name": "stdout",
          "text": [
            "['name', 'age']\n"
          ]
        }
      ]
    },
    {
      "cell_type": "code",
      "source": [
        "import pickle\n",
        "f=open('pakk.txt','wb')\n",
        "f1={'name':'dhoni','age':21,'first':'what','last':'is'}\n",
        "pickle.dump(f1,f)\n",
        "f.close()\n",
        "\n",
        "f=open('pakk.txt','rb')\n",
        "f2=pickle.load(f)\n",
        "print(list(f2))\n",
        "f.close()"
      ],
      "metadata": {
        "colab": {
          "base_uri": "https://localhost:8080/"
        },
        "id": "gcPYB_8oMlIy",
        "outputId": "2dd7c363-60eb-4b9a-ee3d-fc014bff1df1"
      },
      "execution_count": 16,
      "outputs": [
        {
          "output_type": "stream",
          "name": "stdout",
          "text": [
            "['name', 'age', 'first', 'last']\n"
          ]
        }
      ]
    },
    {
      "cell_type": "code",
      "source": [
        "a=[1,2,3,4]\n",
        "a.pop()\n",
        "#as you can see pop() function removes the last element of the list\n"
      ],
      "metadata": {
        "colab": {
          "base_uri": "https://localhost:8080/"
        },
        "id": "FmJ7QwfUQkP-",
        "outputId": "030594d0-2ba9-4d78-e3c9-e8adb0915d4c"
      },
      "execution_count": 18,
      "outputs": [
        {
          "output_type": "execute_result",
          "data": {
            "text/plain": [
              "4"
            ]
          },
          "metadata": {},
          "execution_count": 18
        }
      ]
    },
    {
      "cell_type": "code",
      "source": [
        "int('0011',2)\n",
        "#this statement means converting binary string to integer using base 2"
      ],
      "metadata": {
        "colab": {
          "base_uri": "https://localhost:8080/"
        },
        "id": "b_7Mal-XTSBW",
        "outputId": "a982789e-89bc-4ef0-b635-e008093ba0d6"
      },
      "execution_count": 20,
      "outputs": [
        {
          "output_type": "execute_result",
          "data": {
            "text/plain": [
              "3"
            ]
          },
          "metadata": {},
          "execution_count": 20
        }
      ]
    },
    {
      "cell_type": "code",
      "source": [
        "def double(func):\n",
        "    def func1(*args):\n",
        "        return 2*func(*args)\n",
        "    return func1\n",
        "\n",
        "@double\n",
        "def lcm(a, b):\n",
        "    if b==0:\n",
        "        return a\n",
        "    return lcm(b, a%b)\n",
        "lcm(2,3)\n",
        "#there are 4 recursive calls here and after the final value is returned, for every recursive call the double decorator will run\n",
        "#so lcm(2,3) calls lcm(3,2) which calls lcm(2,1) which calls lcm(1,0) which returns 1. So 1 will be multiplied with 2 for lcm(1,0)\n",
        "#2 will be multiplied with 2 w.r.t lcm(2,1) making it 4, 4*2=8 for lcm(3,2) and finally 8*2 for lcm(2,3) making it 16"
      ],
      "metadata": {
        "colab": {
          "base_uri": "https://localhost:8080/"
        },
        "id": "nXVdmPT7UKqS",
        "outputId": "9e367f0a-c3c4-4e67-cc67-1d368763311e"
      },
      "execution_count": 24,
      "outputs": [
        {
          "output_type": "execute_result",
          "data": {
            "text/plain": [
              "16"
            ]
          },
          "metadata": {},
          "execution_count": 24
        }
      ]
    },
    {
      "cell_type": "code",
      "source": [
        "from functools import reduce\n",
        "\n",
        "li = [5, 8, 13, 20, 100, 50]\n",
        "li.sort(reverse=True)\n",
        "div5_4 = lambda x : x%5==0 or x%4==0\n",
        "li = list(filter(div5_4, li))\n",
        "x = reduce(lambda x,y:x+y, li)\n",
        "x = li.sum() - x"
      ],
      "metadata": {
        "colab": {
          "base_uri": "https://localhost:8080/",
          "height": 211
        },
        "id": "VLnSW_WtYdYH",
        "outputId": "9b1e1c4c-3794-4558-b45a-ec6ebfcc7318"
      },
      "execution_count": 26,
      "outputs": [
        {
          "output_type": "error",
          "ename": "AttributeError",
          "evalue": "ignored",
          "traceback": [
            "\u001b[0;31m---------------------------------------------------------------------------\u001b[0m",
            "\u001b[0;31mAttributeError\u001b[0m                            Traceback (most recent call last)",
            "\u001b[0;32m<ipython-input-26-4e246d667f51>\u001b[0m in \u001b[0;36m<cell line: 8>\u001b[0;34m()\u001b[0m\n\u001b[1;32m      6\u001b[0m \u001b[0mli\u001b[0m \u001b[0;34m=\u001b[0m \u001b[0mlist\u001b[0m\u001b[0;34m(\u001b[0m\u001b[0mfilter\u001b[0m\u001b[0;34m(\u001b[0m\u001b[0mdiv5_4\u001b[0m\u001b[0;34m,\u001b[0m \u001b[0mli\u001b[0m\u001b[0;34m)\u001b[0m\u001b[0;34m)\u001b[0m\u001b[0;34m\u001b[0m\u001b[0;34m\u001b[0m\u001b[0m\n\u001b[1;32m      7\u001b[0m \u001b[0mx\u001b[0m \u001b[0;34m=\u001b[0m \u001b[0mreduce\u001b[0m\u001b[0;34m(\u001b[0m\u001b[0;32mlambda\u001b[0m \u001b[0mx\u001b[0m\u001b[0;34m,\u001b[0m\u001b[0my\u001b[0m\u001b[0;34m:\u001b[0m\u001b[0mx\u001b[0m\u001b[0;34m+\u001b[0m\u001b[0my\u001b[0m\u001b[0;34m,\u001b[0m \u001b[0mli\u001b[0m\u001b[0;34m)\u001b[0m\u001b[0;34m\u001b[0m\u001b[0;34m\u001b[0m\u001b[0m\n\u001b[0;32m----> 8\u001b[0;31m \u001b[0mx\u001b[0m \u001b[0;34m=\u001b[0m \u001b[0mli\u001b[0m\u001b[0;34m.\u001b[0m\u001b[0msum\u001b[0m\u001b[0;34m(\u001b[0m\u001b[0;34m)\u001b[0m \u001b[0;34m-\u001b[0m \u001b[0mx\u001b[0m\u001b[0;34m\u001b[0m\u001b[0;34m\u001b[0m\u001b[0m\n\u001b[0m",
            "\u001b[0;31mAttributeError\u001b[0m: 'list' object has no attribute 'sum'"
          ]
        }
      ]
    },
    {
      "cell_type": "code",
      "source": [
        "from functools import reduce\n",
        "\n",
        "li = [5, 8, 13, 20, 100, 50]\n",
        "li.sort(reverse=True)\n",
        "div5_4 = lambda x : x%5==0 or x%4==0\n",
        "li = list(filter(div5_4, li))\n",
        "x = reduce(lambda x,y:x+y, li)\n",
        "# x = li.sum() - x\n",
        "print(x)"
      ],
      "metadata": {
        "colab": {
          "base_uri": "https://localhost:8080/"
        },
        "id": "NeSjMINzYp9k",
        "outputId": "c80092ef-8ea5-40b6-b623-1022b2843da6"
      },
      "execution_count": 27,
      "outputs": [
        {
          "output_type": "stream",
          "name": "stdout",
          "text": [
            "183\n"
          ]
        }
      ]
    },
    {
      "cell_type": "code",
      "source": [
        "from functools import reduce\n",
        "li = [5, 8, 13, 20, 100, 50]\n",
        "a1=reduce(lambda x,y:x+y,li)\n",
        "print(a1)\n",
        "#reduce function uses a function(in this case a lambda function) to reduce list to a single value."
      ],
      "metadata": {
        "colab": {
          "base_uri": "https://localhost:8080/"
        },
        "id": "NU7XY1R5bERk",
        "outputId": "c5df689d-f1bf-4803-c4c7-3900c911b38f"
      },
      "execution_count": 31,
      "outputs": [
        {
          "output_type": "stream",
          "name": "stdout",
          "text": [
            "196\n"
          ]
        }
      ]
    },
    {
      "cell_type": "code",
      "source": [
        "li = [5, 8, 13, 20, 100, 50]\n",
        "a2=list(filter(lambda x:x%4==0 or x%5==0,li))\n",
        "print(a2)\n",
        "print(type(a2))\n",
        "#filter function applies a function to every item of a list and returns an iterator containing only those items for which a condition\n",
        "#holds True."
      ],
      "metadata": {
        "colab": {
          "base_uri": "https://localhost:8080/"
        },
        "id": "7vgbyCu8bryH",
        "outputId": "bac4a0f7-339c-4a14-b066-fc6839c84508"
      },
      "execution_count": 33,
      "outputs": [
        {
          "output_type": "stream",
          "name": "stdout",
          "text": [
            "[5, 8, 20, 100, 50]\n",
            "<class 'list'>\n"
          ]
        }
      ]
    },
    {
      "cell_type": "code",
      "source": [
        "li = [5, 8, 13, 20, 100, 50]\n",
        "li.sum()\n",
        "#applying sum() like this li.sum() is wrong, sum function can be applied only like this sum(li)"
      ],
      "metadata": {
        "colab": {
          "base_uri": "https://localhost:8080/",
          "height": 211
        },
        "id": "O4hx09HRd2dw",
        "outputId": "4495cdd3-b3ee-4de6-a817-7ccb90c48f45"
      },
      "execution_count": 36,
      "outputs": [
        {
          "output_type": "error",
          "ename": "AttributeError",
          "evalue": "ignored",
          "traceback": [
            "\u001b[0;31m---------------------------------------------------------------------------\u001b[0m",
            "\u001b[0;31mAttributeError\u001b[0m                            Traceback (most recent call last)",
            "\u001b[0;32m<ipython-input-36-f1c886114ba6>\u001b[0m in \u001b[0;36m<cell line: 2>\u001b[0;34m()\u001b[0m\n\u001b[1;32m      1\u001b[0m \u001b[0mli\u001b[0m \u001b[0;34m=\u001b[0m \u001b[0;34m[\u001b[0m\u001b[0;36m5\u001b[0m\u001b[0;34m,\u001b[0m \u001b[0;36m8\u001b[0m\u001b[0;34m,\u001b[0m \u001b[0;36m13\u001b[0m\u001b[0;34m,\u001b[0m \u001b[0;36m20\u001b[0m\u001b[0;34m,\u001b[0m \u001b[0;36m100\u001b[0m\u001b[0;34m,\u001b[0m \u001b[0;36m50\u001b[0m\u001b[0;34m]\u001b[0m\u001b[0;34m\u001b[0m\u001b[0;34m\u001b[0m\u001b[0m\n\u001b[0;32m----> 2\u001b[0;31m \u001b[0mli\u001b[0m\u001b[0;34m.\u001b[0m\u001b[0msum\u001b[0m\u001b[0;34m(\u001b[0m\u001b[0;34m)\u001b[0m\u001b[0;34m\u001b[0m\u001b[0;34m\u001b[0m\u001b[0m\n\u001b[0m\u001b[1;32m      3\u001b[0m \u001b[0;31m#applying sum() like this li.sum() is wrong, sum function can be applied only like this sum(li)\u001b[0m\u001b[0;34m\u001b[0m\u001b[0;34m\u001b[0m\u001b[0m\n",
            "\u001b[0;31mAttributeError\u001b[0m: 'list' object has no attribute 'sum'"
          ]
        }
      ]
    },
    {
      "cell_type": "code",
      "source": [
        "sum(li)"
      ],
      "metadata": {
        "colab": {
          "base_uri": "https://localhost:8080/"
        },
        "id": "XLSda-L8d6kO",
        "outputId": "4f1d345c-7af0-498e-c842-5576c4dce85b"
      },
      "execution_count": 35,
      "outputs": [
        {
          "output_type": "execute_result",
          "data": {
            "text/plain": [
              "196"
            ]
          },
          "metadata": {},
          "execution_count": 35
        }
      ]
    },
    {
      "cell_type": "code",
      "source": [
        "a1=(x**2 for x in range(5))\n",
        "next(a1)\n",
        "#generator is a way of creating iterator"
      ],
      "metadata": {
        "colab": {
          "base_uri": "https://localhost:8080/"
        },
        "id": "grhJ8yKWfQQy",
        "outputId": "be1996cf-b119-40a9-f213-4da362a3b63b"
      },
      "execution_count": 39,
      "outputs": [
        {
          "output_type": "execute_result",
          "data": {
            "text/plain": [
              "0"
            ]
          },
          "metadata": {},
          "execution_count": 39
        }
      ]
    },
    {
      "cell_type": "code",
      "source": [
        "next(a1)"
      ],
      "metadata": {
        "colab": {
          "base_uri": "https://localhost:8080/"
        },
        "id": "8PHk4INXfn3L",
        "outputId": "1f1fa65f-b96e-4c4b-db5e-9ef775f7b98a"
      },
      "execution_count": 40,
      "outputs": [
        {
          "output_type": "execute_result",
          "data": {
            "text/plain": [
              "1"
            ]
          },
          "metadata": {},
          "execution_count": 40
        }
      ]
    },
    {
      "cell_type": "code",
      "source": [
        "next(a1)\n",
        "#As you can see iterator remembers its current state, when you apply next function in the beginning 0 is returned then 1 is returned\n",
        "#and lastly 4 is returned."
      ],
      "metadata": {
        "colab": {
          "base_uri": "https://localhost:8080/"
        },
        "id": "j2pM1QusfqLX",
        "outputId": "9da85777-050b-42bf-8aaa-4694a37482d6"
      },
      "execution_count": 42,
      "outputs": [
        {
          "output_type": "execute_result",
          "data": {
            "text/plain": [
              "9"
            ]
          },
          "metadata": {},
          "execution_count": 42
        }
      ]
    },
    {
      "cell_type": "code",
      "source": [
        "print(type(a1))"
      ],
      "metadata": {
        "colab": {
          "base_uri": "https://localhost:8080/"
        },
        "id": "FIstjR15fWfu",
        "outputId": "79323dea-0deb-47c8-8f6b-0f11c75d68cf"
      },
      "execution_count": 38,
      "outputs": [
        {
          "output_type": "stream",
          "name": "stdout",
          "text": [
            "<class 'generator'>\n"
          ]
        }
      ]
    },
    {
      "cell_type": "code",
      "source": [
        "a=5\n",
        "if a==5:\n",
        "  raise ValueError(\"what a shot\")\n",
        "else:\n",
        "  raise ValueError(\"Not a good shot\")"
      ],
      "metadata": {
        "colab": {
          "base_uri": "https://localhost:8080/",
          "height": 246
        },
        "id": "aDrHmGP204qy",
        "outputId": "bbb06a52-d839-4b01-c7ad-02abad95e2a1"
      },
      "execution_count": 2,
      "outputs": [
        {
          "output_type": "error",
          "ename": "ValueError",
          "evalue": "ignored",
          "traceback": [
            "\u001b[0;31m---------------------------------------------------------------------------\u001b[0m",
            "\u001b[0;31mValueError\u001b[0m                                Traceback (most recent call last)",
            "\u001b[0;32m<ipython-input-2-266bb79e33dc>\u001b[0m in \u001b[0;36m<cell line: 2>\u001b[0;34m()\u001b[0m\n\u001b[1;32m      1\u001b[0m \u001b[0ma\u001b[0m\u001b[0;34m=\u001b[0m\u001b[0;36m5\u001b[0m\u001b[0;34m\u001b[0m\u001b[0;34m\u001b[0m\u001b[0m\n\u001b[1;32m      2\u001b[0m \u001b[0;32mif\u001b[0m \u001b[0ma\u001b[0m\u001b[0;34m==\u001b[0m\u001b[0;36m5\u001b[0m\u001b[0;34m:\u001b[0m\u001b[0;34m\u001b[0m\u001b[0;34m\u001b[0m\u001b[0m\n\u001b[0;32m----> 3\u001b[0;31m   \u001b[0;32mraise\u001b[0m \u001b[0mValueError\u001b[0m\u001b[0;34m(\u001b[0m\u001b[0;34m\"what a shot\"\u001b[0m\u001b[0;34m)\u001b[0m\u001b[0;34m\u001b[0m\u001b[0;34m\u001b[0m\u001b[0m\n\u001b[0m\u001b[1;32m      4\u001b[0m \u001b[0;32melse\u001b[0m\u001b[0;34m:\u001b[0m\u001b[0;34m\u001b[0m\u001b[0;34m\u001b[0m\u001b[0m\n\u001b[1;32m      5\u001b[0m   \u001b[0;32mraise\u001b[0m \u001b[0mValueError\u001b[0m\u001b[0;34m(\u001b[0m\u001b[0;34m\"Not a good shot\"\u001b[0m\u001b[0;34m)\u001b[0m\u001b[0;34m\u001b[0m\u001b[0;34m\u001b[0m\u001b[0m\n",
            "\u001b[0;31mValueError\u001b[0m: what a shot"
          ]
        }
      ]
    },
    {
      "cell_type": "code",
      "source": [
        "a=5\n",
        "a-=1\n",
        "print(a)"
      ],
      "metadata": {
        "colab": {
          "base_uri": "https://localhost:8080/"
        },
        "id": "u36uZJZ0-NWr",
        "outputId": "b50dec56-f115-41d2-a559-38142f989e23"
      },
      "execution_count": 3,
      "outputs": [
        {
          "output_type": "stream",
          "name": "stdout",
          "text": [
            "4\n"
          ]
        }
      ]
    },
    {
      "cell_type": "code",
      "source": [
        "class VendingMachine:\n",
        "    # Implement the VendingMachine here\n",
        "\n",
        "    def __init__(self, num_items=0, item_price=0):\n",
        "        self.num_items=num_items\n",
        "        self.item_price=item_price\n",
        "\n",
        "    def buy(self, req_items=0, money=0):\n",
        "      try:\n",
        "        if self.num_items>req_items and self.item_price*req_items==money:\n",
        "            self.num_items-=req_items\n",
        "            print(money-self.item_price*req_items)\n",
        "        elif self.num_items<req_items:\n",
        "            raise ValueError(\"Not enough items in the machine\")\n",
        "        elif self.item_price*req_items>money:\n",
        "            raise ValueError(\"Not enough coins\")\n",
        "      except ValueError as e:\n",
        "        print(str(e))\n",
        "if __name__=='__main__':\n",
        "  a=input().split()\n",
        "  a=list(map(int,a))\n",
        "  a1=VendingMachine(a[0],a[1])\n",
        "  a2=int(input())\n",
        "  for i in range(a2):\n",
        "    a3=list(map(int,input().split()))\n",
        "    a1.buy(a3[0],a3[1])\n",
        "\n"
      ],
      "metadata": {
        "colab": {
          "base_uri": "https://localhost:8080/"
        },
        "id": "r2LNOemwDekX",
        "outputId": "1e535a16-a2be-4426-f820-e9863fc9cfbe"
      },
      "execution_count": 16,
      "outputs": [
        {
          "output_type": "stream",
          "name": "stdout",
          "text": [
            "10 2\n",
            "4\n",
            "1 5\n",
            "10 100\n",
            "7 100\n",
            "2 3\n",
            "Not enough coins\n"
          ]
        }
      ]
    },
    {
      "cell_type": "code",
      "source": [
        "a=input().split()\n",
        "a=list(map(int,a))\n",
        "print(a)"
      ],
      "metadata": {
        "colab": {
          "base_uri": "https://localhost:8080/"
        },
        "id": "SrdHx6fKElgO",
        "outputId": "4b697d91-bfae-4d95-b71a-9d94e79fbbe7"
      },
      "execution_count": 5,
      "outputs": [
        {
          "output_type": "stream",
          "name": "stdout",
          "text": [
            "10 2\n",
            "[10, 2]\n"
          ]
        }
      ]
    },
    {
      "cell_type": "code",
      "source": [
        "class VendingMachine:\n",
        "    def __init__(self, num_items=0, item_price=0):\n",
        "        self.num_items = num_items\n",
        "        self.item_price = item_price\n",
        "\n",
        "    def buy(self, req_items=0, money=0):\n",
        "        try:\n",
        "            if self.num_items < req_items:\n",
        "                raise ValueError(\"Not enough items in the machine\")\n",
        "            elif self.item_price * req_items > money:\n",
        "                raise ValueError(\"Not enough coins\")\n",
        "            else:\n",
        "                self.num_items -= req_items\n",
        "                print(money - self.item_price * req_items)  # Output the remaining money\n",
        "        except ValueError as e:\n",
        "            print(str(e))  # Output the error message\n",
        "\n",
        "if __name__ == '__main__':\n",
        "    a = input().split()\n",
        "    a = list(map(int, a))\n",
        "    a1 = VendingMachine(a[0], a[1])\n",
        "    a2 = int(input())\n",
        "    for i in range(a2):\n",
        "        a3 = list(map(int, input().split()))\n",
        "        a1.buy(a3[0], a3[1])\n"
      ],
      "metadata": {
        "colab": {
          "base_uri": "https://localhost:8080/"
        },
        "id": "466GRtcwJ_Oq",
        "outputId": "b2529884-2215-409c-9b7d-ba7c5a48a6eb"
      },
      "execution_count": 15,
      "outputs": [
        {
          "output_type": "stream",
          "name": "stdout",
          "text": [
            "10 2\n",
            "4\n",
            "1 5\n",
            "3\n",
            "10 100\n",
            "Not enough items in the machine\n",
            "7 100\n",
            "86\n",
            "2 3\n",
            "Not enough coins\n"
          ]
        }
      ]
    },
    {
      "cell_type": "code",
      "source": [
        "a=float(2.8)\n",
        "print(a)\n",
        "x=2.8\n",
        "print(x)"
      ],
      "metadata": {
        "colab": {
          "base_uri": "https://localhost:8080/"
        },
        "id": "RyBZQF32d4UK",
        "outputId": "6689fa46-ebb5-4c6b-e756-78dcc0ec1f6f"
      },
      "execution_count": 18,
      "outputs": [
        {
          "output_type": "stream",
          "name": "stdout",
          "text": [
            "2.8\n",
            "2.8\n"
          ]
        }
      ]
    }
  ],
  "metadata": {
    "colab": {
      "provenance": []
    },
    "kernelspec": {
      "display_name": "Python 3",
      "name": "python3"
    },
    "language_info": {
      "name": "python"
    }
  },
  "nbformat": 4,
  "nbformat_minor": 0
}